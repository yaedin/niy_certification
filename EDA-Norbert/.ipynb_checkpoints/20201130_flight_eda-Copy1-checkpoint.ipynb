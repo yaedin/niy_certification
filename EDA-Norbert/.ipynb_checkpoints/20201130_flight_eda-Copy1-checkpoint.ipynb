{
 "cells": [
  {
   "cell_type": "markdown",
   "metadata": {},
   "source": [
    "# Import"
   ]
  },
  {
   "cell_type": "code",
   "execution_count": 1,
   "metadata": {},
   "outputs": [],
   "source": [
    "import os\n",
    "import boto3\n",
    "import pandas as pd\n",
    "import matplotlib.pyplot as plt"
   ]
  },
  {
   "cell_type": "markdown",
   "metadata": {},
   "source": [
    "# Variables"
   ]
  },
  {
   "cell_type": "markdown",
   "metadata": {},
   "source": [
    "# Reading Data"
   ]
  },
  {
   "cell_type": "code",
   "execution_count": 2,
   "metadata": {},
   "outputs": [],
   "source": [
    "# import of a dataset with January figures\n",
    "\n",
    "flight_01 = pd.read_csv('https://niy-certification.s3.eu-central-1.amazonaws.com/usdot/Jan_2019_usdot.csv')"
   ]
  },
  {
   "cell_type": "code",
   "execution_count": 6,
   "metadata": {},
   "outputs": [
    {
     "data": {
      "text/html": [
       "<div>\n",
       "<style scoped>\n",
       "    .dataframe tbody tr th:only-of-type {\n",
       "        vertical-align: middle;\n",
       "    }\n",
       "\n",
       "    .dataframe tbody tr th {\n",
       "        vertical-align: top;\n",
       "    }\n",
       "\n",
       "    .dataframe thead th {\n",
       "        text-align: right;\n",
       "    }\n",
       "</style>\n",
       "<table border=\"1\" class=\"dataframe\">\n",
       "  <thead>\n",
       "    <tr style=\"text-align: right;\">\n",
       "      <th></th>\n",
       "      <th>YEAR</th>\n",
       "      <th>MONTH</th>\n",
       "      <th>DAY_OF_MONTH</th>\n",
       "      <th>DAY_OF_WEEK</th>\n",
       "      <th>FL_DATE</th>\n",
       "      <th>OP_UNIQUE_CARRIER</th>\n",
       "      <th>OP_CARRIER_AIRLINE_ID</th>\n",
       "      <th>OP_CARRIER</th>\n",
       "      <th>TAIL_NUM</th>\n",
       "      <th>OP_CARRIER_FL_NUM</th>\n",
       "      <th>...</th>\n",
       "      <th>ACTUAL_ELAPSED_TIME</th>\n",
       "      <th>AIR_TIME</th>\n",
       "      <th>FLIGHTS</th>\n",
       "      <th>DISTANCE</th>\n",
       "      <th>CARRIER_DELAY</th>\n",
       "      <th>WEATHER_DELAY</th>\n",
       "      <th>NAS_DELAY</th>\n",
       "      <th>SECURITY_DELAY</th>\n",
       "      <th>LATE_AIRCRAFT_DELAY</th>\n",
       "      <th>Unnamed: 54</th>\n",
       "    </tr>\n",
       "  </thead>\n",
       "  <tbody>\n",
       "    <tr>\n",
       "      <th>0</th>\n",
       "      <td>2019</td>\n",
       "      <td>1</td>\n",
       "      <td>11</td>\n",
       "      <td>5</td>\n",
       "      <td>2019-01-11</td>\n",
       "      <td>WN</td>\n",
       "      <td>19393</td>\n",
       "      <td>WN</td>\n",
       "      <td>N220WN</td>\n",
       "      <td>1480</td>\n",
       "      <td>...</td>\n",
       "      <td>133.0</td>\n",
       "      <td>118.0</td>\n",
       "      <td>1.0</td>\n",
       "      <td>834.0</td>\n",
       "      <td>NaN</td>\n",
       "      <td>NaN</td>\n",
       "      <td>NaN</td>\n",
       "      <td>NaN</td>\n",
       "      <td>NaN</td>\n",
       "      <td>NaN</td>\n",
       "    </tr>\n",
       "    <tr>\n",
       "      <th>1</th>\n",
       "      <td>2019</td>\n",
       "      <td>1</td>\n",
       "      <td>11</td>\n",
       "      <td>5</td>\n",
       "      <td>2019-01-11</td>\n",
       "      <td>WN</td>\n",
       "      <td>19393</td>\n",
       "      <td>WN</td>\n",
       "      <td>N7889A</td>\n",
       "      <td>2199</td>\n",
       "      <td>...</td>\n",
       "      <td>138.0</td>\n",
       "      <td>119.0</td>\n",
       "      <td>1.0</td>\n",
       "      <td>834.0</td>\n",
       "      <td>NaN</td>\n",
       "      <td>NaN</td>\n",
       "      <td>NaN</td>\n",
       "      <td>NaN</td>\n",
       "      <td>NaN</td>\n",
       "      <td>NaN</td>\n",
       "    </tr>\n",
       "    <tr>\n",
       "      <th>2</th>\n",
       "      <td>2019</td>\n",
       "      <td>1</td>\n",
       "      <td>11</td>\n",
       "      <td>5</td>\n",
       "      <td>2019-01-11</td>\n",
       "      <td>WN</td>\n",
       "      <td>19393</td>\n",
       "      <td>WN</td>\n",
       "      <td>N764SW</td>\n",
       "      <td>402</td>\n",
       "      <td>...</td>\n",
       "      <td>153.0</td>\n",
       "      <td>141.0</td>\n",
       "      <td>1.0</td>\n",
       "      <td>1072.0</td>\n",
       "      <td>NaN</td>\n",
       "      <td>NaN</td>\n",
       "      <td>NaN</td>\n",
       "      <td>NaN</td>\n",
       "      <td>NaN</td>\n",
       "      <td>NaN</td>\n",
       "    </tr>\n",
       "    <tr>\n",
       "      <th>3</th>\n",
       "      <td>2019</td>\n",
       "      <td>1</td>\n",
       "      <td>11</td>\n",
       "      <td>5</td>\n",
       "      <td>2019-01-11</td>\n",
       "      <td>WN</td>\n",
       "      <td>19393</td>\n",
       "      <td>WN</td>\n",
       "      <td>N8309C</td>\n",
       "      <td>458</td>\n",
       "      <td>...</td>\n",
       "      <td>161.0</td>\n",
       "      <td>144.0</td>\n",
       "      <td>1.0</td>\n",
       "      <td>1072.0</td>\n",
       "      <td>NaN</td>\n",
       "      <td>NaN</td>\n",
       "      <td>NaN</td>\n",
       "      <td>NaN</td>\n",
       "      <td>NaN</td>\n",
       "      <td>NaN</td>\n",
       "    </tr>\n",
       "    <tr>\n",
       "      <th>4</th>\n",
       "      <td>2019</td>\n",
       "      <td>1</td>\n",
       "      <td>11</td>\n",
       "      <td>5</td>\n",
       "      <td>2019-01-11</td>\n",
       "      <td>WN</td>\n",
       "      <td>19393</td>\n",
       "      <td>WN</td>\n",
       "      <td>N8686A</td>\n",
       "      <td>1966</td>\n",
       "      <td>...</td>\n",
       "      <td>155.0</td>\n",
       "      <td>142.0</td>\n",
       "      <td>1.0</td>\n",
       "      <td>1072.0</td>\n",
       "      <td>NaN</td>\n",
       "      <td>NaN</td>\n",
       "      <td>NaN</td>\n",
       "      <td>NaN</td>\n",
       "      <td>NaN</td>\n",
       "      <td>NaN</td>\n",
       "    </tr>\n",
       "  </tbody>\n",
       "</table>\n",
       "<p>5 rows × 55 columns</p>\n",
       "</div>"
      ],
      "text/plain": [
       "   YEAR  MONTH  DAY_OF_MONTH  DAY_OF_WEEK     FL_DATE OP_UNIQUE_CARRIER  \\\n",
       "0  2019      1            11            5  2019-01-11                WN   \n",
       "1  2019      1            11            5  2019-01-11                WN   \n",
       "2  2019      1            11            5  2019-01-11                WN   \n",
       "3  2019      1            11            5  2019-01-11                WN   \n",
       "4  2019      1            11            5  2019-01-11                WN   \n",
       "\n",
       "   OP_CARRIER_AIRLINE_ID OP_CARRIER TAIL_NUM  OP_CARRIER_FL_NUM  ...  \\\n",
       "0                  19393         WN   N220WN               1480  ...   \n",
       "1                  19393         WN   N7889A               2199  ...   \n",
       "2                  19393         WN   N764SW                402  ...   \n",
       "3                  19393         WN   N8309C                458  ...   \n",
       "4                  19393         WN   N8686A               1966  ...   \n",
       "\n",
       "   ACTUAL_ELAPSED_TIME  AIR_TIME  FLIGHTS DISTANCE CARRIER_DELAY  \\\n",
       "0                133.0     118.0      1.0    834.0           NaN   \n",
       "1                138.0     119.0      1.0    834.0           NaN   \n",
       "2                153.0     141.0      1.0   1072.0           NaN   \n",
       "3                161.0     144.0      1.0   1072.0           NaN   \n",
       "4                155.0     142.0      1.0   1072.0           NaN   \n",
       "\n",
       "  WEATHER_DELAY  NAS_DELAY SECURITY_DELAY  LATE_AIRCRAFT_DELAY  Unnamed: 54  \n",
       "0           NaN        NaN            NaN                  NaN          NaN  \n",
       "1           NaN        NaN            NaN                  NaN          NaN  \n",
       "2           NaN        NaN            NaN                  NaN          NaN  \n",
       "3           NaN        NaN            NaN                  NaN          NaN  \n",
       "4           NaN        NaN            NaN                  NaN          NaN  \n",
       "\n",
       "[5 rows x 55 columns]"
      ]
     },
     "execution_count": 6,
     "metadata": {},
     "output_type": "execute_result"
    }
   ],
   "source": [
    "\n",
    "\n",
    "flight_01.head(5)"
   ]
  },
  {
   "cell_type": "code",
   "execution_count": 3,
   "metadata": {},
   "outputs": [
    {
     "data": {
      "text/html": [
       "<div>\n",
       "<style scoped>\n",
       "    .dataframe tbody tr th:only-of-type {\n",
       "        vertical-align: middle;\n",
       "    }\n",
       "\n",
       "    .dataframe tbody tr th {\n",
       "        vertical-align: top;\n",
       "    }\n",
       "\n",
       "    .dataframe thead th {\n",
       "        text-align: right;\n",
       "    }\n",
       "</style>\n",
       "<table border=\"1\" class=\"dataframe\">\n",
       "  <thead>\n",
       "    <tr style=\"text-align: right;\">\n",
       "      <th></th>\n",
       "      <th>YEAR</th>\n",
       "      <th>MONTH</th>\n",
       "      <th>DAY_OF_MONTH</th>\n",
       "      <th>DAY_OF_WEEK</th>\n",
       "      <th>OP_CARRIER_AIRLINE_ID</th>\n",
       "      <th>OP_CARRIER_FL_NUM</th>\n",
       "      <th>ORIGIN_AIRPORT_ID</th>\n",
       "      <th>ORIGIN_AIRPORT_SEQ_ID</th>\n",
       "      <th>ORIGIN_CITY_MARKET_ID</th>\n",
       "      <th>ORIGIN_STATE_FIPS</th>\n",
       "      <th>...</th>\n",
       "      <th>ACTUAL_ELAPSED_TIME</th>\n",
       "      <th>AIR_TIME</th>\n",
       "      <th>FLIGHTS</th>\n",
       "      <th>DISTANCE</th>\n",
       "      <th>CARRIER_DELAY</th>\n",
       "      <th>WEATHER_DELAY</th>\n",
       "      <th>NAS_DELAY</th>\n",
       "      <th>SECURITY_DELAY</th>\n",
       "      <th>LATE_AIRCRAFT_DELAY</th>\n",
       "      <th>Unnamed: 54</th>\n",
       "    </tr>\n",
       "  </thead>\n",
       "  <tbody>\n",
       "    <tr>\n",
       "      <th>count</th>\n",
       "      <td>638649.0</td>\n",
       "      <td>638649.0</td>\n",
       "      <td>638649.000000</td>\n",
       "      <td>638649.000000</td>\n",
       "      <td>638649.000000</td>\n",
       "      <td>638649.000000</td>\n",
       "      <td>638649.000000</td>\n",
       "      <td>6.386490e+05</td>\n",
       "      <td>638649.000000</td>\n",
       "      <td>638649.000000</td>\n",
       "      <td>...</td>\n",
       "      <td>617649.000000</td>\n",
       "      <td>617649.000000</td>\n",
       "      <td>638649.0</td>\n",
       "      <td>638649.000000</td>\n",
       "      <td>117144.000000</td>\n",
       "      <td>117144.000000</td>\n",
       "      <td>117144.000000</td>\n",
       "      <td>117144.000000</td>\n",
       "      <td>117144.000000</td>\n",
       "      <td>0.0</td>\n",
       "    </tr>\n",
       "    <tr>\n",
       "      <th>mean</th>\n",
       "      <td>2019.0</td>\n",
       "      <td>1.0</td>\n",
       "      <td>15.955094</td>\n",
       "      <td>3.836976</td>\n",
       "      <td>20012.644561</td>\n",
       "      <td>2700.871319</td>\n",
       "      <td>12690.345843</td>\n",
       "      <td>1.269038e+06</td>\n",
       "      <td>31776.883607</td>\n",
       "      <td>27.240260</td>\n",
       "      <td>...</td>\n",
       "      <td>135.159278</td>\n",
       "      <td>109.029140</td>\n",
       "      <td>1.0</td>\n",
       "      <td>765.250902</td>\n",
       "      <td>20.088609</td>\n",
       "      <td>4.410785</td>\n",
       "      <td>18.384826</td>\n",
       "      <td>0.073422</td>\n",
       "      <td>25.880882</td>\n",
       "      <td>NaN</td>\n",
       "    </tr>\n",
       "    <tr>\n",
       "      <th>std</th>\n",
       "      <td>0.0</td>\n",
       "      <td>0.0</td>\n",
       "      <td>8.989170</td>\n",
       "      <td>1.921977</td>\n",
       "      <td>396.177827</td>\n",
       "      <td>1861.933516</td>\n",
       "      <td>1520.775468</td>\n",
       "      <td>1.520773e+05</td>\n",
       "      <td>1316.122179</td>\n",
       "      <td>16.565184</td>\n",
       "      <td>...</td>\n",
       "      <td>71.762649</td>\n",
       "      <td>69.987785</td>\n",
       "      <td>0.0</td>\n",
       "      <td>579.910495</td>\n",
       "      <td>65.596080</td>\n",
       "      <td>38.353695</td>\n",
       "      <td>41.352734</td>\n",
       "      <td>3.051185</td>\n",
       "      <td>53.007365</td>\n",
       "      <td>NaN</td>\n",
       "    </tr>\n",
       "    <tr>\n",
       "      <th>min</th>\n",
       "      <td>2019.0</td>\n",
       "      <td>1.0</td>\n",
       "      <td>1.000000</td>\n",
       "      <td>1.000000</td>\n",
       "      <td>19393.000000</td>\n",
       "      <td>1.000000</td>\n",
       "      <td>10135.000000</td>\n",
       "      <td>1.013505e+06</td>\n",
       "      <td>30070.000000</td>\n",
       "      <td>1.000000</td>\n",
       "      <td>...</td>\n",
       "      <td>16.000000</td>\n",
       "      <td>4.000000</td>\n",
       "      <td>1.0</td>\n",
       "      <td>31.000000</td>\n",
       "      <td>0.000000</td>\n",
       "      <td>0.000000</td>\n",
       "      <td>0.000000</td>\n",
       "      <td>0.000000</td>\n",
       "      <td>0.000000</td>\n",
       "      <td>NaN</td>\n",
       "    </tr>\n",
       "    <tr>\n",
       "      <th>25%</th>\n",
       "      <td>2019.0</td>\n",
       "      <td>1.0</td>\n",
       "      <td>8.000000</td>\n",
       "      <td>2.000000</td>\n",
       "      <td>19790.000000</td>\n",
       "      <td>1090.000000</td>\n",
       "      <td>11292.000000</td>\n",
       "      <td>1.129202e+06</td>\n",
       "      <td>30721.000000</td>\n",
       "      <td>12.000000</td>\n",
       "      <td>...</td>\n",
       "      <td>83.000000</td>\n",
       "      <td>58.000000</td>\n",
       "      <td>1.0</td>\n",
       "      <td>337.000000</td>\n",
       "      <td>0.000000</td>\n",
       "      <td>0.000000</td>\n",
       "      <td>0.000000</td>\n",
       "      <td>0.000000</td>\n",
       "      <td>0.000000</td>\n",
       "      <td>NaN</td>\n",
       "    </tr>\n",
       "    <tr>\n",
       "      <th>50%</th>\n",
       "      <td>2019.0</td>\n",
       "      <td>1.0</td>\n",
       "      <td>16.000000</td>\n",
       "      <td>4.000000</td>\n",
       "      <td>19977.000000</td>\n",
       "      <td>2260.000000</td>\n",
       "      <td>12889.000000</td>\n",
       "      <td>1.288903e+06</td>\n",
       "      <td>31453.000000</td>\n",
       "      <td>26.000000</td>\n",
       "      <td>...</td>\n",
       "      <td>117.000000</td>\n",
       "      <td>90.000000</td>\n",
       "      <td>1.0</td>\n",
       "      <td>604.000000</td>\n",
       "      <td>0.000000</td>\n",
       "      <td>0.000000</td>\n",
       "      <td>5.000000</td>\n",
       "      <td>0.000000</td>\n",
       "      <td>0.000000</td>\n",
       "      <td>NaN</td>\n",
       "    </tr>\n",
       "    <tr>\n",
       "      <th>75%</th>\n",
       "      <td>2019.0</td>\n",
       "      <td>1.0</td>\n",
       "      <td>24.000000</td>\n",
       "      <td>5.000000</td>\n",
       "      <td>20378.000000</td>\n",
       "      <td>4183.000000</td>\n",
       "      <td>14057.000000</td>\n",
       "      <td>1.405702e+06</td>\n",
       "      <td>32575.000000</td>\n",
       "      <td>42.000000</td>\n",
       "      <td>...</td>\n",
       "      <td>166.000000</td>\n",
       "      <td>139.000000</td>\n",
       "      <td>1.0</td>\n",
       "      <td>1008.000000</td>\n",
       "      <td>16.000000</td>\n",
       "      <td>0.000000</td>\n",
       "      <td>21.000000</td>\n",
       "      <td>0.000000</td>\n",
       "      <td>30.000000</td>\n",
       "      <td>NaN</td>\n",
       "    </tr>\n",
       "    <tr>\n",
       "      <th>max</th>\n",
       "      <td>2019.0</td>\n",
       "      <td>1.0</td>\n",
       "      <td>31.000000</td>\n",
       "      <td>7.000000</td>\n",
       "      <td>21167.000000</td>\n",
       "      <td>9401.000000</td>\n",
       "      <td>16218.000000</td>\n",
       "      <td>1.621802e+06</td>\n",
       "      <td>36101.000000</td>\n",
       "      <td>78.000000</td>\n",
       "      <td>...</td>\n",
       "      <td>737.000000</td>\n",
       "      <td>691.000000</td>\n",
       "      <td>1.0</td>\n",
       "      <td>4983.000000</td>\n",
       "      <td>1638.000000</td>\n",
       "      <td>1416.000000</td>\n",
       "      <td>1447.000000</td>\n",
       "      <td>816.000000</td>\n",
       "      <td>1514.000000</td>\n",
       "      <td>NaN</td>\n",
       "    </tr>\n",
       "  </tbody>\n",
       "</table>\n",
       "<p>8 rows × 41 columns</p>\n",
       "</div>"
      ],
      "text/plain": [
       "           YEAR     MONTH   DAY_OF_MONTH    DAY_OF_WEEK  \\\n",
       "count  638649.0  638649.0  638649.000000  638649.000000   \n",
       "mean     2019.0       1.0      15.955094       3.836976   \n",
       "std         0.0       0.0       8.989170       1.921977   \n",
       "min      2019.0       1.0       1.000000       1.000000   \n",
       "25%      2019.0       1.0       8.000000       2.000000   \n",
       "50%      2019.0       1.0      16.000000       4.000000   \n",
       "75%      2019.0       1.0      24.000000       5.000000   \n",
       "max      2019.0       1.0      31.000000       7.000000   \n",
       "\n",
       "       OP_CARRIER_AIRLINE_ID  OP_CARRIER_FL_NUM  ORIGIN_AIRPORT_ID  \\\n",
       "count          638649.000000      638649.000000      638649.000000   \n",
       "mean            20012.644561        2700.871319       12690.345843   \n",
       "std               396.177827        1861.933516        1520.775468   \n",
       "min             19393.000000           1.000000       10135.000000   \n",
       "25%             19790.000000        1090.000000       11292.000000   \n",
       "50%             19977.000000        2260.000000       12889.000000   \n",
       "75%             20378.000000        4183.000000       14057.000000   \n",
       "max             21167.000000        9401.000000       16218.000000   \n",
       "\n",
       "       ORIGIN_AIRPORT_SEQ_ID  ORIGIN_CITY_MARKET_ID  ORIGIN_STATE_FIPS  ...  \\\n",
       "count           6.386490e+05          638649.000000      638649.000000  ...   \n",
       "mean            1.269038e+06           31776.883607          27.240260  ...   \n",
       "std             1.520773e+05            1316.122179          16.565184  ...   \n",
       "min             1.013505e+06           30070.000000           1.000000  ...   \n",
       "25%             1.129202e+06           30721.000000          12.000000  ...   \n",
       "50%             1.288903e+06           31453.000000          26.000000  ...   \n",
       "75%             1.405702e+06           32575.000000          42.000000  ...   \n",
       "max             1.621802e+06           36101.000000          78.000000  ...   \n",
       "\n",
       "       ACTUAL_ELAPSED_TIME       AIR_TIME   FLIGHTS       DISTANCE  \\\n",
       "count        617649.000000  617649.000000  638649.0  638649.000000   \n",
       "mean            135.159278     109.029140       1.0     765.250902   \n",
       "std              71.762649      69.987785       0.0     579.910495   \n",
       "min              16.000000       4.000000       1.0      31.000000   \n",
       "25%              83.000000      58.000000       1.0     337.000000   \n",
       "50%             117.000000      90.000000       1.0     604.000000   \n",
       "75%             166.000000     139.000000       1.0    1008.000000   \n",
       "max             737.000000     691.000000       1.0    4983.000000   \n",
       "\n",
       "       CARRIER_DELAY  WEATHER_DELAY      NAS_DELAY  SECURITY_DELAY  \\\n",
       "count  117144.000000  117144.000000  117144.000000   117144.000000   \n",
       "mean       20.088609       4.410785      18.384826        0.073422   \n",
       "std        65.596080      38.353695      41.352734        3.051185   \n",
       "min         0.000000       0.000000       0.000000        0.000000   \n",
       "25%         0.000000       0.000000       0.000000        0.000000   \n",
       "50%         0.000000       0.000000       5.000000        0.000000   \n",
       "75%        16.000000       0.000000      21.000000        0.000000   \n",
       "max      1638.000000    1416.000000    1447.000000      816.000000   \n",
       "\n",
       "       LATE_AIRCRAFT_DELAY  Unnamed: 54  \n",
       "count        117144.000000          0.0  \n",
       "mean             25.880882          NaN  \n",
       "std              53.007365          NaN  \n",
       "min               0.000000          NaN  \n",
       "25%               0.000000          NaN  \n",
       "50%               0.000000          NaN  \n",
       "75%              30.000000          NaN  \n",
       "max            1514.000000          NaN  \n",
       "\n",
       "[8 rows x 41 columns]"
      ]
     },
     "execution_count": 3,
     "metadata": {},
     "output_type": "execute_result"
    }
   ],
   "source": [
    "# insights of flight_01\n",
    "\n",
    "flight_01.describe()"
   ]
  },
  {
   "cell_type": "code",
   "execution_count": 73,
   "metadata": {},
   "outputs": [
    {
     "data": {
      "text/plain": [
       "['YEAR',\n",
       " 'MONTH',\n",
       " 'DAY_OF_MONTH',\n",
       " 'DAY_OF_WEEK',\n",
       " 'FL_DATE',\n",
       " 'OP_UNIQUE_CARRIER',\n",
       " 'OP_CARRIER_AIRLINE_ID',\n",
       " 'OP_CARRIER',\n",
       " 'TAIL_NUM',\n",
       " 'OP_CARRIER_FL_NUM',\n",
       " 'ORIGIN_AIRPORT_ID',\n",
       " 'ORIGIN_AIRPORT_SEQ_ID',\n",
       " 'ORIGIN_CITY_MARKET_ID',\n",
       " 'ORIGIN',\n",
       " 'ORIGIN_CITY_NAME',\n",
       " 'ORIGIN_STATE_ABR',\n",
       " 'ORIGIN_STATE_FIPS',\n",
       " 'ORIGIN_STATE_NM',\n",
       " 'DEST_AIRPORT_ID',\n",
       " 'DEST_AIRPORT_SEQ_ID',\n",
       " 'DEST_CITY_MARKET_ID',\n",
       " 'DEST',\n",
       " 'DEST_CITY_NAME',\n",
       " 'DEST_STATE_ABR',\n",
       " 'DEST_STATE_FIPS',\n",
       " 'DEST_STATE_NM',\n",
       " 'CRS_DEP_TIME',\n",
       " 'DEP_TIME',\n",
       " 'DEP_DELAY',\n",
       " 'DEP_DELAY_NEW',\n",
       " 'DEP_DEL15',\n",
       " 'DEP_DELAY_GROUP',\n",
       " 'DEP_TIME_BLK',\n",
       " 'WHEELS_OFF',\n",
       " 'WHEELS_ON',\n",
       " 'CRS_ARR_TIME',\n",
       " 'ARR_TIME',\n",
       " 'ARR_DELAY',\n",
       " 'ARR_DELAY_NEW',\n",
       " 'ARR_DEL15',\n",
       " 'ARR_DELAY_GROUP',\n",
       " 'ARR_TIME_BLK',\n",
       " 'CANCELLED',\n",
       " 'DIVERTED',\n",
       " 'CRS_ELAPSED_TIME',\n",
       " 'ACTUAL_ELAPSED_TIME',\n",
       " 'AIR_TIME',\n",
       " 'FLIGHTS',\n",
       " 'DISTANCE',\n",
       " 'CARRIER_DELAY',\n",
       " 'WEATHER_DELAY',\n",
       " 'NAS_DELAY',\n",
       " 'SECURITY_DELAY',\n",
       " 'LATE_AIRCRAFT_DELAY',\n",
       " 'Unnamed: 54']"
      ]
     },
     "execution_count": 73,
     "metadata": {},
     "output_type": "execute_result"
    }
   ],
   "source": [
    "# List of all columns. Delete column \"Unnamed: 54\" because of NaN\n",
    "\n",
    "list(flight_01)\n",
    "\n"
   ]
  },
  {
   "cell_type": "code",
   "execution_count": 41,
   "metadata": {},
   "outputs": [],
   "source": [
    "# Helperfunction\n",
    "\n",
    "\n",
    "def info(dataframe):\n",
    "  print('dataframe: =============================================================')  \n",
    "  display(dataframe.head(5))\n",
    "  print('SHAPE: =============================================================')\n",
    "  display(dataframe.shape)\n",
    "  print('info: =============================================================')\n",
    "  display(dataframe.info())\n",
    "  print('describe: =============================================================')\n",
    "  display(dataframe.describe())\n",
    "  print('dtypes: =============================================================')\n",
    "  display(dataframe.dtypes)\n",
    "  print('isnull: =============================================================')\n",
    "  display(dataframe.isnull().sum())\n",
    "  print('sample: =============================================================')\n",
    "  display(dataframe.sample(5))\n",
    "  print('=============================================================')"
   ]
  },
  {
   "cell_type": "code",
   "execution_count": 42,
   "metadata": {},
   "outputs": [
    {
     "name": "stdout",
     "output_type": "stream",
     "text": [
      "dataframe: =============================================================\n"
     ]
    },
    {
     "data": {
      "text/html": [
       "<div>\n",
       "<style scoped>\n",
       "    .dataframe tbody tr th:only-of-type {\n",
       "        vertical-align: middle;\n",
       "    }\n",
       "\n",
       "    .dataframe tbody tr th {\n",
       "        vertical-align: top;\n",
       "    }\n",
       "\n",
       "    .dataframe thead th {\n",
       "        text-align: right;\n",
       "    }\n",
       "</style>\n",
       "<table border=\"1\" class=\"dataframe\">\n",
       "  <thead>\n",
       "    <tr style=\"text-align: right;\">\n",
       "      <th></th>\n",
       "      <th>YEAR</th>\n",
       "      <th>MONTH</th>\n",
       "      <th>DAY_OF_MONTH</th>\n",
       "      <th>DAY_OF_WEEK</th>\n",
       "      <th>FL_DATE</th>\n",
       "      <th>OP_UNIQUE_CARRIER</th>\n",
       "      <th>OP_CARRIER_AIRLINE_ID</th>\n",
       "      <th>OP_CARRIER</th>\n",
       "      <th>TAIL_NUM</th>\n",
       "      <th>OP_CARRIER_FL_NUM</th>\n",
       "      <th>...</th>\n",
       "      <th>ACTUAL_ELAPSED_TIME</th>\n",
       "      <th>AIR_TIME</th>\n",
       "      <th>FLIGHTS</th>\n",
       "      <th>DISTANCE</th>\n",
       "      <th>CARRIER_DELAY</th>\n",
       "      <th>WEATHER_DELAY</th>\n",
       "      <th>NAS_DELAY</th>\n",
       "      <th>SECURITY_DELAY</th>\n",
       "      <th>LATE_AIRCRAFT_DELAY</th>\n",
       "      <th>Unnamed: 54</th>\n",
       "    </tr>\n",
       "  </thead>\n",
       "  <tbody>\n",
       "    <tr>\n",
       "      <th>0</th>\n",
       "      <td>2019</td>\n",
       "      <td>1</td>\n",
       "      <td>11</td>\n",
       "      <td>5</td>\n",
       "      <td>2019-01-11</td>\n",
       "      <td>WN</td>\n",
       "      <td>19393</td>\n",
       "      <td>WN</td>\n",
       "      <td>N220WN</td>\n",
       "      <td>1480</td>\n",
       "      <td>...</td>\n",
       "      <td>133.0</td>\n",
       "      <td>118.0</td>\n",
       "      <td>1.0</td>\n",
       "      <td>834.0</td>\n",
       "      <td>NaN</td>\n",
       "      <td>NaN</td>\n",
       "      <td>NaN</td>\n",
       "      <td>NaN</td>\n",
       "      <td>NaN</td>\n",
       "      <td>NaN</td>\n",
       "    </tr>\n",
       "    <tr>\n",
       "      <th>1</th>\n",
       "      <td>2019</td>\n",
       "      <td>1</td>\n",
       "      <td>11</td>\n",
       "      <td>5</td>\n",
       "      <td>2019-01-11</td>\n",
       "      <td>WN</td>\n",
       "      <td>19393</td>\n",
       "      <td>WN</td>\n",
       "      <td>N7889A</td>\n",
       "      <td>2199</td>\n",
       "      <td>...</td>\n",
       "      <td>138.0</td>\n",
       "      <td>119.0</td>\n",
       "      <td>1.0</td>\n",
       "      <td>834.0</td>\n",
       "      <td>NaN</td>\n",
       "      <td>NaN</td>\n",
       "      <td>NaN</td>\n",
       "      <td>NaN</td>\n",
       "      <td>NaN</td>\n",
       "      <td>NaN</td>\n",
       "    </tr>\n",
       "    <tr>\n",
       "      <th>2</th>\n",
       "      <td>2019</td>\n",
       "      <td>1</td>\n",
       "      <td>11</td>\n",
       "      <td>5</td>\n",
       "      <td>2019-01-11</td>\n",
       "      <td>WN</td>\n",
       "      <td>19393</td>\n",
       "      <td>WN</td>\n",
       "      <td>N764SW</td>\n",
       "      <td>402</td>\n",
       "      <td>...</td>\n",
       "      <td>153.0</td>\n",
       "      <td>141.0</td>\n",
       "      <td>1.0</td>\n",
       "      <td>1072.0</td>\n",
       "      <td>NaN</td>\n",
       "      <td>NaN</td>\n",
       "      <td>NaN</td>\n",
       "      <td>NaN</td>\n",
       "      <td>NaN</td>\n",
       "      <td>NaN</td>\n",
       "    </tr>\n",
       "    <tr>\n",
       "      <th>3</th>\n",
       "      <td>2019</td>\n",
       "      <td>1</td>\n",
       "      <td>11</td>\n",
       "      <td>5</td>\n",
       "      <td>2019-01-11</td>\n",
       "      <td>WN</td>\n",
       "      <td>19393</td>\n",
       "      <td>WN</td>\n",
       "      <td>N8309C</td>\n",
       "      <td>458</td>\n",
       "      <td>...</td>\n",
       "      <td>161.0</td>\n",
       "      <td>144.0</td>\n",
       "      <td>1.0</td>\n",
       "      <td>1072.0</td>\n",
       "      <td>NaN</td>\n",
       "      <td>NaN</td>\n",
       "      <td>NaN</td>\n",
       "      <td>NaN</td>\n",
       "      <td>NaN</td>\n",
       "      <td>NaN</td>\n",
       "    </tr>\n",
       "    <tr>\n",
       "      <th>4</th>\n",
       "      <td>2019</td>\n",
       "      <td>1</td>\n",
       "      <td>11</td>\n",
       "      <td>5</td>\n",
       "      <td>2019-01-11</td>\n",
       "      <td>WN</td>\n",
       "      <td>19393</td>\n",
       "      <td>WN</td>\n",
       "      <td>N8686A</td>\n",
       "      <td>1966</td>\n",
       "      <td>...</td>\n",
       "      <td>155.0</td>\n",
       "      <td>142.0</td>\n",
       "      <td>1.0</td>\n",
       "      <td>1072.0</td>\n",
       "      <td>NaN</td>\n",
       "      <td>NaN</td>\n",
       "      <td>NaN</td>\n",
       "      <td>NaN</td>\n",
       "      <td>NaN</td>\n",
       "      <td>NaN</td>\n",
       "    </tr>\n",
       "  </tbody>\n",
       "</table>\n",
       "<p>5 rows × 55 columns</p>\n",
       "</div>"
      ],
      "text/plain": [
       "   YEAR  MONTH  DAY_OF_MONTH  DAY_OF_WEEK     FL_DATE OP_UNIQUE_CARRIER  \\\n",
       "0  2019      1            11            5  2019-01-11                WN   \n",
       "1  2019      1            11            5  2019-01-11                WN   \n",
       "2  2019      1            11            5  2019-01-11                WN   \n",
       "3  2019      1            11            5  2019-01-11                WN   \n",
       "4  2019      1            11            5  2019-01-11                WN   \n",
       "\n",
       "   OP_CARRIER_AIRLINE_ID OP_CARRIER TAIL_NUM  OP_CARRIER_FL_NUM  ...  \\\n",
       "0                  19393         WN   N220WN               1480  ...   \n",
       "1                  19393         WN   N7889A               2199  ...   \n",
       "2                  19393         WN   N764SW                402  ...   \n",
       "3                  19393         WN   N8309C                458  ...   \n",
       "4                  19393         WN   N8686A               1966  ...   \n",
       "\n",
       "   ACTUAL_ELAPSED_TIME  AIR_TIME  FLIGHTS DISTANCE CARRIER_DELAY  \\\n",
       "0                133.0     118.0      1.0    834.0           NaN   \n",
       "1                138.0     119.0      1.0    834.0           NaN   \n",
       "2                153.0     141.0      1.0   1072.0           NaN   \n",
       "3                161.0     144.0      1.0   1072.0           NaN   \n",
       "4                155.0     142.0      1.0   1072.0           NaN   \n",
       "\n",
       "  WEATHER_DELAY  NAS_DELAY SECURITY_DELAY  LATE_AIRCRAFT_DELAY  Unnamed: 54  \n",
       "0           NaN        NaN            NaN                  NaN          NaN  \n",
       "1           NaN        NaN            NaN                  NaN          NaN  \n",
       "2           NaN        NaN            NaN                  NaN          NaN  \n",
       "3           NaN        NaN            NaN                  NaN          NaN  \n",
       "4           NaN        NaN            NaN                  NaN          NaN  \n",
       "\n",
       "[5 rows x 55 columns]"
      ]
     },
     "metadata": {},
     "output_type": "display_data"
    },
    {
     "name": "stdout",
     "output_type": "stream",
     "text": [
      "SHAPE: =============================================================\n"
     ]
    },
    {
     "data": {
      "text/plain": [
       "(638649, 55)"
      ]
     },
     "metadata": {},
     "output_type": "display_data"
    },
    {
     "name": "stdout",
     "output_type": "stream",
     "text": [
      "info: =============================================================\n",
      "<class 'pandas.core.frame.DataFrame'>\n",
      "RangeIndex: 638649 entries, 0 to 638648\n",
      "Data columns (total 55 columns):\n",
      " #   Column                 Non-Null Count   Dtype  \n",
      "---  ------                 --------------   -----  \n",
      " 0   YEAR                   638649 non-null  int64  \n",
      " 1   MONTH                  638649 non-null  int64  \n",
      " 2   DAY_OF_MONTH           638649 non-null  int64  \n",
      " 3   DAY_OF_WEEK            638649 non-null  int64  \n",
      " 4   FL_DATE                638649 non-null  object \n",
      " 5   OP_UNIQUE_CARRIER      638649 non-null  object \n",
      " 6   OP_CARRIER_AIRLINE_ID  638649 non-null  int64  \n",
      " 7   OP_CARRIER             638649 non-null  object \n",
      " 8   TAIL_NUM               633964 non-null  object \n",
      " 9   OP_CARRIER_FL_NUM      638649 non-null  int64  \n",
      " 10  ORIGIN_AIRPORT_ID      638649 non-null  int64  \n",
      " 11  ORIGIN_AIRPORT_SEQ_ID  638649 non-null  int64  \n",
      " 12  ORIGIN_CITY_MARKET_ID  638649 non-null  int64  \n",
      " 13  ORIGIN                 638649 non-null  object \n",
      " 14  ORIGIN_CITY_NAME       638649 non-null  object \n",
      " 15  ORIGIN_STATE_ABR       638649 non-null  object \n",
      " 16  ORIGIN_STATE_FIPS      638649 non-null  int64  \n",
      " 17  ORIGIN_STATE_NM        638649 non-null  object \n",
      " 18  DEST_AIRPORT_ID        638649 non-null  int64  \n",
      " 19  DEST_AIRPORT_SEQ_ID    638649 non-null  int64  \n",
      " 20  DEST_CITY_MARKET_ID    638649 non-null  int64  \n",
      " 21  DEST                   638649 non-null  object \n",
      " 22  DEST_CITY_NAME         638649 non-null  object \n",
      " 23  DEST_STATE_ABR         638649 non-null  object \n",
      " 24  DEST_STATE_FIPS        638649 non-null  int64  \n",
      " 25  DEST_STATE_NM          638649 non-null  object \n",
      " 26  CRS_DEP_TIME           638649 non-null  int64  \n",
      " 27  DEP_TIME               619550 non-null  float64\n",
      " 28  DEP_DELAY              619547 non-null  float64\n",
      " 29  DEP_DELAY_NEW          619547 non-null  float64\n",
      " 30  DEP_DEL15              619547 non-null  float64\n",
      " 31  DEP_DELAY_GROUP        619547 non-null  float64\n",
      " 32  DEP_TIME_BLK           638649 non-null  object \n",
      " 33  WHEELS_OFF             619253 non-null  float64\n",
      " 34  WHEELS_ON              618710 non-null  float64\n",
      " 35  CRS_ARR_TIME           638649 non-null  int64  \n",
      " 36  ARR_TIME               618710 non-null  float64\n",
      " 37  ARR_DELAY              617649 non-null  float64\n",
      " 38  ARR_DELAY_NEW          617649 non-null  float64\n",
      " 39  ARR_DEL15              617649 non-null  float64\n",
      " 40  ARR_DELAY_GROUP        617649 non-null  float64\n",
      " 41  ARR_TIME_BLK           638649 non-null  object \n",
      " 42  CANCELLED              638649 non-null  float64\n",
      " 43  DIVERTED               638649 non-null  float64\n",
      " 44  CRS_ELAPSED_TIME       638641 non-null  float64\n",
      " 45  ACTUAL_ELAPSED_TIME    617649 non-null  float64\n",
      " 46  AIR_TIME               617649 non-null  float64\n",
      " 47  FLIGHTS                638649 non-null  float64\n",
      " 48  DISTANCE               638649 non-null  float64\n",
      " 49  CARRIER_DELAY          117144 non-null  float64\n",
      " 50  WEATHER_DELAY          117144 non-null  float64\n",
      " 51  NAS_DELAY              117144 non-null  float64\n",
      " 52  SECURITY_DELAY         117144 non-null  float64\n",
      " 53  LATE_AIRCRAFT_DELAY    117144 non-null  float64\n",
      " 54  Unnamed: 54            0 non-null       float64\n",
      "dtypes: float64(25), int64(16), object(14)\n",
      "memory usage: 268.0+ MB\n"
     ]
    },
    {
     "data": {
      "text/plain": [
       "None"
      ]
     },
     "metadata": {},
     "output_type": "display_data"
    },
    {
     "name": "stdout",
     "output_type": "stream",
     "text": [
      "describe: =============================================================\n"
     ]
    },
    {
     "data": {
      "text/html": [
       "<div>\n",
       "<style scoped>\n",
       "    .dataframe tbody tr th:only-of-type {\n",
       "        vertical-align: middle;\n",
       "    }\n",
       "\n",
       "    .dataframe tbody tr th {\n",
       "        vertical-align: top;\n",
       "    }\n",
       "\n",
       "    .dataframe thead th {\n",
       "        text-align: right;\n",
       "    }\n",
       "</style>\n",
       "<table border=\"1\" class=\"dataframe\">\n",
       "  <thead>\n",
       "    <tr style=\"text-align: right;\">\n",
       "      <th></th>\n",
       "      <th>YEAR</th>\n",
       "      <th>MONTH</th>\n",
       "      <th>DAY_OF_MONTH</th>\n",
       "      <th>DAY_OF_WEEK</th>\n",
       "      <th>OP_CARRIER_AIRLINE_ID</th>\n",
       "      <th>OP_CARRIER_FL_NUM</th>\n",
       "      <th>ORIGIN_AIRPORT_ID</th>\n",
       "      <th>ORIGIN_AIRPORT_SEQ_ID</th>\n",
       "      <th>ORIGIN_CITY_MARKET_ID</th>\n",
       "      <th>ORIGIN_STATE_FIPS</th>\n",
       "      <th>...</th>\n",
       "      <th>ACTUAL_ELAPSED_TIME</th>\n",
       "      <th>AIR_TIME</th>\n",
       "      <th>FLIGHTS</th>\n",
       "      <th>DISTANCE</th>\n",
       "      <th>CARRIER_DELAY</th>\n",
       "      <th>WEATHER_DELAY</th>\n",
       "      <th>NAS_DELAY</th>\n",
       "      <th>SECURITY_DELAY</th>\n",
       "      <th>LATE_AIRCRAFT_DELAY</th>\n",
       "      <th>Unnamed: 54</th>\n",
       "    </tr>\n",
       "  </thead>\n",
       "  <tbody>\n",
       "    <tr>\n",
       "      <th>count</th>\n",
       "      <td>638649.0</td>\n",
       "      <td>638649.0</td>\n",
       "      <td>638649.000000</td>\n",
       "      <td>638649.000000</td>\n",
       "      <td>638649.000000</td>\n",
       "      <td>638649.000000</td>\n",
       "      <td>638649.000000</td>\n",
       "      <td>6.386490e+05</td>\n",
       "      <td>638649.000000</td>\n",
       "      <td>638649.000000</td>\n",
       "      <td>...</td>\n",
       "      <td>617649.000000</td>\n",
       "      <td>617649.000000</td>\n",
       "      <td>638649.0</td>\n",
       "      <td>638649.000000</td>\n",
       "      <td>117144.000000</td>\n",
       "      <td>117144.000000</td>\n",
       "      <td>117144.000000</td>\n",
       "      <td>117144.000000</td>\n",
       "      <td>117144.000000</td>\n",
       "      <td>0.0</td>\n",
       "    </tr>\n",
       "    <tr>\n",
       "      <th>mean</th>\n",
       "      <td>2019.0</td>\n",
       "      <td>1.0</td>\n",
       "      <td>15.955094</td>\n",
       "      <td>3.836976</td>\n",
       "      <td>20012.644561</td>\n",
       "      <td>2700.871319</td>\n",
       "      <td>12690.345843</td>\n",
       "      <td>1.269038e+06</td>\n",
       "      <td>31776.883607</td>\n",
       "      <td>27.240260</td>\n",
       "      <td>...</td>\n",
       "      <td>135.159278</td>\n",
       "      <td>109.029140</td>\n",
       "      <td>1.0</td>\n",
       "      <td>765.250902</td>\n",
       "      <td>20.088609</td>\n",
       "      <td>4.410785</td>\n",
       "      <td>18.384826</td>\n",
       "      <td>0.073422</td>\n",
       "      <td>25.880882</td>\n",
       "      <td>NaN</td>\n",
       "    </tr>\n",
       "    <tr>\n",
       "      <th>std</th>\n",
       "      <td>0.0</td>\n",
       "      <td>0.0</td>\n",
       "      <td>8.989170</td>\n",
       "      <td>1.921977</td>\n",
       "      <td>396.177827</td>\n",
       "      <td>1861.933516</td>\n",
       "      <td>1520.775468</td>\n",
       "      <td>1.520773e+05</td>\n",
       "      <td>1316.122179</td>\n",
       "      <td>16.565184</td>\n",
       "      <td>...</td>\n",
       "      <td>71.762649</td>\n",
       "      <td>69.987785</td>\n",
       "      <td>0.0</td>\n",
       "      <td>579.910495</td>\n",
       "      <td>65.596080</td>\n",
       "      <td>38.353695</td>\n",
       "      <td>41.352734</td>\n",
       "      <td>3.051185</td>\n",
       "      <td>53.007365</td>\n",
       "      <td>NaN</td>\n",
       "    </tr>\n",
       "    <tr>\n",
       "      <th>min</th>\n",
       "      <td>2019.0</td>\n",
       "      <td>1.0</td>\n",
       "      <td>1.000000</td>\n",
       "      <td>1.000000</td>\n",
       "      <td>19393.000000</td>\n",
       "      <td>1.000000</td>\n",
       "      <td>10135.000000</td>\n",
       "      <td>1.013505e+06</td>\n",
       "      <td>30070.000000</td>\n",
       "      <td>1.000000</td>\n",
       "      <td>...</td>\n",
       "      <td>16.000000</td>\n",
       "      <td>4.000000</td>\n",
       "      <td>1.0</td>\n",
       "      <td>31.000000</td>\n",
       "      <td>0.000000</td>\n",
       "      <td>0.000000</td>\n",
       "      <td>0.000000</td>\n",
       "      <td>0.000000</td>\n",
       "      <td>0.000000</td>\n",
       "      <td>NaN</td>\n",
       "    </tr>\n",
       "    <tr>\n",
       "      <th>25%</th>\n",
       "      <td>2019.0</td>\n",
       "      <td>1.0</td>\n",
       "      <td>8.000000</td>\n",
       "      <td>2.000000</td>\n",
       "      <td>19790.000000</td>\n",
       "      <td>1090.000000</td>\n",
       "      <td>11292.000000</td>\n",
       "      <td>1.129202e+06</td>\n",
       "      <td>30721.000000</td>\n",
       "      <td>12.000000</td>\n",
       "      <td>...</td>\n",
       "      <td>83.000000</td>\n",
       "      <td>58.000000</td>\n",
       "      <td>1.0</td>\n",
       "      <td>337.000000</td>\n",
       "      <td>0.000000</td>\n",
       "      <td>0.000000</td>\n",
       "      <td>0.000000</td>\n",
       "      <td>0.000000</td>\n",
       "      <td>0.000000</td>\n",
       "      <td>NaN</td>\n",
       "    </tr>\n",
       "    <tr>\n",
       "      <th>50%</th>\n",
       "      <td>2019.0</td>\n",
       "      <td>1.0</td>\n",
       "      <td>16.000000</td>\n",
       "      <td>4.000000</td>\n",
       "      <td>19977.000000</td>\n",
       "      <td>2260.000000</td>\n",
       "      <td>12889.000000</td>\n",
       "      <td>1.288903e+06</td>\n",
       "      <td>31453.000000</td>\n",
       "      <td>26.000000</td>\n",
       "      <td>...</td>\n",
       "      <td>117.000000</td>\n",
       "      <td>90.000000</td>\n",
       "      <td>1.0</td>\n",
       "      <td>604.000000</td>\n",
       "      <td>0.000000</td>\n",
       "      <td>0.000000</td>\n",
       "      <td>5.000000</td>\n",
       "      <td>0.000000</td>\n",
       "      <td>0.000000</td>\n",
       "      <td>NaN</td>\n",
       "    </tr>\n",
       "    <tr>\n",
       "      <th>75%</th>\n",
       "      <td>2019.0</td>\n",
       "      <td>1.0</td>\n",
       "      <td>24.000000</td>\n",
       "      <td>5.000000</td>\n",
       "      <td>20378.000000</td>\n",
       "      <td>4183.000000</td>\n",
       "      <td>14057.000000</td>\n",
       "      <td>1.405702e+06</td>\n",
       "      <td>32575.000000</td>\n",
       "      <td>42.000000</td>\n",
       "      <td>...</td>\n",
       "      <td>166.000000</td>\n",
       "      <td>139.000000</td>\n",
       "      <td>1.0</td>\n",
       "      <td>1008.000000</td>\n",
       "      <td>16.000000</td>\n",
       "      <td>0.000000</td>\n",
       "      <td>21.000000</td>\n",
       "      <td>0.000000</td>\n",
       "      <td>30.000000</td>\n",
       "      <td>NaN</td>\n",
       "    </tr>\n",
       "    <tr>\n",
       "      <th>max</th>\n",
       "      <td>2019.0</td>\n",
       "      <td>1.0</td>\n",
       "      <td>31.000000</td>\n",
       "      <td>7.000000</td>\n",
       "      <td>21167.000000</td>\n",
       "      <td>9401.000000</td>\n",
       "      <td>16218.000000</td>\n",
       "      <td>1.621802e+06</td>\n",
       "      <td>36101.000000</td>\n",
       "      <td>78.000000</td>\n",
       "      <td>...</td>\n",
       "      <td>737.000000</td>\n",
       "      <td>691.000000</td>\n",
       "      <td>1.0</td>\n",
       "      <td>4983.000000</td>\n",
       "      <td>1638.000000</td>\n",
       "      <td>1416.000000</td>\n",
       "      <td>1447.000000</td>\n",
       "      <td>816.000000</td>\n",
       "      <td>1514.000000</td>\n",
       "      <td>NaN</td>\n",
       "    </tr>\n",
       "  </tbody>\n",
       "</table>\n",
       "<p>8 rows × 41 columns</p>\n",
       "</div>"
      ],
      "text/plain": [
       "           YEAR     MONTH   DAY_OF_MONTH    DAY_OF_WEEK  \\\n",
       "count  638649.0  638649.0  638649.000000  638649.000000   \n",
       "mean     2019.0       1.0      15.955094       3.836976   \n",
       "std         0.0       0.0       8.989170       1.921977   \n",
       "min      2019.0       1.0       1.000000       1.000000   \n",
       "25%      2019.0       1.0       8.000000       2.000000   \n",
       "50%      2019.0       1.0      16.000000       4.000000   \n",
       "75%      2019.0       1.0      24.000000       5.000000   \n",
       "max      2019.0       1.0      31.000000       7.000000   \n",
       "\n",
       "       OP_CARRIER_AIRLINE_ID  OP_CARRIER_FL_NUM  ORIGIN_AIRPORT_ID  \\\n",
       "count          638649.000000      638649.000000      638649.000000   \n",
       "mean            20012.644561        2700.871319       12690.345843   \n",
       "std               396.177827        1861.933516        1520.775468   \n",
       "min             19393.000000           1.000000       10135.000000   \n",
       "25%             19790.000000        1090.000000       11292.000000   \n",
       "50%             19977.000000        2260.000000       12889.000000   \n",
       "75%             20378.000000        4183.000000       14057.000000   \n",
       "max             21167.000000        9401.000000       16218.000000   \n",
       "\n",
       "       ORIGIN_AIRPORT_SEQ_ID  ORIGIN_CITY_MARKET_ID  ORIGIN_STATE_FIPS  ...  \\\n",
       "count           6.386490e+05          638649.000000      638649.000000  ...   \n",
       "mean            1.269038e+06           31776.883607          27.240260  ...   \n",
       "std             1.520773e+05            1316.122179          16.565184  ...   \n",
       "min             1.013505e+06           30070.000000           1.000000  ...   \n",
       "25%             1.129202e+06           30721.000000          12.000000  ...   \n",
       "50%             1.288903e+06           31453.000000          26.000000  ...   \n",
       "75%             1.405702e+06           32575.000000          42.000000  ...   \n",
       "max             1.621802e+06           36101.000000          78.000000  ...   \n",
       "\n",
       "       ACTUAL_ELAPSED_TIME       AIR_TIME   FLIGHTS       DISTANCE  \\\n",
       "count        617649.000000  617649.000000  638649.0  638649.000000   \n",
       "mean            135.159278     109.029140       1.0     765.250902   \n",
       "std              71.762649      69.987785       0.0     579.910495   \n",
       "min              16.000000       4.000000       1.0      31.000000   \n",
       "25%              83.000000      58.000000       1.0     337.000000   \n",
       "50%             117.000000      90.000000       1.0     604.000000   \n",
       "75%             166.000000     139.000000       1.0    1008.000000   \n",
       "max             737.000000     691.000000       1.0    4983.000000   \n",
       "\n",
       "       CARRIER_DELAY  WEATHER_DELAY      NAS_DELAY  SECURITY_DELAY  \\\n",
       "count  117144.000000  117144.000000  117144.000000   117144.000000   \n",
       "mean       20.088609       4.410785      18.384826        0.073422   \n",
       "std        65.596080      38.353695      41.352734        3.051185   \n",
       "min         0.000000       0.000000       0.000000        0.000000   \n",
       "25%         0.000000       0.000000       0.000000        0.000000   \n",
       "50%         0.000000       0.000000       5.000000        0.000000   \n",
       "75%        16.000000       0.000000      21.000000        0.000000   \n",
       "max      1638.000000    1416.000000    1447.000000      816.000000   \n",
       "\n",
       "       LATE_AIRCRAFT_DELAY  Unnamed: 54  \n",
       "count        117144.000000          0.0  \n",
       "mean             25.880882          NaN  \n",
       "std              53.007365          NaN  \n",
       "min               0.000000          NaN  \n",
       "25%               0.000000          NaN  \n",
       "50%               0.000000          NaN  \n",
       "75%              30.000000          NaN  \n",
       "max            1514.000000          NaN  \n",
       "\n",
       "[8 rows x 41 columns]"
      ]
     },
     "metadata": {},
     "output_type": "display_data"
    },
    {
     "name": "stdout",
     "output_type": "stream",
     "text": [
      "dtypes: =============================================================\n"
     ]
    },
    {
     "data": {
      "text/plain": [
       "YEAR                       int64\n",
       "MONTH                      int64\n",
       "DAY_OF_MONTH               int64\n",
       "DAY_OF_WEEK                int64\n",
       "FL_DATE                   object\n",
       "OP_UNIQUE_CARRIER         object\n",
       "OP_CARRIER_AIRLINE_ID      int64\n",
       "OP_CARRIER                object\n",
       "TAIL_NUM                  object\n",
       "OP_CARRIER_FL_NUM          int64\n",
       "ORIGIN_AIRPORT_ID          int64\n",
       "ORIGIN_AIRPORT_SEQ_ID      int64\n",
       "ORIGIN_CITY_MARKET_ID      int64\n",
       "ORIGIN                    object\n",
       "ORIGIN_CITY_NAME          object\n",
       "ORIGIN_STATE_ABR          object\n",
       "ORIGIN_STATE_FIPS          int64\n",
       "ORIGIN_STATE_NM           object\n",
       "DEST_AIRPORT_ID            int64\n",
       "DEST_AIRPORT_SEQ_ID        int64\n",
       "DEST_CITY_MARKET_ID        int64\n",
       "DEST                      object\n",
       "DEST_CITY_NAME            object\n",
       "DEST_STATE_ABR            object\n",
       "DEST_STATE_FIPS            int64\n",
       "DEST_STATE_NM             object\n",
       "CRS_DEP_TIME               int64\n",
       "DEP_TIME                 float64\n",
       "DEP_DELAY                float64\n",
       "DEP_DELAY_NEW            float64\n",
       "DEP_DEL15                float64\n",
       "DEP_DELAY_GROUP          float64\n",
       "DEP_TIME_BLK              object\n",
       "WHEELS_OFF               float64\n",
       "WHEELS_ON                float64\n",
       "CRS_ARR_TIME               int64\n",
       "ARR_TIME                 float64\n",
       "ARR_DELAY                float64\n",
       "ARR_DELAY_NEW            float64\n",
       "ARR_DEL15                float64\n",
       "ARR_DELAY_GROUP          float64\n",
       "ARR_TIME_BLK              object\n",
       "CANCELLED                float64\n",
       "DIVERTED                 float64\n",
       "CRS_ELAPSED_TIME         float64\n",
       "ACTUAL_ELAPSED_TIME      float64\n",
       "AIR_TIME                 float64\n",
       "FLIGHTS                  float64\n",
       "DISTANCE                 float64\n",
       "CARRIER_DELAY            float64\n",
       "WEATHER_DELAY            float64\n",
       "NAS_DELAY                float64\n",
       "SECURITY_DELAY           float64\n",
       "LATE_AIRCRAFT_DELAY      float64\n",
       "Unnamed: 54              float64\n",
       "dtype: object"
      ]
     },
     "metadata": {},
     "output_type": "display_data"
    },
    {
     "name": "stdout",
     "output_type": "stream",
     "text": [
      "isnull: =============================================================\n"
     ]
    },
    {
     "data": {
      "text/plain": [
       "YEAR                          0\n",
       "MONTH                         0\n",
       "DAY_OF_MONTH                  0\n",
       "DAY_OF_WEEK                   0\n",
       "FL_DATE                       0\n",
       "OP_UNIQUE_CARRIER             0\n",
       "OP_CARRIER_AIRLINE_ID         0\n",
       "OP_CARRIER                    0\n",
       "TAIL_NUM                   4685\n",
       "OP_CARRIER_FL_NUM             0\n",
       "ORIGIN_AIRPORT_ID             0\n",
       "ORIGIN_AIRPORT_SEQ_ID         0\n",
       "ORIGIN_CITY_MARKET_ID         0\n",
       "ORIGIN                        0\n",
       "ORIGIN_CITY_NAME              0\n",
       "ORIGIN_STATE_ABR              0\n",
       "ORIGIN_STATE_FIPS             0\n",
       "ORIGIN_STATE_NM               0\n",
       "DEST_AIRPORT_ID               0\n",
       "DEST_AIRPORT_SEQ_ID           0\n",
       "DEST_CITY_MARKET_ID           0\n",
       "DEST                          0\n",
       "DEST_CITY_NAME                0\n",
       "DEST_STATE_ABR                0\n",
       "DEST_STATE_FIPS               0\n",
       "DEST_STATE_NM                 0\n",
       "CRS_DEP_TIME                  0\n",
       "DEP_TIME                  19099\n",
       "DEP_DELAY                 19102\n",
       "DEP_DELAY_NEW             19102\n",
       "DEP_DEL15                 19102\n",
       "DEP_DELAY_GROUP           19102\n",
       "DEP_TIME_BLK                  0\n",
       "WHEELS_OFF                19396\n",
       "WHEELS_ON                 19939\n",
       "CRS_ARR_TIME                  0\n",
       "ARR_TIME                  19939\n",
       "ARR_DELAY                 21000\n",
       "ARR_DELAY_NEW             21000\n",
       "ARR_DEL15                 21000\n",
       "ARR_DELAY_GROUP           21000\n",
       "ARR_TIME_BLK                  0\n",
       "CANCELLED                     0\n",
       "DIVERTED                      0\n",
       "CRS_ELAPSED_TIME              8\n",
       "ACTUAL_ELAPSED_TIME       21000\n",
       "AIR_TIME                  21000\n",
       "FLIGHTS                       0\n",
       "DISTANCE                      0\n",
       "CARRIER_DELAY            521505\n",
       "WEATHER_DELAY            521505\n",
       "NAS_DELAY                521505\n",
       "SECURITY_DELAY           521505\n",
       "LATE_AIRCRAFT_DELAY      521505\n",
       "Unnamed: 54              638649\n",
       "dtype: int64"
      ]
     },
     "metadata": {},
     "output_type": "display_data"
    },
    {
     "name": "stdout",
     "output_type": "stream",
     "text": [
      "sample: =============================================================\n"
     ]
    },
    {
     "data": {
      "text/html": [
       "<div>\n",
       "<style scoped>\n",
       "    .dataframe tbody tr th:only-of-type {\n",
       "        vertical-align: middle;\n",
       "    }\n",
       "\n",
       "    .dataframe tbody tr th {\n",
       "        vertical-align: top;\n",
       "    }\n",
       "\n",
       "    .dataframe thead th {\n",
       "        text-align: right;\n",
       "    }\n",
       "</style>\n",
       "<table border=\"1\" class=\"dataframe\">\n",
       "  <thead>\n",
       "    <tr style=\"text-align: right;\">\n",
       "      <th></th>\n",
       "      <th>YEAR</th>\n",
       "      <th>MONTH</th>\n",
       "      <th>DAY_OF_MONTH</th>\n",
       "      <th>DAY_OF_WEEK</th>\n",
       "      <th>FL_DATE</th>\n",
       "      <th>OP_UNIQUE_CARRIER</th>\n",
       "      <th>OP_CARRIER_AIRLINE_ID</th>\n",
       "      <th>OP_CARRIER</th>\n",
       "      <th>TAIL_NUM</th>\n",
       "      <th>OP_CARRIER_FL_NUM</th>\n",
       "      <th>...</th>\n",
       "      <th>ACTUAL_ELAPSED_TIME</th>\n",
       "      <th>AIR_TIME</th>\n",
       "      <th>FLIGHTS</th>\n",
       "      <th>DISTANCE</th>\n",
       "      <th>CARRIER_DELAY</th>\n",
       "      <th>WEATHER_DELAY</th>\n",
       "      <th>NAS_DELAY</th>\n",
       "      <th>SECURITY_DELAY</th>\n",
       "      <th>LATE_AIRCRAFT_DELAY</th>\n",
       "      <th>Unnamed: 54</th>\n",
       "    </tr>\n",
       "  </thead>\n",
       "  <tbody>\n",
       "    <tr>\n",
       "      <th>513210</th>\n",
       "      <td>2019</td>\n",
       "      <td>1</td>\n",
       "      <td>15</td>\n",
       "      <td>2</td>\n",
       "      <td>2019-01-15</td>\n",
       "      <td>PT</td>\n",
       "      <td>20427</td>\n",
       "      <td>PT</td>\n",
       "      <td>N601DW</td>\n",
       "      <td>4876</td>\n",
       "      <td>...</td>\n",
       "      <td>77.0</td>\n",
       "      <td>56.0</td>\n",
       "      <td>1.0</td>\n",
       "      <td>335.0</td>\n",
       "      <td>NaN</td>\n",
       "      <td>NaN</td>\n",
       "      <td>NaN</td>\n",
       "      <td>NaN</td>\n",
       "      <td>NaN</td>\n",
       "      <td>NaN</td>\n",
       "    </tr>\n",
       "    <tr>\n",
       "      <th>580623</th>\n",
       "      <td>2019</td>\n",
       "      <td>1</td>\n",
       "      <td>16</td>\n",
       "      <td>3</td>\n",
       "      <td>2019-01-16</td>\n",
       "      <td>DL</td>\n",
       "      <td>19790</td>\n",
       "      <td>DL</td>\n",
       "      <td>N938AT</td>\n",
       "      <td>539</td>\n",
       "      <td>...</td>\n",
       "      <td>55.0</td>\n",
       "      <td>38.0</td>\n",
       "      <td>1.0</td>\n",
       "      <td>192.0</td>\n",
       "      <td>NaN</td>\n",
       "      <td>NaN</td>\n",
       "      <td>NaN</td>\n",
       "      <td>NaN</td>\n",
       "      <td>NaN</td>\n",
       "      <td>NaN</td>\n",
       "    </tr>\n",
       "    <tr>\n",
       "      <th>615268</th>\n",
       "      <td>2019</td>\n",
       "      <td>1</td>\n",
       "      <td>12</td>\n",
       "      <td>6</td>\n",
       "      <td>2019-01-12</td>\n",
       "      <td>AS</td>\n",
       "      <td>19930</td>\n",
       "      <td>AS</td>\n",
       "      <td>N408AS</td>\n",
       "      <td>122</td>\n",
       "      <td>...</td>\n",
       "      <td>198.0</td>\n",
       "      <td>183.0</td>\n",
       "      <td>1.0</td>\n",
       "      <td>1448.0</td>\n",
       "      <td>NaN</td>\n",
       "      <td>NaN</td>\n",
       "      <td>NaN</td>\n",
       "      <td>NaN</td>\n",
       "      <td>NaN</td>\n",
       "      <td>NaN</td>\n",
       "    </tr>\n",
       "    <tr>\n",
       "      <th>189619</th>\n",
       "      <td>2019</td>\n",
       "      <td>1</td>\n",
       "      <td>26</td>\n",
       "      <td>6</td>\n",
       "      <td>2019-01-26</td>\n",
       "      <td>MQ</td>\n",
       "      <td>20398</td>\n",
       "      <td>MQ</td>\n",
       "      <td>N260NN</td>\n",
       "      <td>3786</td>\n",
       "      <td>...</td>\n",
       "      <td>97.0</td>\n",
       "      <td>77.0</td>\n",
       "      <td>1.0</td>\n",
       "      <td>552.0</td>\n",
       "      <td>NaN</td>\n",
       "      <td>NaN</td>\n",
       "      <td>NaN</td>\n",
       "      <td>NaN</td>\n",
       "      <td>NaN</td>\n",
       "      <td>NaN</td>\n",
       "    </tr>\n",
       "    <tr>\n",
       "      <th>637588</th>\n",
       "      <td>2019</td>\n",
       "      <td>1</td>\n",
       "      <td>21</td>\n",
       "      <td>1</td>\n",
       "      <td>2019-01-21</td>\n",
       "      <td>UA</td>\n",
       "      <td>19977</td>\n",
       "      <td>UA</td>\n",
       "      <td>N834UA</td>\n",
       "      <td>238</td>\n",
       "      <td>...</td>\n",
       "      <td>154.0</td>\n",
       "      <td>110.0</td>\n",
       "      <td>1.0</td>\n",
       "      <td>612.0</td>\n",
       "      <td>NaN</td>\n",
       "      <td>NaN</td>\n",
       "      <td>NaN</td>\n",
       "      <td>NaN</td>\n",
       "      <td>NaN</td>\n",
       "      <td>NaN</td>\n",
       "    </tr>\n",
       "  </tbody>\n",
       "</table>\n",
       "<p>5 rows × 55 columns</p>\n",
       "</div>"
      ],
      "text/plain": [
       "        YEAR  MONTH  DAY_OF_MONTH  DAY_OF_WEEK     FL_DATE OP_UNIQUE_CARRIER  \\\n",
       "513210  2019      1            15            2  2019-01-15                PT   \n",
       "580623  2019      1            16            3  2019-01-16                DL   \n",
       "615268  2019      1            12            6  2019-01-12                AS   \n",
       "189619  2019      1            26            6  2019-01-26                MQ   \n",
       "637588  2019      1            21            1  2019-01-21                UA   \n",
       "\n",
       "        OP_CARRIER_AIRLINE_ID OP_CARRIER TAIL_NUM  OP_CARRIER_FL_NUM  ...  \\\n",
       "513210                  20427         PT   N601DW               4876  ...   \n",
       "580623                  19790         DL   N938AT                539  ...   \n",
       "615268                  19930         AS   N408AS                122  ...   \n",
       "189619                  20398         MQ   N260NN               3786  ...   \n",
       "637588                  19977         UA   N834UA                238  ...   \n",
       "\n",
       "        ACTUAL_ELAPSED_TIME  AIR_TIME  FLIGHTS DISTANCE CARRIER_DELAY  \\\n",
       "513210                 77.0      56.0      1.0    335.0           NaN   \n",
       "580623                 55.0      38.0      1.0    192.0           NaN   \n",
       "615268                198.0     183.0      1.0   1448.0           NaN   \n",
       "189619                 97.0      77.0      1.0    552.0           NaN   \n",
       "637588                154.0     110.0      1.0    612.0           NaN   \n",
       "\n",
       "       WEATHER_DELAY  NAS_DELAY SECURITY_DELAY  LATE_AIRCRAFT_DELAY  \\\n",
       "513210           NaN        NaN            NaN                  NaN   \n",
       "580623           NaN        NaN            NaN                  NaN   \n",
       "615268           NaN        NaN            NaN                  NaN   \n",
       "189619           NaN        NaN            NaN                  NaN   \n",
       "637588           NaN        NaN            NaN                  NaN   \n",
       "\n",
       "        Unnamed: 54  \n",
       "513210          NaN  \n",
       "580623          NaN  \n",
       "615268          NaN  \n",
       "189619          NaN  \n",
       "637588          NaN  \n",
       "\n",
       "[5 rows x 55 columns]"
      ]
     },
     "metadata": {},
     "output_type": "display_data"
    },
    {
     "name": "stdout",
     "output_type": "stream",
     "text": [
      "=============================================================\n"
     ]
    }
   ],
   "source": [
    "info(flight_01)"
   ]
  },
  {
   "cell_type": "code",
   "execution_count": 40,
   "metadata": {},
   "outputs": [
    {
     "data": {
      "text/plain": [
       "0        NaN\n",
       "1        NaN\n",
       "2        NaN\n",
       "3        NaN\n",
       "4        NaN\n",
       "          ..\n",
       "638644   NaN\n",
       "638645   NaN\n",
       "638646   NaN\n",
       "638647   NaN\n",
       "638648   NaN\n",
       "Name: Unnamed: 54, Length: 638649, dtype: float64"
      ]
     },
     "execution_count": 40,
     "metadata": {},
     "output_type": "execute_result"
    }
   ],
   "source": [
    "# Delete \n",
    "\n",
    "flight_01['Unnamed: 54']\n",
    "\n",
    "# -----> Delete column \"Unnamed: 54\" because of NaN"
   ]
  },
  {
   "cell_type": "code",
   "execution_count": 81,
   "metadata": {
    "scrolled": true
   },
   "outputs": [
    {
     "data": {
      "text/plain": [
       "ORIGIN_CITY_NAME       ORIGIN_AIRPORT_ID  FLIGHTS\n",
       "Atlanta, GA            10397              1.0        31207\n",
       "Chicago, IL            13930              1.0        31064\n",
       "Dallas/Fort Worth, TX  11298              1.0        23132\n",
       "Denver, CO             11292              1.0        21540\n",
       "Charlotte, NC          11057              1.0        20769\n",
       "                                                     ...  \n",
       "Pago Pago, TT          14222              1.0           11\n",
       "Hagerstown, MD         12119              1.0           10\n",
       "Owensboro, KY          13983              1.0            9\n",
       "Adak Island, AK        10165              1.0            9\n",
       "Ogden, UT              13829              1.0            8\n",
       "Name: FLIGHTS, Length: 360, dtype: int64"
      ]
     },
     "execution_count": 81,
     "metadata": {},
     "output_type": "execute_result"
    }
   ],
   "source": [
    "# Number of flights for each airport\n",
    "\n",
    "flight_01.groupby(['ORIGIN_CITY_NAME', 'ORIGIN_AIRPORT_ID'])['FLIGHTS'].value_counts().sort_values(ascending=False)\n"
   ]
  },
  {
   "cell_type": "markdown",
   "metadata": {},
   "source": [
    "# Airport with the most delays"
   ]
  },
  {
   "cell_type": "code",
   "execution_count": null,
   "metadata": {},
   "outputs": [],
   "source": [
    "flight_01.groupby(['ORIGIN_AIRPORT_ID', 'ORIGIN_CITY_NAME' == 1])['ARR_DEL15'].value_counts().sort_values(ascending=False)"
   ]
  },
  {
   "cell_type": "code",
   "execution_count": null,
   "metadata": {},
   "outputs": [],
   "source": [
    "flight_01['ARR_DELAY'].plot(kind='bar');"
   ]
  },
  {
   "cell_type": "code",
   "execution_count": 7,
   "metadata": {},
   "outputs": [
    {
     "data": {
      "image/png": "[encoded data removed]",
      "text/plain": [
       "<Figure size 432x288 with 1 Axes>"
      ]
     },
     "metadata": {
      "needs_background": "light"
     },
     "output_type": "display_data"
    }
   ],
   "source": [
    "flight_01['OP_UNIQUE_CARRIER'].value_counts().plot(kind='bar');"
   ]
  },
  {
   "cell_type": "code",
   "execution_count": null,
   "metadata": {},
   "outputs": [],
   "source": []
  },
  {
   "cell_type": "code",
   "execution_count": null,
   "metadata": {},
   "outputs": [],
   "source": []
  },
  {
   "cell_type": "code",
   "execution_count": null,
   "metadata": {},
   "outputs": [],
   "source": []
  },
  {
   "cell_type": "code",
   "execution_count": 328,
   "metadata": {},
   "outputs": [
    {
     "data": {
      "text/html": [
       "<div>\n",
       "<style scoped>\n",
       "    .dataframe tbody tr th:only-of-type {\n",
       "        vertical-align: middle;\n",
       "    }\n",
       "\n",
       "    .dataframe tbody tr th {\n",
       "        vertical-align: top;\n",
       "    }\n",
       "\n",
       "    .dataframe thead th {\n",
       "        text-align: right;\n",
       "    }\n",
       "</style>\n",
       "<table border=\"1\" class=\"dataframe\">\n",
       "  <thead>\n",
       "    <tr style=\"text-align: right;\">\n",
       "      <th></th>\n",
       "      <th>OP_CARRIER_AIRLINE_ID</th>\n",
       "      <th>OP_CARRIER_FL_NUM</th>\n",
       "      <th>ORIGIN_AIRPORT_ID</th>\n",
       "      <th>ORIGIN_AIRPORT_SEQ_ID</th>\n",
       "      <th>ORIGIN_CITY_MARKET_ID</th>\n",
       "      <th>DEST_AIRPORT_ID</th>\n",
       "      <th>DEST_AIRPORT_SEQ_ID</th>\n",
       "      <th>DEST_CITY_MARKET_ID</th>\n",
       "      <th>DEP_DELAY_NEW</th>\n",
       "      <th>DEP_DEL15</th>\n",
       "      <th>ARR_DELAY_NEW</th>\n",
       "      <th>ARR_DEL15</th>\n",
       "      <th>CANCELLED</th>\n",
       "      <th>DIVERTED</th>\n",
       "      <th>AIR_TIME</th>\n",
       "      <th>DISTANCE</th>\n",
       "      <th>Unnamed: 24</th>\n",
       "    </tr>\n",
       "  </thead>\n",
       "  <tbody>\n",
       "    <tr>\n",
       "      <th>OP_CARRIER_AIRLINE_ID</th>\n",
       "      <td>1.000000</td>\n",
       "      <td>0.508276</td>\n",
       "      <td>-0.028004</td>\n",
       "      <td>-0.028004</td>\n",
       "      <td>0.050885</td>\n",
       "      <td>-0.028085</td>\n",
       "      <td>-0.028085</td>\n",
       "      <td>0.050859</td>\n",
       "      <td>0.068048</td>\n",
       "      <td>0.044547</td>\n",
       "      <td>0.081998</td>\n",
       "      <td>0.078657</td>\n",
       "      <td>0.028461</td>\n",
       "      <td>0.010866</td>\n",
       "      <td>-0.131140</td>\n",
       "      <td>-0.150288</td>\n",
       "      <td>NaN</td>\n",
       "    </tr>\n",
       "    <tr>\n",
       "      <th>OP_CARRIER_FL_NUM</th>\n",
       "      <td>0.508276</td>\n",
       "      <td>1.000000</td>\n",
       "      <td>-0.039486</td>\n",
       "      <td>-0.039486</td>\n",
       "      <td>0.020403</td>\n",
       "      <td>-0.043988</td>\n",
       "      <td>-0.043989</td>\n",
       "      <td>0.016139</td>\n",
       "      <td>0.040729</td>\n",
       "      <td>0.032481</td>\n",
       "      <td>0.047497</td>\n",
       "      <td>0.046525</td>\n",
       "      <td>0.051461</td>\n",
       "      <td>0.008095</td>\n",
       "      <td>-0.341305</td>\n",
       "      <td>-0.361455</td>\n",
       "      <td>NaN</td>\n",
       "    </tr>\n",
       "    <tr>\n",
       "      <th>ORIGIN_AIRPORT_ID</th>\n",
       "      <td>-0.028004</td>\n",
       "      <td>-0.039486</td>\n",
       "      <td>1.000000</td>\n",
       "      <td>1.000000</td>\n",
       "      <td>0.621047</td>\n",
       "      <td>0.023565</td>\n",
       "      <td>0.023565</td>\n",
       "      <td>-0.000287</td>\n",
       "      <td>0.004920</td>\n",
       "      <td>0.001916</td>\n",
       "      <td>0.007897</td>\n",
       "      <td>0.007352</td>\n",
       "      <td>0.014238</td>\n",
       "      <td>-0.000613</td>\n",
       "      <td>0.048718</td>\n",
       "      <td>0.072282</td>\n",
       "      <td>NaN</td>\n",
       "    </tr>\n",
       "    <tr>\n",
       "      <th>ORIGIN_AIRPORT_SEQ_ID</th>\n",
       "      <td>-0.028004</td>\n",
       "      <td>-0.039486</td>\n",
       "      <td>1.000000</td>\n",
       "      <td>1.000000</td>\n",
       "      <td>0.621047</td>\n",
       "      <td>0.023565</td>\n",
       "      <td>0.023566</td>\n",
       "      <td>-0.000286</td>\n",
       "      <td>0.004920</td>\n",
       "      <td>0.001916</td>\n",
       "      <td>0.007897</td>\n",
       "      <td>0.007352</td>\n",
       "      <td>0.014239</td>\n",
       "      <td>-0.000613</td>\n",
       "      <td>0.048718</td>\n",
       "      <td>0.072282</td>\n",
       "      <td>NaN</td>\n",
       "    </tr>\n",
       "    <tr>\n",
       "      <th>ORIGIN_CITY_MARKET_ID</th>\n",
       "      <td>0.050885</td>\n",
       "      <td>0.020403</td>\n",
       "      <td>0.621047</td>\n",
       "      <td>0.621047</td>\n",
       "      <td>1.000000</td>\n",
       "      <td>0.000078</td>\n",
       "      <td>0.000078</td>\n",
       "      <td>-0.053629</td>\n",
       "      <td>0.001891</td>\n",
       "      <td>-0.014019</td>\n",
       "      <td>0.003447</td>\n",
       "      <td>-0.009538</td>\n",
       "      <td>-0.013520</td>\n",
       "      <td>-0.002482</td>\n",
       "      <td>0.000036</td>\n",
       "      <td>0.004147</td>\n",
       "      <td>NaN</td>\n",
       "    </tr>\n",
       "    <tr>\n",
       "      <th>DEST_AIRPORT_ID</th>\n",
       "      <td>-0.028085</td>\n",
       "      <td>-0.043988</td>\n",
       "      <td>0.023565</td>\n",
       "      <td>0.023565</td>\n",
       "      <td>0.000078</td>\n",
       "      <td>1.000000</td>\n",
       "      <td>1.000000</td>\n",
       "      <td>0.620995</td>\n",
       "      <td>0.007206</td>\n",
       "      <td>0.009114</td>\n",
       "      <td>0.008693</td>\n",
       "      <td>0.013578</td>\n",
       "      <td>0.013460</td>\n",
       "      <td>0.005708</td>\n",
       "      <td>0.096172</td>\n",
       "      <td>0.072242</td>\n",
       "      <td>NaN</td>\n",
       "    </tr>\n",
       "    <tr>\n",
       "      <th>DEST_AIRPORT_SEQ_ID</th>\n",
       "      <td>-0.028085</td>\n",
       "      <td>-0.043989</td>\n",
       "      <td>0.023565</td>\n",
       "      <td>0.023566</td>\n",
       "      <td>0.000078</td>\n",
       "      <td>1.000000</td>\n",
       "      <td>1.000000</td>\n",
       "      <td>0.620994</td>\n",
       "      <td>0.007206</td>\n",
       "      <td>0.009114</td>\n",
       "      <td>0.008693</td>\n",
       "      <td>0.013578</td>\n",
       "      <td>0.013460</td>\n",
       "      <td>0.005708</td>\n",
       "      <td>0.096172</td>\n",
       "      <td>0.072242</td>\n",
       "      <td>NaN</td>\n",
       "    </tr>\n",
       "    <tr>\n",
       "      <th>DEST_CITY_MARKET_ID</th>\n",
       "      <td>0.050859</td>\n",
       "      <td>0.016139</td>\n",
       "      <td>-0.000287</td>\n",
       "      <td>-0.000286</td>\n",
       "      <td>-0.053629</td>\n",
       "      <td>0.620995</td>\n",
       "      <td>0.620994</td>\n",
       "      <td>1.000000</td>\n",
       "      <td>-0.003705</td>\n",
       "      <td>0.004883</td>\n",
       "      <td>-0.003920</td>\n",
       "      <td>0.005301</td>\n",
       "      <td>-0.017520</td>\n",
       "      <td>0.011415</td>\n",
       "      <td>0.006602</td>\n",
       "      <td>0.004026</td>\n",
       "      <td>NaN</td>\n",
       "    </tr>\n",
       "    <tr>\n",
       "      <th>DEP_DELAY_NEW</th>\n",
       "      <td>0.068048</td>\n",
       "      <td>0.040729</td>\n",
       "      <td>0.004920</td>\n",
       "      <td>0.004920</td>\n",
       "      <td>0.001891</td>\n",
       "      <td>0.007206</td>\n",
       "      <td>0.007206</td>\n",
       "      <td>-0.003705</td>\n",
       "      <td>1.000000</td>\n",
       "      <td>0.557235</td>\n",
       "      <td>0.978662</td>\n",
       "      <td>0.499690</td>\n",
       "      <td>0.029325</td>\n",
       "      <td>0.018381</td>\n",
       "      <td>0.001834</td>\n",
       "      <td>-0.000055</td>\n",
       "      <td>NaN</td>\n",
       "    </tr>\n",
       "    <tr>\n",
       "      <th>DEP_DEL15</th>\n",
       "      <td>0.044547</td>\n",
       "      <td>0.032481</td>\n",
       "      <td>0.001916</td>\n",
       "      <td>0.001916</td>\n",
       "      <td>-0.014019</td>\n",
       "      <td>0.009114</td>\n",
       "      <td>0.009114</td>\n",
       "      <td>0.004883</td>\n",
       "      <td>0.557235</td>\n",
       "      <td>1.000000</td>\n",
       "      <td>0.515360</td>\n",
       "      <td>0.723821</td>\n",
       "      <td>0.020968</td>\n",
       "      <td>0.020118</td>\n",
       "      <td>0.008720</td>\n",
       "      <td>0.008737</td>\n",
       "      <td>NaN</td>\n",
       "    </tr>\n",
       "    <tr>\n",
       "      <th>ARR_DELAY_NEW</th>\n",
       "      <td>0.081998</td>\n",
       "      <td>0.047497</td>\n",
       "      <td>0.007897</td>\n",
       "      <td>0.007897</td>\n",
       "      <td>0.003447</td>\n",
       "      <td>0.008693</td>\n",
       "      <td>0.008693</td>\n",
       "      <td>-0.003920</td>\n",
       "      <td>0.978662</td>\n",
       "      <td>0.515360</td>\n",
       "      <td>1.000000</td>\n",
       "      <td>0.547216</td>\n",
       "      <td>NaN</td>\n",
       "      <td>NaN</td>\n",
       "      <td>0.003661</td>\n",
       "      <td>-0.007917</td>\n",
       "      <td>NaN</td>\n",
       "    </tr>\n",
       "    <tr>\n",
       "      <th>ARR_DEL15</th>\n",
       "      <td>0.078657</td>\n",
       "      <td>0.046525</td>\n",
       "      <td>0.007352</td>\n",
       "      <td>0.007352</td>\n",
       "      <td>-0.009538</td>\n",
       "      <td>0.013578</td>\n",
       "      <td>0.013578</td>\n",
       "      <td>0.005301</td>\n",
       "      <td>0.499690</td>\n",
       "      <td>0.723821</td>\n",
       "      <td>0.547216</td>\n",
       "      <td>1.000000</td>\n",
       "      <td>NaN</td>\n",
       "      <td>NaN</td>\n",
       "      <td>0.020926</td>\n",
       "      <td>-0.001388</td>\n",
       "      <td>NaN</td>\n",
       "    </tr>\n",
       "    <tr>\n",
       "      <th>CANCELLED</th>\n",
       "      <td>0.028461</td>\n",
       "      <td>0.051461</td>\n",
       "      <td>0.014238</td>\n",
       "      <td>0.014239</td>\n",
       "      <td>-0.013520</td>\n",
       "      <td>0.013460</td>\n",
       "      <td>0.013460</td>\n",
       "      <td>-0.017520</td>\n",
       "      <td>0.029325</td>\n",
       "      <td>0.020968</td>\n",
       "      <td>NaN</td>\n",
       "      <td>NaN</td>\n",
       "      <td>1.000000</td>\n",
       "      <td>-0.008477</td>\n",
       "      <td>NaN</td>\n",
       "      <td>-0.052709</td>\n",
       "      <td>NaN</td>\n",
       "    </tr>\n",
       "    <tr>\n",
       "      <th>DIVERTED</th>\n",
       "      <td>0.010866</td>\n",
       "      <td>0.008095</td>\n",
       "      <td>-0.000613</td>\n",
       "      <td>-0.000613</td>\n",
       "      <td>-0.002482</td>\n",
       "      <td>0.005708</td>\n",
       "      <td>0.005708</td>\n",
       "      <td>0.011415</td>\n",
       "      <td>0.018381</td>\n",
       "      <td>0.020118</td>\n",
       "      <td>NaN</td>\n",
       "      <td>NaN</td>\n",
       "      <td>-0.008477</td>\n",
       "      <td>1.000000</td>\n",
       "      <td>NaN</td>\n",
       "      <td>0.011912</td>\n",
       "      <td>NaN</td>\n",
       "    </tr>\n",
       "    <tr>\n",
       "      <th>AIR_TIME</th>\n",
       "      <td>-0.131140</td>\n",
       "      <td>-0.341305</td>\n",
       "      <td>0.048718</td>\n",
       "      <td>0.048718</td>\n",
       "      <td>0.000036</td>\n",
       "      <td>0.096172</td>\n",
       "      <td>0.096172</td>\n",
       "      <td>0.006602</td>\n",
       "      <td>0.001834</td>\n",
       "      <td>0.008720</td>\n",
       "      <td>0.003661</td>\n",
       "      <td>0.020926</td>\n",
       "      <td>NaN</td>\n",
       "      <td>NaN</td>\n",
       "      <td>1.000000</td>\n",
       "      <td>0.978877</td>\n",
       "      <td>NaN</td>\n",
       "    </tr>\n",
       "    <tr>\n",
       "      <th>DISTANCE</th>\n",
       "      <td>-0.150288</td>\n",
       "      <td>-0.361455</td>\n",
       "      <td>0.072282</td>\n",
       "      <td>0.072282</td>\n",
       "      <td>0.004147</td>\n",
       "      <td>0.072242</td>\n",
       "      <td>0.072242</td>\n",
       "      <td>0.004026</td>\n",
       "      <td>-0.000055</td>\n",
       "      <td>0.008737</td>\n",
       "      <td>-0.007917</td>\n",
       "      <td>-0.001388</td>\n",
       "      <td>-0.052709</td>\n",
       "      <td>0.011912</td>\n",
       "      <td>0.978877</td>\n",
       "      <td>1.000000</td>\n",
       "      <td>NaN</td>\n",
       "    </tr>\n",
       "    <tr>\n",
       "      <th>Unnamed: 24</th>\n",
       "      <td>NaN</td>\n",
       "      <td>NaN</td>\n",
       "      <td>NaN</td>\n",
       "      <td>NaN</td>\n",
       "      <td>NaN</td>\n",
       "      <td>NaN</td>\n",
       "      <td>NaN</td>\n",
       "      <td>NaN</td>\n",
       "      <td>NaN</td>\n",
       "      <td>NaN</td>\n",
       "      <td>NaN</td>\n",
       "      <td>NaN</td>\n",
       "      <td>NaN</td>\n",
       "      <td>NaN</td>\n",
       "      <td>NaN</td>\n",
       "      <td>NaN</td>\n",
       "      <td>NaN</td>\n",
       "    </tr>\n",
       "  </tbody>\n",
       "</table>\n",
       "</div>"
      ],
      "text/plain": [
       "                       OP_CARRIER_AIRLINE_ID  OP_CARRIER_FL_NUM  \\\n",
       "OP_CARRIER_AIRLINE_ID               1.000000           0.508276   \n",
       "OP_CARRIER_FL_NUM                   0.508276           1.000000   \n",
       "ORIGIN_AIRPORT_ID                  -0.028004          -0.039486   \n",
       "ORIGIN_AIRPORT_SEQ_ID              -0.028004          -0.039486   \n",
       "ORIGIN_CITY_MARKET_ID               0.050885           0.020403   \n",
       "DEST_AIRPORT_ID                    -0.028085          -0.043988   \n",
       "DEST_AIRPORT_SEQ_ID                -0.028085          -0.043989   \n",
       "DEST_CITY_MARKET_ID                 0.050859           0.016139   \n",
       "DEP_DELAY_NEW                       0.068048           0.040729   \n",
       "DEP_DEL15                           0.044547           0.032481   \n",
       "ARR_DELAY_NEW                       0.081998           0.047497   \n",
       "ARR_DEL15                           0.078657           0.046525   \n",
       "CANCELLED                           0.028461           0.051461   \n",
       "DIVERTED                            0.010866           0.008095   \n",
       "AIR_TIME                           -0.131140          -0.341305   \n",
       "DISTANCE                           -0.150288          -0.361455   \n",
       "Unnamed: 24                              NaN                NaN   \n",
       "\n",
       "                       ORIGIN_AIRPORT_ID  ORIGIN_AIRPORT_SEQ_ID  \\\n",
       "OP_CARRIER_AIRLINE_ID          -0.028004              -0.028004   \n",
       "OP_CARRIER_FL_NUM              -0.039486              -0.039486   \n",
       "ORIGIN_AIRPORT_ID               1.000000               1.000000   \n",
       "ORIGIN_AIRPORT_SEQ_ID           1.000000               1.000000   \n",
       "ORIGIN_CITY_MARKET_ID           0.621047               0.621047   \n",
       "DEST_AIRPORT_ID                 0.023565               0.023565   \n",
       "DEST_AIRPORT_SEQ_ID             0.023565               0.023566   \n",
       "DEST_CITY_MARKET_ID            -0.000287              -0.000286   \n",
       "DEP_DELAY_NEW                   0.004920               0.004920   \n",
       "DEP_DEL15                       0.001916               0.001916   \n",
       "ARR_DELAY_NEW                   0.007897               0.007897   \n",
       "ARR_DEL15                       0.007352               0.007352   \n",
       "CANCELLED                       0.014238               0.014239   \n",
       "DIVERTED                       -0.000613              -0.000613   \n",
       "AIR_TIME                        0.048718               0.048718   \n",
       "DISTANCE                        0.072282               0.072282   \n",
       "Unnamed: 24                          NaN                    NaN   \n",
       "\n",
       "                       ORIGIN_CITY_MARKET_ID  DEST_AIRPORT_ID  \\\n",
       "OP_CARRIER_AIRLINE_ID               0.050885        -0.028085   \n",
       "OP_CARRIER_FL_NUM                   0.020403        -0.043988   \n",
       "ORIGIN_AIRPORT_ID                   0.621047         0.023565   \n",
       "ORIGIN_AIRPORT_SEQ_ID               0.621047         0.023565   \n",
       "ORIGIN_CITY_MARKET_ID               1.000000         0.000078   \n",
       "DEST_AIRPORT_ID                     0.000078         1.000000   \n",
       "DEST_AIRPORT_SEQ_ID                 0.000078         1.000000   \n",
       "DEST_CITY_MARKET_ID                -0.053629         0.620995   \n",
       "DEP_DELAY_NEW                       0.001891         0.007206   \n",
       "DEP_DEL15                          -0.014019         0.009114   \n",
       "ARR_DELAY_NEW                       0.003447         0.008693   \n",
       "ARR_DEL15                          -0.009538         0.013578   \n",
       "CANCELLED                          -0.013520         0.013460   \n",
       "DIVERTED                           -0.002482         0.005708   \n",
       "AIR_TIME                            0.000036         0.096172   \n",
       "DISTANCE                            0.004147         0.072242   \n",
       "Unnamed: 24                              NaN              NaN   \n",
       "\n",
       "                       DEST_AIRPORT_SEQ_ID  DEST_CITY_MARKET_ID  \\\n",
       "OP_CARRIER_AIRLINE_ID            -0.028085             0.050859   \n",
       "OP_CARRIER_FL_NUM                -0.043989             0.016139   \n",
       "ORIGIN_AIRPORT_ID                 0.023565            -0.000287   \n",
       "ORIGIN_AIRPORT_SEQ_ID             0.023566            -0.000286   \n",
       "ORIGIN_CITY_MARKET_ID             0.000078            -0.053629   \n",
       "DEST_AIRPORT_ID                   1.000000             0.620995   \n",
       "DEST_AIRPORT_SEQ_ID               1.000000             0.620994   \n",
       "DEST_CITY_MARKET_ID               0.620994             1.000000   \n",
       "DEP_DELAY_NEW                     0.007206            -0.003705   \n",
       "DEP_DEL15                         0.009114             0.004883   \n",
       "ARR_DELAY_NEW                     0.008693            -0.003920   \n",
       "ARR_DEL15                         0.013578             0.005301   \n",
       "CANCELLED                         0.013460            -0.017520   \n",
       "DIVERTED                          0.005708             0.011415   \n",
       "AIR_TIME                          0.096172             0.006602   \n",
       "DISTANCE                          0.072242             0.004026   \n",
       "Unnamed: 24                            NaN                  NaN   \n",
       "\n",
       "                       DEP_DELAY_NEW  DEP_DEL15  ARR_DELAY_NEW  ARR_DEL15  \\\n",
       "OP_CARRIER_AIRLINE_ID       0.068048   0.044547       0.081998   0.078657   \n",
       "OP_CARRIER_FL_NUM           0.040729   0.032481       0.047497   0.046525   \n",
       "ORIGIN_AIRPORT_ID           0.004920   0.001916       0.007897   0.007352   \n",
       "ORIGIN_AIRPORT_SEQ_ID       0.004920   0.001916       0.007897   0.007352   \n",
       "ORIGIN_CITY_MARKET_ID       0.001891  -0.014019       0.003447  -0.009538   \n",
       "DEST_AIRPORT_ID             0.007206   0.009114       0.008693   0.013578   \n",
       "DEST_AIRPORT_SEQ_ID         0.007206   0.009114       0.008693   0.013578   \n",
       "DEST_CITY_MARKET_ID        -0.003705   0.004883      -0.003920   0.005301   \n",
       "DEP_DELAY_NEW               1.000000   0.557235       0.978662   0.499690   \n",
       "DEP_DEL15                   0.557235   1.000000       0.515360   0.723821   \n",
       "ARR_DELAY_NEW               0.978662   0.515360       1.000000   0.547216   \n",
       "ARR_DEL15                   0.499690   0.723821       0.547216   1.000000   \n",
       "CANCELLED                   0.029325   0.020968            NaN        NaN   \n",
       "DIVERTED                    0.018381   0.020118            NaN        NaN   \n",
       "AIR_TIME                    0.001834   0.008720       0.003661   0.020926   \n",
       "DISTANCE                   -0.000055   0.008737      -0.007917  -0.001388   \n",
       "Unnamed: 24                      NaN        NaN            NaN        NaN   \n",
       "\n",
       "                       CANCELLED  DIVERTED  AIR_TIME  DISTANCE  Unnamed: 24  \n",
       "OP_CARRIER_AIRLINE_ID   0.028461  0.010866 -0.131140 -0.150288          NaN  \n",
       "OP_CARRIER_FL_NUM       0.051461  0.008095 -0.341305 -0.361455          NaN  \n",
       "ORIGIN_AIRPORT_ID       0.014238 -0.000613  0.048718  0.072282          NaN  \n",
       "ORIGIN_AIRPORT_SEQ_ID   0.014239 -0.000613  0.048718  0.072282          NaN  \n",
       "ORIGIN_CITY_MARKET_ID  -0.013520 -0.002482  0.000036  0.004147          NaN  \n",
       "DEST_AIRPORT_ID         0.013460  0.005708  0.096172  0.072242          NaN  \n",
       "DEST_AIRPORT_SEQ_ID     0.013460  0.005708  0.096172  0.072242          NaN  \n",
       "DEST_CITY_MARKET_ID    -0.017520  0.011415  0.006602  0.004026          NaN  \n",
       "DEP_DELAY_NEW           0.029325  0.018381  0.001834 -0.000055          NaN  \n",
       "DEP_DEL15               0.020968  0.020118  0.008720  0.008737          NaN  \n",
       "ARR_DELAY_NEW                NaN       NaN  0.003661 -0.007917          NaN  \n",
       "ARR_DEL15                    NaN       NaN  0.020926 -0.001388          NaN  \n",
       "CANCELLED               1.000000 -0.008477       NaN -0.052709          NaN  \n",
       "DIVERTED               -0.008477  1.000000       NaN  0.011912          NaN  \n",
       "AIR_TIME                     NaN       NaN  1.000000  0.978877          NaN  \n",
       "DISTANCE               -0.052709  0.011912  0.978877  1.000000          NaN  \n",
       "Unnamed: 24                  NaN       NaN       NaN       NaN          NaN  "
      ]
     },
     "execution_count": 328,
     "metadata": {},
     "output_type": "execute_result"
    }
   ],
   "source": [
    "flight_01.corr()"
   ]
  },
  {
   "cell_type": "code",
   "execution_count": 332,
   "metadata": {},
   "outputs": [
    {
     "data": {
      "text/html": [
       "<div>\n",
       "<style scoped>\n",
       "    .dataframe tbody tr th:only-of-type {\n",
       "        vertical-align: middle;\n",
       "    }\n",
       "\n",
       "    .dataframe tbody tr th {\n",
       "        vertical-align: top;\n",
       "    }\n",
       "\n",
       "    .dataframe thead th {\n",
       "        text-align: right;\n",
       "    }\n",
       "</style>\n",
       "<table border=\"1\" class=\"dataframe\">\n",
       "  <thead>\n",
       "    <tr style=\"text-align: right;\">\n",
       "      <th></th>\n",
       "      <th>DEP_DELAY_NEW</th>\n",
       "      <th>ARR_DELAY_NEW</th>\n",
       "    </tr>\n",
       "  </thead>\n",
       "  <tbody>\n",
       "    <tr>\n",
       "      <th>count</th>\n",
       "      <td>619547.000000</td>\n",
       "      <td>617649.000000</td>\n",
       "    </tr>\n",
       "    <tr>\n",
       "      <th>mean</th>\n",
       "      <td>13.568346</td>\n",
       "      <td>14.056019</td>\n",
       "    </tr>\n",
       "    <tr>\n",
       "      <th>std</th>\n",
       "      <td>48.416401</td>\n",
       "      <td>48.432797</td>\n",
       "    </tr>\n",
       "    <tr>\n",
       "      <th>min</th>\n",
       "      <td>0.000000</td>\n",
       "      <td>0.000000</td>\n",
       "    </tr>\n",
       "    <tr>\n",
       "      <th>25%</th>\n",
       "      <td>0.000000</td>\n",
       "      <td>0.000000</td>\n",
       "    </tr>\n",
       "    <tr>\n",
       "      <th>50%</th>\n",
       "      <td>0.000000</td>\n",
       "      <td>0.000000</td>\n",
       "    </tr>\n",
       "    <tr>\n",
       "      <th>75%</th>\n",
       "      <td>5.000000</td>\n",
       "      <td>7.000000</td>\n",
       "    </tr>\n",
       "    <tr>\n",
       "      <th>max</th>\n",
       "      <td>1690.000000</td>\n",
       "      <td>1707.000000</td>\n",
       "    </tr>\n",
       "  </tbody>\n",
       "</table>\n",
       "</div>"
      ],
      "text/plain": [
       "       DEP_DELAY_NEW  ARR_DELAY_NEW\n",
       "count  619547.000000  617649.000000\n",
       "mean       13.568346      14.056019\n",
       "std        48.416401      48.432797\n",
       "min         0.000000       0.000000\n",
       "25%         0.000000       0.000000\n",
       "50%         0.000000       0.000000\n",
       "75%         5.000000       7.000000\n",
       "max      1690.000000    1707.000000"
      ]
     },
     "execution_count": 332,
     "metadata": {},
     "output_type": "execute_result"
    }
   ],
   "source": [
    "flight_01[['DEP_DELAY_NEW', 'ARR_DELAY_NEW']].describe()"
   ]
  },
  {
   "cell_type": "code",
   "execution_count": 317,
   "metadata": {},
   "outputs": [
    {
     "data": {
      "text/plain": [
       "<AxesSubplot:>"
      ]
     },
     "execution_count": 317,
     "metadata": {},
     "output_type": "execute_result"
    },
    {
     "data": {
      "image/png": "[encoded data removed]",
      "text/plain": [
       "<Figure size 432x288 with 1 Axes>"
      ]
     },
     "metadata": {
      "needs_background": "light"
     },
     "output_type": "display_data"
    }
   ],
   "source": [
    "df_raw['ARR_DELAY_NEW'].hist(bins=50)"
   ]
  },
  {
   "cell_type": "code",
   "execution_count": 229,
   "metadata": {},
   "outputs": [
    {
     "data": {
      "text/plain": [
       "0         0722\n",
       "1         1633\n",
       "2         1329\n",
       "3         1625\n",
       "4         1940\n",
       "          ... \n",
       "583976    1028\n",
       "583977    1335\n",
       "583978    1457\n",
       "583979    1849\n",
       "583980    1832\n",
       "Name: ARR_TIME, Length: 566920, dtype: object"
      ]
     },
     "execution_count": 229,
     "metadata": {},
     "output_type": "execute_result"
    }
   ],
   "source": [
    "flight_01['ARR_TIME'].dropna().str.strip()[:-4]"
   ]
  },
  {
   "cell_type": "code",
   "execution_count": 230,
   "metadata": {},
   "outputs": [
    {
     "data": {
      "text/plain": [
       "1440"
      ]
     },
     "execution_count": 230,
     "metadata": {},
     "output_type": "execute_result"
    }
   ],
   "source": [
    "24 * 60"
   ]
  },
  {
   "cell_type": "code",
   "execution_count": 173,
   "metadata": {
    "collapsed": true,
    "jupyter": {
     "outputs_hidden": true
    }
   },
   "outputs": [
    {
     "name": "stdout",
     "output_type": "stream",
     "text": [
      "5731\n",
      "6638\n",
      "10723\n",
      "15190\n",
      "17444\n",
      "19770\n",
      "20344\n",
      "20583\n",
      "21294\n",
      "21746\n",
      "27010\n",
      "27404\n",
      "27499\n",
      "28007\n",
      "28437\n",
      "31044\n",
      "31090\n",
      "33642\n",
      "33753\n",
      "36441\n",
      "40729\n",
      "43820\n",
      "45217\n",
      "46292\n",
      "46392\n",
      "51883\n",
      "52097\n",
      "56078\n",
      "59606\n",
      "64492\n",
      "65902\n",
      "67166\n",
      "70125\n",
      "70974\n",
      "72359\n",
      "74934\n",
      "75372\n",
      "75431\n",
      "79446\n",
      "79708\n",
      "81644\n",
      "82648\n",
      "83509\n",
      "85260\n",
      "86366\n",
      "94182\n",
      "94534\n",
      "94743\n",
      "96457\n",
      "96773\n",
      "104310\n",
      "105738\n",
      "107891\n",
      "111496\n",
      "114649\n",
      "115133\n",
      "115331\n",
      "117887\n",
      "119718\n",
      "120322\n",
      "122549\n",
      "124863\n",
      "125462\n",
      "126674\n",
      "126900\n",
      "130521\n",
      "133531\n",
      "134282\n",
      "134390\n",
      "135165\n",
      "135278\n",
      "135880\n",
      "138969\n",
      "148315\n",
      "149031\n",
      "150989\n",
      "151313\n",
      "153327\n",
      "154610\n",
      "157333\n",
      "158482\n",
      "159690\n",
      "161816\n",
      "163016\n",
      "167901\n",
      "168331\n",
      "178058\n",
      "186929\n",
      "196072\n",
      "196108\n",
      "199937\n",
      "202369\n",
      "203958\n",
      "203968\n",
      "205940\n",
      "205973\n",
      "209908\n",
      "213515\n",
      "224915\n",
      "225546\n",
      "228821\n",
      "228994\n",
      "229136\n",
      "230637\n",
      "232514\n",
      "233088\n",
      "240326\n",
      "244395\n",
      "248798\n",
      "248981\n",
      "251610\n",
      "254117\n",
      "257620\n",
      "259176\n",
      "261389\n",
      "268774\n",
      "270561\n",
      "271760\n",
      "272919\n",
      "273071\n",
      "273406\n",
      "277534\n",
      "280097\n",
      "281245\n",
      "282768\n",
      "283961\n",
      "285776\n",
      "289205\n",
      "290016\n",
      "291024\n",
      "292442\n",
      "292612\n",
      "301447\n",
      "303854\n",
      "305743\n",
      "314751\n",
      "323533\n",
      "323729\n",
      "326421\n",
      "328398\n",
      "336574\n",
      "336862\n",
      "337560\n",
      "338062\n",
      "338675\n",
      "346575\n",
      "346606\n",
      "347144\n",
      "349054\n",
      "352313\n",
      "353248\n",
      "360511\n",
      "361867\n",
      "362150\n",
      "366031\n",
      "379416\n",
      "382620\n",
      "383448\n",
      "388171\n",
      "389493\n",
      "391524\n",
      "393165\n",
      "393511\n",
      "395268\n",
      "396434\n",
      "397564\n",
      "397778\n",
      "398614\n",
      "401072\n",
      "401168\n",
      "410528\n",
      "410653\n",
      "411408\n",
      "411876\n",
      "412496\n",
      "414457\n",
      "418462\n",
      "418893\n",
      "419273\n",
      "420622\n",
      "421381\n",
      "423139\n",
      "423871\n",
      "425597\n",
      "429296\n",
      "429597\n",
      "434759\n",
      "436925\n",
      "439271\n",
      "441061\n",
      "441804\n",
      "442062\n",
      "444106\n",
      "444428\n",
      "447920\n",
      "455326\n",
      "462717\n",
      "466429\n",
      "467260\n",
      "468471\n",
      "471188\n",
      "471949\n",
      "472352\n",
      "475717\n",
      "477971\n",
      "481255\n",
      "481430\n",
      "481672\n",
      "490690\n",
      "492160\n",
      "493822\n",
      "495535\n",
      "495552\n",
      "495856\n",
      "497569\n",
      "501753\n",
      "502541\n",
      "504384\n",
      "505077\n",
      "505125\n",
      "506322\n",
      "508114\n",
      "508913\n",
      "509996\n",
      "513862\n",
      "519960\n",
      "520522\n",
      "520535\n",
      "521078\n",
      "521680\n",
      "521841\n",
      "522544\n",
      "529505\n",
      "540318\n",
      "544625\n",
      "546650\n",
      "547117\n",
      "550254\n",
      "552231\n",
      "554258\n",
      "556519\n",
      "556742\n",
      "562406\n",
      "562459\n",
      "567086\n",
      "567543\n",
      "567658\n",
      "571165\n",
      "577634\n",
      "578092\n",
      "580728\n",
      "581983\n"
     ]
    }
   ],
   "source": [
    "from datetime import datetime\n",
    "\n",
    "i = 0\n",
    "for index, value in df_raw['ARR_TIME'].dropna().iteritems():\n",
    "    try: \n",
    "        myTime = datetime.strptime(value, \"%H%M\")\n",
    "    except:\n",
    "        print(index)"
   ]
  },
  {
   "cell_type": "code",
   "execution_count": 16,
   "metadata": {
    "scrolled": true
   },
   "outputs": [
    {
     "data": {
      "text/plain": [
       "1    79401\n",
       "2    92796\n",
       "3    96920\n",
       "4    99387\n",
       "5    79698\n",
       "6    62324\n",
       "7    73459\n",
       "Name: DAY_OF_WEEK, dtype: int64"
      ]
     },
     "execution_count": 16,
     "metadata": {},
     "output_type": "execute_result"
    }
   ],
   "source": [
    "flight_01['DAY_OF_WEEK'].value_counts().sort_index()"
   ]
  },
  {
   "cell_type": "code",
   "execution_count": 20,
   "metadata": {},
   "outputs": [
    {
     "data": {
      "text/plain": [
       "(17,\n",
       " array(['9E', 'AA', 'MQ', 'G4', 'OH', 'B6', 'YV', 'EV', 'F9', 'YX', 'HA',\n",
       "        'NK', 'OO', 'WN', 'AS', 'UA', 'DL'], dtype=object))"
      ]
     },
     "execution_count": 20,
     "metadata": {},
     "output_type": "execute_result"
    }
   ],
   "source": [
    "flight_01['OP_UNIQUE_CARRIER'].nunique(), flight_01['OP_UNIQUE_CARRIER'].unique()"
   ]
  },
  {
   "cell_type": "code",
   "execution_count": 22,
   "metadata": {},
   "outputs": [
    {
     "data": {
      "text/plain": [
       "(17,\n",
       " array(['9E', 'AA', 'MQ', 'G4', 'OH', 'B6', 'YV', 'EV', 'F9', 'YX', 'HA',\n",
       "        'NK', 'OO', 'WN', 'AS', 'UA', 'DL'], dtype=object))"
      ]
     },
     "execution_count": 22,
     "metadata": {},
     "output_type": "execute_result"
    }
   ],
   "source": [
    "flight_01['OP_CARRIER'].nunique(), flight_01['OP_CARRIER'].unique()"
   ]
  },
  {
   "cell_type": "code",
   "execution_count": 25,
   "metadata": {},
   "outputs": [
    {
     "data": {
      "text/plain": [
       "(583985, 583985)"
      ]
     },
     "execution_count": 25,
     "metadata": {},
     "output_type": "execute_result"
    }
   ],
   "source": [
    "(flight_01['OP_UNIQUE_CARRIER'] == flight_01['OP_CARRIER']).sum(), df_raw.shape[0]"
   ]
  },
  {
   "cell_type": "code",
   "execution_count": 26,
   "metadata": {},
   "outputs": [
    {
     "data": {
      "text/plain": [
       "(17,\n",
       " array([20363, 19805, 20398, 20368, 20397, 20409, 20378, 20366, 20436,\n",
       "        20452, 19690, 20416, 20304, 19393, 19930, 19977, 19790]))"
      ]
     },
     "execution_count": 26,
     "metadata": {},
     "output_type": "execute_result"
    }
   ],
   "source": [
    "flight_01['OP_CARRIER_AIRLINE_ID'].nunique(), flight_01['OP_CARRIER_AIRLINE_ID'].unique()"
   ]
  },
  {
   "cell_type": "markdown",
   "metadata": {},
   "source": [
    "`OP_UNIQUE_CARRIER` and `OP_CARRIER` are identical. Will only use one from now on."
   ]
  },
  {
   "cell_type": "code",
   "execution_count": null,
   "metadata": {},
   "outputs": [],
   "source": [
    "# What is the difference between TAIL_NUM & OP_CARRIER_FL_NUM"
   ]
  },
  {
   "cell_type": "code",
   "execution_count": 27,
   "metadata": {},
   "outputs": [
    {
     "data": {
      "text/plain": [
       "5446"
      ]
     },
     "execution_count": 27,
     "metadata": {},
     "output_type": "execute_result"
    }
   ],
   "source": [
    "flight_01['TAIL_NUM'].nunique()"
   ]
  },
  {
   "cell_type": "code",
   "execution_count": 28,
   "metadata": {},
   "outputs": [
    {
     "data": {
      "text/plain": [
       "6839"
      ]
     },
     "execution_count": 28,
     "metadata": {},
     "output_type": "execute_result"
    }
   ],
   "source": [
    "flight_01['OP_CARRIER_FL_NUM'].nunique()"
   ]
  },
  {
   "cell_type": "code",
   "execution_count": 33,
   "metadata": {},
   "outputs": [
    {
     "data": {
      "text/plain": [
       "(346, array([11953, 13487, 11433, 15249, 10397]))"
      ]
     },
     "execution_count": 33,
     "metadata": {},
     "output_type": "execute_result"
    }
   ],
   "source": [
    "flight_01['ORIGIN_AIRPORT_ID'].nunique(), df_raw['ORIGIN_AIRPORT_ID'].unique()[:5]"
   ]
  },
  {
   "cell_type": "code",
   "execution_count": 32,
   "metadata": {},
   "outputs": [
    {
     "data": {
      "text/plain": [
       "(346, array(['GNV', 'MSP', 'DTW', 'TLH', 'ATL'], dtype=object))"
      ]
     },
     "execution_count": 32,
     "metadata": {},
     "output_type": "execute_result"
    }
   ],
   "source": [
    "flight_01['ORIGIN'].nunique(), flight_01['ORIGIN'].unique()[:5]"
   ]
  },
  {
   "cell_type": "code",
   "execution_count": 36,
   "metadata": {},
   "outputs": [
    {
     "data": {
      "text/plain": [
       "(346, array([1195302, 1348702, 1143302, 1524906, 1039707]))"
      ]
     },
     "execution_count": 36,
     "metadata": {},
     "output_type": "execute_result"
    }
   ],
   "source": [
    "flight_01['ORIGIN_AIRPORT_SEQ_ID'].nunique(), flight_01['ORIGIN_AIRPORT_SEQ_ID'].unique()[:5]"
   ]
  },
  {
   "cell_type": "code",
   "execution_count": 39,
   "metadata": {},
   "outputs": [],
   "source": [
    "# Check the realtionship between `ORIGIN_AIRPORT_SEQ_ID` and `ORIGIN_AIRPORT_ID` (are IDs just another version). Check the same for destinations."
   ]
  },
  {
   "cell_type": "code",
   "execution_count": 38,
   "metadata": {},
   "outputs": [
    {
     "data": {
      "text/plain": [
       "(346, array([10397, 11193, 11778, 13487, 12953]))"
      ]
     },
     "execution_count": 38,
     "metadata": {},
     "output_type": "execute_result"
    }
   ],
   "source": [
    "df_raw['DEST_AIRPORT_ID'].nunique(), df_raw['DEST_AIRPORT_ID'].unique()[:5]"
   ]
  },
  {
   "cell_type": "code",
   "execution_count": 40,
   "metadata": {},
   "outputs": [
    {
     "data": {
      "text/plain": [
       "(346, array([1039707, 1119302, 1177801, 1348702, 1295304]))"
      ]
     },
     "execution_count": 40,
     "metadata": {},
     "output_type": "execute_result"
    }
   ],
   "source": [
    "df_raw['DEST_AIRPORT_SEQ_ID'].nunique(), df_raw['DEST_AIRPORT_SEQ_ID'].unique()[:5]"
   ]
  },
  {
   "cell_type": "code",
   "execution_count": 42,
   "metadata": {},
   "outputs": [
    {
     "data": {
      "text/plain": [
       "count    567633.000000\n",
       "mean       1331.957814\n",
       "std         495.404020\n",
       "min           1.000000\n",
       "25%         921.000000\n",
       "50%        1328.000000\n",
       "75%        1738.000000\n",
       "max        2400.000000\n",
       "Name: DEP_TIME, dtype: float64"
      ]
     },
     "execution_count": 42,
     "metadata": {},
     "output_type": "execute_result"
    }
   ],
   "source": [
    "df_raw['DEP_TIME'].describe()"
   ]
  },
  {
   "cell_type": "code",
   "execution_count": 44,
   "metadata": {},
   "outputs": [
    {
     "data": {
      "text/plain": [
       "count    567630.000000\n",
       "mean          0.174281\n",
       "std           0.379351\n",
       "min           0.000000\n",
       "25%           0.000000\n",
       "50%           0.000000\n",
       "75%           0.000000\n",
       "max           1.000000\n",
       "Name: DEP_DEL15, dtype: float64"
      ]
     },
     "execution_count": 44,
     "metadata": {},
     "output_type": "execute_result"
    }
   ],
   "source": [
    "df_raw['DEP_DEL15'].describe()"
   ]
  },
  {
   "cell_type": "code",
   "execution_count": 48,
   "metadata": {},
   "outputs": [
    {
     "data": {
      "text/plain": [
       "0001-0559    15877\n",
       "0600-0659    41971\n",
       "0700-0759    38450\n",
       "0800-0859    39031\n",
       "0900-0959    34384\n",
       "1000-1059    35768\n",
       "1100-1159    36774\n",
       "1200-1259    36918\n",
       "1300-1359    33413\n",
       "1400-1459    35925\n",
       "1500-1559    35988\n",
       "1600-1659    35250\n",
       "1700-1759    37254\n",
       "1800-1859    34670\n",
       "1900-1959    31823\n",
       "2000-2059    26057\n",
       "2100-2159    17844\n",
       "2200-2259    13019\n",
       "2300-2359     3569\n",
       "Name: DEP_TIME_BLK, dtype: int64"
      ]
     },
     "execution_count": 48,
     "metadata": {},
     "output_type": "execute_result"
    }
   ],
   "source": [
    "df_raw['DEP_TIME_BLK'].value_counts().sort_index()"
   ]
  },
  {
   "cell_type": "code",
   "execution_count": 49,
   "metadata": {},
   "outputs": [
    {
     "data": {
      "text/plain": [
       "count    566924.000000\n",
       "mean       1484.315921\n",
       "std         523.162855\n",
       "min           1.000000\n",
       "25%        1104.000000\n",
       "50%        1517.000000\n",
       "75%        1919.000000\n",
       "max        2400.000000\n",
       "Name: ARR_TIME, dtype: float64"
      ]
     },
     "execution_count": 49,
     "metadata": {},
     "output_type": "execute_result"
    }
   ],
   "source": [
    "df_raw['ARR_TIME'].describe()"
   ]
  },
  {
   "cell_type": "code",
   "execution_count": 50,
   "metadata": {},
   "outputs": [
    {
     "data": {
      "text/plain": [
       "count    565963.000000\n",
       "mean          0.185917\n",
       "std           0.389040\n",
       "min           0.000000\n",
       "25%           0.000000\n",
       "50%           0.000000\n",
       "75%           0.000000\n",
       "max           1.000000\n",
       "Name: ARR_DEL15, dtype: float64"
      ]
     },
     "execution_count": 50,
     "metadata": {},
     "output_type": "execute_result"
    }
   ],
   "source": [
    "df_raw['ARR_DEL15'].describe()"
   ]
  },
  {
   "cell_type": "code",
   "execution_count": 51,
   "metadata": {},
   "outputs": [
    {
     "data": {
      "text/plain": [
       "count    583985.000000\n",
       "mean          0.028641\n",
       "std           0.166796\n",
       "min           0.000000\n",
       "25%           0.000000\n",
       "50%           0.000000\n",
       "75%           0.000000\n",
       "max           1.000000\n",
       "Name: CANCELLED, dtype: float64"
      ]
     },
     "execution_count": 51,
     "metadata": {},
     "output_type": "execute_result"
    }
   ],
   "source": [
    "df_raw['CANCELLED'].describe()"
   ]
  },
  {
   "cell_type": "code",
   "execution_count": 52,
   "metadata": {},
   "outputs": [
    {
     "data": {
      "text/plain": [
       "count    583985.000000\n",
       "mean          0.002219\n",
       "std           0.047056\n",
       "min           0.000000\n",
       "25%           0.000000\n",
       "50%           0.000000\n",
       "75%           0.000000\n",
       "max           1.000000\n",
       "Name: DIVERTED, dtype: float64"
      ]
     },
     "execution_count": 52,
     "metadata": {},
     "output_type": "execute_result"
    }
   ],
   "source": [
    "df_raw['DIVERTED'].describe()"
   ]
  },
  {
   "cell_type": "code",
   "execution_count": 53,
   "metadata": {},
   "outputs": [
    {
     "data": {
      "text/plain": [
       "count    583985.000000\n",
       "mean        797.742767\n",
       "std         589.999261\n",
       "min          31.000000\n",
       "25%         363.000000\n",
       "50%         640.000000\n",
       "75%        1037.000000\n",
       "max        4983.000000\n",
       "Name: DISTANCE, dtype: float64"
      ]
     },
     "execution_count": 53,
     "metadata": {},
     "output_type": "execute_result"
    }
   ],
   "source": [
    "df_raw['DISTANCE'].describe()"
   ]
  },
  {
   "cell_type": "code",
   "execution_count": 71,
   "metadata": {},
   "outputs": [
    {
     "data": {
      "image/png": "[encoded data removed]",
      "text/plain": [
       "<Figure size 432x288 with 1 Axes>"
      ]
     },
     "metadata": {
      "needs_background": "light"
     },
     "output_type": "display_data"
    }
   ],
   "source": [
    "flight_01['ORIGIN_AIRPORT_ID'].hist(bins=31);"
   ]
  },
  {
   "cell_type": "code",
   "execution_count": 60,
   "metadata": {},
   "outputs": [
    {
     "data": {
      "image/png": "[encoded data removed]",
      "text/plain": [
       "<Figure size 432x288 with 1 Axes>"
      ]
     },
     "metadata": {
      "needs_background": "light"
     },
     "output_type": "display_data"
    }
   ],
   "source": [
    "df_raw['DAY_OF_MONTH'].hist(bins=31);"
   ]
  },
  {
   "cell_type": "code",
   "execution_count": 67,
   "metadata": {},
   "outputs": [
    {
     "data": {
      "image/png": "[encoded data removed]",
      "text/plain": [
       "<Figure size 432x288 with 1 Axes>"
      ]
     },
     "metadata": {
      "needs_background": "light"
     },
     "output_type": "display_data"
    }
   ],
   "source": [
    "df_raw['DAY_OF_WEEK'].hist(bins=21);"
   ]
  },
  {
   "cell_type": "code",
   "execution_count": 71,
   "metadata": {},
   "outputs": [
    {
     "data": {
      "image/png": "[encoded data removed]",
      "text/plain": [
       "<Figure size 432x288 with 1 Axes>"
      ]
     },
     "metadata": {
      "needs_background": "light"
     },
     "output_type": "display_data"
    }
   ],
   "source": [
    "df_raw['OP_UNIQUE_CARRIER'].value_counts().plot(kind='bar');"
   ]
  },
  {
   "cell_type": "code",
   "execution_count": 75,
   "metadata": {},
   "outputs": [
    {
     "data": {
      "text/plain": [
       "count      346.000000\n",
       "mean      1687.817919\n",
       "std       3942.287432\n",
       "min          8.000000\n",
       "25%         81.000000\n",
       "50%        259.000000\n",
       "75%       1057.750000\n",
       "max      31155.000000\n",
       "Name: ORIGIN, dtype: float64"
      ]
     },
     "execution_count": 75,
     "metadata": {},
     "output_type": "execute_result"
    }
   ],
   "source": [
    "df_raw['ORIGIN'].value_counts().describe()"
   ]
  },
  {
   "cell_type": "code",
   "execution_count": 74,
   "metadata": {},
   "outputs": [
    {
     "data": {
      "image/png": "[encoded data removed]",
      "text/plain": [
       "<Figure size 432x288 with 1 Axes>"
      ]
     },
     "metadata": {
      "needs_background": "light"
     },
     "output_type": "display_data"
    }
   ],
   "source": [
    "df_raw['ORIGIN'].value_counts()[:10].plot(kind='bar');"
   ]
  },
  {
   "cell_type": "code",
   "execution_count": 79,
   "metadata": {},
   "outputs": [
    {
     "data": {
      "text/plain": [
       "count      346.000000\n",
       "mean      1687.817919\n",
       "std       3942.406894\n",
       "min          8.000000\n",
       "25%         81.000000\n",
       "50%        258.500000\n",
       "75%       1059.500000\n",
       "max      31151.000000\n",
       "Name: DEST, dtype: float64"
      ]
     },
     "execution_count": 79,
     "metadata": {},
     "output_type": "execute_result"
    }
   ],
   "source": [
    "df_raw['DEST'].value_counts().describe()"
   ]
  },
  {
   "cell_type": "code",
   "execution_count": 78,
   "metadata": {},
   "outputs": [
    {
     "data": {
      "image/png": "[encoded data removed]",
      "text/plain": [
       "<Figure size 432x288 with 1 Axes>"
      ]
     },
     "metadata": {
      "needs_background": "light"
     },
     "output_type": "display_data"
    }
   ],
   "source": [
    "df_raw['DEST'].value_counts()[:10].plot(kind='bar');"
   ]
  },
  {
   "cell_type": "code",
   "execution_count": 82,
   "metadata": {},
   "outputs": [
    {
     "data": {
      "image/png": "[encoded data removed]",
      "text/plain": [
       "<Figure size 432x288 with 1 Axes>"
      ]
     },
     "metadata": {
      "needs_background": "light"
     },
     "output_type": "display_data"
    }
   ],
   "source": [
    "df_raw['DEP_TIME_BLK'].value_counts().sort_index().plot(kind='bar');"
   ]
  },
  {
   "cell_type": "code",
   "execution_count": 94,
   "metadata": {},
   "outputs": [
    {
     "data": {
      "text/plain": [
       "DAY_OF_WEEK  DEP_DEL15\n",
       "1            0.0          0.823468\n",
       "             1.0          0.176532\n",
       "2            0.0          0.840460\n",
       "             1.0          0.159540\n",
       "3            0.0          0.819860\n",
       "             1.0          0.180140\n",
       "4            0.0          0.802427\n",
       "             1.0          0.197573\n",
       "5            0.0          0.827934\n",
       "             1.0          0.172066\n",
       "6            0.0          0.853545\n",
       "             1.0          0.146455\n",
       "7            0.0          0.822842\n",
       "             1.0          0.177158\n",
       "Name: DEP_DEL15, dtype: float64"
      ]
     },
     "execution_count": 94,
     "metadata": {},
     "output_type": "execute_result"
    }
   ],
   "source": [
    "df_raw.groupby(['DAY_OF_WEEK'])['DEP_DEL15'].value_counts(normalize=True)"
   ]
  },
  {
   "cell_type": "code",
   "execution_count": 100,
   "metadata": {},
   "outputs": [
    {
     "data": {
      "text/plain": [
       "count    567630.000000\n",
       "mean          0.174281\n",
       "std           0.379351\n",
       "min           0.000000\n",
       "25%           0.000000\n",
       "50%           0.000000\n",
       "75%           0.000000\n",
       "max           1.000000\n",
       "Name: DEP_DEL15, dtype: float64"
      ]
     },
     "execution_count": 100,
     "metadata": {},
     "output_type": "execute_result"
    }
   ],
   "source": [
    "df_raw['DEP_DEL15'].describe()"
   ]
  },
  {
   "cell_type": "code",
   "execution_count": 101,
   "metadata": {},
   "outputs": [],
   "source": [
    "# 83% of our flights have no delay when departing. Out of these 83%, 94% have no delay when departing and arriving as well.\n",
    "# However, even if departing on time, 5.7% of flights result in a delay when arriving.\n",
    "# When a delay happens when departing, 20% of flights manage to nonetheless arrive on time.\n",
    "# When a delay happens when departing, 79.6% do arrive late as well."
   ]
  },
  {
   "cell_type": "code",
   "execution_count": 99,
   "metadata": {},
   "outputs": [
    {
     "data": {
      "text/plain": [
       "DEP_DEL15  ARR_DEL15\n",
       "0.0        0.0          0.942407\n",
       "           1.0          0.057593\n",
       "1.0        0.0          0.203621\n",
       "           1.0          0.796379\n",
       "Name: ARR_DEL15, dtype: float64"
      ]
     },
     "execution_count": 99,
     "metadata": {},
     "output_type": "execute_result"
    }
   ],
   "source": [
    "df_raw.groupby(['DEP_DEL15'])['ARR_DEL15'].value_counts(normalize=True).sort_index()"
   ]
  },
  {
   "cell_type": "code",
   "execution_count": null,
   "metadata": {},
   "outputs": [],
   "source": [
    "# All Flights between Atlanta and Washington\n",
    "# Only those who had no delay when departing or arriving\n",
    "# check distribution of flight duration\n",
    "# it should have a maximum variance of 15 minutes (because there is no delay)"
   ]
  },
  {
   "cell_type": "code",
   "execution_count": 108,
   "metadata": {},
   "outputs": [],
   "source": [
    "origin_airport = 'ATL'\n",
    "dest_airport = 'MCO'"
   ]
  },
  {
   "cell_type": "code",
   "execution_count": 293,
   "metadata": {},
   "outputs": [],
   "source": [
    "df_ontime = df_raw.loc[(df_raw['ORIGIN'] == origin_airport) & \n",
    "           (df_raw['DEST'] == dest_airport) & \n",
    "           (df_raw['DEP_DEL15'] == 0) &\n",
    "           (df_raw['ARR_DEL15'] == 0), ['DEPARTURE_DATE', 'ARRIVAL_DATE']].copy()"
   ]
  },
  {
   "cell_type": "code",
   "execution_count": 294,
   "metadata": {},
   "outputs": [
    {
     "name": "stdout",
     "output_type": "stream",
     "text": [
      "<class 'pandas.core.frame.DataFrame'>\n",
      "Int64Index: 682 entries, 1610 to 579363\n",
      "Data columns (total 2 columns):\n",
      " #   Column          Non-Null Count  Dtype         \n",
      "---  ------          --------------  -----         \n",
      " 0   DEPARTURE_DATE  682 non-null    datetime64[ns]\n",
      " 1   ARRIVAL_DATE    682 non-null    datetime64[ns]\n",
      "dtypes: datetime64[ns](2)\n",
      "memory usage: 16.0 KB\n"
     ]
    }
   ],
   "source": [
    "df_ontime.info()"
   ]
  },
  {
   "cell_type": "code",
   "execution_count": 295,
   "metadata": {},
   "outputs": [],
   "source": [
    "# take of overnight days\n",
    "df_ontime['FLIGHT_DURATION'] = df_ontime['ARRIVAL_DATE'] - df_ontime['DEPARTURE_DATE']\n",
    "df_ontime['FLIGHT_DURATION'] = df_ontime['FLIGHT_DURATION'].dt.seconds / 60"
   ]
  },
  {
   "cell_type": "code",
   "execution_count": 296,
   "metadata": {},
   "outputs": [
    {
     "data": {
      "text/plain": [
       "count    682.000000\n",
       "mean      84.648094\n",
       "std        7.421201\n",
       "min       67.000000\n",
       "25%       80.000000\n",
       "50%       83.500000\n",
       "75%       89.000000\n",
       "max      115.000000\n",
       "Name: FLIGHT_DURATION, dtype: float64"
      ]
     },
     "execution_count": 296,
     "metadata": {},
     "output_type": "execute_result"
    }
   ],
   "source": [
    "df_ontime['FLIGHT_DURATION'].describe()"
   ]
  },
  {
   "cell_type": "code",
   "execution_count": 297,
   "metadata": {},
   "outputs": [
    {
     "data": {
      "text/plain": [
       "<AxesSubplot:>"
      ]
     },
     "execution_count": 297,
     "metadata": {},
     "output_type": "execute_result"
    },
    {
     "data": {
      "image/png": "[encoded data removed]",
      "text/plain": [
       "<Figure size 432x288 with 1 Axes>"
      ]
     },
     "metadata": {
      "needs_background": "light"
     },
     "output_type": "display_data"
    }
   ],
   "source": [
    "df_ontime['FLIGHT_DURATION'].hist()"
   ]
  },
  {
   "cell_type": "code",
   "execution_count": 298,
   "metadata": {},
   "outputs": [],
   "source": [
    "df_late = df_raw.loc[(df_raw['ORIGIN'] == origin_airport) & \n",
    "           (df_raw['DEST'] == dest_airport) & \n",
    "           (df_raw['DEP_DEL15'] == 1) &\n",
    "           (df_raw['ARR_DEL15'] == 1), ['DEPARTURE_DATE', 'ARRIVAL_DATE']].copy()"
   ]
  },
  {
   "cell_type": "code",
   "execution_count": 299,
   "metadata": {},
   "outputs": [],
   "source": [
    "# take of overnight days\n",
    "df_late['FLIGHT_DURATION'] = df_late['ARRIVAL_DATE'] - df_late['DEPARTURE_DATE']\n",
    "df_late['FLIGHT_DURATION'] = df_late['FLIGHT_DURATION'].dt.seconds / 60"
   ]
  },
  {
   "cell_type": "code",
   "execution_count": 300,
   "metadata": {},
   "outputs": [
    {
     "data": {
      "text/plain": [
       "count     74.000000\n",
       "mean      88.675676\n",
       "std        9.845530\n",
       "min       74.000000\n",
       "25%       81.000000\n",
       "50%       87.000000\n",
       "75%       94.000000\n",
       "max      115.000000\n",
       "Name: FLIGHT_DURATION, dtype: float64"
      ]
     },
     "execution_count": 300,
     "metadata": {},
     "output_type": "execute_result"
    }
   ],
   "source": [
    "df_late['FLIGHT_DURATION'].describe()"
   ]
  },
  {
   "cell_type": "code",
   "execution_count": 301,
   "metadata": {},
   "outputs": [
    {
     "data": {
      "text/plain": [
       "<AxesSubplot:>"
      ]
     },
     "execution_count": 301,
     "metadata": {},
     "output_type": "execute_result"
    },
    {
     "data": {
      "image/png": "[encoded data removed]",
      "text/plain": [
       "<Figure size 432x288 with 1 Axes>"
      ]
     },
     "metadata": {
      "needs_background": "light"
     },
     "output_type": "display_data"
    }
   ],
   "source": [
    "df_late['FLIGHT_DURATION'].hist()"
   ]
  },
  {
   "cell_type": "code",
   "execution_count": 304,
   "metadata": {},
   "outputs": [
    {
     "data": {
      "text/plain": [
       "Index(['DAY_OF_MONTH', 'DAY_OF_WEEK', 'OP_UNIQUE_CARRIER',\n",
       "       'OP_CARRIER_AIRLINE_ID', 'OP_CARRIER', 'TAIL_NUM', 'OP_CARRIER_FL_NUM',\n",
       "       'ORIGIN_AIRPORT_ID', 'ORIGIN_AIRPORT_SEQ_ID', 'ORIGIN',\n",
       "       'DEST_AIRPORT_ID', 'DEST_AIRPORT_SEQ_ID', 'DEST', 'DEP_TIME',\n",
       "       'DEP_DEL15', 'DEP_TIME_BLK', 'ARR_TIME', 'ARR_DEL15', 'CANCELLED',\n",
       "       'DIVERTED', 'DISTANCE', 'Unnamed: 21', 'ARRIVAL_DATE',\n",
       "       'DEPARTURE_DATE'],\n",
       "      dtype='object')"
      ]
     },
     "execution_count": 304,
     "metadata": {},
     "output_type": "execute_result"
    }
   ],
   "source": [
    "df_raw.columns"
   ]
  },
  {
   "cell_type": "code",
   "execution_count": 306,
   "metadata": {},
   "outputs": [
    {
     "data": {
      "text/plain": [
       "357"
      ]
     },
     "execution_count": 306,
     "metadata": {},
     "output_type": "execute_result"
    }
   ],
   "source": [
    "df_raw.loc[(df_raw['ORIGIN'] == origin_airport) & \n",
    "           (df_raw['DEST'] == dest_airport), 'TAIL_NUM'].nunique()"
   ]
  },
  {
   "cell_type": "code",
   "execution_count": 307,
   "metadata": {},
   "outputs": [
    {
     "data": {
      "text/plain": [
       "104"
      ]
     },
     "execution_count": 307,
     "metadata": {},
     "output_type": "execute_result"
    }
   ],
   "source": [
    "df_raw.loc[(df_raw['ORIGIN'] == origin_airport) & \n",
    "           (df_raw['DEST'] == dest_airport), 'OP_CARRIER_FL_NUM'].nunique()"
   ]
  },
  {
   "cell_type": "code",
   "execution_count": 309,
   "metadata": {},
   "outputs": [
    {
     "data": {
      "text/html": [
       "<div>\n",
       "<style scoped>\n",
       "    .dataframe tbody tr th:only-of-type {\n",
       "        vertical-align: middle;\n",
       "    }\n",
       "\n",
       "    .dataframe tbody tr th {\n",
       "        vertical-align: top;\n",
       "    }\n",
       "\n",
       "    .dataframe thead th {\n",
       "        text-align: right;\n",
       "    }\n",
       "</style>\n",
       "<table border=\"1\" class=\"dataframe\">\n",
       "  <thead>\n",
       "    <tr style=\"text-align: right;\">\n",
       "      <th></th>\n",
       "      <th>OP_CARRIER</th>\n",
       "      <th>TAIL_NUM</th>\n",
       "      <th>OP_CARRIER_FL_NUM</th>\n",
       "    </tr>\n",
       "  </thead>\n",
       "  <tbody>\n",
       "    <tr>\n",
       "      <th>1610</th>\n",
       "      <td>B6</td>\n",
       "      <td>N520JB</td>\n",
       "      <td>1153</td>\n",
       "    </tr>\n",
       "    <tr>\n",
       "      <th>2222</th>\n",
       "      <td>F9</td>\n",
       "      <td>N702FR</td>\n",
       "      <td>1560</td>\n",
       "    </tr>\n",
       "    <tr>\n",
       "      <th>3050</th>\n",
       "      <td>NK</td>\n",
       "      <td>N651NK</td>\n",
       "      <td>1207</td>\n",
       "    </tr>\n",
       "    <tr>\n",
       "      <th>6015</th>\n",
       "      <td>WN</td>\n",
       "      <td>N940WN</td>\n",
       "      <td>374</td>\n",
       "    </tr>\n",
       "    <tr>\n",
       "      <th>6016</th>\n",
       "      <td>WN</td>\n",
       "      <td>N705SW</td>\n",
       "      <td>825</td>\n",
       "    </tr>\n",
       "    <tr>\n",
       "      <th>...</th>\n",
       "      <td>...</td>\n",
       "      <td>...</td>\n",
       "      <td>...</td>\n",
       "    </tr>\n",
       "    <tr>\n",
       "      <th>576435</th>\n",
       "      <td>WN</td>\n",
       "      <td>N481WN</td>\n",
       "      <td>402</td>\n",
       "    </tr>\n",
       "    <tr>\n",
       "      <th>576436</th>\n",
       "      <td>WN</td>\n",
       "      <td>N229WN</td>\n",
       "      <td>692</td>\n",
       "    </tr>\n",
       "    <tr>\n",
       "      <th>576437</th>\n",
       "      <td>WN</td>\n",
       "      <td>N8635F</td>\n",
       "      <td>1232</td>\n",
       "    </tr>\n",
       "    <tr>\n",
       "      <th>576438</th>\n",
       "      <td>WN</td>\n",
       "      <td>N781WN</td>\n",
       "      <td>3998</td>\n",
       "    </tr>\n",
       "    <tr>\n",
       "      <th>579363</th>\n",
       "      <td>NK</td>\n",
       "      <td>N623NK</td>\n",
       "      <td>565</td>\n",
       "    </tr>\n",
       "  </tbody>\n",
       "</table>\n",
       "<p>804 rows × 3 columns</p>\n",
       "</div>"
      ],
      "text/plain": [
       "       OP_CARRIER TAIL_NUM  OP_CARRIER_FL_NUM\n",
       "1610           B6   N520JB               1153\n",
       "2222           F9   N702FR               1560\n",
       "3050           NK   N651NK               1207\n",
       "6015           WN   N940WN                374\n",
       "6016           WN   N705SW                825\n",
       "...           ...      ...                ...\n",
       "576435         WN   N481WN                402\n",
       "576436         WN   N229WN                692\n",
       "576437         WN   N8635F               1232\n",
       "576438         WN   N781WN               3998\n",
       "579363         NK   N623NK                565\n",
       "\n",
       "[804 rows x 3 columns]"
      ]
     },
     "execution_count": 309,
     "metadata": {},
     "output_type": "execute_result"
    }
   ],
   "source": [
    "df_raw.loc[(df_raw['ORIGIN'] == origin_airport) & \n",
    "           (df_raw['DEST'] == dest_airport), ['OP_CARRIER', 'TAIL_NUM', 'OP_CARRIER_FL_NUM']]"
   ]
  },
  {
   "cell_type": "code",
   "execution_count": null,
   "metadata": {},
   "outputs": [],
   "source": []
  }
 ],
 "metadata": {
  "kernelspec": {
   "display_name": "Python 3",
   "language": "python",
   "name": "python3"
  },
  "language_info": {
   "codemirror_mode": {
    "name": "ipython",
    "version": 3
   },
   "file_extension": ".py",
   "mimetype": "text/x-python",
   "name": "python",
   "nbconvert_exporter": "python",
   "pygments_lexer": "ipython3",
   "version": "3.7.9"
  },
  "toc-autonumbering": true
 },
 "nbformat": 4,
 "nbformat_minor": 4
}
