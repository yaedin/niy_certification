{
 "cells": [
  {
   "cell_type": "markdown",
   "metadata": {},
   "source": [
    "# Import"
   ]
  },
  {
   "cell_type": "code",
   "execution_count": 54,
   "metadata": {},
   "outputs": [],
   "source": [
    "import os\n",
    "import boto3\n",
    "import pandas as pd\n",
    "import matplotlib.pyplot as plt"
   ]
  },
  {
   "cell_type": "markdown",
   "metadata": {},
   "source": [
    "# Variables"
   ]
  },
  {
   "cell_type": "code",
   "execution_count": 2,
   "metadata": {},
   "outputs": [],
   "source": [
    "aws_user = os.environ['AWS_USER']\n",
    "aws_key = os.environ['AWS_KEY']\n",
    "region_name = 'eu-central-1'\n",
    "\n",
    "session = boto3.session.Session(\n",
    "    aws_access_key_id=aws_user,\n",
    "    aws_secret_access_key=aws_key,\n",
    "    region_name=region_name)\n",
    "\n",
    "s3_client = session.client('s3')\n",
    "s3 = session.resource('s3')"
   ]
  },
  {
   "cell_type": "markdown",
   "metadata": {},
   "source": [
    "# Reading Data"
   ]
  },
  {
   "cell_type": "code",
   "execution_count": 310,
   "metadata": {},
   "outputs": [],
   "source": [
    "jan_2019_path = 'https://niy-certification.s3.eu-central-1.amazonaws.com/Jan_2019_ontime.csv'\n",
    "jan_2020_path = 'https://niy-certification.s3.eu-central-1.amazonaws.com/Jan_2020_ontime.csv'\n",
    "feb_2019_path = 'https://niy-certification.s3.eu-central-1.amazonaws.com/Feb_2019_ontime.csv'\n",
    "feb_2020_path = 'https://niy-certification.s3.eu-central-1.amazonaws.com/Feb_2020_ontime.csv'\n",
    "\n",
    "jan_2019_dot_path = 'https://niy-certification.s3.eu-central-1.amazonaws.com/Jan_2019_dot.csv'"
   ]
  },
  {
   "cell_type": "code",
   "execution_count": 311,
   "metadata": {},
   "outputs": [],
   "source": [
    "df_raw = pd.read_csv(jan_2019_dot_path, \n",
    "                     dtype={'ARR_TIME': str, \n",
    "                            'DEP_TIME': str, \n",
    "                            'DAY_OF_MONTH': str})"
   ]
  },
  {
   "cell_type": "code",
   "execution_count": 326,
   "metadata": {},
   "outputs": [
    {
     "data": {
      "text/plain": [
       "26"
      ]
     },
     "execution_count": 326,
     "metadata": {},
     "output_type": "execute_result"
    }
   ],
   "source": [
    "df_raw['OP_UNIQUE_CARRIER'].nunique()"
   ]
  },
  {
   "cell_type": "code",
   "execution_count": 327,
   "metadata": {},
   "outputs": [
    {
     "data": {
      "image/png": "[encoded data removed]",
      "text/plain": [
       "<Figure size 432x288 with 1 Axes>"
      ]
     },
     "metadata": {
      "needs_background": "light"
     },
     "output_type": "display_data"
    }
   ],
   "source": [
    "df_raw['OP_UNIQUE_CARRIER'].value_counts().plot(kind='bar');"
   ]
  },
  {
   "cell_type": "code",
   "execution_count": 328,
   "metadata": {},
   "outputs": [
    {
     "data": {
      "text/html": [
       "<div>\n",
       "<style scoped>\n",
       "    .dataframe tbody tr th:only-of-type {\n",
       "        vertical-align: middle;\n",
       "    }\n",
       "\n",
       "    .dataframe tbody tr th {\n",
       "        vertical-align: top;\n",
       "    }\n",
       "\n",
       "    .dataframe thead th {\n",
       "        text-align: right;\n",
       "    }\n",
       "</style>\n",
       "<table border=\"1\" class=\"dataframe\">\n",
       "  <thead>\n",
       "    <tr style=\"text-align: right;\">\n",
       "      <th></th>\n",
       "      <th>OP_CARRIER_AIRLINE_ID</th>\n",
       "      <th>OP_CARRIER_FL_NUM</th>\n",
       "      <th>ORIGIN_AIRPORT_ID</th>\n",
       "      <th>ORIGIN_AIRPORT_SEQ_ID</th>\n",
       "      <th>ORIGIN_CITY_MARKET_ID</th>\n",
       "      <th>DEST_AIRPORT_ID</th>\n",
       "      <th>DEST_AIRPORT_SEQ_ID</th>\n",
       "      <th>DEST_CITY_MARKET_ID</th>\n",
       "      <th>DEP_DELAY_NEW</th>\n",
       "      <th>DEP_DEL15</th>\n",
       "      <th>ARR_DELAY_NEW</th>\n",
       "      <th>ARR_DEL15</th>\n",
       "      <th>CANCELLED</th>\n",
       "      <th>DIVERTED</th>\n",
       "      <th>AIR_TIME</th>\n",
       "      <th>DISTANCE</th>\n",
       "      <th>Unnamed: 24</th>\n",
       "    </tr>\n",
       "  </thead>\n",
       "  <tbody>\n",
       "    <tr>\n",
       "      <th>OP_CARRIER_AIRLINE_ID</th>\n",
       "      <td>1.000000</td>\n",
       "      <td>0.508276</td>\n",
       "      <td>-0.028004</td>\n",
       "      <td>-0.028004</td>\n",
       "      <td>0.050885</td>\n",
       "      <td>-0.028085</td>\n",
       "      <td>-0.028085</td>\n",
       "      <td>0.050859</td>\n",
       "      <td>0.068048</td>\n",
       "      <td>0.044547</td>\n",
       "      <td>0.081998</td>\n",
       "      <td>0.078657</td>\n",
       "      <td>0.028461</td>\n",
       "      <td>0.010866</td>\n",
       "      <td>-0.131140</td>\n",
       "      <td>-0.150288</td>\n",
       "      <td>NaN</td>\n",
       "    </tr>\n",
       "    <tr>\n",
       "      <th>OP_CARRIER_FL_NUM</th>\n",
       "      <td>0.508276</td>\n",
       "      <td>1.000000</td>\n",
       "      <td>-0.039486</td>\n",
       "      <td>-0.039486</td>\n",
       "      <td>0.020403</td>\n",
       "      <td>-0.043988</td>\n",
       "      <td>-0.043989</td>\n",
       "      <td>0.016139</td>\n",
       "      <td>0.040729</td>\n",
       "      <td>0.032481</td>\n",
       "      <td>0.047497</td>\n",
       "      <td>0.046525</td>\n",
       "      <td>0.051461</td>\n",
       "      <td>0.008095</td>\n",
       "      <td>-0.341305</td>\n",
       "      <td>-0.361455</td>\n",
       "      <td>NaN</td>\n",
       "    </tr>\n",
       "    <tr>\n",
       "      <th>ORIGIN_AIRPORT_ID</th>\n",
       "      <td>-0.028004</td>\n",
       "      <td>-0.039486</td>\n",
       "      <td>1.000000</td>\n",
       "      <td>1.000000</td>\n",
       "      <td>0.621047</td>\n",
       "      <td>0.023565</td>\n",
       "      <td>0.023565</td>\n",
       "      <td>-0.000287</td>\n",
       "      <td>0.004920</td>\n",
       "      <td>0.001916</td>\n",
       "      <td>0.007897</td>\n",
       "      <td>0.007352</td>\n",
       "      <td>0.014238</td>\n",
       "      <td>-0.000613</td>\n",
       "      <td>0.048718</td>\n",
       "      <td>0.072282</td>\n",
       "      <td>NaN</td>\n",
       "    </tr>\n",
       "    <tr>\n",
       "      <th>ORIGIN_AIRPORT_SEQ_ID</th>\n",
       "      <td>-0.028004</td>\n",
       "      <td>-0.039486</td>\n",
       "      <td>1.000000</td>\n",
       "      <td>1.000000</td>\n",
       "      <td>0.621047</td>\n",
       "      <td>0.023565</td>\n",
       "      <td>0.023566</td>\n",
       "      <td>-0.000286</td>\n",
       "      <td>0.004920</td>\n",
       "      <td>0.001916</td>\n",
       "      <td>0.007897</td>\n",
       "      <td>0.007352</td>\n",
       "      <td>0.014239</td>\n",
       "      <td>-0.000613</td>\n",
       "      <td>0.048718</td>\n",
       "      <td>0.072282</td>\n",
       "      <td>NaN</td>\n",
       "    </tr>\n",
       "    <tr>\n",
       "      <th>ORIGIN_CITY_MARKET_ID</th>\n",
       "      <td>0.050885</td>\n",
       "      <td>0.020403</td>\n",
       "      <td>0.621047</td>\n",
       "      <td>0.621047</td>\n",
       "      <td>1.000000</td>\n",
       "      <td>0.000078</td>\n",
       "      <td>0.000078</td>\n",
       "      <td>-0.053629</td>\n",
       "      <td>0.001891</td>\n",
       "      <td>-0.014019</td>\n",
       "      <td>0.003447</td>\n",
       "      <td>-0.009538</td>\n",
       "      <td>-0.013520</td>\n",
       "      <td>-0.002482</td>\n",
       "      <td>0.000036</td>\n",
       "      <td>0.004147</td>\n",
       "      <td>NaN</td>\n",
       "    </tr>\n",
       "    <tr>\n",
       "      <th>DEST_AIRPORT_ID</th>\n",
       "      <td>-0.028085</td>\n",
       "      <td>-0.043988</td>\n",
       "      <td>0.023565</td>\n",
       "      <td>0.023565</td>\n",
       "      <td>0.000078</td>\n",
       "      <td>1.000000</td>\n",
       "      <td>1.000000</td>\n",
       "      <td>0.620995</td>\n",
       "      <td>0.007206</td>\n",
       "      <td>0.009114</td>\n",
       "      <td>0.008693</td>\n",
       "      <td>0.013578</td>\n",
       "      <td>0.013460</td>\n",
       "      <td>0.005708</td>\n",
       "      <td>0.096172</td>\n",
       "      <td>0.072242</td>\n",
       "      <td>NaN</td>\n",
       "    </tr>\n",
       "    <tr>\n",
       "      <th>DEST_AIRPORT_SEQ_ID</th>\n",
       "      <td>-0.028085</td>\n",
       "      <td>-0.043989</td>\n",
       "      <td>0.023565</td>\n",
       "      <td>0.023566</td>\n",
       "      <td>0.000078</td>\n",
       "      <td>1.000000</td>\n",
       "      <td>1.000000</td>\n",
       "      <td>0.620994</td>\n",
       "      <td>0.007206</td>\n",
       "      <td>0.009114</td>\n",
       "      <td>0.008693</td>\n",
       "      <td>0.013578</td>\n",
       "      <td>0.013460</td>\n",
       "      <td>0.005708</td>\n",
       "      <td>0.096172</td>\n",
       "      <td>0.072242</td>\n",
       "      <td>NaN</td>\n",
       "    </tr>\n",
       "    <tr>\n",
       "      <th>DEST_CITY_MARKET_ID</th>\n",
       "      <td>0.050859</td>\n",
       "      <td>0.016139</td>\n",
       "      <td>-0.000287</td>\n",
       "      <td>-0.000286</td>\n",
       "      <td>-0.053629</td>\n",
       "      <td>0.620995</td>\n",
       "      <td>0.620994</td>\n",
       "      <td>1.000000</td>\n",
       "      <td>-0.003705</td>\n",
       "      <td>0.004883</td>\n",
       "      <td>-0.003920</td>\n",
       "      <td>0.005301</td>\n",
       "      <td>-0.017520</td>\n",
       "      <td>0.011415</td>\n",
       "      <td>0.006602</td>\n",
       "      <td>0.004026</td>\n",
       "      <td>NaN</td>\n",
       "    </tr>\n",
       "    <tr>\n",
       "      <th>DEP_DELAY_NEW</th>\n",
       "      <td>0.068048</td>\n",
       "      <td>0.040729</td>\n",
       "      <td>0.004920</td>\n",
       "      <td>0.004920</td>\n",
       "      <td>0.001891</td>\n",
       "      <td>0.007206</td>\n",
       "      <td>0.007206</td>\n",
       "      <td>-0.003705</td>\n",
       "      <td>1.000000</td>\n",
       "      <td>0.557235</td>\n",
       "      <td>0.978662</td>\n",
       "      <td>0.499690</td>\n",
       "      <td>0.029325</td>\n",
       "      <td>0.018381</td>\n",
       "      <td>0.001834</td>\n",
       "      <td>-0.000055</td>\n",
       "      <td>NaN</td>\n",
       "    </tr>\n",
       "    <tr>\n",
       "      <th>DEP_DEL15</th>\n",
       "      <td>0.044547</td>\n",
       "      <td>0.032481</td>\n",
       "      <td>0.001916</td>\n",
       "      <td>0.001916</td>\n",
       "      <td>-0.014019</td>\n",
       "      <td>0.009114</td>\n",
       "      <td>0.009114</td>\n",
       "      <td>0.004883</td>\n",
       "      <td>0.557235</td>\n",
       "      <td>1.000000</td>\n",
       "      <td>0.515360</td>\n",
       "      <td>0.723821</td>\n",
       "      <td>0.020968</td>\n",
       "      <td>0.020118</td>\n",
       "      <td>0.008720</td>\n",
       "      <td>0.008737</td>\n",
       "      <td>NaN</td>\n",
       "    </tr>\n",
       "    <tr>\n",
       "      <th>ARR_DELAY_NEW</th>\n",
       "      <td>0.081998</td>\n",
       "      <td>0.047497</td>\n",
       "      <td>0.007897</td>\n",
       "      <td>0.007897</td>\n",
       "      <td>0.003447</td>\n",
       "      <td>0.008693</td>\n",
       "      <td>0.008693</td>\n",
       "      <td>-0.003920</td>\n",
       "      <td>0.978662</td>\n",
       "      <td>0.515360</td>\n",
       "      <td>1.000000</td>\n",
       "      <td>0.547216</td>\n",
       "      <td>NaN</td>\n",
       "      <td>NaN</td>\n",
       "      <td>0.003661</td>\n",
       "      <td>-0.007917</td>\n",
       "      <td>NaN</td>\n",
       "    </tr>\n",
       "    <tr>\n",
       "      <th>ARR_DEL15</th>\n",
       "      <td>0.078657</td>\n",
       "      <td>0.046525</td>\n",
       "      <td>0.007352</td>\n",
       "      <td>0.007352</td>\n",
       "      <td>-0.009538</td>\n",
       "      <td>0.013578</td>\n",
       "      <td>0.013578</td>\n",
       "      <td>0.005301</td>\n",
       "      <td>0.499690</td>\n",
       "      <td>0.723821</td>\n",
       "      <td>0.547216</td>\n",
       "      <td>1.000000</td>\n",
       "      <td>NaN</td>\n",
       "      <td>NaN</td>\n",
       "      <td>0.020926</td>\n",
       "      <td>-0.001388</td>\n",
       "      <td>NaN</td>\n",
       "    </tr>\n",
       "    <tr>\n",
       "      <th>CANCELLED</th>\n",
       "      <td>0.028461</td>\n",
       "      <td>0.051461</td>\n",
       "      <td>0.014238</td>\n",
       "      <td>0.014239</td>\n",
       "      <td>-0.013520</td>\n",
       "      <td>0.013460</td>\n",
       "      <td>0.013460</td>\n",
       "      <td>-0.017520</td>\n",
       "      <td>0.029325</td>\n",
       "      <td>0.020968</td>\n",
       "      <td>NaN</td>\n",
       "      <td>NaN</td>\n",
       "      <td>1.000000</td>\n",
       "      <td>-0.008477</td>\n",
       "      <td>NaN</td>\n",
       "      <td>-0.052709</td>\n",
       "      <td>NaN</td>\n",
       "    </tr>\n",
       "    <tr>\n",
       "      <th>DIVERTED</th>\n",
       "      <td>0.010866</td>\n",
       "      <td>0.008095</td>\n",
       "      <td>-0.000613</td>\n",
       "      <td>-0.000613</td>\n",
       "      <td>-0.002482</td>\n",
       "      <td>0.005708</td>\n",
       "      <td>0.005708</td>\n",
       "      <td>0.011415</td>\n",
       "      <td>0.018381</td>\n",
       "      <td>0.020118</td>\n",
       "      <td>NaN</td>\n",
       "      <td>NaN</td>\n",
       "      <td>-0.008477</td>\n",
       "      <td>1.000000</td>\n",
       "      <td>NaN</td>\n",
       "      <td>0.011912</td>\n",
       "      <td>NaN</td>\n",
       "    </tr>\n",
       "    <tr>\n",
       "      <th>AIR_TIME</th>\n",
       "      <td>-0.131140</td>\n",
       "      <td>-0.341305</td>\n",
       "      <td>0.048718</td>\n",
       "      <td>0.048718</td>\n",
       "      <td>0.000036</td>\n",
       "      <td>0.096172</td>\n",
       "      <td>0.096172</td>\n",
       "      <td>0.006602</td>\n",
       "      <td>0.001834</td>\n",
       "      <td>0.008720</td>\n",
       "      <td>0.003661</td>\n",
       "      <td>0.020926</td>\n",
       "      <td>NaN</td>\n",
       "      <td>NaN</td>\n",
       "      <td>1.000000</td>\n",
       "      <td>0.978877</td>\n",
       "      <td>NaN</td>\n",
       "    </tr>\n",
       "    <tr>\n",
       "      <th>DISTANCE</th>\n",
       "      <td>-0.150288</td>\n",
       "      <td>-0.361455</td>\n",
       "      <td>0.072282</td>\n",
       "      <td>0.072282</td>\n",
       "      <td>0.004147</td>\n",
       "      <td>0.072242</td>\n",
       "      <td>0.072242</td>\n",
       "      <td>0.004026</td>\n",
       "      <td>-0.000055</td>\n",
       "      <td>0.008737</td>\n",
       "      <td>-0.007917</td>\n",
       "      <td>-0.001388</td>\n",
       "      <td>-0.052709</td>\n",
       "      <td>0.011912</td>\n",
       "      <td>0.978877</td>\n",
       "      <td>1.000000</td>\n",
       "      <td>NaN</td>\n",
       "    </tr>\n",
       "    <tr>\n",
       "      <th>Unnamed: 24</th>\n",
       "      <td>NaN</td>\n",
       "      <td>NaN</td>\n",
       "      <td>NaN</td>\n",
       "      <td>NaN</td>\n",
       "      <td>NaN</td>\n",
       "      <td>NaN</td>\n",
       "      <td>NaN</td>\n",
       "      <td>NaN</td>\n",
       "      <td>NaN</td>\n",
       "      <td>NaN</td>\n",
       "      <td>NaN</td>\n",
       "      <td>NaN</td>\n",
       "      <td>NaN</td>\n",
       "      <td>NaN</td>\n",
       "      <td>NaN</td>\n",
       "      <td>NaN</td>\n",
       "      <td>NaN</td>\n",
       "    </tr>\n",
       "  </tbody>\n",
       "</table>\n",
       "</div>"
      ],
      "text/plain": [
       "                       OP_CARRIER_AIRLINE_ID  OP_CARRIER_FL_NUM  \\\n",
       "OP_CARRIER_AIRLINE_ID               1.000000           0.508276   \n",
       "OP_CARRIER_FL_NUM                   0.508276           1.000000   \n",
       "ORIGIN_AIRPORT_ID                  -0.028004          -0.039486   \n",
       "ORIGIN_AIRPORT_SEQ_ID              -0.028004          -0.039486   \n",
       "ORIGIN_CITY_MARKET_ID               0.050885           0.020403   \n",
       "DEST_AIRPORT_ID                    -0.028085          -0.043988   \n",
       "DEST_AIRPORT_SEQ_ID                -0.028085          -0.043989   \n",
       "DEST_CITY_MARKET_ID                 0.050859           0.016139   \n",
       "DEP_DELAY_NEW                       0.068048           0.040729   \n",
       "DEP_DEL15                           0.044547           0.032481   \n",
       "ARR_DELAY_NEW                       0.081998           0.047497   \n",
       "ARR_DEL15                           0.078657           0.046525   \n",
       "CANCELLED                           0.028461           0.051461   \n",
       "DIVERTED                            0.010866           0.008095   \n",
       "AIR_TIME                           -0.131140          -0.341305   \n",
       "DISTANCE                           -0.150288          -0.361455   \n",
       "Unnamed: 24                              NaN                NaN   \n",
       "\n",
       "                       ORIGIN_AIRPORT_ID  ORIGIN_AIRPORT_SEQ_ID  \\\n",
       "OP_CARRIER_AIRLINE_ID          -0.028004              -0.028004   \n",
       "OP_CARRIER_FL_NUM              -0.039486              -0.039486   \n",
       "ORIGIN_AIRPORT_ID               1.000000               1.000000   \n",
       "ORIGIN_AIRPORT_SEQ_ID           1.000000               1.000000   \n",
       "ORIGIN_CITY_MARKET_ID           0.621047               0.621047   \n",
       "DEST_AIRPORT_ID                 0.023565               0.023565   \n",
       "DEST_AIRPORT_SEQ_ID             0.023565               0.023566   \n",
       "DEST_CITY_MARKET_ID            -0.000287              -0.000286   \n",
       "DEP_DELAY_NEW                   0.004920               0.004920   \n",
       "DEP_DEL15                       0.001916               0.001916   \n",
       "ARR_DELAY_NEW                   0.007897               0.007897   \n",
       "ARR_DEL15                       0.007352               0.007352   \n",
       "CANCELLED                       0.014238               0.014239   \n",
       "DIVERTED                       -0.000613              -0.000613   \n",
       "AIR_TIME                        0.048718               0.048718   \n",
       "DISTANCE                        0.072282               0.072282   \n",
       "Unnamed: 24                          NaN                    NaN   \n",
       "\n",
       "                       ORIGIN_CITY_MARKET_ID  DEST_AIRPORT_ID  \\\n",
       "OP_CARRIER_AIRLINE_ID               0.050885        -0.028085   \n",
       "OP_CARRIER_FL_NUM                   0.020403        -0.043988   \n",
       "ORIGIN_AIRPORT_ID                   0.621047         0.023565   \n",
       "ORIGIN_AIRPORT_SEQ_ID               0.621047         0.023565   \n",
       "ORIGIN_CITY_MARKET_ID               1.000000         0.000078   \n",
       "DEST_AIRPORT_ID                     0.000078         1.000000   \n",
       "DEST_AIRPORT_SEQ_ID                 0.000078         1.000000   \n",
       "DEST_CITY_MARKET_ID                -0.053629         0.620995   \n",
       "DEP_DELAY_NEW                       0.001891         0.007206   \n",
       "DEP_DEL15                          -0.014019         0.009114   \n",
       "ARR_DELAY_NEW                       0.003447         0.008693   \n",
       "ARR_DEL15                          -0.009538         0.013578   \n",
       "CANCELLED                          -0.013520         0.013460   \n",
       "DIVERTED                           -0.002482         0.005708   \n",
       "AIR_TIME                            0.000036         0.096172   \n",
       "DISTANCE                            0.004147         0.072242   \n",
       "Unnamed: 24                              NaN              NaN   \n",
       "\n",
       "                       DEST_AIRPORT_SEQ_ID  DEST_CITY_MARKET_ID  \\\n",
       "OP_CARRIER_AIRLINE_ID            -0.028085             0.050859   \n",
       "OP_CARRIER_FL_NUM                -0.043989             0.016139   \n",
       "ORIGIN_AIRPORT_ID                 0.023565            -0.000287   \n",
       "ORIGIN_AIRPORT_SEQ_ID             0.023566            -0.000286   \n",
       "ORIGIN_CITY_MARKET_ID             0.000078            -0.053629   \n",
       "DEST_AIRPORT_ID                   1.000000             0.620995   \n",
       "DEST_AIRPORT_SEQ_ID               1.000000             0.620994   \n",
       "DEST_CITY_MARKET_ID               0.620994             1.000000   \n",
       "DEP_DELAY_NEW                     0.007206            -0.003705   \n",
       "DEP_DEL15                         0.009114             0.004883   \n",
       "ARR_DELAY_NEW                     0.008693            -0.003920   \n",
       "ARR_DEL15                         0.013578             0.005301   \n",
       "CANCELLED                         0.013460            -0.017520   \n",
       "DIVERTED                          0.005708             0.011415   \n",
       "AIR_TIME                          0.096172             0.006602   \n",
       "DISTANCE                          0.072242             0.004026   \n",
       "Unnamed: 24                            NaN                  NaN   \n",
       "\n",
       "                       DEP_DELAY_NEW  DEP_DEL15  ARR_DELAY_NEW  ARR_DEL15  \\\n",
       "OP_CARRIER_AIRLINE_ID       0.068048   0.044547       0.081998   0.078657   \n",
       "OP_CARRIER_FL_NUM           0.040729   0.032481       0.047497   0.046525   \n",
       "ORIGIN_AIRPORT_ID           0.004920   0.001916       0.007897   0.007352   \n",
       "ORIGIN_AIRPORT_SEQ_ID       0.004920   0.001916       0.007897   0.007352   \n",
       "ORIGIN_CITY_MARKET_ID       0.001891  -0.014019       0.003447  -0.009538   \n",
       "DEST_AIRPORT_ID             0.007206   0.009114       0.008693   0.013578   \n",
       "DEST_AIRPORT_SEQ_ID         0.007206   0.009114       0.008693   0.013578   \n",
       "DEST_CITY_MARKET_ID        -0.003705   0.004883      -0.003920   0.005301   \n",
       "DEP_DELAY_NEW               1.000000   0.557235       0.978662   0.499690   \n",
       "DEP_DEL15                   0.557235   1.000000       0.515360   0.723821   \n",
       "ARR_DELAY_NEW               0.978662   0.515360       1.000000   0.547216   \n",
       "ARR_DEL15                   0.499690   0.723821       0.547216   1.000000   \n",
       "CANCELLED                   0.029325   0.020968            NaN        NaN   \n",
       "DIVERTED                    0.018381   0.020118            NaN        NaN   \n",
       "AIR_TIME                    0.001834   0.008720       0.003661   0.020926   \n",
       "DISTANCE                   -0.000055   0.008737      -0.007917  -0.001388   \n",
       "Unnamed: 24                      NaN        NaN            NaN        NaN   \n",
       "\n",
       "                       CANCELLED  DIVERTED  AIR_TIME  DISTANCE  Unnamed: 24  \n",
       "OP_CARRIER_AIRLINE_ID   0.028461  0.010866 -0.131140 -0.150288          NaN  \n",
       "OP_CARRIER_FL_NUM       0.051461  0.008095 -0.341305 -0.361455          NaN  \n",
       "ORIGIN_AIRPORT_ID       0.014238 -0.000613  0.048718  0.072282          NaN  \n",
       "ORIGIN_AIRPORT_SEQ_ID   0.014239 -0.000613  0.048718  0.072282          NaN  \n",
       "ORIGIN_CITY_MARKET_ID  -0.013520 -0.002482  0.000036  0.004147          NaN  \n",
       "DEST_AIRPORT_ID         0.013460  0.005708  0.096172  0.072242          NaN  \n",
       "DEST_AIRPORT_SEQ_ID     0.013460  0.005708  0.096172  0.072242          NaN  \n",
       "DEST_CITY_MARKET_ID    -0.017520  0.011415  0.006602  0.004026          NaN  \n",
       "DEP_DELAY_NEW           0.029325  0.018381  0.001834 -0.000055          NaN  \n",
       "DEP_DEL15               0.020968  0.020118  0.008720  0.008737          NaN  \n",
       "ARR_DELAY_NEW                NaN       NaN  0.003661 -0.007917          NaN  \n",
       "ARR_DEL15                    NaN       NaN  0.020926 -0.001388          NaN  \n",
       "CANCELLED               1.000000 -0.008477       NaN -0.052709          NaN  \n",
       "DIVERTED               -0.008477  1.000000       NaN  0.011912          NaN  \n",
       "AIR_TIME                     NaN       NaN  1.000000  0.978877          NaN  \n",
       "DISTANCE               -0.052709  0.011912  0.978877  1.000000          NaN  \n",
       "Unnamed: 24                  NaN       NaN       NaN       NaN          NaN  "
      ]
     },
     "execution_count": 328,
     "metadata": {},
     "output_type": "execute_result"
    }
   ],
   "source": [
    "df_raw.corr()"
   ]
  },
  {
   "cell_type": "code",
   "execution_count": 332,
   "metadata": {},
   "outputs": [
    {
     "data": {
      "text/html": [
       "<div>\n",
       "<style scoped>\n",
       "    .dataframe tbody tr th:only-of-type {\n",
       "        vertical-align: middle;\n",
       "    }\n",
       "\n",
       "    .dataframe tbody tr th {\n",
       "        vertical-align: top;\n",
       "    }\n",
       "\n",
       "    .dataframe thead th {\n",
       "        text-align: right;\n",
       "    }\n",
       "</style>\n",
       "<table border=\"1\" class=\"dataframe\">\n",
       "  <thead>\n",
       "    <tr style=\"text-align: right;\">\n",
       "      <th></th>\n",
       "      <th>DEP_DELAY_NEW</th>\n",
       "      <th>ARR_DELAY_NEW</th>\n",
       "    </tr>\n",
       "  </thead>\n",
       "  <tbody>\n",
       "    <tr>\n",
       "      <th>count</th>\n",
       "      <td>619547.000000</td>\n",
       "      <td>617649.000000</td>\n",
       "    </tr>\n",
       "    <tr>\n",
       "      <th>mean</th>\n",
       "      <td>13.568346</td>\n",
       "      <td>14.056019</td>\n",
       "    </tr>\n",
       "    <tr>\n",
       "      <th>std</th>\n",
       "      <td>48.416401</td>\n",
       "      <td>48.432797</td>\n",
       "    </tr>\n",
       "    <tr>\n",
       "      <th>min</th>\n",
       "      <td>0.000000</td>\n",
       "      <td>0.000000</td>\n",
       "    </tr>\n",
       "    <tr>\n",
       "      <th>25%</th>\n",
       "      <td>0.000000</td>\n",
       "      <td>0.000000</td>\n",
       "    </tr>\n",
       "    <tr>\n",
       "      <th>50%</th>\n",
       "      <td>0.000000</td>\n",
       "      <td>0.000000</td>\n",
       "    </tr>\n",
       "    <tr>\n",
       "      <th>75%</th>\n",
       "      <td>5.000000</td>\n",
       "      <td>7.000000</td>\n",
       "    </tr>\n",
       "    <tr>\n",
       "      <th>max</th>\n",
       "      <td>1690.000000</td>\n",
       "      <td>1707.000000</td>\n",
       "    </tr>\n",
       "  </tbody>\n",
       "</table>\n",
       "</div>"
      ],
      "text/plain": [
       "       DEP_DELAY_NEW  ARR_DELAY_NEW\n",
       "count  619547.000000  617649.000000\n",
       "mean       13.568346      14.056019\n",
       "std        48.416401      48.432797\n",
       "min         0.000000       0.000000\n",
       "25%         0.000000       0.000000\n",
       "50%         0.000000       0.000000\n",
       "75%         5.000000       7.000000\n",
       "max      1690.000000    1707.000000"
      ]
     },
     "execution_count": 332,
     "metadata": {},
     "output_type": "execute_result"
    }
   ],
   "source": [
    "df_raw[['DEP_DELAY_NEW', 'ARR_DELAY_NEW']].describe()"
   ]
  },
  {
   "cell_type": "code",
   "execution_count": 317,
   "metadata": {},
   "outputs": [
    {
     "data": {
      "text/plain": [
       "<AxesSubplot:>"
      ]
     },
     "execution_count": 317,
     "metadata": {},
     "output_type": "execute_result"
    },
    {
     "data": {
      "image/png": "[encoded data removed]",
      "text/plain": [
       "<Figure size 432x288 with 1 Axes>"
      ]
     },
     "metadata": {
      "needs_background": "light"
     },
     "output_type": "display_data"
    }
   ],
   "source": [
    "df_raw['ARR_DELAY_NEW'].hist(bins=50)"
   ]
  },
  {
   "cell_type": "code",
   "execution_count": 229,
   "metadata": {},
   "outputs": [
    {
     "data": {
      "text/plain": [
       "0         0722\n",
       "1         1633\n",
       "2         1329\n",
       "3         1625\n",
       "4         1940\n",
       "          ... \n",
       "583976    1028\n",
       "583977    1335\n",
       "583978    1457\n",
       "583979    1849\n",
       "583980    1832\n",
       "Name: ARR_TIME, Length: 566920, dtype: object"
      ]
     },
     "execution_count": 229,
     "metadata": {},
     "output_type": "execute_result"
    }
   ],
   "source": [
    "df_raw['ARR_TIME'].dropna().str.strip()[:-4]"
   ]
  },
  {
   "cell_type": "code",
   "execution_count": 230,
   "metadata": {},
   "outputs": [
    {
     "data": {
      "text/plain": [
       "1440"
      ]
     },
     "execution_count": 230,
     "metadata": {},
     "output_type": "execute_result"
    }
   ],
   "source": [
    "24 * 60"
   ]
  },
  {
   "cell_type": "code",
   "execution_count": 173,
   "metadata": {
    "collapsed": true,
    "jupyter": {
     "outputs_hidden": true
    }
   },
   "outputs": [
    {
     "name": "stdout",
     "output_type": "stream",
     "text": [
      "5731\n",
      "6638\n",
      "10723\n",
      "15190\n",
      "17444\n",
      "19770\n",
      "20344\n",
      "20583\n",
      "21294\n",
      "21746\n",
      "27010\n",
      "27404\n",
      "27499\n",
      "28007\n",
      "28437\n",
      "31044\n",
      "31090\n",
      "33642\n",
      "33753\n",
      "36441\n",
      "40729\n",
      "43820\n",
      "45217\n",
      "46292\n",
      "46392\n",
      "51883\n",
      "52097\n",
      "56078\n",
      "59606\n",
      "64492\n",
      "65902\n",
      "67166\n",
      "70125\n",
      "70974\n",
      "72359\n",
      "74934\n",
      "75372\n",
      "75431\n",
      "79446\n",
      "79708\n",
      "81644\n",
      "82648\n",
      "83509\n",
      "85260\n",
      "86366\n",
      "94182\n",
      "94534\n",
      "94743\n",
      "96457\n",
      "96773\n",
      "104310\n",
      "105738\n",
      "107891\n",
      "111496\n",
      "114649\n",
      "115133\n",
      "115331\n",
      "117887\n",
      "119718\n",
      "120322\n",
      "122549\n",
      "124863\n",
      "125462\n",
      "126674\n",
      "126900\n",
      "130521\n",
      "133531\n",
      "134282\n",
      "134390\n",
      "135165\n",
      "135278\n",
      "135880\n",
      "138969\n",
      "148315\n",
      "149031\n",
      "150989\n",
      "151313\n",
      "153327\n",
      "154610\n",
      "157333\n",
      "158482\n",
      "159690\n",
      "161816\n",
      "163016\n",
      "167901\n",
      "168331\n",
      "178058\n",
      "186929\n",
      "196072\n",
      "196108\n",
      "199937\n",
      "202369\n",
      "203958\n",
      "203968\n",
      "205940\n",
      "205973\n",
      "209908\n",
      "213515\n",
      "224915\n",
      "225546\n",
      "228821\n",
      "228994\n",
      "229136\n",
      "230637\n",
      "232514\n",
      "233088\n",
      "240326\n",
      "244395\n",
      "248798\n",
      "248981\n",
      "251610\n",
      "254117\n",
      "257620\n",
      "259176\n",
      "261389\n",
      "268774\n",
      "270561\n",
      "271760\n",
      "272919\n",
      "273071\n",
      "273406\n",
      "277534\n",
      "280097\n",
      "281245\n",
      "282768\n",
      "283961\n",
      "285776\n",
      "289205\n",
      "290016\n",
      "291024\n",
      "292442\n",
      "292612\n",
      "301447\n",
      "303854\n",
      "305743\n",
      "314751\n",
      "323533\n",
      "323729\n",
      "326421\n",
      "328398\n",
      "336574\n",
      "336862\n",
      "337560\n",
      "338062\n",
      "338675\n",
      "346575\n",
      "346606\n",
      "347144\n",
      "349054\n",
      "352313\n",
      "353248\n",
      "360511\n",
      "361867\n",
      "362150\n",
      "366031\n",
      "379416\n",
      "382620\n",
      "383448\n",
      "388171\n",
      "389493\n",
      "391524\n",
      "393165\n",
      "393511\n",
      "395268\n",
      "396434\n",
      "397564\n",
      "397778\n",
      "398614\n",
      "401072\n",
      "401168\n",
      "410528\n",
      "410653\n",
      "411408\n",
      "411876\n",
      "412496\n",
      "414457\n",
      "418462\n",
      "418893\n",
      "419273\n",
      "420622\n",
      "421381\n",
      "423139\n",
      "423871\n",
      "425597\n",
      "429296\n",
      "429597\n",
      "434759\n",
      "436925\n",
      "439271\n",
      "441061\n",
      "441804\n",
      "442062\n",
      "444106\n",
      "444428\n",
      "447920\n",
      "455326\n",
      "462717\n",
      "466429\n",
      "467260\n",
      "468471\n",
      "471188\n",
      "471949\n",
      "472352\n",
      "475717\n",
      "477971\n",
      "481255\n",
      "481430\n",
      "481672\n",
      "490690\n",
      "492160\n",
      "493822\n",
      "495535\n",
      "495552\n",
      "495856\n",
      "497569\n",
      "501753\n",
      "502541\n",
      "504384\n",
      "505077\n",
      "505125\n",
      "506322\n",
      "508114\n",
      "508913\n",
      "509996\n",
      "513862\n",
      "519960\n",
      "520522\n",
      "520535\n",
      "521078\n",
      "521680\n",
      "521841\n",
      "522544\n",
      "529505\n",
      "540318\n",
      "544625\n",
      "546650\n",
      "547117\n",
      "550254\n",
      "552231\n",
      "554258\n",
      "556519\n",
      "556742\n",
      "562406\n",
      "562459\n",
      "567086\n",
      "567543\n",
      "567658\n",
      "571165\n",
      "577634\n",
      "578092\n",
      "580728\n",
      "581983\n"
     ]
    }
   ],
   "source": [
    "from datetime import datetime\n",
    "\n",
    "i = 0\n",
    "for index, value in df_raw['ARR_TIME'].dropna().iteritems():\n",
    "    try: \n",
    "        myTime = datetime.strptime(value, \"%H%M\")\n",
    "    except:\n",
    "        print(index)"
   ]
  },
  {
   "cell_type": "code",
   "execution_count": 246,
   "metadata": {},
   "outputs": [],
   "source": [
    "df_raw['DAY_OF_MONTH'] = df_raw['DAY_OF_MONTH'].apply(lambda x: '0' + x if len(x) == 1 else x)\n",
    "df_raw['DEP_TIME'] = df_raw['DEP_TIME'].replace({'2400':'0000'})\n",
    "df_raw['DEPARTURE_DATE'] = '2019-01-' + df_raw['DAY_OF_MONTH'] + ' ' + df_raw['DEP_TIME']\n",
    "df_raw['DEPARTURE_DATE'] = pd.to_datetime(df_raw['DEPARTURE_DATE'])"
   ]
  },
  {
   "cell_type": "code",
   "execution_count": 247,
   "metadata": {},
   "outputs": [],
   "source": [
    "df_raw['DAY_OF_MONTH'] = df_raw['DAY_OF_MONTH'].apply(lambda x: '0' + x if len(x) == 1 else x)\n",
    "df_raw['ARR_TIME'] = df_raw['ARR_TIME'].replace({'2400':'0000'})\n",
    "df_raw['ARRIVAL_DATE'] = '2019-01-' + df_raw['DAY_OF_MONTH'] + ' ' + df_raw['ARR_TIME']\n",
    "df_raw['ARRIVAL_DATE'] = pd.to_datetime(df_raw['ARRIVAL_DATE'])"
   ]
  },
  {
   "cell_type": "code",
   "execution_count": 14,
   "metadata": {
    "collapsed": true,
    "jupyter": {
     "outputs_hidden": true
    }
   },
   "outputs": [
    {
     "data": {
      "text/plain": [
       "1     18009\n",
       "2     20384\n",
       "3     19522\n",
       "4     19566\n",
       "5     16807\n",
       "6     19448\n",
       "7     20015\n",
       "8     18815\n",
       "9     19236\n",
       "10    19980\n",
       "11    20082\n",
       "12    15315\n",
       "13    18561\n",
       "14    19941\n",
       "15    18653\n",
       "16    19099\n",
       "17    19960\n",
       "18    20009\n",
       "19    14935\n",
       "20    16875\n",
       "21    19511\n",
       "22    18657\n",
       "23    19099\n",
       "24    19963\n",
       "25    20041\n",
       "26    15267\n",
       "27    18575\n",
       "28    19934\n",
       "29    18662\n",
       "30    19102\n",
       "31    19962\n",
       "Name: DAY_OF_MONTH, dtype: int64"
      ]
     },
     "execution_count": 14,
     "metadata": {},
     "output_type": "execute_result"
    }
   ],
   "source": [
    "df_raw['DAY_OF_MONTH'].value_counts().sort_index()"
   ]
  },
  {
   "cell_type": "code",
   "execution_count": 16,
   "metadata": {},
   "outputs": [
    {
     "data": {
      "text/plain": [
       "1    79401\n",
       "2    92796\n",
       "3    96920\n",
       "4    99387\n",
       "5    79698\n",
       "6    62324\n",
       "7    73459\n",
       "Name: DAY_OF_WEEK, dtype: int64"
      ]
     },
     "execution_count": 16,
     "metadata": {},
     "output_type": "execute_result"
    }
   ],
   "source": [
    "df_raw['DAY_OF_WEEK'].value_counts().sort_index()"
   ]
  },
  {
   "cell_type": "code",
   "execution_count": 20,
   "metadata": {},
   "outputs": [
    {
     "data": {
      "text/plain": [
       "(17,\n",
       " array(['9E', 'AA', 'MQ', 'G4', 'OH', 'B6', 'YV', 'EV', 'F9', 'YX', 'HA',\n",
       "        'NK', 'OO', 'WN', 'AS', 'UA', 'DL'], dtype=object))"
      ]
     },
     "execution_count": 20,
     "metadata": {},
     "output_type": "execute_result"
    }
   ],
   "source": [
    "df_raw['OP_UNIQUE_CARRIER'].nunique(), df_raw['OP_UNIQUE_CARRIER'].unique()"
   ]
  },
  {
   "cell_type": "code",
   "execution_count": 22,
   "metadata": {},
   "outputs": [
    {
     "data": {
      "text/plain": [
       "(17,\n",
       " array(['9E', 'AA', 'MQ', 'G4', 'OH', 'B6', 'YV', 'EV', 'F9', 'YX', 'HA',\n",
       "        'NK', 'OO', 'WN', 'AS', 'UA', 'DL'], dtype=object))"
      ]
     },
     "execution_count": 22,
     "metadata": {},
     "output_type": "execute_result"
    }
   ],
   "source": [
    "df_raw['OP_CARRIER'].nunique(), df_raw['OP_CARRIER'].unique()"
   ]
  },
  {
   "cell_type": "code",
   "execution_count": 25,
   "metadata": {},
   "outputs": [
    {
     "data": {
      "text/plain": [
       "(583985, 583985)"
      ]
     },
     "execution_count": 25,
     "metadata": {},
     "output_type": "execute_result"
    }
   ],
   "source": [
    "(df_raw['OP_UNIQUE_CARRIER'] == df_raw['OP_CARRIER']).sum(), df_raw.shape[0]"
   ]
  },
  {
   "cell_type": "code",
   "execution_count": 26,
   "metadata": {},
   "outputs": [
    {
     "data": {
      "text/plain": [
       "(17,\n",
       " array([20363, 19805, 20398, 20368, 20397, 20409, 20378, 20366, 20436,\n",
       "        20452, 19690, 20416, 20304, 19393, 19930, 19977, 19790]))"
      ]
     },
     "execution_count": 26,
     "metadata": {},
     "output_type": "execute_result"
    }
   ],
   "source": [
    "df_raw['OP_CARRIER_AIRLINE_ID'].nunique(), df_raw['OP_CARRIER_AIRLINE_ID'].unique()"
   ]
  },
  {
   "cell_type": "markdown",
   "metadata": {},
   "source": [
    "`OP_UNIQUE_CARRIER` and `OP_CARRIER` are identical. Will only use one from now on."
   ]
  },
  {
   "cell_type": "code",
   "execution_count": null,
   "metadata": {},
   "outputs": [],
   "source": [
    "# What is the difference between TAIL_NUM & OP_CARRIER_FL_NUM"
   ]
  },
  {
   "cell_type": "code",
   "execution_count": 27,
   "metadata": {},
   "outputs": [
    {
     "data": {
      "text/plain": [
       "5446"
      ]
     },
     "execution_count": 27,
     "metadata": {},
     "output_type": "execute_result"
    }
   ],
   "source": [
    "df_raw['TAIL_NUM'].nunique()"
   ]
  },
  {
   "cell_type": "code",
   "execution_count": 28,
   "metadata": {},
   "outputs": [
    {
     "data": {
      "text/plain": [
       "6839"
      ]
     },
     "execution_count": 28,
     "metadata": {},
     "output_type": "execute_result"
    }
   ],
   "source": [
    "df_raw['OP_CARRIER_FL_NUM'].nunique()"
   ]
  },
  {
   "cell_type": "code",
   "execution_count": 33,
   "metadata": {},
   "outputs": [
    {
     "data": {
      "text/plain": [
       "(346, array([11953, 13487, 11433, 15249, 10397]))"
      ]
     },
     "execution_count": 33,
     "metadata": {},
     "output_type": "execute_result"
    }
   ],
   "source": [
    "df_raw['ORIGIN_AIRPORT_ID'].nunique(), df_raw['ORIGIN_AIRPORT_ID'].unique()[:5]"
   ]
  },
  {
   "cell_type": "code",
   "execution_count": 32,
   "metadata": {},
   "outputs": [
    {
     "data": {
      "text/plain": [
       "(346, array(['GNV', 'MSP', 'DTW', 'TLH', 'ATL'], dtype=object))"
      ]
     },
     "execution_count": 32,
     "metadata": {},
     "output_type": "execute_result"
    }
   ],
   "source": [
    "df_raw['ORIGIN'].nunique(), df_raw['ORIGIN'].unique()[:5]"
   ]
  },
  {
   "cell_type": "code",
   "execution_count": 36,
   "metadata": {},
   "outputs": [
    {
     "data": {
      "text/plain": [
       "(346, array([1195302, 1348702, 1143302, 1524906, 1039707]))"
      ]
     },
     "execution_count": 36,
     "metadata": {},
     "output_type": "execute_result"
    }
   ],
   "source": [
    "df_raw['ORIGIN_AIRPORT_SEQ_ID'].nunique(), df_raw['ORIGIN_AIRPORT_SEQ_ID'].unique()[:5]"
   ]
  },
  {
   "cell_type": "code",
   "execution_count": 39,
   "metadata": {},
   "outputs": [],
   "source": [
    "# Check the realtionship between `ORIGIN_AIRPORT_SEQ_ID` and `ORIGIN_AIRPORT_ID` (are IDs just another version). Check the same for destinations."
   ]
  },
  {
   "cell_type": "code",
   "execution_count": 38,
   "metadata": {},
   "outputs": [
    {
     "data": {
      "text/plain": [
       "(346, array([10397, 11193, 11778, 13487, 12953]))"
      ]
     },
     "execution_count": 38,
     "metadata": {},
     "output_type": "execute_result"
    }
   ],
   "source": [
    "df_raw['DEST_AIRPORT_ID'].nunique(), df_raw['DEST_AIRPORT_ID'].unique()[:5]"
   ]
  },
  {
   "cell_type": "code",
   "execution_count": 40,
   "metadata": {},
   "outputs": [
    {
     "data": {
      "text/plain": [
       "(346, array([1039707, 1119302, 1177801, 1348702, 1295304]))"
      ]
     },
     "execution_count": 40,
     "metadata": {},
     "output_type": "execute_result"
    }
   ],
   "source": [
    "df_raw['DEST_AIRPORT_SEQ_ID'].nunique(), df_raw['DEST_AIRPORT_SEQ_ID'].unique()[:5]"
   ]
  },
  {
   "cell_type": "code",
   "execution_count": 42,
   "metadata": {},
   "outputs": [
    {
     "data": {
      "text/plain": [
       "count    567633.000000\n",
       "mean       1331.957814\n",
       "std         495.404020\n",
       "min           1.000000\n",
       "25%         921.000000\n",
       "50%        1328.000000\n",
       "75%        1738.000000\n",
       "max        2400.000000\n",
       "Name: DEP_TIME, dtype: float64"
      ]
     },
     "execution_count": 42,
     "metadata": {},
     "output_type": "execute_result"
    }
   ],
   "source": [
    "df_raw['DEP_TIME'].describe()"
   ]
  },
  {
   "cell_type": "code",
   "execution_count": 44,
   "metadata": {},
   "outputs": [
    {
     "data": {
      "text/plain": [
       "count    567630.000000\n",
       "mean          0.174281\n",
       "std           0.379351\n",
       "min           0.000000\n",
       "25%           0.000000\n",
       "50%           0.000000\n",
       "75%           0.000000\n",
       "max           1.000000\n",
       "Name: DEP_DEL15, dtype: float64"
      ]
     },
     "execution_count": 44,
     "metadata": {},
     "output_type": "execute_result"
    }
   ],
   "source": [
    "df_raw['DEP_DEL15'].describe()"
   ]
  },
  {
   "cell_type": "code",
   "execution_count": 48,
   "metadata": {},
   "outputs": [
    {
     "data": {
      "text/plain": [
       "0001-0559    15877\n",
       "0600-0659    41971\n",
       "0700-0759    38450\n",
       "0800-0859    39031\n",
       "0900-0959    34384\n",
       "1000-1059    35768\n",
       "1100-1159    36774\n",
       "1200-1259    36918\n",
       "1300-1359    33413\n",
       "1400-1459    35925\n",
       "1500-1559    35988\n",
       "1600-1659    35250\n",
       "1700-1759    37254\n",
       "1800-1859    34670\n",
       "1900-1959    31823\n",
       "2000-2059    26057\n",
       "2100-2159    17844\n",
       "2200-2259    13019\n",
       "2300-2359     3569\n",
       "Name: DEP_TIME_BLK, dtype: int64"
      ]
     },
     "execution_count": 48,
     "metadata": {},
     "output_type": "execute_result"
    }
   ],
   "source": [
    "df_raw['DEP_TIME_BLK'].value_counts().sort_index()"
   ]
  },
  {
   "cell_type": "code",
   "execution_count": 49,
   "metadata": {},
   "outputs": [
    {
     "data": {
      "text/plain": [
       "count    566924.000000\n",
       "mean       1484.315921\n",
       "std         523.162855\n",
       "min           1.000000\n",
       "25%        1104.000000\n",
       "50%        1517.000000\n",
       "75%        1919.000000\n",
       "max        2400.000000\n",
       "Name: ARR_TIME, dtype: float64"
      ]
     },
     "execution_count": 49,
     "metadata": {},
     "output_type": "execute_result"
    }
   ],
   "source": [
    "df_raw['ARR_TIME'].describe()"
   ]
  },
  {
   "cell_type": "code",
   "execution_count": 50,
   "metadata": {},
   "outputs": [
    {
     "data": {
      "text/plain": [
       "count    565963.000000\n",
       "mean          0.185917\n",
       "std           0.389040\n",
       "min           0.000000\n",
       "25%           0.000000\n",
       "50%           0.000000\n",
       "75%           0.000000\n",
       "max           1.000000\n",
       "Name: ARR_DEL15, dtype: float64"
      ]
     },
     "execution_count": 50,
     "metadata": {},
     "output_type": "execute_result"
    }
   ],
   "source": [
    "df_raw['ARR_DEL15'].describe()"
   ]
  },
  {
   "cell_type": "code",
   "execution_count": 51,
   "metadata": {},
   "outputs": [
    {
     "data": {
      "text/plain": [
       "count    583985.000000\n",
       "mean          0.028641\n",
       "std           0.166796\n",
       "min           0.000000\n",
       "25%           0.000000\n",
       "50%           0.000000\n",
       "75%           0.000000\n",
       "max           1.000000\n",
       "Name: CANCELLED, dtype: float64"
      ]
     },
     "execution_count": 51,
     "metadata": {},
     "output_type": "execute_result"
    }
   ],
   "source": [
    "df_raw['CANCELLED'].describe()"
   ]
  },
  {
   "cell_type": "code",
   "execution_count": 52,
   "metadata": {},
   "outputs": [
    {
     "data": {
      "text/plain": [
       "count    583985.000000\n",
       "mean          0.002219\n",
       "std           0.047056\n",
       "min           0.000000\n",
       "25%           0.000000\n",
       "50%           0.000000\n",
       "75%           0.000000\n",
       "max           1.000000\n",
       "Name: DIVERTED, dtype: float64"
      ]
     },
     "execution_count": 52,
     "metadata": {},
     "output_type": "execute_result"
    }
   ],
   "source": [
    "df_raw['DIVERTED'].describe()"
   ]
  },
  {
   "cell_type": "code",
   "execution_count": 53,
   "metadata": {},
   "outputs": [
    {
     "data": {
      "text/plain": [
       "count    583985.000000\n",
       "mean        797.742767\n",
       "std         589.999261\n",
       "min          31.000000\n",
       "25%         363.000000\n",
       "50%         640.000000\n",
       "75%        1037.000000\n",
       "max        4983.000000\n",
       "Name: DISTANCE, dtype: float64"
      ]
     },
     "execution_count": 53,
     "metadata": {},
     "output_type": "execute_result"
    }
   ],
   "source": [
    "df_raw['DISTANCE'].describe()"
   ]
  },
  {
   "cell_type": "code",
   "execution_count": 30,
   "metadata": {},
   "outputs": [
    {
     "name": "stdout",
     "output_type": "stream",
     "text": [
      "<class 'pandas.core.frame.DataFrame'>\n",
      "RangeIndex: 583985 entries, 0 to 583984\n",
      "Data columns (total 22 columns):\n",
      " #   Column                 Non-Null Count   Dtype  \n",
      "---  ------                 --------------   -----  \n",
      " 0   DAY_OF_MONTH           583985 non-null  int64  \n",
      " 1   DAY_OF_WEEK            583985 non-null  int64  \n",
      " 2   OP_UNIQUE_CARRIER      583985 non-null  object \n",
      " 3   OP_CARRIER_AIRLINE_ID  583985 non-null  int64  \n",
      " 4   OP_CARRIER             583985 non-null  object \n",
      " 5   TAIL_NUM               581442 non-null  object \n",
      " 6   OP_CARRIER_FL_NUM      583985 non-null  int64  \n",
      " 7   ORIGIN_AIRPORT_ID      583985 non-null  int64  \n",
      " 8   ORIGIN_AIRPORT_SEQ_ID  583985 non-null  int64  \n",
      " 9   ORIGIN                 583985 non-null  object \n",
      " 10  DEST_AIRPORT_ID        583985 non-null  int64  \n",
      " 11  DEST_AIRPORT_SEQ_ID    583985 non-null  int64  \n",
      " 12  DEST                   583985 non-null  object \n",
      " 13  DEP_TIME               567633 non-null  float64\n",
      " 14  DEP_DEL15              567630 non-null  float64\n",
      " 15  DEP_TIME_BLK           583985 non-null  object \n",
      " 16  ARR_TIME               566924 non-null  float64\n",
      " 17  ARR_DEL15              565963 non-null  float64\n",
      " 18  CANCELLED              583985 non-null  float64\n",
      " 19  DIVERTED               583985 non-null  float64\n",
      " 20  DISTANCE               583985 non-null  float64\n",
      " 21  Unnamed: 21            0 non-null       float64\n",
      "dtypes: float64(8), int64(8), object(6)\n",
      "memory usage: 98.0+ MB\n"
     ]
    }
   ],
   "source": [
    "df_raw.info()"
   ]
  },
  {
   "cell_type": "code",
   "execution_count": 60,
   "metadata": {},
   "outputs": [
    {
     "data": {
      "image/png": "[encoded data removed]",
      "text/plain": [
       "<Figure size 432x288 with 1 Axes>"
      ]
     },
     "metadata": {
      "needs_background": "light"
     },
     "output_type": "display_data"
    }
   ],
   "source": [
    "df_raw['DAY_OF_MONTH'].hist(bins=31);"
   ]
  },
  {
   "cell_type": "code",
   "execution_count": 67,
   "metadata": {},
   "outputs": [
    {
     "data": {
      "image/png": "[encoded data removed]",
      "text/plain": [
       "<Figure size 432x288 with 1 Axes>"
      ]
     },
     "metadata": {
      "needs_background": "light"
     },
     "output_type": "display_data"
    }
   ],
   "source": [
    "df_raw['DAY_OF_WEEK'].hist(bins=21);"
   ]
  },
  {
   "cell_type": "code",
   "execution_count": 71,
   "metadata": {},
   "outputs": [
    {
     "data": {
      "image/png": "[encoded data removed]",
      "text/plain": [
       "<Figure size 432x288 with 1 Axes>"
      ]
     },
     "metadata": {
      "needs_background": "light"
     },
     "output_type": "display_data"
    }
   ],
   "source": [
    "df_raw['OP_UNIQUE_CARRIER'].value_counts().plot(kind='bar');"
   ]
  },
  {
   "cell_type": "code",
   "execution_count": 75,
   "metadata": {},
   "outputs": [
    {
     "data": {
      "text/plain": [
       "count      346.000000\n",
       "mean      1687.817919\n",
       "std       3942.287432\n",
       "min          8.000000\n",
       "25%         81.000000\n",
       "50%        259.000000\n",
       "75%       1057.750000\n",
       "max      31155.000000\n",
       "Name: ORIGIN, dtype: float64"
      ]
     },
     "execution_count": 75,
     "metadata": {},
     "output_type": "execute_result"
    }
   ],
   "source": [
    "df_raw['ORIGIN'].value_counts().describe()"
   ]
  },
  {
   "cell_type": "code",
   "execution_count": 74,
   "metadata": {},
   "outputs": [
    {
     "data": {
      "image/png": "[encoded data removed]",
      "text/plain": [
       "<Figure size 432x288 with 1 Axes>"
      ]
     },
     "metadata": {
      "needs_background": "light"
     },
     "output_type": "display_data"
    }
   ],
   "source": [
    "df_raw['ORIGIN'].value_counts()[:10].plot(kind='bar');"
   ]
  },
  {
   "cell_type": "code",
   "execution_count": 79,
   "metadata": {},
   "outputs": [
    {
     "data": {
      "text/plain": [
       "count      346.000000\n",
       "mean      1687.817919\n",
       "std       3942.406894\n",
       "min          8.000000\n",
       "25%         81.000000\n",
       "50%        258.500000\n",
       "75%       1059.500000\n",
       "max      31151.000000\n",
       "Name: DEST, dtype: float64"
      ]
     },
     "execution_count": 79,
     "metadata": {},
     "output_type": "execute_result"
    }
   ],
   "source": [
    "df_raw['DEST'].value_counts().describe()"
   ]
  },
  {
   "cell_type": "code",
   "execution_count": 78,
   "metadata": {},
   "outputs": [
    {
     "data": {
      "image/png": "[encoded data removed]",
      "text/plain": [
       "<Figure size 432x288 with 1 Axes>"
      ]
     },
     "metadata": {
      "needs_background": "light"
     },
     "output_type": "display_data"
    }
   ],
   "source": [
    "df_raw['DEST'].value_counts()[:10].plot(kind='bar');"
   ]
  },
  {
   "cell_type": "code",
   "execution_count": 82,
   "metadata": {},
   "outputs": [
    {
     "data": {
      "image/png": "[encoded data removed]",
      "text/plain": [
       "<Figure size 432x288 with 1 Axes>"
      ]
     },
     "metadata": {
      "needs_background": "light"
     },
     "output_type": "display_data"
    }
   ],
   "source": [
    "df_raw['DEP_TIME_BLK'].value_counts().sort_index().plot(kind='bar');"
   ]
  },
  {
   "cell_type": "code",
   "execution_count": 94,
   "metadata": {},
   "outputs": [
    {
     "data": {
      "text/plain": [
       "DAY_OF_WEEK  DEP_DEL15\n",
       "1            0.0          0.823468\n",
       "             1.0          0.176532\n",
       "2            0.0          0.840460\n",
       "             1.0          0.159540\n",
       "3            0.0          0.819860\n",
       "             1.0          0.180140\n",
       "4            0.0          0.802427\n",
       "             1.0          0.197573\n",
       "5            0.0          0.827934\n",
       "             1.0          0.172066\n",
       "6            0.0          0.853545\n",
       "             1.0          0.146455\n",
       "7            0.0          0.822842\n",
       "             1.0          0.177158\n",
       "Name: DEP_DEL15, dtype: float64"
      ]
     },
     "execution_count": 94,
     "metadata": {},
     "output_type": "execute_result"
    }
   ],
   "source": [
    "df_raw.groupby(['DAY_OF_WEEK'])['DEP_DEL15'].value_counts(normalize=True)"
   ]
  },
  {
   "cell_type": "code",
   "execution_count": 100,
   "metadata": {},
   "outputs": [
    {
     "data": {
      "text/plain": [
       "count    567630.000000\n",
       "mean          0.174281\n",
       "std           0.379351\n",
       "min           0.000000\n",
       "25%           0.000000\n",
       "50%           0.000000\n",
       "75%           0.000000\n",
       "max           1.000000\n",
       "Name: DEP_DEL15, dtype: float64"
      ]
     },
     "execution_count": 100,
     "metadata": {},
     "output_type": "execute_result"
    }
   ],
   "source": [
    "df_raw['DEP_DEL15'].describe()"
   ]
  },
  {
   "cell_type": "code",
   "execution_count": 101,
   "metadata": {},
   "outputs": [],
   "source": [
    "# 83% of our flights have no delay when departing. Out of these 83%, 94% have no delay when departing and arriving as well.\n",
    "# However, even if departing on time, 5.7% of flights result in a delay when arriving.\n",
    "# When a delay happens when departing, 20% of flights manage to nonetheless arrive on time.\n",
    "# When a delay happens when departing, 79.6% do arrive late as well."
   ]
  },
  {
   "cell_type": "code",
   "execution_count": 99,
   "metadata": {},
   "outputs": [
    {
     "data": {
      "text/plain": [
       "DEP_DEL15  ARR_DEL15\n",
       "0.0        0.0          0.942407\n",
       "           1.0          0.057593\n",
       "1.0        0.0          0.203621\n",
       "           1.0          0.796379\n",
       "Name: ARR_DEL15, dtype: float64"
      ]
     },
     "execution_count": 99,
     "metadata": {},
     "output_type": "execute_result"
    }
   ],
   "source": [
    "df_raw.groupby(['DEP_DEL15'])['ARR_DEL15'].value_counts(normalize=True).sort_index()"
   ]
  },
  {
   "cell_type": "code",
   "execution_count": null,
   "metadata": {},
   "outputs": [],
   "source": [
    "# All Flights between Atlanta and Washington\n",
    "# Only those who had no delay when departing or arriving\n",
    "# check distribution of flight duration\n",
    "# it should have a maximum variance of 15 minutes (because there is no delay)"
   ]
  },
  {
   "cell_type": "code",
   "execution_count": 108,
   "metadata": {},
   "outputs": [],
   "source": [
    "origin_airport = 'ATL'\n",
    "dest_airport = 'MCO'"
   ]
  },
  {
   "cell_type": "code",
   "execution_count": 293,
   "metadata": {},
   "outputs": [],
   "source": [
    "df_ontime = df_raw.loc[(df_raw['ORIGIN'] == origin_airport) & \n",
    "           (df_raw['DEST'] == dest_airport) & \n",
    "           (df_raw['DEP_DEL15'] == 0) &\n",
    "           (df_raw['ARR_DEL15'] == 0), ['DEPARTURE_DATE', 'ARRIVAL_DATE']].copy()"
   ]
  },
  {
   "cell_type": "code",
   "execution_count": 294,
   "metadata": {},
   "outputs": [
    {
     "name": "stdout",
     "output_type": "stream",
     "text": [
      "<class 'pandas.core.frame.DataFrame'>\n",
      "Int64Index: 682 entries, 1610 to 579363\n",
      "Data columns (total 2 columns):\n",
      " #   Column          Non-Null Count  Dtype         \n",
      "---  ------          --------------  -----         \n",
      " 0   DEPARTURE_DATE  682 non-null    datetime64[ns]\n",
      " 1   ARRIVAL_DATE    682 non-null    datetime64[ns]\n",
      "dtypes: datetime64[ns](2)\n",
      "memory usage: 16.0 KB\n"
     ]
    }
   ],
   "source": [
    "df_ontime.info()"
   ]
  },
  {
   "cell_type": "code",
   "execution_count": 295,
   "metadata": {},
   "outputs": [],
   "source": [
    "# take of overnight days\n",
    "df_ontime['FLIGHT_DURATION'] = df_ontime['ARRIVAL_DATE'] - df_ontime['DEPARTURE_DATE']\n",
    "df_ontime['FLIGHT_DURATION'] = df_ontime['FLIGHT_DURATION'].dt.seconds / 60"
   ]
  },
  {
   "cell_type": "code",
   "execution_count": 296,
   "metadata": {},
   "outputs": [
    {
     "data": {
      "text/plain": [
       "count    682.000000\n",
       "mean      84.648094\n",
       "std        7.421201\n",
       "min       67.000000\n",
       "25%       80.000000\n",
       "50%       83.500000\n",
       "75%       89.000000\n",
       "max      115.000000\n",
       "Name: FLIGHT_DURATION, dtype: float64"
      ]
     },
     "execution_count": 296,
     "metadata": {},
     "output_type": "execute_result"
    }
   ],
   "source": [
    "df_ontime['FLIGHT_DURATION'].describe()"
   ]
  },
  {
   "cell_type": "code",
   "execution_count": 297,
   "metadata": {},
   "outputs": [
    {
     "data": {
      "text/plain": [
       "<AxesSubplot:>"
      ]
     },
     "execution_count": 297,
     "metadata": {},
     "output_type": "execute_result"
    },
    {
     "data": {
      "image/png": "[encoded data removed]",
      "text/plain": [
       "<Figure size 432x288 with 1 Axes>"
      ]
     },
     "metadata": {
      "needs_background": "light"
     },
     "output_type": "display_data"
    }
   ],
   "source": [
    "df_ontime['FLIGHT_DURATION'].hist()"
   ]
  },
  {
   "cell_type": "code",
   "execution_count": 298,
   "metadata": {},
   "outputs": [],
   "source": [
    "df_late = df_raw.loc[(df_raw['ORIGIN'] == origin_airport) & \n",
    "           (df_raw['DEST'] == dest_airport) & \n",
    "           (df_raw['DEP_DEL15'] == 1) &\n",
    "           (df_raw['ARR_DEL15'] == 1), ['DEPARTURE_DATE', 'ARRIVAL_DATE']].copy()"
   ]
  },
  {
   "cell_type": "code",
   "execution_count": 299,
   "metadata": {},
   "outputs": [],
   "source": [
    "# take of overnight days\n",
    "df_late['FLIGHT_DURATION'] = df_late['ARRIVAL_DATE'] - df_late['DEPARTURE_DATE']\n",
    "df_late['FLIGHT_DURATION'] = df_late['FLIGHT_DURATION'].dt.seconds / 60"
   ]
  },
  {
   "cell_type": "code",
   "execution_count": 300,
   "metadata": {},
   "outputs": [
    {
     "data": {
      "text/plain": [
       "count     74.000000\n",
       "mean      88.675676\n",
       "std        9.845530\n",
       "min       74.000000\n",
       "25%       81.000000\n",
       "50%       87.000000\n",
       "75%       94.000000\n",
       "max      115.000000\n",
       "Name: FLIGHT_DURATION, dtype: float64"
      ]
     },
     "execution_count": 300,
     "metadata": {},
     "output_type": "execute_result"
    }
   ],
   "source": [
    "df_late['FLIGHT_DURATION'].describe()"
   ]
  },
  {
   "cell_type": "code",
   "execution_count": 301,
   "metadata": {},
   "outputs": [
    {
     "data": {
      "text/plain": [
       "<AxesSubplot:>"
      ]
     },
     "execution_count": 301,
     "metadata": {},
     "output_type": "execute_result"
    },
    {
     "data": {
      "image/png": "[encoded data removed]",
      "text/plain": [
       "<Figure size 432x288 with 1 Axes>"
      ]
     },
     "metadata": {
      "needs_background": "light"
     },
     "output_type": "display_data"
    }
   ],
   "source": [
    "df_late['FLIGHT_DURATION'].hist()"
   ]
  },
  {
   "cell_type": "code",
   "execution_count": 304,
   "metadata": {},
   "outputs": [
    {
     "data": {
      "text/plain": [
       "Index(['DAY_OF_MONTH', 'DAY_OF_WEEK', 'OP_UNIQUE_CARRIER',\n",
       "       'OP_CARRIER_AIRLINE_ID', 'OP_CARRIER', 'TAIL_NUM', 'OP_CARRIER_FL_NUM',\n",
       "       'ORIGIN_AIRPORT_ID', 'ORIGIN_AIRPORT_SEQ_ID', 'ORIGIN',\n",
       "       'DEST_AIRPORT_ID', 'DEST_AIRPORT_SEQ_ID', 'DEST', 'DEP_TIME',\n",
       "       'DEP_DEL15', 'DEP_TIME_BLK', 'ARR_TIME', 'ARR_DEL15', 'CANCELLED',\n",
       "       'DIVERTED', 'DISTANCE', 'Unnamed: 21', 'ARRIVAL_DATE',\n",
       "       'DEPARTURE_DATE'],\n",
       "      dtype='object')"
      ]
     },
     "execution_count": 304,
     "metadata": {},
     "output_type": "execute_result"
    }
   ],
   "source": [
    "df_raw.columns"
   ]
  },
  {
   "cell_type": "code",
   "execution_count": 306,
   "metadata": {},
   "outputs": [
    {
     "data": {
      "text/plain": [
       "357"
      ]
     },
     "execution_count": 306,
     "metadata": {},
     "output_type": "execute_result"
    }
   ],
   "source": [
    "df_raw.loc[(df_raw['ORIGIN'] == origin_airport) & \n",
    "           (df_raw['DEST'] == dest_airport), 'TAIL_NUM'].nunique()"
   ]
  },
  {
   "cell_type": "code",
   "execution_count": 307,
   "metadata": {},
   "outputs": [
    {
     "data": {
      "text/plain": [
       "104"
      ]
     },
     "execution_count": 307,
     "metadata": {},
     "output_type": "execute_result"
    }
   ],
   "source": [
    "df_raw.loc[(df_raw['ORIGIN'] == origin_airport) & \n",
    "           (df_raw['DEST'] == dest_airport), 'OP_CARRIER_FL_NUM'].nunique()"
   ]
  },
  {
   "cell_type": "code",
   "execution_count": 309,
   "metadata": {},
   "outputs": [
    {
     "data": {
      "text/html": [
       "<div>\n",
       "<style scoped>\n",
       "    .dataframe tbody tr th:only-of-type {\n",
       "        vertical-align: middle;\n",
       "    }\n",
       "\n",
       "    .dataframe tbody tr th {\n",
       "        vertical-align: top;\n",
       "    }\n",
       "\n",
       "    .dataframe thead th {\n",
       "        text-align: right;\n",
       "    }\n",
       "</style>\n",
       "<table border=\"1\" class=\"dataframe\">\n",
       "  <thead>\n",
       "    <tr style=\"text-align: right;\">\n",
       "      <th></th>\n",
       "      <th>OP_CARRIER</th>\n",
       "      <th>TAIL_NUM</th>\n",
       "      <th>OP_CARRIER_FL_NUM</th>\n",
       "    </tr>\n",
       "  </thead>\n",
       "  <tbody>\n",
       "    <tr>\n",
       "      <th>1610</th>\n",
       "      <td>B6</td>\n",
       "      <td>N520JB</td>\n",
       "      <td>1153</td>\n",
       "    </tr>\n",
       "    <tr>\n",
       "      <th>2222</th>\n",
       "      <td>F9</td>\n",
       "      <td>N702FR</td>\n",
       "      <td>1560</td>\n",
       "    </tr>\n",
       "    <tr>\n",
       "      <th>3050</th>\n",
       "      <td>NK</td>\n",
       "      <td>N651NK</td>\n",
       "      <td>1207</td>\n",
       "    </tr>\n",
       "    <tr>\n",
       "      <th>6015</th>\n",
       "      <td>WN</td>\n",
       "      <td>N940WN</td>\n",
       "      <td>374</td>\n",
       "    </tr>\n",
       "    <tr>\n",
       "      <th>6016</th>\n",
       "      <td>WN</td>\n",
       "      <td>N705SW</td>\n",
       "      <td>825</td>\n",
       "    </tr>\n",
       "    <tr>\n",
       "      <th>...</th>\n",
       "      <td>...</td>\n",
       "      <td>...</td>\n",
       "      <td>...</td>\n",
       "    </tr>\n",
       "    <tr>\n",
       "      <th>576435</th>\n",
       "      <td>WN</td>\n",
       "      <td>N481WN</td>\n",
       "      <td>402</td>\n",
       "    </tr>\n",
       "    <tr>\n",
       "      <th>576436</th>\n",
       "      <td>WN</td>\n",
       "      <td>N229WN</td>\n",
       "      <td>692</td>\n",
       "    </tr>\n",
       "    <tr>\n",
       "      <th>576437</th>\n",
       "      <td>WN</td>\n",
       "      <td>N8635F</td>\n",
       "      <td>1232</td>\n",
       "    </tr>\n",
       "    <tr>\n",
       "      <th>576438</th>\n",
       "      <td>WN</td>\n",
       "      <td>N781WN</td>\n",
       "      <td>3998</td>\n",
       "    </tr>\n",
       "    <tr>\n",
       "      <th>579363</th>\n",
       "      <td>NK</td>\n",
       "      <td>N623NK</td>\n",
       "      <td>565</td>\n",
       "    </tr>\n",
       "  </tbody>\n",
       "</table>\n",
       "<p>804 rows × 3 columns</p>\n",
       "</div>"
      ],
      "text/plain": [
       "       OP_CARRIER TAIL_NUM  OP_CARRIER_FL_NUM\n",
       "1610           B6   N520JB               1153\n",
       "2222           F9   N702FR               1560\n",
       "3050           NK   N651NK               1207\n",
       "6015           WN   N940WN                374\n",
       "6016           WN   N705SW                825\n",
       "...           ...      ...                ...\n",
       "576435         WN   N481WN                402\n",
       "576436         WN   N229WN                692\n",
       "576437         WN   N8635F               1232\n",
       "576438         WN   N781WN               3998\n",
       "579363         NK   N623NK                565\n",
       "\n",
       "[804 rows x 3 columns]"
      ]
     },
     "execution_count": 309,
     "metadata": {},
     "output_type": "execute_result"
    }
   ],
   "source": [
    "df_raw.loc[(df_raw['ORIGIN'] == origin_airport) & \n",
    "           (df_raw['DEST'] == dest_airport), ['OP_CARRIER', 'TAIL_NUM', 'OP_CARRIER_FL_NUM']]"
   ]
  },
  {
   "cell_type": "code",
   "execution_count": null,
   "metadata": {},
   "outputs": [],
   "source": []
  }
 ],
 "metadata": {
  "kernelspec": {
   "display_name": "Python 3",
   "language": "python",
   "name": "python3"
  },
  "language_info": {
   "codemirror_mode": {
    "name": "ipython",
    "version": 3
   },
   "file_extension": ".py",
   "mimetype": "text/x-python",
   "name": "python",
   "nbconvert_exporter": "python",
   "pygments_lexer": "ipython3",
   "version": "3.8.3"
  },
  "toc-autonumbering": true
 },
 "nbformat": 4,
 "nbformat_minor": 4
}
