{
 "cells": [
  {
   "cell_type": "code",
   "execution_count": 1,
   "metadata": {},
   "outputs": [],
   "source": [
    "import os\n",
    "import boto3"
   ]
  },
  {
   "cell_type": "code",
   "execution_count": 5,
   "metadata": {},
   "outputs": [],
   "source": [
    "aws_user = os.environ['aws_access_key']\n",
    "aws_key = os.environ['aws_secret_key']\n",
    "region_name = 'eu-central-1'\n",
    "session = boto3.session.Session(\n",
    "    aws_access_key_id=aws_user,\n",
    "    aws_secret_access_key=aws_key,\n",
    "    region_name=region_name)\n",
    "s3_client = session.client('s3')\n",
    "s3 = session.resource('s3')"
   ]
  },
  {
   "cell_type": "code",
   "execution_count": 7,
   "metadata": {},
   "outputs": [
    {
     "name": "stdout",
     "output_type": "stream",
     "text": [
      "aida-project\n",
      "cseng-1468-bucket\n",
      "flutz-bucket\n",
      "igeokce-s3quest\n",
      "jgodley-q1468\n",
      "jgodley-q1490\n",
      "jpoliak-1468\n",
      "jpoliak1394\n",
      "jpoliak1490\n",
      "mpensel-aida-live\n",
      "njeno-auto-ml\n",
      "peckert-1464-bucket\n",
      "peckert-1490-automl\n",
      "sagemaker-eu-central-1-898627427171\n",
      "sagemaker-studio-898627427171-of0968vn9r\n",
      "sharston\n",
      "sjf-project\n",
      "ye-1468\n",
      "ye-1490\n"
     ]
    }
   ],
   "source": [
    "for bucket in list(s3.buckets.all()):\n",
    "    print(bucket.name)"
   ]
  },
  {
   "cell_type": "code",
   "execution_count": null,
   "metadata": {},
   "outputs": [],
   "source": []
  }
 ],
 "metadata": {
  "kernelspec": {
   "display_name": "Python 3",
   "language": "python",
   "name": "python3"
  },
  "language_info": {
   "codemirror_mode": {
    "name": "ipython",
    "version": 3
   },
   "file_extension": ".py",
   "mimetype": "text/x-python",
   "name": "python",
   "nbconvert_exporter": "python",
   "pygments_lexer": "ipython3",
   "version": "3.8.5"
  }
 },
 "nbformat": 4,
 "nbformat_minor": 4
}
