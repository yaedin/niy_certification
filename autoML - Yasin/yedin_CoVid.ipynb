{
 "cells": [
  {
   "cell_type": "markdown",
   "metadata": {},
   "source": [
    "# Imports and Variables"
   ]
  },
  {
   "cell_type": "code",
   "execution_count": 1,
   "metadata": {},
   "outputs": [],
   "source": [
    "import os\n",
    "import boto3\n",
    "from botocore.exceptions import ClientError\n",
    "import logging\n",
    "import sagemaker\n",
    "from sagemaker import get_execution_role\n",
    "from time import gmtime, strftime, sleep\n",
    "import pandas as pd\n",
    "import matplotlib.pyplot as plt"
   ]
  },
  {
   "cell_type": "code",
   "execution_count": 2,
   "metadata": {},
   "outputs": [],
   "source": [
    "aws_user = os.environ['AWS_USER']\n",
    "aws_key = os.environ['AWS_KEY']\n",
    "region_name = 'eu-central-1'\n",
    "\n",
    "session = boto3.session.Session(\n",
    "    aws_access_key_id=aws_user,\n",
    "    aws_secret_access_key=aws_key,\n",
    "    region_name=region_name)\n",
    "\n",
    "s3_client = session.client('s3')\n",
    "s3 = session.resource('s3')\n",
    "\n",
    "region_name = 'eu-central-1'\n",
    "bucket_name = 'niy-certification'\n",
    "\n",
    "role = 'arn:aws:iam::898627427171:role/service-role/AmazonSageMaker-ExecutionRole-20201106T104926'"
   ]
  },
  {
   "cell_type": "markdown",
   "metadata": {},
   "source": [
    "# Load all Data"
   ]
  },
  {
   "cell_type": "code",
   "execution_count": 3,
   "metadata": {},
   "outputs": [],
   "source": [
    "def get_preproccessed_df(s3_link):\n",
    "    df_raw = pd.read_csv(s3_link, dtype={'DAY_OF_MONTH': str, 'CRS_ARR_TIME': str, 'CRS_DEP_TIME': str})\n",
    "    columns_to_drop = ['Unnamed: 54']\n",
    "    # drop flights which are either canceled or diverted\n",
    "    # as this is a conceptually different thing than being delayed\n",
    "    \n",
    "    df_raw = df_raw.drop(columns_to_drop, axis=1)\n",
    "    \n",
    "    return df_raw"
   ]
  },
  {
   "cell_type": "code",
   "execution_count": 4,
   "metadata": {},
   "outputs": [],
   "source": [
    "base_path = 'https://niy-certification.s3.eu-central-1.amazonaws.com/usdot/'\n",
    "months = ['Jan', 'Feb', 'Mar', 'Apr', 'May', 'Jun', 'Jul', 'Aug', 'Sep']\n",
    "years = ['_2019_usdot.csv', '_2020_usdot.csv']"
   ]
  },
  {
   "cell_type": "code",
   "execution_count": 5,
   "metadata": {},
   "outputs": [
    {
     "name": "stdout",
     "output_type": "stream",
     "text": [
      "(638649, 54)\n",
      "(1221615, 54)\n",
      "(1910836, 54)\n",
      "(2579095, 54)\n",
      "(3273406, 54)\n",
      "(3967875, 54)\n",
      "(4685559, 54)\n",
      "(5403015, 54)\n",
      "(6063727, 54)\n",
      "(6724283, 54)\n",
      "(7347386, 54)\n",
      "(8048660, 54)\n",
      "(8379898, 54)\n",
      "(8572310, 54)\n",
      "(8809574, 54)\n",
      "(9180433, 54)\n",
      "(9578903, 54)\n",
      "(9924197, 54)\n"
     ]
    }
   ],
   "source": [
    "i = 0\n",
    "\n",
    "for year in years:\n",
    "    for month in months:\n",
    "        if i == 0:\n",
    "            df = get_preproccessed_df(base_path + month + year)\n",
    "            print(df.shape)\n",
    "        else:\n",
    "            df_temp = get_preproccessed_df(base_path + month + year)\n",
    "            df = df.append(df_temp)\n",
    "            print(df.shape)\n",
    "        i += 1"
   ]
  },
  {
   "cell_type": "code",
   "execution_count": 6,
   "metadata": {},
   "outputs": [],
   "source": [
    "df['YEARMONTH'] = df['YEAR'].astype(str) + '0' + df['MONTH'].astype(str)"
   ]
  },
  {
   "cell_type": "code",
   "execution_count": 7,
   "metadata": {},
   "outputs": [
    {
     "data": {
      "text/plain": [
       "Index(['YEAR', 'MONTH', 'DAY_OF_MONTH', 'DAY_OF_WEEK', 'FL_DATE',\n",
       "       'OP_UNIQUE_CARRIER', 'OP_CARRIER_AIRLINE_ID', 'OP_CARRIER', 'TAIL_NUM',\n",
       "       'OP_CARRIER_FL_NUM', 'ORIGIN_AIRPORT_ID', 'ORIGIN_AIRPORT_SEQ_ID',\n",
       "       'ORIGIN_CITY_MARKET_ID', 'ORIGIN', 'ORIGIN_CITY_NAME',\n",
       "       'ORIGIN_STATE_ABR', 'ORIGIN_STATE_FIPS', 'ORIGIN_STATE_NM',\n",
       "       'DEST_AIRPORT_ID', 'DEST_AIRPORT_SEQ_ID', 'DEST_CITY_MARKET_ID', 'DEST',\n",
       "       'DEST_CITY_NAME', 'DEST_STATE_ABR', 'DEST_STATE_FIPS', 'DEST_STATE_NM',\n",
       "       'CRS_DEP_TIME', 'DEP_TIME', 'DEP_DELAY', 'DEP_DELAY_NEW', 'DEP_DEL15',\n",
       "       'DEP_DELAY_GROUP', 'DEP_TIME_BLK', 'WHEELS_OFF', 'WHEELS_ON',\n",
       "       'CRS_ARR_TIME', 'ARR_TIME', 'ARR_DELAY', 'ARR_DELAY_NEW', 'ARR_DEL15',\n",
       "       'ARR_DELAY_GROUP', 'ARR_TIME_BLK', 'CANCELLED', 'DIVERTED',\n",
       "       'CRS_ELAPSED_TIME', 'ACTUAL_ELAPSED_TIME', 'AIR_TIME', 'FLIGHTS',\n",
       "       'DISTANCE', 'CARRIER_DELAY', 'WEATHER_DELAY', 'NAS_DELAY',\n",
       "       'SECURITY_DELAY', 'LATE_AIRCRAFT_DELAY', 'YEARMONTH'],\n",
       "      dtype='object')"
      ]
     },
     "execution_count": 7,
     "metadata": {},
     "output_type": "execute_result"
    }
   ],
   "source": [
    "df.columns"
   ]
  },
  {
   "cell_type": "code",
   "execution_count": 8,
   "metadata": {},
   "outputs": [
    {
     "data": {
      "text/plain": [
       "137163"
      ]
     },
     "execution_count": 8,
     "metadata": {},
     "output_type": "execute_result"
    }
   ],
   "source": [
    "df.loc[df['YEARMONTH'] == '202004', 'ARR_DELAY_NEW'].isna().sum()"
   ]
  },
  {
   "cell_type": "code",
   "execution_count": 9,
   "metadata": {},
   "outputs": [
    {
     "data": {
      "text/plain": [
       "0.0    194390\n",
       "1.0    136848\n",
       "Name: CANCELLED, dtype: int64"
      ]
     },
     "execution_count": 9,
     "metadata": {},
     "output_type": "execute_result"
    }
   ],
   "source": [
    "df.loc[df['YEARMONTH'] == '202004', 'CANCELLED'].value_counts()"
   ]
  },
  {
   "cell_type": "code",
   "execution_count": 10,
   "metadata": {},
   "outputs": [
    {
     "data": {
      "text/plain": [
       "194075"
      ]
     },
     "execution_count": 10,
     "metadata": {},
     "output_type": "execute_result"
    }
   ],
   "source": [
    "df.loc[df['YEARMONTH'] == '202004', 'ARR_DEL15'].count()"
   ]
  },
  {
   "cell_type": "code",
   "execution_count": 11,
   "metadata": {},
   "outputs": [
    {
     "data": {
      "text/plain": [
       "194075"
      ]
     },
     "execution_count": 11,
     "metadata": {},
     "output_type": "execute_result"
    }
   ],
   "source": [
    "df.loc[(df['YEARMONTH'] == '202004') &\n",
    "       (df['CANCELLED'] == 0) &\n",
    "       (df['DIVERTED'] == 0), 'ARR_DELAY_NEW'].count()"
   ]
  },
  {
   "cell_type": "markdown",
   "metadata": {},
   "source": [
    "# Counts"
   ]
  },
  {
   "cell_type": "code",
   "execution_count": 12,
   "metadata": {},
   "outputs": [
    {
     "data": {
      "text/plain": [
       "YEARMONTH\n",
       "201901    638649\n",
       "201902    582966\n",
       "201903    689221\n",
       "201904    668259\n",
       "201905    694311\n",
       "201906    694469\n",
       "201907    717684\n",
       "201908    717456\n",
       "201909    660712\n",
       "202001    660556\n",
       "202002    623103\n",
       "202003    701274\n",
       "202004    331238\n",
       "202005    192412\n",
       "202006    237264\n",
       "202007    370859\n",
       "202008    398470\n",
       "202009    345294\n",
       "Name: FLIGHTS, dtype: int64"
      ]
     },
     "execution_count": 12,
     "metadata": {},
     "output_type": "execute_result"
    }
   ],
   "source": [
    "df.groupby('YEARMONTH')['FLIGHTS'].count()"
   ]
  },
  {
   "cell_type": "markdown",
   "metadata": {},
   "source": [
    "As expected, the number of flights drastically decreased, once the lockdown was implemented early 2020."
   ]
  },
  {
   "cell_type": "markdown",
   "metadata": {},
   "source": [
    "# Delays"
   ]
  },
  {
   "cell_type": "code",
   "execution_count": 13,
   "metadata": {},
   "outputs": [
    {
     "data": {
      "text/plain": [
       "YEARMONTH\n",
       "201901    617649\n",
       "201902    562827\n",
       "201903    674529\n",
       "201904    650917\n",
       "201905    677931\n",
       "201906    677024\n",
       "201907    700359\n",
       "201908    702580\n",
       "201909    648269\n",
       "202001    650850\n",
       "202002    615826\n",
       "202003    582123\n",
       "202004    194075\n",
       "202005    179778\n",
       "202006    235861\n",
       "202007    367076\n",
       "202008    393285\n",
       "202009    342293\n",
       "Name: ARR_DEL15, dtype: int64"
      ]
     },
     "execution_count": 13,
     "metadata": {},
     "output_type": "execute_result"
    }
   ],
   "source": [
    "df.groupby('YEARMONTH')['ARR_DEL15'].count()"
   ]
  },
  {
   "cell_type": "code",
   "execution_count": 17,
   "metadata": {},
   "outputs": [],
   "source": [
    "df_no_cancellations = df.loc[(df['CANCELLED'] == 0) & (df['DIVERTED'] == 0)].copy()"
   ]
  },
  {
   "cell_type": "code",
   "execution_count": 18,
   "metadata": {},
   "outputs": [
    {
     "data": {
      "text/plain": [
       "<AxesSubplot:xlabel='YEARMONTH'>"
      ]
     },
     "execution_count": 18,
     "metadata": {},
     "output_type": "execute_result"
    },
    {
     "data": {
      "image/png": "[encoded data removed]",
      "text/plain": [
       "<Figure size 432x288 with 1 Axes>"
      ]
     },
     "metadata": {
      "needs_background": "light"
     },
     "output_type": "display_data"
    }
   ],
   "source": [
    "(df_no_cancellations.groupby('YEARMONTH')['ARR_DEL15'].sum() / df_no_cancellations.groupby('YEARMONTH')['ARR_DEL15'].count()).plot()"
   ]
  },
  {
   "cell_type": "markdown",
   "metadata": {},
   "source": [
    "Interestingly enough, the percentage of delayed flights (defined as delayed with more than 15 minutes of delayed arrivals) also went down. One interpretation could be that with less flights, there were more available resources to take care of the ongoing flights.\n",
    "The counterargument would have been that delays are caused by more structural issues (such as issues which is not impacted by CoVid-19) and thus the percentage of delays should be the same. However, at least some of the causes for delays seems to have been impacted by CoVid-19."
   ]
  },
  {
   "cell_type": "code",
   "execution_count": 24,
   "metadata": {},
   "outputs": [],
   "source": [
    "import seaborn as sns\n",
    "import matplotlib.pyplot as plt"
   ]
  },
  {
   "cell_type": "code",
   "execution_count": 36,
   "metadata": {},
   "outputs": [
    {
     "data": {
      "text/plain": [
       "(0.0, 0.5)"
      ]
     },
     "execution_count": 36,
     "metadata": {},
     "output_type": "execute_result"
    },
    {
     "data": {
      "image/png": "[encoded data removed]",
      "text/plain": [
       "<Figure size 432x288 with 1 Axes>"
      ]
     },
     "metadata": {
      "needs_background": "light"
     },
     "output_type": "display_data"
    }
   ],
   "source": [
    "percent_delays_2019 = df_no_cancellations.loc[df_no_cancellations['YEAR'] == 2019].groupby('MONTH')['ARR_DEL15'].sum() / df_no_cancellations.loc[df_no_cancellations['YEAR'] == 2019].groupby('MONTH')['ARR_DEL15'].count()\n",
    "percent_delays_2020 = df_no_cancellations.loc[df_no_cancellations['YEAR'] == 2020].groupby('MONTH')['ARR_DEL15'].sum() / df_no_cancellations.loc[df_no_cancellations['YEAR'] == 2020].groupby('MONTH')['ARR_DEL15'].count()\n",
    "\n",
    "sns.lineplot(\n",
    "    x=percent_delays_2019.index, y=percent_delays_2019, label='2019',\n",
    "    markers=True, dashes=False)\n",
    "sns.lineplot(\n",
    "    x=percent_delays_2020.index, y=percent_delays_2020, label='2020',\n",
    "    markers=True, dashes=False)\n",
    "plt.title('PERCENTAGE OF DELAYED FLIGHTS PER YEAR')\n",
    "plt.ylim(0, 0.5)"
   ]
  },
  {
   "cell_type": "code",
   "execution_count": 40,
   "metadata": {},
   "outputs": [
    {
     "data": {
      "text/html": [
       "<div>\n",
       "<style scoped>\n",
       "    .dataframe tbody tr th:only-of-type {\n",
       "        vertical-align: middle;\n",
       "    }\n",
       "\n",
       "    .dataframe tbody tr th {\n",
       "        vertical-align: top;\n",
       "    }\n",
       "\n",
       "    .dataframe thead th {\n",
       "        text-align: right;\n",
       "    }\n",
       "</style>\n",
       "<table border=\"1\" class=\"dataframe\">\n",
       "  <thead>\n",
       "    <tr style=\"text-align: right;\">\n",
       "      <th></th>\n",
       "      <th>count</th>\n",
       "      <th>mean</th>\n",
       "      <th>std</th>\n",
       "      <th>min</th>\n",
       "      <th>25%</th>\n",
       "      <th>50%</th>\n",
       "      <th>75%</th>\n",
       "      <th>max</th>\n",
       "    </tr>\n",
       "    <tr>\n",
       "      <th>YEARMONTH</th>\n",
       "      <th></th>\n",
       "      <th></th>\n",
       "      <th></th>\n",
       "      <th></th>\n",
       "      <th></th>\n",
       "      <th></th>\n",
       "      <th></th>\n",
       "      <th></th>\n",
       "    </tr>\n",
       "  </thead>\n",
       "  <tbody>\n",
       "    <tr>\n",
       "      <th>201901</th>\n",
       "      <td>617649.0</td>\n",
       "      <td>14.056019</td>\n",
       "      <td>48.432797</td>\n",
       "      <td>0.0</td>\n",
       "      <td>0.0</td>\n",
       "      <td>0.0</td>\n",
       "      <td>7.0</td>\n",
       "      <td>1707.0</td>\n",
       "    </tr>\n",
       "    <tr>\n",
       "      <th>201902</th>\n",
       "      <td>562827.0</td>\n",
       "      <td>17.592276</td>\n",
       "      <td>54.161604</td>\n",
       "      <td>0.0</td>\n",
       "      <td>0.0</td>\n",
       "      <td>0.0</td>\n",
       "      <td>13.0</td>\n",
       "      <td>2649.0</td>\n",
       "    </tr>\n",
       "    <tr>\n",
       "      <th>201903</th>\n",
       "      <td>674529.0</td>\n",
       "      <td>12.367092</td>\n",
       "      <td>44.466911</td>\n",
       "      <td>0.0</td>\n",
       "      <td>0.0</td>\n",
       "      <td>0.0</td>\n",
       "      <td>6.0</td>\n",
       "      <td>2923.0</td>\n",
       "    </tr>\n",
       "    <tr>\n",
       "      <th>201904</th>\n",
       "      <td>650917.0</td>\n",
       "      <td>13.723373</td>\n",
       "      <td>46.906094</td>\n",
       "      <td>0.0</td>\n",
       "      <td>0.0</td>\n",
       "      <td>0.0</td>\n",
       "      <td>6.0</td>\n",
       "      <td>2075.0</td>\n",
       "    </tr>\n",
       "    <tr>\n",
       "      <th>201905</th>\n",
       "      <td>677931.0</td>\n",
       "      <td>15.309995</td>\n",
       "      <td>48.518093</td>\n",
       "      <td>0.0</td>\n",
       "      <td>0.0</td>\n",
       "      <td>0.0</td>\n",
       "      <td>9.0</td>\n",
       "      <td>1724.0</td>\n",
       "    </tr>\n",
       "    <tr>\n",
       "      <th>201906</th>\n",
       "      <td>677024.0</td>\n",
       "      <td>19.196399</td>\n",
       "      <td>54.165790</td>\n",
       "      <td>0.0</td>\n",
       "      <td>0.0</td>\n",
       "      <td>0.0</td>\n",
       "      <td>14.0</td>\n",
       "      <td>2041.0</td>\n",
       "    </tr>\n",
       "    <tr>\n",
       "      <th>201907</th>\n",
       "      <td>700359.0</td>\n",
       "      <td>17.208252</td>\n",
       "      <td>55.067366</td>\n",
       "      <td>0.0</td>\n",
       "      <td>0.0</td>\n",
       "      <td>0.0</td>\n",
       "      <td>9.0</td>\n",
       "      <td>2350.0</td>\n",
       "    </tr>\n",
       "    <tr>\n",
       "      <th>201908</th>\n",
       "      <td>702580.0</td>\n",
       "      <td>16.008958</td>\n",
       "      <td>51.002450</td>\n",
       "      <td>0.0</td>\n",
       "      <td>0.0</td>\n",
       "      <td>0.0</td>\n",
       "      <td>9.0</td>\n",
       "      <td>1658.0</td>\n",
       "    </tr>\n",
       "    <tr>\n",
       "      <th>201909</th>\n",
       "      <td>648269.0</td>\n",
       "      <td>10.372083</td>\n",
       "      <td>40.707174</td>\n",
       "      <td>0.0</td>\n",
       "      <td>0.0</td>\n",
       "      <td>0.0</td>\n",
       "      <td>2.0</td>\n",
       "      <td>1744.0</td>\n",
       "    </tr>\n",
       "    <tr>\n",
       "      <th>202001</th>\n",
       "      <td>650850.0</td>\n",
       "      <td>9.990018</td>\n",
       "      <td>41.708341</td>\n",
       "      <td>0.0</td>\n",
       "      <td>0.0</td>\n",
       "      <td>0.0</td>\n",
       "      <td>2.0</td>\n",
       "      <td>2536.0</td>\n",
       "    </tr>\n",
       "    <tr>\n",
       "      <th>202002</th>\n",
       "      <td>615826.0</td>\n",
       "      <td>11.387566</td>\n",
       "      <td>44.840135</td>\n",
       "      <td>0.0</td>\n",
       "      <td>0.0</td>\n",
       "      <td>0.0</td>\n",
       "      <td>3.0</td>\n",
       "      <td>2794.0</td>\n",
       "    </tr>\n",
       "    <tr>\n",
       "      <th>202003</th>\n",
       "      <td>582123.0</td>\n",
       "      <td>6.783156</td>\n",
       "      <td>33.683457</td>\n",
       "      <td>0.0</td>\n",
       "      <td>0.0</td>\n",
       "      <td>0.0</td>\n",
       "      <td>0.0</td>\n",
       "      <td>2560.0</td>\n",
       "    </tr>\n",
       "    <tr>\n",
       "      <th>202004</th>\n",
       "      <td>194075.0</td>\n",
       "      <td>3.415381</td>\n",
       "      <td>23.883071</td>\n",
       "      <td>0.0</td>\n",
       "      <td>0.0</td>\n",
       "      <td>0.0</td>\n",
       "      <td>0.0</td>\n",
       "      <td>1563.0</td>\n",
       "    </tr>\n",
       "    <tr>\n",
       "      <th>202005</th>\n",
       "      <td>179778.0</td>\n",
       "      <td>3.298318</td>\n",
       "      <td>24.361207</td>\n",
       "      <td>0.0</td>\n",
       "      <td>0.0</td>\n",
       "      <td>0.0</td>\n",
       "      <td>0.0</td>\n",
       "      <td>2093.0</td>\n",
       "    </tr>\n",
       "    <tr>\n",
       "      <th>202006</th>\n",
       "      <td>235861.0</td>\n",
       "      <td>4.429249</td>\n",
       "      <td>25.179719</td>\n",
       "      <td>0.0</td>\n",
       "      <td>0.0</td>\n",
       "      <td>0.0</td>\n",
       "      <td>0.0</td>\n",
       "      <td>1615.0</td>\n",
       "    </tr>\n",
       "    <tr>\n",
       "      <th>202007</th>\n",
       "      <td>367076.0</td>\n",
       "      <td>6.116491</td>\n",
       "      <td>32.897856</td>\n",
       "      <td>0.0</td>\n",
       "      <td>0.0</td>\n",
       "      <td>0.0</td>\n",
       "      <td>0.0</td>\n",
       "      <td>3864.0</td>\n",
       "    </tr>\n",
       "    <tr>\n",
       "      <th>202008</th>\n",
       "      <td>393285.0</td>\n",
       "      <td>5.253663</td>\n",
       "      <td>28.351009</td>\n",
       "      <td>0.0</td>\n",
       "      <td>0.0</td>\n",
       "      <td>0.0</td>\n",
       "      <td>0.0</td>\n",
       "      <td>2017.0</td>\n",
       "    </tr>\n",
       "    <tr>\n",
       "      <th>202009</th>\n",
       "      <td>342293.0</td>\n",
       "      <td>4.284864</td>\n",
       "      <td>26.272687</td>\n",
       "      <td>0.0</td>\n",
       "      <td>0.0</td>\n",
       "      <td>0.0</td>\n",
       "      <td>0.0</td>\n",
       "      <td>1868.0</td>\n",
       "    </tr>\n",
       "  </tbody>\n",
       "</table>\n",
       "</div>"
      ],
      "text/plain": [
       "              count       mean        std  min  25%  50%   75%     max\n",
       "YEARMONTH                                                             \n",
       "201901     617649.0  14.056019  48.432797  0.0  0.0  0.0   7.0  1707.0\n",
       "201902     562827.0  17.592276  54.161604  0.0  0.0  0.0  13.0  2649.0\n",
       "201903     674529.0  12.367092  44.466911  0.0  0.0  0.0   6.0  2923.0\n",
       "201904     650917.0  13.723373  46.906094  0.0  0.0  0.0   6.0  2075.0\n",
       "201905     677931.0  15.309995  48.518093  0.0  0.0  0.0   9.0  1724.0\n",
       "201906     677024.0  19.196399  54.165790  0.0  0.0  0.0  14.0  2041.0\n",
       "201907     700359.0  17.208252  55.067366  0.0  0.0  0.0   9.0  2350.0\n",
       "201908     702580.0  16.008958  51.002450  0.0  0.0  0.0   9.0  1658.0\n",
       "201909     648269.0  10.372083  40.707174  0.0  0.0  0.0   2.0  1744.0\n",
       "202001     650850.0   9.990018  41.708341  0.0  0.0  0.0   2.0  2536.0\n",
       "202002     615826.0  11.387566  44.840135  0.0  0.0  0.0   3.0  2794.0\n",
       "202003     582123.0   6.783156  33.683457  0.0  0.0  0.0   0.0  2560.0\n",
       "202004     194075.0   3.415381  23.883071  0.0  0.0  0.0   0.0  1563.0\n",
       "202005     179778.0   3.298318  24.361207  0.0  0.0  0.0   0.0  2093.0\n",
       "202006     235861.0   4.429249  25.179719  0.0  0.0  0.0   0.0  1615.0\n",
       "202007     367076.0   6.116491  32.897856  0.0  0.0  0.0   0.0  3864.0\n",
       "202008     393285.0   5.253663  28.351009  0.0  0.0  0.0   0.0  2017.0\n",
       "202009     342293.0   4.284864  26.272687  0.0  0.0  0.0   0.0  1868.0"
      ]
     },
     "execution_count": 40,
     "metadata": {},
     "output_type": "execute_result"
    }
   ],
   "source": [
    "df.groupby('YEARMONTH')['ARR_DELAY_NEW'].describe()"
   ]
  },
  {
   "cell_type": "code",
   "execution_count": 41,
   "metadata": {},
   "outputs": [
    {
     "data": {
      "text/html": [
       "<div>\n",
       "<style scoped>\n",
       "    .dataframe tbody tr th:only-of-type {\n",
       "        vertical-align: middle;\n",
       "    }\n",
       "\n",
       "    .dataframe tbody tr th {\n",
       "        vertical-align: top;\n",
       "    }\n",
       "\n",
       "    .dataframe thead th {\n",
       "        text-align: right;\n",
       "    }\n",
       "</style>\n",
       "<table border=\"1\" class=\"dataframe\">\n",
       "  <thead>\n",
       "    <tr style=\"text-align: right;\">\n",
       "      <th></th>\n",
       "      <th>count</th>\n",
       "      <th>mean</th>\n",
       "      <th>std</th>\n",
       "      <th>min</th>\n",
       "      <th>25%</th>\n",
       "      <th>50%</th>\n",
       "      <th>75%</th>\n",
       "      <th>max</th>\n",
       "    </tr>\n",
       "    <tr>\n",
       "      <th>YEARMONTH</th>\n",
       "      <th></th>\n",
       "      <th></th>\n",
       "      <th></th>\n",
       "      <th></th>\n",
       "      <th></th>\n",
       "      <th></th>\n",
       "      <th></th>\n",
       "      <th></th>\n",
       "    </tr>\n",
       "  </thead>\n",
       "  <tbody>\n",
       "    <tr>\n",
       "      <th>201901</th>\n",
       "      <td>213228.0</td>\n",
       "      <td>40.715506</td>\n",
       "      <td>75.560308</td>\n",
       "      <td>1.0</td>\n",
       "      <td>7.0</td>\n",
       "      <td>17.0</td>\n",
       "      <td>44.0</td>\n",
       "      <td>1707.0</td>\n",
       "    </tr>\n",
       "    <tr>\n",
       "      <th>201902</th>\n",
       "      <td>225563.0</td>\n",
       "      <td>43.896419</td>\n",
       "      <td>78.517532</td>\n",
       "      <td>1.0</td>\n",
       "      <td>8.0</td>\n",
       "      <td>20.0</td>\n",
       "      <td>49.0</td>\n",
       "      <td>2649.0</td>\n",
       "    </tr>\n",
       "    <tr>\n",
       "      <th>201903</th>\n",
       "      <td>223649.0</td>\n",
       "      <td>37.299349</td>\n",
       "      <td>70.948179</td>\n",
       "      <td>1.0</td>\n",
       "      <td>6.0</td>\n",
       "      <td>16.0</td>\n",
       "      <td>40.0</td>\n",
       "      <td>2923.0</td>\n",
       "    </tr>\n",
       "    <tr>\n",
       "      <th>201904</th>\n",
       "      <td>212643.0</td>\n",
       "      <td>42.008329</td>\n",
       "      <td>74.476451</td>\n",
       "      <td>1.0</td>\n",
       "      <td>7.0</td>\n",
       "      <td>18.0</td>\n",
       "      <td>48.0</td>\n",
       "      <td>2075.0</td>\n",
       "    </tr>\n",
       "    <tr>\n",
       "      <th>201905</th>\n",
       "      <td>241684.0</td>\n",
       "      <td>42.945003</td>\n",
       "      <td>73.595408</td>\n",
       "      <td>1.0</td>\n",
       "      <td>7.0</td>\n",
       "      <td>19.0</td>\n",
       "      <td>49.0</td>\n",
       "      <td>1724.0</td>\n",
       "    </tr>\n",
       "    <tr>\n",
       "      <th>201906</th>\n",
       "      <td>278798.0</td>\n",
       "      <td>46.615912</td>\n",
       "      <td>76.462357</td>\n",
       "      <td>1.0</td>\n",
       "      <td>8.0</td>\n",
       "      <td>21.0</td>\n",
       "      <td>56.0</td>\n",
       "      <td>2041.0</td>\n",
       "    </tr>\n",
       "    <tr>\n",
       "      <th>201907</th>\n",
       "      <td>251422.0</td>\n",
       "      <td>47.935161</td>\n",
       "      <td>83.511589</td>\n",
       "      <td>1.0</td>\n",
       "      <td>7.0</td>\n",
       "      <td>20.0</td>\n",
       "      <td>56.0</td>\n",
       "      <td>2350.0</td>\n",
       "    </tr>\n",
       "    <tr>\n",
       "      <th>201908</th>\n",
       "      <td>250781.0</td>\n",
       "      <td>44.850184</td>\n",
       "      <td>77.421300</td>\n",
       "      <td>1.0</td>\n",
       "      <td>7.0</td>\n",
       "      <td>20.0</td>\n",
       "      <td>52.0</td>\n",
       "      <td>1658.0</td>\n",
       "    </tr>\n",
       "    <tr>\n",
       "      <th>201909</th>\n",
       "      <td>179108.0</td>\n",
       "      <td>37.541037</td>\n",
       "      <td>70.553048</td>\n",
       "      <td>1.0</td>\n",
       "      <td>6.0</td>\n",
       "      <td>15.0</td>\n",
       "      <td>41.0</td>\n",
       "      <td>1744.0</td>\n",
       "    </tr>\n",
       "    <tr>\n",
       "      <th>202001</th>\n",
       "      <td>178818.0</td>\n",
       "      <td>36.361010</td>\n",
       "      <td>73.299210</td>\n",
       "      <td>1.0</td>\n",
       "      <td>6.0</td>\n",
       "      <td>15.0</td>\n",
       "      <td>38.0</td>\n",
       "      <td>2536.0</td>\n",
       "    </tr>\n",
       "    <tr>\n",
       "      <th>202002</th>\n",
       "      <td>174926.0</td>\n",
       "      <td>40.089861</td>\n",
       "      <td>76.992142</td>\n",
       "      <td>1.0</td>\n",
       "      <td>6.0</td>\n",
       "      <td>16.0</td>\n",
       "      <td>43.0</td>\n",
       "      <td>2794.0</td>\n",
       "    </tr>\n",
       "    <tr>\n",
       "      <th>202003</th>\n",
       "      <td>122249.0</td>\n",
       "      <td>32.299904</td>\n",
       "      <td>67.664163</td>\n",
       "      <td>1.0</td>\n",
       "      <td>5.0</td>\n",
       "      <td>14.0</td>\n",
       "      <td>34.0</td>\n",
       "      <td>2560.0</td>\n",
       "    </tr>\n",
       "    <tr>\n",
       "      <th>202004</th>\n",
       "      <td>22404.0</td>\n",
       "      <td>29.585788</td>\n",
       "      <td>64.552279</td>\n",
       "      <td>1.0</td>\n",
       "      <td>4.0</td>\n",
       "      <td>11.0</td>\n",
       "      <td>29.0</td>\n",
       "      <td>1563.0</td>\n",
       "    </tr>\n",
       "    <tr>\n",
       "      <th>202005</th>\n",
       "      <td>22308.0</td>\n",
       "      <td>26.580823</td>\n",
       "      <td>64.529033</td>\n",
       "      <td>1.0</td>\n",
       "      <td>4.0</td>\n",
       "      <td>9.0</td>\n",
       "      <td>24.0</td>\n",
       "      <td>2093.0</td>\n",
       "    </tr>\n",
       "    <tr>\n",
       "      <th>202006</th>\n",
       "      <td>41445.0</td>\n",
       "      <td>25.206587</td>\n",
       "      <td>55.538213</td>\n",
       "      <td>1.0</td>\n",
       "      <td>4.0</td>\n",
       "      <td>10.0</td>\n",
       "      <td>25.0</td>\n",
       "      <td>1615.0</td>\n",
       "    </tr>\n",
       "    <tr>\n",
       "      <th>202007</th>\n",
       "      <td>74611.0</td>\n",
       "      <td>30.092305</td>\n",
       "      <td>67.846709</td>\n",
       "      <td>1.0</td>\n",
       "      <td>4.0</td>\n",
       "      <td>11.0</td>\n",
       "      <td>29.0</td>\n",
       "      <td>3864.0</td>\n",
       "    </tr>\n",
       "    <tr>\n",
       "      <th>202008</th>\n",
       "      <td>74826.0</td>\n",
       "      <td>27.613223</td>\n",
       "      <td>60.060630</td>\n",
       "      <td>1.0</td>\n",
       "      <td>4.0</td>\n",
       "      <td>11.0</td>\n",
       "      <td>27.0</td>\n",
       "      <td>2017.0</td>\n",
       "    </tr>\n",
       "    <tr>\n",
       "      <th>202009</th>\n",
       "      <td>57573.0</td>\n",
       "      <td>25.475119</td>\n",
       "      <td>59.699617</td>\n",
       "      <td>1.0</td>\n",
       "      <td>4.0</td>\n",
       "      <td>9.0</td>\n",
       "      <td>24.0</td>\n",
       "      <td>1868.0</td>\n",
       "    </tr>\n",
       "  </tbody>\n",
       "</table>\n",
       "</div>"
      ],
      "text/plain": [
       "              count       mean        std  min  25%   50%   75%     max\n",
       "YEARMONTH                                                              \n",
       "201901     213228.0  40.715506  75.560308  1.0  7.0  17.0  44.0  1707.0\n",
       "201902     225563.0  43.896419  78.517532  1.0  8.0  20.0  49.0  2649.0\n",
       "201903     223649.0  37.299349  70.948179  1.0  6.0  16.0  40.0  2923.0\n",
       "201904     212643.0  42.008329  74.476451  1.0  7.0  18.0  48.0  2075.0\n",
       "201905     241684.0  42.945003  73.595408  1.0  7.0  19.0  49.0  1724.0\n",
       "201906     278798.0  46.615912  76.462357  1.0  8.0  21.0  56.0  2041.0\n",
       "201907     251422.0  47.935161  83.511589  1.0  7.0  20.0  56.0  2350.0\n",
       "201908     250781.0  44.850184  77.421300  1.0  7.0  20.0  52.0  1658.0\n",
       "201909     179108.0  37.541037  70.553048  1.0  6.0  15.0  41.0  1744.0\n",
       "202001     178818.0  36.361010  73.299210  1.0  6.0  15.0  38.0  2536.0\n",
       "202002     174926.0  40.089861  76.992142  1.0  6.0  16.0  43.0  2794.0\n",
       "202003     122249.0  32.299904  67.664163  1.0  5.0  14.0  34.0  2560.0\n",
       "202004      22404.0  29.585788  64.552279  1.0  4.0  11.0  29.0  1563.0\n",
       "202005      22308.0  26.580823  64.529033  1.0  4.0   9.0  24.0  2093.0\n",
       "202006      41445.0  25.206587  55.538213  1.0  4.0  10.0  25.0  1615.0\n",
       "202007      74611.0  30.092305  67.846709  1.0  4.0  11.0  29.0  3864.0\n",
       "202008      74826.0  27.613223  60.060630  1.0  4.0  11.0  27.0  2017.0\n",
       "202009      57573.0  25.475119  59.699617  1.0  4.0   9.0  24.0  1868.0"
      ]
     },
     "execution_count": 41,
     "metadata": {},
     "output_type": "execute_result"
    }
   ],
   "source": [
    "df.loc[df['ARR_DELAY_NEW'] > 0].groupby('YEARMONTH')['ARR_DELAY_NEW'].describe()"
   ]
  },
  {
   "cell_type": "markdown",
   "metadata": {},
   "source": [
    "# Cancellations"
   ]
  },
  {
   "cell_type": "code",
   "execution_count": 40,
   "metadata": {},
   "outputs": [
    {
     "data": {
      "text/plain": [
       "MONTH\n",
       "1    0.030611\n",
       "2    0.031480\n",
       "3    0.019677\n",
       "4    0.023533\n",
       "5    0.020374\n",
       "6    0.021120\n",
       "7    0.020633\n",
       "8    0.017984\n",
       "9    0.016717\n",
       "Name: CANCELLED, dtype: float64"
      ]
     },
     "execution_count": 40,
     "metadata": {},
     "output_type": "execute_result"
    }
   ],
   "source": [
    "percent_cancellations_2019"
   ]
  },
  {
   "cell_type": "code",
   "execution_count": 41,
   "metadata": {},
   "outputs": [
    {
     "data": {
      "text/plain": [
       "MONTH\n",
       "1    0.012741\n",
       "2    0.009782\n",
       "3    0.168659\n",
       "4    0.413141\n",
       "5    0.063723\n",
       "6    0.004341\n",
       "7    0.007890\n",
       "8    0.010859\n",
       "9    0.007307\n",
       "Name: CANCELLED, dtype: float64"
      ]
     },
     "execution_count": 41,
     "metadata": {},
     "output_type": "execute_result"
    }
   ],
   "source": [
    "percent_cancellations_2020"
   ]
  },
  {
   "cell_type": "code",
   "execution_count": 42,
   "metadata": {},
   "outputs": [
    {
     "data": {
      "text/plain": [
       "(0.0, 0.5)"
      ]
     },
     "execution_count": 42,
     "metadata": {},
     "output_type": "execute_result"
    },
    {
     "data": {
      "image/png": "[encoded data removed]",
      "text/plain": [
       "<Figure size 432x288 with 1 Axes>"
      ]
     },
     "metadata": {
      "needs_background": "light"
     },
     "output_type": "display_data"
    }
   ],
   "source": [
    "percent_cancellations_2019 = df.loc[df['YEAR'] == 2019].groupby('MONTH')['CANCELLED'].sum() / df.loc[df['YEAR'] == 2019].groupby('MONTH')['CANCELLED'].count()\n",
    "percent_cancellations_2020 = df.loc[df['YEAR'] == 2020].groupby('MONTH')['CANCELLED'].sum() / df.loc[df['YEAR'] == 2020].groupby('MONTH')['CANCELLED'].count()\n",
    "\n",
    "sns.lineplot(\n",
    "    x=percent_cancellations_2019.index, y=percent_cancellations_2019, label='2019',\n",
    "    markers=True, dashes=False)\n",
    "sns.lineplot(\n",
    "    x=percent_cancellations_2020.index, y=percent_cancellations_2020, label='2020',\n",
    "    markers=True, dashes=False)\n",
    "plt.title('PERCENTAGE OF CANCELLED FLIGHTS PER YEAR')\n",
    "plt.ylim(0, 0.5)"
   ]
  },
  {
   "cell_type": "code",
   "execution_count": null,
   "metadata": {},
   "outputs": [],
   "source": []
  },
  {
   "cell_type": "code",
   "execution_count": 58,
   "metadata": {},
   "outputs": [
    {
     "data": {
      "image/png": "[encoded data removed]",
      "text/plain": [
       "<Figure size 432x288 with 1 Axes>"
      ]
     },
     "metadata": {
      "needs_background": "light"
     },
     "output_type": "display_data"
    }
   ],
   "source": [
    "sns.lineplot(\n",
    "    x=percent_cancellations_2019.index, y=percent_cancellations_2019, label='Cancellations',\n",
    "    markers=True, dashes=False, color='darkblue')\n",
    "sns.lineplot(\n",
    "    x=percent_delays_2019.index, y=percent_delays_2019, label='Delays',\n",
    "    markers=True, dashes=False, color='red')\n",
    "plt.title('2019: PERCENTAGE OF DELAYED & CANCELLED FLIGHTS')\n",
    "plt.ylim(0, 0.5)\n",
    "plt.xlabel(\"Month\")\n",
    "plt.ylabel(\"Percentage of flights\");"
   ]
  },
  {
   "cell_type": "code",
   "execution_count": 57,
   "metadata": {},
   "outputs": [
    {
     "data": {
      "image/png": "[encoded data removed]",
      "text/plain": [
       "<Figure size 432x288 with 1 Axes>"
      ]
     },
     "metadata": {
      "needs_background": "light"
     },
     "output_type": "display_data"
    }
   ],
   "source": [
    "sns.lineplot(\n",
    "    x=percent_cancellations_2020.index, y=percent_cancellations_2020, label='Cancellations',\n",
    "    markers=True, dashes=False, color='darkblue')\n",
    "sns.lineplot(\n",
    "    x=percent_delays_2020.index, y=percent_delays_2020, label='Delays',\n",
    "    markers=True, dashes=False, color='red')\n",
    "plt.title('2020: PERCENTAGE OF DELAYED & CANCELLED FLIGHTS')\n",
    "plt.ylim(0, 0.5)\n",
    "plt.xlabel(\"Month\")\n",
    "plt.ylabel(\"Percentage of flights\");"
   ]
  },
  {
   "cell_type": "code",
   "execution_count": null,
   "metadata": {},
   "outputs": [],
   "source": []
  },
  {
   "cell_type": "code",
   "execution_count": null,
   "metadata": {},
   "outputs": [],
   "source": []
  },
  {
   "cell_type": "code",
   "execution_count": null,
   "metadata": {},
   "outputs": [],
   "source": []
  },
  {
   "cell_type": "code",
   "execution_count": null,
   "metadata": {},
   "outputs": [],
   "source": []
  },
  {
   "cell_type": "code",
   "execution_count": null,
   "metadata": {},
   "outputs": [],
   "source": []
  },
  {
   "cell_type": "code",
   "execution_count": null,
   "metadata": {},
   "outputs": [],
   "source": []
  },
  {
   "cell_type": "code",
   "execution_count": 43,
   "metadata": {},
   "outputs": [
    {
     "data": {
      "text/plain": [
       "<AxesSubplot:xlabel='YEARMONTH'>"
      ]
     },
     "execution_count": 43,
     "metadata": {},
     "output_type": "execute_result"
    },
    {
     "data": {
      "image/png": "[encoded data removed]",
      "text/plain": [
       "<Figure size 432x288 with 1 Axes>"
      ]
     },
     "metadata": {
      "needs_background": "light"
     },
     "output_type": "display_data"
    }
   ],
   "source": [
    "(df.groupby('YEARMONTH')['CANCELLED'].sum() / df.groupby('YEARMONTH')['CANCELLED'].count()).plot()"
   ]
  },
  {
   "cell_type": "markdown",
   "metadata": {},
   "source": [
    "The number of cancellations skyrocketed in the months of march and april and quickly adapted to a regular level. In these months our models would not have answered the correct question."
   ]
  },
  {
   "cell_type": "markdown",
   "metadata": {},
   "source": [
    "# Divertions"
   ]
  },
  {
   "cell_type": "code",
   "execution_count": 55,
   "metadata": {},
   "outputs": [
    {
     "data": {
      "text/plain": [
       "<AxesSubplot:xlabel='YEARMONTH'>"
      ]
     },
     "execution_count": 55,
     "metadata": {},
     "output_type": "execute_result"
    },
    {
     "data": {
      "image/png": "[encoded data removed]",
      "text/plain": [
       "<Figure size 432x288 with 1 Axes>"
      ]
     },
     "metadata": {
      "needs_background": "light"
     },
     "output_type": "display_data"
    }
   ],
   "source": [
    "(df.groupby('YEARMONTH')['DIVERTED'].sum() / df.groupby('YEARMONTH')['DIVERTED'].count()).plot()"
   ]
  },
  {
   "cell_type": "code",
   "execution_count": null,
   "metadata": {},
   "outputs": [],
   "source": []
  },
  {
   "cell_type": "code",
   "execution_count": null,
   "metadata": {},
   "outputs": [],
   "source": []
  },
  {
   "cell_type": "code",
   "execution_count": null,
   "metadata": {},
   "outputs": [],
   "source": []
  },
  {
   "cell_type": "code",
   "execution_count": null,
   "metadata": {},
   "outputs": [],
   "source": []
  },
  {
   "cell_type": "code",
   "execution_count": null,
   "metadata": {},
   "outputs": [],
   "source": []
  },
  {
   "cell_type": "code",
   "execution_count": null,
   "metadata": {},
   "outputs": [],
   "source": []
  },
  {
   "cell_type": "code",
   "execution_count": null,
   "metadata": {},
   "outputs": [],
   "source": []
  },
  {
   "cell_type": "code",
   "execution_count": null,
   "metadata": {},
   "outputs": [],
   "source": []
  }
 ],
 "metadata": {
  "kernelspec": {
   "display_name": "Python 3",
   "language": "python",
   "name": "python3"
  },
  "language_info": {
   "codemirror_mode": {
    "name": "ipython",
    "version": 3
   },
   "file_extension": ".py",
   "mimetype": "text/x-python",
   "name": "python",
   "nbconvert_exporter": "python",
   "pygments_lexer": "ipython3",
   "version": "3.8.3"
  }
 },
 "nbformat": 4,
 "nbformat_minor": 4
}
