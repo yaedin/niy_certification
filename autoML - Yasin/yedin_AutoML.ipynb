{
 "cells": [
  {
   "cell_type": "markdown",
   "metadata": {
    "id": "QlgEkGhfg941"
   },
   "source": [
    "# Imports and Variables"
   ]
  },
  {
   "cell_type": "code",
   "execution_count": 173,
   "metadata": {},
   "outputs": [],
   "source": [
    "import os\n",
    "import boto3\n",
    "from botocore.exceptions import ClientError\n",
    "import logging\n",
    "import sagemaker\n",
    "from sagemaker import get_execution_role\n",
    "from sklearn.preprocessing import OneHotEncoder\n",
    "from sklearn.model_selection import train_test_split\n",
    "from sklearn.metrics import r2_score\n",
    "from time import gmtime, strftime, sleep\n",
    "import pandas as pd\n",
    "import matplotlib.pyplot as plt"
   ]
  },
  {
   "cell_type": "code",
   "execution_count": 174,
   "metadata": {},
   "outputs": [],
   "source": [
    "aws_user = os.environ['AWS_USER']\n",
    "aws_key = os.environ['AWS_KEY']\n",
    "region_name = 'eu-central-1'\n",
    "\n",
    "session = boto3.session.Session(\n",
    "    aws_access_key_id=aws_user,\n",
    "    aws_secret_access_key=aws_key,\n",
    "    region_name=region_name)\n",
    "\n",
    "s3_client = session.client('s3')\n",
    "s3 = session.resource('s3')\n",
    "\n",
    "region_name = 'eu-central-1'\n",
    "bucket_name = 'niy-certification'\n",
    "\n",
    "role = 'arn:aws:iam::898627427171:role/service-role/AmazonSageMaker-ExecutionRole-20201106T104926'"
   ]
  },
  {
   "cell_type": "markdown",
   "metadata": {},
   "source": [
    "# Prepare AutoML"
   ]
  },
  {
   "cell_type": "markdown",
   "metadata": {
    "id": "ixXRv20Wg943"
   },
   "source": [
    "## Preprocessing"
   ]
  },
  {
   "cell_type": "code",
   "execution_count": 175,
   "metadata": {},
   "outputs": [],
   "source": [
    "month_year = 'Jan_2019'"
   ]
  },
  {
   "cell_type": "code",
   "execution_count": 176,
   "metadata": {},
   "outputs": [],
   "source": [
    "file_uris = {}\n",
    "file_uris['Jan_2019'] = 'https://niy-certification.s3.eu-central-1.amazonaws.com/usdot/Jan_2019_usdot.csv'\n",
    "file_uris['Jan_2020'] = 'https://niy-certification.s3.eu-central-1.amazonaws.com/usdot/Jan_2020_usdot.csv'\n",
    "file_uris['Feb_2019'] = 'https://niy-certification.s3.eu-central-1.amazonaws.com/usdot/Feb_2019_usdot.csv'\n",
    "file_uris['Feb_2020'] = 'https://niy-certification.s3.eu-central-1.amazonaws.com/usdot/Feb_2020_usdot.csv'"
   ]
  },
  {
   "cell_type": "code",
   "execution_count": 188,
   "metadata": {},
   "outputs": [],
   "source": [
    "def get_preproccessed_df(s3_link):\n",
    "    df_raw = pd.read_csv(s3_link, dtype={'DAY_OF_MONTH': str, 'CRS_ARR_TIME': str, 'CRS_DEP_TIME': str})\n",
    "    columns_to_drop = ['YEAR', 'MONTH', 'FL_DATE', 'ORIGIN_STATE_NM', 'DEST_CITY_NAME', 'DEST_STATE_NM', 'DEP_TIME', \n",
    "                       'DEP_TIME_BLK', 'ARR_TIME', 'ARR_TIME_BLK', 'CARRIER_DELAY', 'WEATHER_DELAY', 'NAS_DELAY', \n",
    "                       'SECURITY_DELAY', 'LATE_AIRCRAFT_DELAY', 'FLIGHTS', 'Unnamed: 54', \n",
    "                       'OP_CARRIER_AIRLINE_ID',\t'OP_CARRIER_FL_NUM', 'ORIGIN_AIRPORT_ID', 'ORIGIN_AIRPORT_SEQ_ID',\t\n",
    "                       'ORIGIN_CITY_MARKET_ID',\t'ORIGIN_STATE_FIPS', 'DEST_AIRPORT_ID',\t'DEST_AIRPORT_SEQ_ID',\t\n",
    "                       'DEST_CITY_MARKET_ID', 'DEST_STATE_FIPS', 'DEP_DELAY', 'DEP_DELAY_NEW', 'DEP_DEL15', 'DEP_DELAY_GROUP', \n",
    "                       'WHEELS_OFF', 'WHEELS_ON', 'ARR_DELAY', 'ARR_DEL15', 'ARR_DELAY_GROUP', 'CRS_ELAPSED_TIME', 'ACTUAL_ELAPSED_TIME', \n",
    "                       'AIR_TIME', 'OP_CARRIER',\n",
    "                       'TAIL_NUM', # TO CHECK\n",
    "                       'ORIGIN_CITY_NAME' # TO CHECK\n",
    "                       ]\n",
    "    # drop flights which are either canceled or diverted\n",
    "    # as this is a conceptually different thing than being delayed\n",
    "    df_raw = df_raw.drop(df_raw.index[(df_raw['CANCELLED'] == 1) | \n",
    "                         (df_raw['DIVERTED'] == 1)]).reset_index(drop=True)\n",
    "    \n",
    "    # df_raw['DAY_OF_MONTH'] = df_raw['DAY_OF_MONTH'].astype(float)\n",
    "    \n",
    "    df_raw = df_raw.drop(columns_to_drop, axis=1)\n",
    "    df_raw = df_raw.drop(['CANCELLED', 'DIVERTED'], axis=1)\n",
    "    \n",
    "    # to get label column up front\n",
    "    df_raw = df_raw[sorted(df_raw.columns)]\n",
    "    \n",
    "    return df_raw"
   ]
  },
  {
   "cell_type": "code",
   "execution_count": 189,
   "metadata": {},
   "outputs": [],
   "source": [
    "df = get_preproccessed_df(file_uris['Jan_2019'])"
   ]
  },
  {
   "cell_type": "code",
   "execution_count": 193,
   "metadata": {},
   "outputs": [],
   "source": [
    "df['CRS_ARR_TIME_HOUR'] = df['CRS_ARR_TIME'].astype(str).str[:2]\n",
    "df['CRS_ARR_TIME_MINUTE'] = df['CRS_ARR_TIME'].astype(str).str[2:]\n",
    "df['CRS_DEP_TIME_HOUR'] = df['CRS_DEP_TIME'].astype(str).str[:2]\n",
    "df['CRS_DEP_TIME_MINUTE'] = df['CRS_DEP_TIME'].astype(str).str[2:]\n",
    "df = df.drop(['CRS_ARR_TIME', 'CRS_DEP_TIME'], axis=1)"
   ]
  },
  {
   "cell_type": "code",
   "execution_count": 194,
   "metadata": {},
   "outputs": [
    {
     "data": {
      "text/html": [
       "<div>\n",
       "<style scoped>\n",
       "    .dataframe tbody tr th:only-of-type {\n",
       "        vertical-align: middle;\n",
       "    }\n",
       "\n",
       "    .dataframe tbody tr th {\n",
       "        vertical-align: top;\n",
       "    }\n",
       "\n",
       "    .dataframe thead th {\n",
       "        text-align: right;\n",
       "    }\n",
       "</style>\n",
       "<table border=\"1\" class=\"dataframe\">\n",
       "  <thead>\n",
       "    <tr style=\"text-align: right;\">\n",
       "      <th></th>\n",
       "      <th>ARR_DELAY_NEW</th>\n",
       "      <th>DAY_OF_MONTH</th>\n",
       "      <th>DAY_OF_WEEK</th>\n",
       "      <th>DEST</th>\n",
       "      <th>DEST_STATE_ABR</th>\n",
       "      <th>DISTANCE</th>\n",
       "      <th>OP_UNIQUE_CARRIER</th>\n",
       "      <th>ORIGIN</th>\n",
       "      <th>ORIGIN_STATE_ABR</th>\n",
       "      <th>CRS_ARR_TIME_HOUR</th>\n",
       "      <th>CRS_ARR_TIME_MINUTE</th>\n",
       "      <th>CRS_DEP_TIME_HOUR</th>\n",
       "      <th>CRS_DEP_TIME_MINUTE</th>\n",
       "    </tr>\n",
       "  </thead>\n",
       "  <tbody>\n",
       "    <tr>\n",
       "      <th>0</th>\n",
       "      <td>0.0</td>\n",
       "      <td>11</td>\n",
       "      <td>5</td>\n",
       "      <td>PIT</td>\n",
       "      <td>PA</td>\n",
       "      <td>834.0</td>\n",
       "      <td>WN</td>\n",
       "      <td>MCO</td>\n",
       "      <td>FL</td>\n",
       "      <td>11</td>\n",
       "      <td>35</td>\n",
       "      <td>09</td>\n",
       "      <td>20</td>\n",
       "    </tr>\n",
       "  </tbody>\n",
       "</table>\n",
       "</div>"
      ],
      "text/plain": [
       "   ARR_DELAY_NEW DAY_OF_MONTH  DAY_OF_WEEK DEST DEST_STATE_ABR  DISTANCE  \\\n",
       "0            0.0           11            5  PIT             PA     834.0   \n",
       "\n",
       "  OP_UNIQUE_CARRIER ORIGIN ORIGIN_STATE_ABR CRS_ARR_TIME_HOUR  \\\n",
       "0                WN    MCO               FL                11   \n",
       "\n",
       "  CRS_ARR_TIME_MINUTE CRS_DEP_TIME_HOUR CRS_DEP_TIME_MINUTE  \n",
       "0                  35                09                  20  "
      ]
     },
     "execution_count": 194,
     "metadata": {},
     "output_type": "execute_result"
    }
   ],
   "source": [
    "df.head(1)"
   ]
  },
  {
   "cell_type": "markdown",
   "metadata": {},
   "source": [
    "## Train Test Split & Upload to S3"
   ]
  },
  {
   "cell_type": "code",
   "execution_count": 195,
   "metadata": {},
   "outputs": [],
   "source": [
    "def split_and_upload_df(df):\n",
    "    # split data\n",
    "    df_train, df_test = train_test_split(df, \n",
    "                                     test_size=0.2,\n",
    "                                     random_state=42)\n",
    "    \n",
    "    file_path_train = f'/Users/yasinedin/Downloads/automl/{month_year}train.csv'\n",
    "    file_path_test = f'/Users/yasinedin/Downloads/automl/{month_year}test.csv'\n",
    "    \n",
    "    df_train.to_csv(file_path_train, index=False, header=True)\n",
    "    df_test.drop('ARR_DELAY_NEW', axis=1).to_csv(file_path_test, index=False, header=False)\n",
    "    \n",
    "    # upload data to s3\n",
    "    try:\n",
    "        train_response = s3_client.upload_file(file_path_train, bucket_name, f'automl/{month_year}_train.csv')\n",
    "        print('Train data successfully uploaded')\n",
    "    except ClientError as e:\n",
    "        logging.error(e)\n",
    "        print('Something went wrong.')\n",
    "\n",
    "    try:\n",
    "        test_response = s3_client.upload_file(file_path_test, bucket_name, f'automl/{month_year}_test.csv')\n",
    "        print('Test data successfully uploaded')\n",
    "    except ClientError as e:\n",
    "        logging.error(e)\n",
    "        print('Something went wrong.')\n",
    "        \n",
    "    return print('Successfully split and uploaded data')"
   ]
  },
  {
   "cell_type": "code",
   "execution_count": 196,
   "metadata": {},
   "outputs": [
    {
     "name": "stdout",
     "output_type": "stream",
     "text": [
      "Train data successfully uploaded\n",
      "Test data successfully uploaded\n",
      "Successfully split and uploaded data\n"
     ]
    }
   ],
   "source": [
    "split_and_upload_df(df)"
   ]
  },
  {
   "cell_type": "code",
   "execution_count": 242,
   "metadata": {
    "jupyter": {
     "source_hidden": true
    }
   },
   "outputs": [],
   "source": [
    "# let AutoML do its thing\n",
    "\"\"\"\n",
    "enc = OneHotEncoder(handle_unknown = 'ignore')\n",
    "\n",
    "enc.fit(df_train[['OP_UNIQUE_CARRIER']])\n",
    "enc.categories_\n",
    "\n",
    "enc_columns = sorted(df_train['OP_UNIQUE_CARRIER'].unique())\n",
    "\n",
    "df_train = pd.concat([df_train,\n",
    "           pd.DataFrame(index=df_train.index,\n",
    "                        data=enc.transform(df_train[['OP_UNIQUE_CARRIER']]).toarray(), \n",
    "                        columns=enc_columns)], axis=1).drop('OP_UNIQUE_CARRIER', axis=1)\n",
    "\n",
    "df_test = pd.concat([df_test,\n",
    "           pd.DataFrame(index=df_test.index,\n",
    "                        data=enc.transform(df_test[['OP_UNIQUE_CARRIER']]).toarray(), \n",
    "                        columns=enc_columns)], axis=1).drop('OP_UNIQUE_CARRIER', axis=1)\n",
    "\"\"\"\n",
    "print()"
   ]
  },
  {
   "cell_type": "markdown",
   "metadata": {
    "id": "BZUe8AeSg943"
   },
   "source": [
    "# SageMaker AutoML"
   ]
  },
  {
   "cell_type": "code",
   "execution_count": 197,
   "metadata": {
    "id": "meGedPzcg943"
   },
   "outputs": [],
   "source": [
    "sm_session = sagemaker.Session(session)\n",
    "sm = session.client(service_name='sagemaker', region_name=region_name)"
   ]
  },
  {
   "cell_type": "code",
   "execution_count": 198,
   "metadata": {
    "id": "CSzOXl6Bg943",
    "outputId": "93a31203-3206-4193-c45f-931319bd575e"
   },
   "outputs": [
    {
     "name": "stdout",
     "output_type": "stream",
     "text": [
      "AutoMLJobName: niy-Jan-2019-20201201-1604\n"
     ]
    }
   ],
   "source": [
    "timestamp_suffix = strftime('%Y%m%d-%H%M')\n",
    "auto_ml_month_name = 'Jan-2019'\n",
    "auto_ml_job_name = f'niy-{auto_ml_month_name}-' + timestamp_suffix\n",
    "print('AutoMLJobName: ' + auto_ml_job_name)"
   ]
  },
  {
   "cell_type": "code",
   "execution_count": 199,
   "metadata": {
    "id": "k-RAH96fg943"
   },
   "outputs": [],
   "source": [
    "input_data_config = [{\n",
    "      'DataSource': {\n",
    "        'S3DataSource': {\n",
    "          'S3DataType': 'S3Prefix',\n",
    "          'S3Uri': f's3://{bucket_name}/automl/{month_year}_train.csv'\n",
    "        }\n",
    "      },\n",
    "      'TargetAttributeName': 'ARR_DELAY_NEW'\n",
    "    }\n",
    "  ]\n",
    "\n",
    "job_config = {\n",
    "    'CompletionCriteria': {\n",
    "      'MaxRuntimePerTrainingJobInSeconds': 360,\n",
    "      'MaxAutoMLJobRuntimeInSeconds': 3240\n",
    "    },\n",
    "}\n",
    "\n",
    "output_data_config = {\n",
    "    'S3OutputPath': f's3://{bucket_name}/automl/output'\n",
    "  }\n",
    "\n",
    "problem_type = 'Regression'\n",
    "job_objective = { 'MetricName': 'MSE' }"
   ]
  },
  {
   "cell_type": "code",
   "execution_count": 200,
   "metadata": {
    "id": "Jh-cFJSfg943",
    "outputId": "6324a1be-e864-44ff-c050-d90b38911ddd"
   },
   "outputs": [
    {
     "data": {
      "text/plain": [
       "{'AutoMLJobArn': 'arn:aws:sagemaker:eu-central-1:898627427171:automl-job/niy-jan-2019-20201201-1604',\n",
       " 'ResponseMetadata': {'RequestId': '2ef3e935-4f29-4800-84a6-8c72fdbb0781',\n",
       "  'HTTPStatusCode': 200,\n",
       "  'HTTPHeaders': {'x-amzn-requestid': '2ef3e935-4f29-4800-84a6-8c72fdbb0781',\n",
       "   'content-type': 'application/x-amz-json-1.1',\n",
       "   'content-length': '100',\n",
       "   'date': 'Tue, 01 Dec 2020 15:04:17 GMT'},\n",
       "  'RetryAttempts': 0}}"
      ]
     },
     "execution_count": 200,
     "metadata": {},
     "output_type": "execute_result"
    }
   ],
   "source": [
    "sm.create_auto_ml_job(AutoMLJobName=auto_ml_job_name,\n",
    "                      InputDataConfig=input_data_config,\n",
    "                      OutputDataConfig=output_data_config,\n",
    "                      AutoMLJobConfig=job_config,\n",
    "                      AutoMLJobObjective=job_objective,\n",
    "                      ProblemType=problem_type,\n",
    "                      RoleArn=role)"
   ]
  },
  {
   "cell_type": "code",
   "execution_count": 201,
   "metadata": {
    "id": "Rc-2VA6Hg944",
    "outputId": "6d09f6c3-64f9-43d0-c354-c6251185485d"
   },
   "outputs": [
    {
     "name": "stdout",
     "output_type": "stream",
     "text": [
      "JobStatus - Secondary Status\n",
      "------------------------------\n",
      "InProgress - AnalyzingData\n",
      "InProgress - AnalyzingData\n",
      "InProgress - AnalyzingData\n",
      "InProgress - AnalyzingData\n",
      "InProgress - AnalyzingData\n",
      "InProgress - AnalyzingData\n",
      "InProgress - AnalyzingData\n",
      "InProgress - FeatureEngineering\n",
      "InProgress - FeatureEngineering\n",
      "InProgress - FeatureEngineering\n",
      "InProgress - FeatureEngineering\n",
      "InProgress - FeatureEngineering\n",
      "InProgress - ModelTuning\n",
      "InProgress - ModelTuning\n",
      "InProgress - ModelTuning\n",
      "InProgress - ModelTuning\n",
      "InProgress - ModelTuning\n",
      "InProgress - ModelTuning\n",
      "InProgress - ModelTuning\n",
      "InProgress - ModelTuning\n",
      "InProgress - ModelTuning\n",
      "InProgress - ModelTuning\n",
      "InProgress - ModelTuning\n",
      "InProgress - ModelTuning\n",
      "InProgress - ModelTuning\n",
      "InProgress - ModelTuning\n",
      "InProgress - ModelTuning\n",
      "InProgress - ModelTuning\n",
      "Completed - MaxAutoMLJobRuntimeReached\n"
     ]
    }
   ],
   "source": [
    "print ('JobStatus - Secondary Status')\n",
    "print('------------------------------')\n",
    "\n",
    "\n",
    "describe_response = sm.describe_auto_ml_job(AutoMLJobName=auto_ml_job_name)\n",
    "print(describe_response['AutoMLJobStatus'] + \" - \" + describe_response['AutoMLJobSecondaryStatus'])\n",
    "job_run_status = describe_response['AutoMLJobStatus']\n",
    "    \n",
    "while job_run_status not in ('Failed', 'Completed', 'Stopped'):\n",
    "    describe_response = sm.describe_auto_ml_job(AutoMLJobName=auto_ml_job_name)\n",
    "    job_run_status = describe_response['AutoMLJobStatus']\n",
    "    \n",
    "    print(describe_response['AutoMLJobStatus'] + \" - \" + describe_response['AutoMLJobSecondaryStatus'])\n",
    "    sleep(120)"
   ]
  },
  {
   "cell_type": "code",
   "execution_count": 202,
   "metadata": {},
   "outputs": [],
   "source": [
    "describe_response = sm.describe_auto_ml_job(AutoMLJobName=auto_ml_job_name)"
   ]
  },
  {
   "cell_type": "code",
   "execution_count": 203,
   "metadata": {
    "id": "67FsbacTg944",
    "outputId": "25aeebca-7c7a-4f52-c7a5-58f46681e804"
   },
   "outputs": [
    {
     "name": "stdout",
     "output_type": "stream",
     "text": [
      "\n",
      "\n",
      "CandidateName: tuning-job-1-7cabd28bd5d54bad8e-059-5cc7eb54\n",
      "FinalAutoMLJobObjectiveMetricName: validation:mse\n",
      "FinalAutoMLJobObjectiveMetricValue: 2017.0283203125\n"
     ]
    }
   ],
   "source": [
    "best_candidate = sm.describe_auto_ml_job(AutoMLJobName=auto_ml_job_name)['BestCandidate']\n",
    "best_candidate_name = best_candidate['CandidateName']\n",
    "print('\\n')\n",
    "print(\"CandidateName: \" + best_candidate_name)\n",
    "print(\"FinalAutoMLJobObjectiveMetricName: \" + best_candidate['FinalAutoMLJobObjectiveMetric']['MetricName'])\n",
    "print(\"FinalAutoMLJobObjectiveMetricValue: \" + str(best_candidate['FinalAutoMLJobObjectiveMetric']['Value']))"
   ]
  },
  {
   "cell_type": "code",
   "execution_count": 204,
   "metadata": {
    "id": "r4EFMkcfg944",
    "outputId": "c0d25c0e-97e1-4292-f2c7-54195b82234d"
   },
   "outputs": [
    {
     "name": "stdout",
     "output_type": "stream",
     "text": [
      "\n"
     ]
    }
   ],
   "source": [
    "\"\"\"\n",
    "candidates = sm.list_candidates_for_auto_ml_job(AutoMLJobName=auto_ml_job_name, SortBy='FinalObjectiveMetricValue', SortOrder='Ascending')['Candidates']\n",
    "index = 1\n",
    "for candidate in candidates:\n",
    "    print(str(index) + \"  \" + candidate['CandidateName'] + \"  \" + str(candidate['FinalAutoMLJobObjectiveMetric']['Value']))\n",
    "    index += 1\n",
    "\"\"\"\n",
    "print()"
   ]
  },
  {
   "cell_type": "code",
   "execution_count": 205,
   "metadata": {
    "id": "fEuOdBH7g944",
    "outputId": "fb189123-24f7-42d2-c811-76fb7fc7e535"
   },
   "outputs": [],
   "source": [
    "# autopilot cadidate definition notebook\n",
    "candidate_notebook_location = sm.describe_auto_ml_job(AutoMLJobName=auto_ml_job_name)['AutoMLJobArtifacts']['CandidateDefinitionNotebookLocation']\n",
    "candidate_notebook_location = candidate_notebook_location.split('s3://niy-certification/')[1]\n",
    "\n",
    "# data exploration notebook\n",
    "eda_notebook_location = sm.describe_auto_ml_job(AutoMLJobName=auto_ml_job_name)['AutoMLJobArtifacts']['DataExplorationNotebookLocation']\n",
    "eda_notebook_location = eda_notebook_location.split('s3://niy-certification/')[1]\n",
    "\n",
    "bucket = s3.Bucket(bucket_name)\n",
    "bucket.download_file(candidate_notebook_location, f'{month_year}_candidate_notebook.ipynb')\n",
    "bucket.download_file(eda_notebook_location, f'{month_year}_eda_notebook.ipynb')"
   ]
  },
  {
   "cell_type": "markdown",
   "metadata": {
    "id": "s68ajYBjg944"
   },
   "source": [
    "# Inference"
   ]
  },
  {
   "cell_type": "code",
   "execution_count": 206,
   "metadata": {
    "id": "eMs-eOZ9g944",
    "outputId": "f315ecb9-24e5-40f7-9031-3777e5a233af"
   },
   "outputs": [
    {
     "name": "stdout",
     "output_type": "stream",
     "text": [
      "Model ARN corresponding to the best candidate is : arn:aws:sagemaker:eu-central-1:898627427171:model/niy-inf-jan-2019-17-00-44\n"
     ]
    }
   ],
   "source": [
    "timestamp_suffix = strftime('%H-%M-%S')\n",
    "model_name = f'niy-inf-{auto_ml_month_name}-' + timestamp_suffix\n",
    "\n",
    "model = sm.create_model(Containers=best_candidate['InferenceContainers'],\n",
    "                            ModelName=model_name,\n",
    "                            ExecutionRoleArn=role)\n",
    "\n",
    "print('Model ARN corresponding to the best candidate is : {}'.format(model['ModelArn']))"
   ]
  },
  {
   "cell_type": "code",
   "execution_count": 207,
   "metadata": {
    "id": "DyDB1zPTg944",
    "outputId": "57ba9642-c1d2-4ae4-910d-f1a1c40c0864"
   },
   "outputs": [
    {
     "data": {
      "text/plain": [
       "{'TransformJobArn': 'arn:aws:sagemaker:eu-central-1:898627427171:transform-job/niy-trf-jan-2019-17-00-44',\n",
       " 'ResponseMetadata': {'RequestId': 'cf5794f8-adbb-4195-86e9-8887f1e2f265',\n",
       "  'HTTPStatusCode': 200,\n",
       "  'HTTPHeaders': {'x-amzn-requestid': 'cf5794f8-adbb-4195-86e9-8887f1e2f265',\n",
       "   'content-type': 'application/x-amz-json-1.1',\n",
       "   'content-length': '105',\n",
       "   'date': 'Tue, 01 Dec 2020 16:00:49 GMT'},\n",
       "  'RetryAttempts': 0}}"
      ]
     },
     "execution_count": 207,
     "metadata": {},
     "output_type": "execute_result"
    }
   ],
   "source": [
    "transform_job_name = f'niy-trf-{auto_ml_month_name}-' + timestamp_suffix\n",
    "\n",
    "transform_input = {\n",
    "        'DataSource': {\n",
    "            'S3DataSource': {\n",
    "                'S3DataType': 'S3Prefix',\n",
    "                'S3Uri': f's3://{bucket_name}/automl/{month_year}_test.csv'\n",
    "            }\n",
    "        },\n",
    "        'ContentType': 'text/csv',\n",
    "        'CompressionType': 'None',\n",
    "        'SplitType': 'Line'\n",
    "    }\n",
    "\n",
    "transform_output = {\n",
    "        'S3OutputPath': f's3://{bucket_name}/automl/inference-results',\n",
    "    }\n",
    "\n",
    "transform_resources = {\n",
    "        'InstanceType': 'ml.m5.4xlarge',\n",
    "        'InstanceCount': 1\n",
    "    }\n",
    "\n",
    "sm.create_transform_job(TransformJobName = transform_job_name,\n",
    "                        ModelName = model_name,\n",
    "                        TransformInput = transform_input,\n",
    "                        TransformOutput = transform_output,\n",
    "                        TransformResources = transform_resources\n",
    ")"
   ]
  },
  {
   "cell_type": "code",
   "execution_count": 208,
   "metadata": {
    "id": "HXsCKMHeg944",
    "outputId": "534aa9a5-6869-4a55-cdcc-fdeae530b98a"
   },
   "outputs": [
    {
     "name": "stdout",
     "output_type": "stream",
     "text": [
      "JobStatus\n",
      "----------\n",
      "InProgress\n",
      "InProgress\n",
      "InProgress\n",
      "InProgress\n",
      "Completed\n"
     ]
    }
   ],
   "source": [
    "print ('JobStatus')\n",
    "print('----------')\n",
    "\n",
    "describe_response = sm.describe_transform_job(TransformJobName = transform_job_name)\n",
    "job_run_status = describe_response['TransformJobStatus']\n",
    "print (job_run_status)\n",
    "\n",
    "while job_run_status not in ('Failed', 'Completed', 'Stopped'):\n",
    "    describe_response = sm.describe_transform_job(TransformJobName = transform_job_name)\n",
    "    job_run_status = describe_response['TransformJobStatus']\n",
    "    print (job_run_status)\n",
    "    sleep(120)"
   ]
  },
  {
   "cell_type": "code",
   "execution_count": 209,
   "metadata": {},
   "outputs": [],
   "source": [
    "describe_response = sm.describe_transform_job(TransformJobName = transform_job_name)"
   ]
  },
  {
   "cell_type": "code",
   "execution_count": 210,
   "metadata": {
    "id": "nEDjYif4g944",
    "outputId": "a5b5c1c1-9a69-42d3-dd99-6b86b13cfce7"
   },
   "outputs": [],
   "source": [
    "s3_output_key = f'automl/inference-results/{month_year}_test.csv.out'\n",
    "local_inference_results_path = f'{month_year}_inference_results.csv'\n",
    "\n",
    "inference_results_bucket = s3.Bucket(bucket_name)\n",
    "inference_results_bucket.download_file(s3_output_key, local_inference_results_path);\n",
    "\n",
    "data = pd.read_csv(local_inference_results_path, sep=';', names=['predicted'])"
   ]
  },
  {
   "cell_type": "code",
   "execution_count": 212,
   "metadata": {},
   "outputs": [],
   "source": [
    "df_train, df_test = train_test_split(df, \n",
    "                                     test_size=0.2,\n",
    "                                     random_state=42)"
   ]
  },
  {
   "cell_type": "code",
   "execution_count": 217,
   "metadata": {
    "id": "m3kkV7gRg944"
   },
   "outputs": [],
   "source": [
    "data['true'] = df_test['ARR_DELAY_NEW'].reset_index(drop=True)"
   ]
  },
  {
   "cell_type": "code",
   "execution_count": 218,
   "metadata": {},
   "outputs": [
    {
     "data": {
      "text/plain": [
       "<AxesSubplot:xlabel='predicted', ylabel='true'>"
      ]
     },
     "execution_count": 218,
     "metadata": {},
     "output_type": "execute_result"
    },
    {
     "data": {
      "image/png": "[encoded data removed]",
      "text/plain": [
       "<Figure size 432x288 with 1 Axes>"
      ]
     },
     "metadata": {
      "needs_background": "light"
     },
     "output_type": "display_data"
    }
   ],
   "source": [
    "sns.scatterplot(x=data['predicted'], y=data['true'])"
   ]
  },
  {
   "cell_type": "markdown",
   "metadata": {},
   "source": [
    "# Evaluation"
   ]
  },
  {
   "cell_type": "code",
   "execution_count": 215,
   "metadata": {},
   "outputs": [],
   "source": [
    "results = {}\n",
    "# results[month_year + ' without scheduled departe and arrival'] = r2_score(data['true'], data['predicted'])\n",
    "# results[month_year + ' with scheduled departure and arrival'] = r2_score(data['true'], data['predicted'])\n",
    "results[month_year + ' with split scheduled departure and arrival times'] = r2_score(data['true'], data['predicted'])"
   ]
  },
  {
   "cell_type": "markdown",
   "metadata": {},
   "source": [
    "In a prior run, AutoML was not able to produce good results (the feature set was highly limited though)."
   ]
  },
  {
   "cell_type": "code",
   "execution_count": 216,
   "metadata": {},
   "outputs": [
    {
     "data": {
      "text/html": [
       "<div>\n",
       "<style scoped>\n",
       "    .dataframe tbody tr th:only-of-type {\n",
       "        vertical-align: middle;\n",
       "    }\n",
       "\n",
       "    .dataframe tbody tr th {\n",
       "        vertical-align: top;\n",
       "    }\n",
       "\n",
       "    .dataframe thead th {\n",
       "        text-align: right;\n",
       "    }\n",
       "</style>\n",
       "<table border=\"1\" class=\"dataframe\">\n",
       "  <thead>\n",
       "    <tr style=\"text-align: right;\">\n",
       "      <th></th>\n",
       "      <th>r2</th>\n",
       "    </tr>\n",
       "  </thead>\n",
       "  <tbody>\n",
       "    <tr>\n",
       "      <th>Jan_2019 with split scheduled departure and arrival times</th>\n",
       "      <td>0.185273</td>\n",
       "    </tr>\n",
       "  </tbody>\n",
       "</table>\n",
       "</div>"
      ],
      "text/plain": [
       "                                                          r2\n",
       "Jan_2019 with split scheduled departure and arr...  0.185273"
      ]
     },
     "execution_count": 216,
     "metadata": {},
     "output_type": "execute_result"
    }
   ],
   "source": [
    "df_results = pd.DataFrame.from_dict(results, orient='index', columns=['r2'])\n",
    "df_results"
   ]
  },
  {
   "cell_type": "code",
   "execution_count": 134,
   "metadata": {},
   "outputs": [
    {
     "data": {
      "text/html": [
       "<div>\n",
       "<style scoped>\n",
       "    .dataframe tbody tr th:only-of-type {\n",
       "        vertical-align: middle;\n",
       "    }\n",
       "\n",
       "    .dataframe tbody tr th {\n",
       "        vertical-align: top;\n",
       "    }\n",
       "\n",
       "    .dataframe thead th {\n",
       "        text-align: right;\n",
       "    }\n",
       "</style>\n",
       "<table border=\"1\" class=\"dataframe\">\n",
       "  <thead>\n",
       "    <tr style=\"text-align: right;\">\n",
       "      <th></th>\n",
       "      <th>r2</th>\n",
       "    </tr>\n",
       "  </thead>\n",
       "  <tbody>\n",
       "    <tr>\n",
       "      <th>Jan_2019 without scheduled departe and arrival</th>\n",
       "      <td>0.145449</td>\n",
       "    </tr>\n",
       "    <tr>\n",
       "      <th>Jan_2019 with scheduled departure and arrival</th>\n",
       "      <td>0.187276</td>\n",
       "    </tr>\n",
       "  </tbody>\n",
       "</table>\n",
       "</div>"
      ],
      "text/plain": [
       "                                                      r2\n",
       "Jan_2019 without scheduled departe and arrival  0.145449\n",
       "Jan_2019 with scheduled departure and arrival   0.187276"
      ]
     },
     "execution_count": 134,
     "metadata": {},
     "output_type": "execute_result"
    }
   ],
   "source": [
    "df_results = pd.DataFrame.from_dict(results, orient='index', columns=['r2'])\n",
    "df_results"
   ]
  },
  {
   "cell_type": "markdown",
   "metadata": {},
   "source": [
    "# Generalisation"
   ]
  },
  {
   "cell_type": "code",
   "execution_count": null,
   "metadata": {},
   "outputs": [],
   "source": []
  },
  {
   "cell_type": "code",
   "execution_count": null,
   "metadata": {},
   "outputs": [],
   "source": []
  },
  {
   "cell_type": "code",
   "execution_count": null,
   "metadata": {},
   "outputs": [],
   "source": []
  },
  {
   "cell_type": "markdown",
   "metadata": {},
   "source": [
    "# Hierarchical Approach"
   ]
  },
  {
   "cell_type": "code",
   "execution_count": null,
   "metadata": {},
   "outputs": [],
   "source": [
    "# Daten einlesen\n",
    "# Klassifizieren\n",
    "# Score für Klassifizierung\n",
    "# Regression für diejenigen, welche wir als Verspätet klassifiziert haben\n",
    "# 0 Minuten für den Rest der Datenpunkte\n",
    "# Regressionsscore"
   ]
  },
  {
   "cell_type": "code",
   "execution_count": 58,
   "metadata": {},
   "outputs": [],
   "source": [
    "import xgboost as xgb\n",
    "from sklearn.metrics import f1_score\n",
    "import seaborn as sns"
   ]
  },
  {
   "cell_type": "code",
   "execution_count": 59,
   "metadata": {},
   "outputs": [],
   "source": [
    "df = get_preproccessed_df(file_uris['Jan_2019'])"
   ]
  },
  {
   "cell_type": "code",
   "execution_count": 60,
   "metadata": {},
   "outputs": [],
   "source": [
    "df['ARR_DELAY_BINARY'] = df['ARR_DELAY_NEW'] > 15\n",
    "df_class = df.drop('ARR_DELAY_NEW', axis=1)\n",
    "# df_class = df_class.drop(df_class.select_dtypes(include=['object']).columns, axis=1)"
   ]
  },
  {
   "cell_type": "code",
   "execution_count": 61,
   "metadata": {},
   "outputs": [],
   "source": [
    "X = df_class.drop('ARR_DELAY_BINARY', axis=1)\n",
    "y = df_class['ARR_DELAY_BINARY']"
   ]
  },
  {
   "cell_type": "code",
   "execution_count": 62,
   "metadata": {},
   "outputs": [],
   "source": [
    "X_train, X_test, y_train, y_test = train_test_split(X, \n",
    "                                                    y, \n",
    "                                                    test_size=0.2,\n",
    "                                                    random_state=42, \n",
    "                                                    stratify=y)"
   ]
  },
  {
   "cell_type": "code",
   "execution_count": 63,
   "metadata": {},
   "outputs": [],
   "source": [
    "X_train = pd.get_dummies(X_train)\n",
    "X_test = pd.get_dummies(X_test)"
   ]
  },
  {
   "cell_type": "code",
   "execution_count": 64,
   "metadata": {},
   "outputs": [],
   "source": [
    "xgb_class = xgb.XGBClassifier()\n",
    "# Fit the Regressor\n",
    "xgb_class.fit(X_train, y_train)\n",
    "# Predict the response for the test dataset\n",
    "y_pred = xgb_class.predict(X_test)\n",
    "# Print r2_score\n",
    "f1_class = f1_score(y_test, y_pred)"
   ]
  },
  {
   "cell_type": "code",
   "execution_count": 65,
   "metadata": {},
   "outputs": [
    {
     "data": {
      "text/plain": [
       "0.3134867256637168"
      ]
     },
     "execution_count": 65,
     "metadata": {},
     "output_type": "execute_result"
    }
   ],
   "source": [
    "f1_class"
   ]
  },
  {
   "cell_type": "code",
   "execution_count": 66,
   "metadata": {},
   "outputs": [],
   "source": [
    "from sklearn.metrics import plot_confusion_matrix"
   ]
  },
  {
   "cell_type": "code",
   "execution_count": 67,
   "metadata": {},
   "outputs": [
    {
     "data": {
      "text/plain": [
       "<sklearn.metrics._plot.confusion_matrix.ConfusionMatrixDisplay at 0x7fd26edb1cd0>"
      ]
     },
     "execution_count": 67,
     "metadata": {},
     "output_type": "execute_result"
    },
    {
     "data": {
      "image/png": "[encoded data removed]",
      "text/plain": [
       "<Figure size 432x288 with 2 Axes>"
      ]
     },
     "metadata": {
      "needs_background": "light"
     },
     "output_type": "display_data"
    }
   ],
   "source": [
    "plot_confusion_matrix(xgb_class, X_test, y_test)"
   ]
  },
  {
   "cell_type": "code",
   "execution_count": 68,
   "metadata": {},
   "outputs": [],
   "source": [
    "import numpy as np"
   ]
  },
  {
   "cell_type": "code",
   "execution_count": null,
   "metadata": {},
   "outputs": [],
   "source": [
    "# Create new dataframe from X_test\n",
    "\n",
    "# df_hierarchical, has a true arrival delay label based on the indices from df\n",
    "# df_hierarchical, has a predicted arrival delay label, which assumes 0 minutes of delay when predicted as punctual and y minutes of delay if predicted as delayed\n",
    "\n",
    "# use df_hierarchical to train-test split and regress and calcuclate r2-score"
   ]
  },
  {
   "cell_type": "code",
   "execution_count": 119,
   "metadata": {},
   "outputs": [],
   "source": [
    "df_hierarchical = df.loc[y_test.index].copy()\n",
    "df_hierarchical = df_hierarchical.drop('ARR_DELAY_BINARY', axis=1)\n",
    "df_hierarchical['PREDICTED_BINARY'] = y_test\n",
    "\n",
    "df_hierarchical_regression = df_hierarchical.loc[df_hierarchical['PREDICTED_BINARY'] == True].copy()\n",
    "df_hierarchical_regression = df_hierarchical_regression.drop('PREDICTED_BINARY', axis=1)\n",
    "\n",
    "X_hierarchical = df_hierarchical_regression.drop('ARR_DELAY_NEW', axis=1)\n",
    "y_hierarchical = df_hierarchical_regression['ARR_DELAY_NEW']\n",
    "\n",
    "X_train_hierarchical, X_test_hierarchical, \\\n",
    "y_train_hierarchical, y_test_hierarchical = train_test_split(X_hierarchical, \n",
    "                                                y_hierarchical, \n",
    "                                                test_size=0.2,\n",
    "                                                random_state=42)"
   ]
  },
  {
   "cell_type": "code",
   "execution_count": 120,
   "metadata": {},
   "outputs": [
    {
     "data": {
      "text/plain": [
       "OneHotEncoder(handle_unknown='ignore')"
      ]
     },
     "execution_count": 120,
     "metadata": {},
     "output_type": "execute_result"
    }
   ],
   "source": [
    "from sklearn.preprocessing import OneHotEncoder\n",
    "\n",
    "enc = OneHotEncoder(handle_unknown = 'ignore')\n",
    "enc.fit(X_train_hierarchical.select_dtypes(include='object'))\n",
    "\n",
    "# enc.transform(test).toarray()"
   ]
  },
  {
   "cell_type": "code",
   "execution_count": 121,
   "metadata": {},
   "outputs": [],
   "source": [
    "X_train_hierarchical_ohe = pd.DataFrame(data = enc.transform(X_train_hierarchical.select_dtypes(include='object')).toarray(),\n",
    "             columns = enc.get_feature_names(), index=X_train_hierarchical.index)"
   ]
  },
  {
   "cell_type": "code",
   "execution_count": 122,
   "metadata": {},
   "outputs": [],
   "source": [
    "X_train_hierarchical = pd.concat([X_train_hierarchical.drop(X_train_hierarchical.select_dtypes(include='object').columns, axis=1),\n",
    "          X_train_hierarchical_ohe], axis=1)"
   ]
  },
  {
   "cell_type": "code",
   "execution_count": 123,
   "metadata": {},
   "outputs": [],
   "source": [
    "X_test_hierarchical_ohe = pd.DataFrame(data=enc.transform(X_test_hierarchical.select_dtypes(include='object')).toarray(),\n",
    "                                       columns = enc.get_feature_names(), index=X_test_hierarchical.index)"
   ]
  },
  {
   "cell_type": "code",
   "execution_count": 124,
   "metadata": {},
   "outputs": [],
   "source": [
    "X_test_hierarchical = pd.concat([X_test_hierarchical.drop(X_test_hierarchical.select_dtypes(include='object').columns, axis=1),\n",
    "          X_test_hierarchical_ohe], axis=1)"
   ]
  },
  {
   "cell_type": "code",
   "execution_count": 125,
   "metadata": {},
   "outputs": [
    {
     "data": {
      "text/plain": [
       "((18101, 826), (4526, 826))"
      ]
     },
     "execution_count": 125,
     "metadata": {},
     "output_type": "execute_result"
    }
   ],
   "source": [
    "X_train_hierarchical.shape, X_test_hierarchical.shape"
   ]
  },
  {
   "cell_type": "code",
   "execution_count": 128,
   "metadata": {
    "collapsed": true,
    "jupyter": {
     "outputs_hidden": true
    }
   },
   "outputs": [
    {
     "data": {
      "text/plain": [
       "array([ True,  True,  True,  True,  True,  True,  True,  True,  True,\n",
       "        True,  True,  True,  True,  True,  True,  True,  True,  True,\n",
       "        True,  True,  True,  True,  True,  True,  True,  True,  True,\n",
       "        True,  True,  True,  True,  True,  True,  True,  True,  True,\n",
       "        True,  True,  True,  True,  True,  True,  True,  True,  True,\n",
       "        True,  True,  True,  True,  True,  True,  True,  True,  True,\n",
       "        True,  True,  True,  True,  True,  True,  True,  True,  True,\n",
       "        True,  True,  True,  True,  True,  True,  True,  True,  True,\n",
       "        True,  True,  True,  True,  True,  True,  True,  True,  True,\n",
       "        True,  True,  True,  True,  True,  True,  True,  True,  True,\n",
       "        True,  True,  True,  True,  True,  True,  True,  True,  True,\n",
       "        True,  True,  True,  True,  True,  True,  True,  True,  True,\n",
       "        True,  True,  True,  True,  True,  True,  True,  True,  True,\n",
       "        True,  True,  True,  True,  True,  True,  True,  True,  True,\n",
       "        True,  True,  True,  True,  True,  True,  True,  True,  True,\n",
       "        True,  True,  True,  True,  True,  True,  True,  True,  True,\n",
       "        True,  True,  True,  True,  True,  True,  True,  True,  True,\n",
       "        True,  True,  True,  True,  True,  True,  True,  True,  True,\n",
       "        True,  True,  True,  True,  True,  True,  True,  True,  True,\n",
       "        True,  True,  True,  True,  True,  True,  True,  True,  True,\n",
       "        True,  True,  True,  True,  True,  True,  True,  True,  True,\n",
       "        True,  True,  True,  True,  True,  True,  True,  True,  True,\n",
       "        True,  True,  True,  True,  True,  True,  True,  True,  True,\n",
       "        True,  True,  True,  True,  True,  True,  True,  True,  True,\n",
       "        True,  True,  True,  True,  True,  True,  True,  True,  True,\n",
       "        True,  True,  True,  True,  True,  True,  True,  True,  True,\n",
       "        True,  True,  True,  True,  True,  True,  True,  True,  True,\n",
       "        True,  True,  True,  True,  True,  True,  True,  True,  True,\n",
       "        True,  True,  True,  True,  True,  True,  True,  True,  True,\n",
       "        True,  True,  True,  True,  True,  True,  True,  True,  True,\n",
       "        True,  True,  True,  True,  True,  True,  True,  True,  True,\n",
       "        True,  True,  True,  True,  True,  True,  True,  True,  True,\n",
       "        True,  True,  True,  True,  True,  True,  True,  True,  True,\n",
       "        True,  True,  True,  True,  True,  True,  True,  True,  True,\n",
       "        True,  True,  True,  True,  True,  True,  True,  True,  True,\n",
       "        True,  True,  True,  True,  True,  True,  True,  True,  True,\n",
       "        True,  True,  True,  True,  True,  True,  True,  True,  True,\n",
       "        True,  True,  True,  True,  True,  True,  True,  True,  True,\n",
       "        True,  True,  True,  True,  True,  True,  True,  True,  True,\n",
       "        True,  True,  True,  True,  True,  True,  True,  True,  True,\n",
       "        True,  True,  True,  True,  True,  True,  True,  True,  True,\n",
       "        True,  True,  True,  True,  True,  True,  True,  True,  True,\n",
       "        True,  True,  True,  True,  True,  True,  True,  True,  True,\n",
       "        True,  True,  True,  True,  True,  True,  True,  True,  True,\n",
       "        True,  True,  True,  True,  True,  True,  True,  True,  True,\n",
       "        True,  True,  True,  True,  True,  True,  True,  True,  True,\n",
       "        True,  True,  True,  True,  True,  True,  True,  True,  True,\n",
       "        True,  True,  True,  True,  True,  True,  True,  True,  True,\n",
       "        True,  True,  True,  True,  True,  True,  True,  True,  True,\n",
       "        True,  True,  True,  True,  True,  True,  True,  True,  True,\n",
       "        True,  True,  True,  True,  True,  True,  True,  True,  True,\n",
       "        True,  True,  True,  True,  True,  True,  True,  True,  True,\n",
       "        True,  True,  True,  True,  True,  True,  True,  True,  True,\n",
       "        True,  True,  True,  True,  True,  True,  True,  True,  True,\n",
       "        True,  True,  True,  True,  True,  True,  True,  True,  True,\n",
       "        True,  True,  True,  True,  True,  True,  True,  True,  True,\n",
       "        True,  True,  True,  True,  True,  True,  True,  True,  True,\n",
       "        True,  True,  True,  True,  True,  True,  True,  True,  True,\n",
       "        True,  True,  True,  True,  True,  True,  True,  True,  True,\n",
       "        True,  True,  True,  True,  True,  True,  True,  True,  True,\n",
       "        True,  True,  True,  True,  True,  True,  True,  True,  True,\n",
       "        True,  True,  True,  True,  True,  True,  True,  True,  True,\n",
       "        True,  True,  True,  True,  True,  True,  True,  True,  True,\n",
       "        True,  True,  True,  True,  True,  True,  True,  True,  True,\n",
       "        True,  True,  True,  True,  True,  True,  True,  True,  True,\n",
       "        True,  True,  True,  True,  True,  True,  True,  True,  True,\n",
       "        True,  True,  True,  True,  True,  True,  True,  True,  True,\n",
       "        True,  True,  True,  True,  True,  True,  True,  True,  True,\n",
       "        True,  True,  True,  True,  True,  True,  True,  True,  True,\n",
       "        True,  True,  True,  True,  True,  True,  True,  True,  True,\n",
       "        True,  True,  True,  True,  True,  True,  True,  True,  True,\n",
       "        True,  True,  True,  True,  True,  True,  True,  True,  True,\n",
       "        True,  True,  True,  True,  True,  True,  True,  True,  True,\n",
       "        True,  True,  True,  True,  True,  True,  True,  True,  True,\n",
       "        True,  True,  True,  True,  True,  True,  True,  True,  True,\n",
       "        True,  True,  True,  True,  True,  True,  True,  True,  True,\n",
       "        True,  True,  True,  True,  True,  True,  True,  True,  True,\n",
       "        True,  True,  True,  True,  True,  True,  True,  True,  True,\n",
       "        True,  True,  True,  True,  True,  True,  True,  True,  True,\n",
       "        True,  True,  True,  True,  True,  True,  True,  True,  True,\n",
       "        True,  True,  True,  True,  True,  True,  True,  True,  True,\n",
       "        True,  True,  True,  True,  True,  True,  True,  True,  True,\n",
       "        True,  True,  True,  True,  True,  True,  True,  True,  True,\n",
       "        True,  True,  True,  True,  True,  True,  True,  True,  True,\n",
       "        True,  True,  True,  True,  True,  True,  True,  True,  True,\n",
       "        True,  True,  True,  True,  True,  True,  True,  True,  True,\n",
       "        True,  True,  True,  True,  True,  True,  True,  True,  True,\n",
       "        True,  True,  True,  True,  True,  True,  True,  True,  True,\n",
       "        True,  True,  True,  True,  True,  True,  True,  True,  True,\n",
       "        True,  True,  True,  True,  True,  True,  True,  True,  True,\n",
       "        True,  True,  True,  True,  True,  True,  True,  True,  True,\n",
       "        True,  True,  True,  True,  True,  True,  True])"
      ]
     },
     "execution_count": 128,
     "metadata": {},
     "output_type": "execute_result"
    }
   ],
   "source": [
    "X_train_hierarchical.columns == X_test_hierarchical.columns"
   ]
  },
  {
   "cell_type": "code",
   "execution_count": 130,
   "metadata": {},
   "outputs": [],
   "source": [
    "xgb_reg = xgb.XGBRegressor()\n",
    "# Fit the Regressor\n",
    "xgb_reg.fit(X_train_hierarchical, y_train_hierarchical)\n",
    "# Predict the response for the test dataset\n",
    "y_pred_hierarch = xgb_reg.predict(X_test_hierarchical)\n",
    "# Print r2_score\n",
    "r2_score = r2_score(y_test_hierarchical, y_pred_hierarch)"
   ]
  },
  {
   "cell_type": "code",
   "execution_count": 131,
   "metadata": {},
   "outputs": [
    {
     "data": {
      "text/plain": [
       "-0.11914008375879104"
      ]
     },
     "execution_count": 131,
     "metadata": {},
     "output_type": "execute_result"
    }
   ],
   "source": [
    "r2_score"
   ]
  },
  {
   "cell_type": "code",
   "execution_count": 134,
   "metadata": {},
   "outputs": [
    {
     "data": {
      "text/plain": [
       "<AxesSubplot:ylabel='ARR_DELAY_NEW'>"
      ]
     },
     "execution_count": 134,
     "metadata": {},
     "output_type": "execute_result"
    },
    {
     "data": {
      "image/png": "[encoded data removed]",
      "text/plain": [
       "<Figure size 432x288 with 1 Axes>"
      ]
     },
     "metadata": {
      "needs_background": "light"
     },
     "output_type": "display_data"
    }
   ],
   "source": [
    "sns.scatterplot(x=y_pred_hierarch, y=y_test_hierarchical)"
   ]
  },
  {
   "cell_type": "code",
   "execution_count": 166,
   "metadata": {},
   "outputs": [
    {
     "data": {
      "text/plain": [
       "count    18101.000000\n",
       "mean        70.409646\n",
       "std         96.217837\n",
       "min         16.000000\n",
       "25%         24.000000\n",
       "50%         41.000000\n",
       "75%         79.000000\n",
       "max       1556.000000\n",
       "Name: ARR_DELAY_NEW, dtype: float64"
      ]
     },
     "execution_count": 166,
     "metadata": {},
     "output_type": "execute_result"
    }
   ],
   "source": [
    "df_hierarchical_regression.loc[X_train_hierarchical.index, 'ARR_DELAY_NEW'].describe()"
   ]
  },
  {
   "cell_type": "code",
   "execution_count": 165,
   "metadata": {},
   "outputs": [
    {
     "data": {
      "text/plain": [
       "count    4526.000000\n",
       "mean       69.050376\n",
       "std        89.823395\n",
       "min        16.000000\n",
       "25%        24.000000\n",
       "50%        40.000000\n",
       "75%        77.000000\n",
       "max      1244.000000\n",
       "Name: ARR_DELAY_NEW, dtype: float64"
      ]
     },
     "execution_count": 165,
     "metadata": {},
     "output_type": "execute_result"
    }
   ],
   "source": [
    "df_hierarchical_regression.loc[X_test_hierarchical.index, 'ARR_DELAY_NEW'].describe()"
   ]
  },
  {
   "cell_type": "code",
   "execution_count": 172,
   "metadata": {},
   "outputs": [
    {
     "data": {
      "text/plain": [
       "count    4526.000000\n",
       "mean       70.709160\n",
       "std        51.223225\n",
       "min       -39.189770\n",
       "25%        50.654150\n",
       "50%        61.776575\n",
       "75%        76.751347\n",
       "max      1333.832031\n",
       "dtype: float64"
      ]
     },
     "execution_count": 172,
     "metadata": {},
     "output_type": "execute_result"
    }
   ],
   "source": [
    "pd.Series(y_pred_hierarch).describe()"
   ]
  },
  {
   "cell_type": "code",
   "execution_count": null,
   "metadata": {},
   "outputs": [],
   "source": []
  }
 ],
 "metadata": {
  "colab": {
   "name": "yedin_AutoML.ipynb",
   "provenance": []
  },
  "kernelspec": {
   "display_name": "Python 3",
   "language": "python",
   "name": "python3"
  },
  "language_info": {
   "codemirror_mode": {
    "name": "ipython",
    "version": 3
   },
   "file_extension": ".py",
   "mimetype": "text/x-python",
   "name": "python",
   "nbconvert_exporter": "python",
   "pygments_lexer": "ipython3",
   "version": "3.8.3"
  },
  "toc-autonumbering": true
 },
 "nbformat": 4,
 "nbformat_minor": 4
}
