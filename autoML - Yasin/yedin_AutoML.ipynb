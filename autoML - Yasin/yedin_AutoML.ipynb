{
 "cells": [
  {
   "cell_type": "markdown",
   "metadata": {
    "id": "QlgEkGhfg941"
   },
   "source": [
    "# Imports and Variables"
   ]
  },
  {
   "cell_type": "code",
   "execution_count": 35,
   "metadata": {},
   "outputs": [],
   "source": [
    "import os\n",
    "import boto3\n",
    "from botocore.exceptions import ClientError\n",
    "import logging\n",
    "import sagemaker\n",
    "from sagemaker import get_execution_role\n",
    "from sklearn.preprocessing import OneHotEncoder\n",
    "from sklearn.model_selection import train_test_split\n",
    "from sklearn.metrics import r2_score\n",
    "from time import gmtime, strftime, sleep\n",
    "import seaborn as sns\n",
    "import pandas as pd\n",
    "import matplotlib.pyplot as plt"
   ]
  },
  {
   "cell_type": "code",
   "execution_count": 2,
   "metadata": {},
   "outputs": [],
   "source": [
    "aws_user = os.environ['AWS_USER']\n",
    "aws_key = os.environ['AWS_KEY']\n",
    "region_name = 'eu-central-1'\n",
    "\n",
    "session = boto3.session.Session(\n",
    "    aws_access_key_id=aws_user,\n",
    "    aws_secret_access_key=aws_key,\n",
    "    region_name=region_name)\n",
    "\n",
    "s3_client = session.client('s3')\n",
    "s3 = session.resource('s3')\n",
    "\n",
    "region_name = 'eu-central-1'\n",
    "bucket_name = 'niy-certification'\n",
    "\n",
    "role = 'arn:aws:iam::898627427171:role/service-role/AmazonSageMaker-ExecutionRole-20201106T104926'"
   ]
  },
  {
   "cell_type": "markdown",
   "metadata": {},
   "source": [
    "# Prepare AutoML"
   ]
  },
  {
   "cell_type": "markdown",
   "metadata": {
    "id": "ixXRv20Wg943"
   },
   "source": [
    "## Preprocessing"
   ]
  },
  {
   "cell_type": "code",
   "execution_count": 62,
   "metadata": {},
   "outputs": [],
   "source": [
    "month_year = 'Apr_2019'"
   ]
  },
  {
   "cell_type": "code",
   "execution_count": 63,
   "metadata": {},
   "outputs": [],
   "source": [
    "base_path = 'https://niy-certification.s3.eu-central-1.amazonaws.com/usdot/'\n",
    "months = ['Jan', 'Feb', 'Mar', 'Apr', 'May', 'Jun', 'Jul', 'Aug', 'Sep']\n",
    "years = ['_2019', '_2020']\n",
    "\n",
    "file_uris = {}\n",
    "for year in years:\n",
    "    for month in months:\n",
    "        file_uris[month + year] = base_path + month + year + '_usdot.csv'"
   ]
  },
  {
   "cell_type": "code",
   "execution_count": 64,
   "metadata": {},
   "outputs": [],
   "source": [
    "def get_preproccessed_df(s3_link):\n",
    "    df_raw = pd.read_csv(s3_link, dtype={'DAY_OF_MONTH': str, 'CRS_ARR_TIME': str, 'CRS_DEP_TIME': str, 'WHEELS_OFF': str})\n",
    "    columns_to_drop = ['YEAR', 'MONTH', 'FL_DATE', 'ORIGIN_STATE_NM', 'DEST_CITY_NAME', 'DEST_STATE_NM', 'DEP_TIME', \n",
    "                       'DEP_TIME_BLK', 'ARR_TIME', 'ARR_TIME_BLK', 'CARRIER_DELAY', 'WEATHER_DELAY', 'NAS_DELAY', \n",
    "                       'SECURITY_DELAY', 'LATE_AIRCRAFT_DELAY', 'FLIGHTS', 'Unnamed: 54', \n",
    "                       'OP_CARRIER_AIRLINE_ID',\t'OP_CARRIER_FL_NUM', 'ORIGIN_AIRPORT_ID', 'ORIGIN_AIRPORT_SEQ_ID',\t\n",
    "                       'ORIGIN_CITY_MARKET_ID',\t'ORIGIN_STATE_FIPS', 'DEST_AIRPORT_ID',\t'DEST_AIRPORT_SEQ_ID',\t\n",
    "                       'DEST_CITY_MARKET_ID', 'DEST_STATE_FIPS', 'DEP_DELAY', 'DEP_DELAY_NEW', 'DEP_DEL15', 'DEP_DELAY_GROUP', \n",
    "                       'WHEELS_ON', 'ARR_DELAY', 'ARR_DEL15', 'ARR_DELAY_GROUP', 'CRS_ELAPSED_TIME', 'ACTUAL_ELAPSED_TIME', \n",
    "                       'AIR_TIME', 'OP_CARRIER',\n",
    "                       'TAIL_NUM', # TO CHECK\n",
    "                       'ORIGIN_CITY_NAME' # TO CHECK\n",
    "                       ]\n",
    "    # drop flights which are either canceled or diverted\n",
    "    # as this is a conceptually different thing than being delayed\n",
    "    df_raw = df_raw.drop(df_raw.index[(df_raw['CANCELLED'] == 1) | \n",
    "                         (df_raw['DIVERTED'] == 1)]).reset_index(drop=True)\n",
    "    \n",
    "    # df_raw['DAY_OF_MONTH'] = df_raw['DAY_OF_MONTH'].astype(float)\n",
    "    \n",
    "    df_raw = df_raw.drop(columns_to_drop, axis=1)\n",
    "    df_raw = df_raw.drop(['CANCELLED', 'DIVERTED'], axis=1)\n",
    "    \n",
    "    # to get label column up front\n",
    "    df_raw = df_raw[sorted(df_raw.columns)]\n",
    "    \n",
    "    return df_raw"
   ]
  },
  {
   "cell_type": "code",
   "execution_count": 66,
   "metadata": {},
   "outputs": [],
   "source": [
    "df = get_preproccessed_df(file_uris[month_year])"
   ]
  },
  {
   "cell_type": "code",
   "execution_count": 14,
   "metadata": {},
   "outputs": [
    {
     "data": {
      "text/plain": [
       "\"\\ndf['CRS_ARR_TIME_HOUR'] = df['CRS_ARR_TIME'].astype(str).str[:2]\\ndf['CRS_ARR_TIME_MINUTE'] = df['CRS_ARR_TIME'].astype(str).str[2:]\\ndf['CRS_DEP_TIME_HOUR'] = df['CRS_DEP_TIME'].astype(str).str[:2]\\ndf['CRS_DEP_TIME_MINUTE'] = df['CRS_DEP_TIME'].astype(str).str[2:]\\ndf = df.drop(['CRS_ARR_TIME', 'CRS_DEP_TIME'], axis=1)\\n\""
      ]
     },
     "execution_count": 14,
     "metadata": {},
     "output_type": "execute_result"
    }
   ],
   "source": [
    "'''\n",
    "df['CRS_ARR_TIME_HOUR'] = df['CRS_ARR_TIME'].astype(str).str[:2]\n",
    "df['CRS_ARR_TIME_MINUTE'] = df['CRS_ARR_TIME'].astype(str).str[2:]\n",
    "df['CRS_DEP_TIME_HOUR'] = df['CRS_DEP_TIME'].astype(str).str[:2]\n",
    "df['CRS_DEP_TIME_MINUTE'] = df['CRS_DEP_TIME'].astype(str).str[2:]\n",
    "df = df.drop(['CRS_ARR_TIME', 'CRS_DEP_TIME'], axis=1)\n",
    "'''"
   ]
  },
  {
   "cell_type": "code",
   "execution_count": 67,
   "metadata": {},
   "outputs": [
    {
     "data": {
      "text/html": [
       "<div>\n",
       "<style scoped>\n",
       "    .dataframe tbody tr th:only-of-type {\n",
       "        vertical-align: middle;\n",
       "    }\n",
       "\n",
       "    .dataframe tbody tr th {\n",
       "        vertical-align: top;\n",
       "    }\n",
       "\n",
       "    .dataframe thead th {\n",
       "        text-align: right;\n",
       "    }\n",
       "</style>\n",
       "<table border=\"1\" class=\"dataframe\">\n",
       "  <thead>\n",
       "    <tr style=\"text-align: right;\">\n",
       "      <th></th>\n",
       "      <th>ARR_DELAY_NEW</th>\n",
       "      <th>CRS_ARR_TIME</th>\n",
       "      <th>CRS_DEP_TIME</th>\n",
       "      <th>DAY_OF_MONTH</th>\n",
       "      <th>DAY_OF_WEEK</th>\n",
       "      <th>DEST</th>\n",
       "      <th>DEST_STATE_ABR</th>\n",
       "      <th>DISTANCE</th>\n",
       "      <th>OP_UNIQUE_CARRIER</th>\n",
       "      <th>ORIGIN</th>\n",
       "      <th>ORIGIN_STATE_ABR</th>\n",
       "      <th>WHEELS_OFF</th>\n",
       "    </tr>\n",
       "  </thead>\n",
       "  <tbody>\n",
       "    <tr>\n",
       "      <th>0</th>\n",
       "      <td>320.0</td>\n",
       "      <td>2008</td>\n",
       "      <td>1555</td>\n",
       "      <td>19</td>\n",
       "      <td>5</td>\n",
       "      <td>TPA</td>\n",
       "      <td>FL</td>\n",
       "      <td>1306.0</td>\n",
       "      <td>NK</td>\n",
       "      <td>MSP</td>\n",
       "      <td>MN</td>\n",
       "      <td>2126</td>\n",
       "    </tr>\n",
       "  </tbody>\n",
       "</table>\n",
       "</div>"
      ],
      "text/plain": [
       "   ARR_DELAY_NEW CRS_ARR_TIME CRS_DEP_TIME DAY_OF_MONTH  DAY_OF_WEEK DEST  \\\n",
       "0          320.0         2008         1555           19            5  TPA   \n",
       "\n",
       "  DEST_STATE_ABR  DISTANCE OP_UNIQUE_CARRIER ORIGIN ORIGIN_STATE_ABR  \\\n",
       "0             FL    1306.0                NK    MSP               MN   \n",
       "\n",
       "  WHEELS_OFF  \n",
       "0       2126  "
      ]
     },
     "execution_count": 67,
     "metadata": {},
     "output_type": "execute_result"
    }
   ],
   "source": [
    "df.head(1)"
   ]
  },
  {
   "cell_type": "markdown",
   "metadata": {},
   "source": [
    "## Train Test Split & Upload to S3"
   ]
  },
  {
   "cell_type": "code",
   "execution_count": 74,
   "metadata": {},
   "outputs": [],
   "source": [
    "def split_and_upload_df(df):\n",
    "    # split data\n",
    "    df_train, df_test = train_test_split(df, \n",
    "                                     test_size=0.2,\n",
    "                                     random_state=42)\n",
    "    \n",
    "    file_path_train = f'/Users/yasinedin/Downloads/automl/{month_year}train.csv'\n",
    "    file_path_test = f'/Users/yasinedin/Downloads/automl/{month_year}test.csv'\n",
    "    \n",
    "    df_train.to_csv(file_path_train, index=False, header=True)\n",
    "    df_test.drop('ARR_DELAY_NEW', axis=1).to_csv(file_path_test, index=False, header=False)\n",
    "    \n",
    "    # upload data to s3\n",
    "    try:\n",
    "        train_response = s3_client.upload_file(file_path_train, bucket_name, f'automl/{month_year}_train.csv')\n",
    "        print('Train data successfully uploaded')\n",
    "    except ClientError as e:\n",
    "        logging.error(e)\n",
    "        print('Something went wrong.')\n",
    "\n",
    "    try:\n",
    "        test_response = s3_client.upload_file(file_path_test, bucket_name, f'automl/{month_year}_test.csv')\n",
    "        print('Test data successfully uploaded')\n",
    "    except ClientError as e:\n",
    "        logging.error(e)\n",
    "        print('Something went wrong.')\n",
    "        \n",
    "    return print('Successfully split and uploaded data')"
   ]
  },
  {
   "cell_type": "code",
   "execution_count": 75,
   "metadata": {},
   "outputs": [
    {
     "name": "stdout",
     "output_type": "stream",
     "text": [
      "Train data successfully uploaded\n",
      "Test data successfully uploaded\n",
      "Successfully split and uploaded data\n"
     ]
    }
   ],
   "source": [
    "split_and_upload_df(df)"
   ]
  },
  {
   "cell_type": "code",
   "execution_count": 242,
   "metadata": {
    "jupyter": {
     "source_hidden": true
    }
   },
   "outputs": [],
   "source": [
    "# let AutoML do its thing\n",
    "\"\"\"\n",
    "enc = OneHotEncoder(handle_unknown = 'ignore')\n",
    "\n",
    "enc.fit(df_train[['OP_UNIQUE_CARRIER']])\n",
    "enc.categories_\n",
    "\n",
    "enc_columns = sorted(df_train['OP_UNIQUE_CARRIER'].unique())\n",
    "\n",
    "df_train = pd.concat([df_train,\n",
    "           pd.DataFrame(index=df_train.index,\n",
    "                        data=enc.transform(df_train[['OP_UNIQUE_CARRIER']]).toarray(), \n",
    "                        columns=enc_columns)], axis=1).drop('OP_UNIQUE_CARRIER', axis=1)\n",
    "\n",
    "df_test = pd.concat([df_test,\n",
    "           pd.DataFrame(index=df_test.index,\n",
    "                        data=enc.transform(df_test[['OP_UNIQUE_CARRIER']]).toarray(), \n",
    "                        columns=enc_columns)], axis=1).drop('OP_UNIQUE_CARRIER', axis=1)\n",
    "\"\"\"\n",
    "print()"
   ]
  },
  {
   "cell_type": "markdown",
   "metadata": {
    "id": "BZUe8AeSg943"
   },
   "source": [
    "# SageMaker AutoML"
   ]
  },
  {
   "cell_type": "code",
   "execution_count": 76,
   "metadata": {
    "id": "meGedPzcg943"
   },
   "outputs": [],
   "source": [
    "sm_session = sagemaker.Session(session)\n",
    "sm = session.client(service_name='sagemaker', region_name=region_name)"
   ]
  },
  {
   "cell_type": "code",
   "execution_count": 77,
   "metadata": {
    "id": "CSzOXl6Bg943",
    "outputId": "93a31203-3206-4193-c45f-931319bd575e"
   },
   "outputs": [
    {
     "name": "stdout",
     "output_type": "stream",
     "text": [
      "AutoMLJobName: niy-Apr-2019-20201202-1434\n"
     ]
    }
   ],
   "source": [
    "timestamp_suffix = strftime('%Y%m%d-%H%M')\n",
    "auto_ml_month_name = month_year.replace('_', '-')\n",
    "auto_ml_job_name = f'niy-{auto_ml_month_name}-' + timestamp_suffix\n",
    "print('AutoMLJobName: ' + auto_ml_job_name)"
   ]
  },
  {
   "cell_type": "code",
   "execution_count": 79,
   "metadata": {
    "id": "k-RAH96fg943"
   },
   "outputs": [],
   "source": [
    "input_data_config = [{\n",
    "      'DataSource': {\n",
    "        'S3DataSource': {\n",
    "          'S3DataType': 'S3Prefix',\n",
    "          'S3Uri': f's3://{bucket_name}/automl/{month_year}_train.csv'\n",
    "        }\n",
    "      },\n",
    "      'TargetAttributeName': 'ARR_DELAY_NEW'\n",
    "    }\n",
    "  ]\n",
    "\n",
    "job_config = {\n",
    "    'CompletionCriteria': {\n",
    "      'MaxRuntimePerTrainingJobInSeconds': 360,\n",
    "      'MaxAutoMLJobRuntimeInSeconds': 3240\n",
    "    },\n",
    "}\n",
    "\n",
    "output_data_config = {\n",
    "    'S3OutputPath': f's3://{bucket_name}/automl/output'\n",
    "  }\n",
    "\n",
    "problem_type = 'Regression'\n",
    "job_objective = { 'MetricName': 'MSE' }"
   ]
  },
  {
   "cell_type": "code",
   "execution_count": 80,
   "metadata": {
    "id": "Jh-cFJSfg943",
    "outputId": "6324a1be-e864-44ff-c050-d90b38911ddd"
   },
   "outputs": [
    {
     "data": {
      "text/plain": [
       "{'AutoMLJobArn': 'arn:aws:sagemaker:eu-central-1:898627427171:automl-job/niy-apr-2019-20201202-1434',\n",
       " 'ResponseMetadata': {'RequestId': '09741589-22fd-40de-b827-2bcb8a8aaa72',\n",
       "  'HTTPStatusCode': 200,\n",
       "  'HTTPHeaders': {'x-amzn-requestid': '09741589-22fd-40de-b827-2bcb8a8aaa72',\n",
       "   'content-type': 'application/x-amz-json-1.1',\n",
       "   'content-length': '100',\n",
       "   'date': 'Wed, 02 Dec 2020 13:34:43 GMT'},\n",
       "  'RetryAttempts': 0}}"
      ]
     },
     "execution_count": 80,
     "metadata": {},
     "output_type": "execute_result"
    }
   ],
   "source": [
    "sm.create_auto_ml_job(AutoMLJobName=auto_ml_job_name,\n",
    "                      InputDataConfig=input_data_config,\n",
    "                      OutputDataConfig=output_data_config,\n",
    "                      AutoMLJobConfig=job_config,\n",
    "                      AutoMLJobObjective=job_objective,\n",
    "                      ProblemType=problem_type,\n",
    "                      RoleArn=role)"
   ]
  },
  {
   "cell_type": "code",
   "execution_count": 81,
   "metadata": {
    "id": "Rc-2VA6Hg944",
    "outputId": "6d09f6c3-64f9-43d0-c354-c6251185485d"
   },
   "outputs": [
    {
     "name": "stdout",
     "output_type": "stream",
     "text": [
      "JobStatus - Secondary Status\n",
      "------------------------------\n",
      "InProgress - AnalyzingData\n",
      "InProgress - AnalyzingData\n",
      "InProgress - AnalyzingData\n",
      "InProgress - AnalyzingData\n",
      "InProgress - AnalyzingData\n",
      "InProgress - AnalyzingData\n",
      "InProgress - AnalyzingData\n",
      "InProgress - FeatureEngineering\n",
      "InProgress - FeatureEngineering\n",
      "InProgress - FeatureEngineering\n",
      "InProgress - FeatureEngineering\n",
      "InProgress - FeatureEngineering\n",
      "InProgress - ModelTuning\n",
      "InProgress - ModelTuning\n",
      "InProgress - ModelTuning\n",
      "InProgress - ModelTuning\n",
      "InProgress - ModelTuning\n",
      "InProgress - ModelTuning\n",
      "InProgress - ModelTuning\n",
      "InProgress - ModelTuning\n",
      "InProgress - ModelTuning\n",
      "InProgress - ModelTuning\n",
      "InProgress - ModelTuning\n",
      "InProgress - ModelTuning\n",
      "InProgress - ModelTuning\n",
      "InProgress - ModelTuning\n",
      "InProgress - ModelTuning\n",
      "InProgress - ModelTuning\n",
      "Completed - MaxAutoMLJobRuntimeReached\n"
     ]
    }
   ],
   "source": [
    "print ('JobStatus - Secondary Status')\n",
    "print('------------------------------')\n",
    "\n",
    "\n",
    "describe_response = sm.describe_auto_ml_job(AutoMLJobName=auto_ml_job_name)\n",
    "print(describe_response['AutoMLJobStatus'] + \" - \" + describe_response['AutoMLJobSecondaryStatus'])\n",
    "job_run_status = describe_response['AutoMLJobStatus']\n",
    "    \n",
    "while job_run_status not in ('Failed', 'Completed', 'Stopped'):\n",
    "    describe_response = sm.describe_auto_ml_job(AutoMLJobName=auto_ml_job_name)\n",
    "    job_run_status = describe_response['AutoMLJobStatus']\n",
    "    \n",
    "    print(describe_response['AutoMLJobStatus'] + \" - \" + describe_response['AutoMLJobSecondaryStatus'])\n",
    "    sleep(120)"
   ]
  },
  {
   "cell_type": "code",
   "execution_count": 82,
   "metadata": {},
   "outputs": [],
   "source": [
    "describe_response = sm.describe_auto_ml_job(AutoMLJobName=auto_ml_job_name)"
   ]
  },
  {
   "cell_type": "code",
   "execution_count": 83,
   "metadata": {
    "id": "67FsbacTg944",
    "outputId": "25aeebca-7c7a-4f52-c7a5-58f46681e804"
   },
   "outputs": [
    {
     "name": "stdout",
     "output_type": "stream",
     "text": [
      "\n",
      "\n",
      "CandidateName: tuning-job-1-9a9452d0c3cf425d8a-105-2e19ed8e\n",
      "FinalAutoMLJobObjectiveMetricName: validation:mse\n",
      "FinalAutoMLJobObjectiveMetricValue: 105.30535888671875\n"
     ]
    }
   ],
   "source": [
    "best_candidate = sm.describe_auto_ml_job(AutoMLJobName=auto_ml_job_name)['BestCandidate']\n",
    "best_candidate_name = best_candidate['CandidateName']\n",
    "print('\\n')\n",
    "print(\"CandidateName: \" + best_candidate_name)\n",
    "print(\"FinalAutoMLJobObjectiveMetricName: \" + best_candidate['FinalAutoMLJobObjectiveMetric']['MetricName'])\n",
    "print(\"FinalAutoMLJobObjectiveMetricValue: \" + str(best_candidate['FinalAutoMLJobObjectiveMetric']['Value']))"
   ]
  },
  {
   "cell_type": "code",
   "execution_count": 84,
   "metadata": {
    "id": "r4EFMkcfg944",
    "outputId": "c0d25c0e-97e1-4292-f2c7-54195b82234d"
   },
   "outputs": [
    {
     "name": "stdout",
     "output_type": "stream",
     "text": [
      "\n"
     ]
    }
   ],
   "source": [
    "\"\"\"\n",
    "candidates = sm.list_candidates_for_auto_ml_job(AutoMLJobName=auto_ml_job_name, SortBy='FinalObjectiveMetricValue', SortOrder='Ascending')['Candidates']\n",
    "index = 1\n",
    "for candidate in candidates:\n",
    "    print(str(index) + \"  \" + candidate['CandidateName'] + \"  \" + str(candidate['FinalAutoMLJobObjectiveMetric']['Value']))\n",
    "    index += 1\n",
    "\"\"\"\n",
    "print()"
   ]
  },
  {
   "cell_type": "code",
   "execution_count": 85,
   "metadata": {
    "id": "fEuOdBH7g944",
    "outputId": "fb189123-24f7-42d2-c811-76fb7fc7e535"
   },
   "outputs": [],
   "source": [
    "# autopilot cadidate definition notebook\n",
    "candidate_notebook_location = sm.describe_auto_ml_job(AutoMLJobName=auto_ml_job_name)['AutoMLJobArtifacts']['CandidateDefinitionNotebookLocation']\n",
    "candidate_notebook_location = candidate_notebook_location.split('s3://niy-certification/')[1]\n",
    "\n",
    "# data exploration notebook\n",
    "eda_notebook_location = sm.describe_auto_ml_job(AutoMLJobName=auto_ml_job_name)['AutoMLJobArtifacts']['DataExplorationNotebookLocation']\n",
    "eda_notebook_location = eda_notebook_location.split('s3://niy-certification/')[1]\n",
    "\n",
    "bucket = s3.Bucket(bucket_name)\n",
    "bucket.download_file(candidate_notebook_location, f'{month_year}_candidate_notebook.ipynb')\n",
    "bucket.download_file(eda_notebook_location, f'{month_year}_eda_notebook.ipynb')"
   ]
  },
  {
   "cell_type": "markdown",
   "metadata": {
    "id": "s68ajYBjg944"
   },
   "source": [
    "# Inference"
   ]
  },
  {
   "cell_type": "code",
   "execution_count": 86,
   "metadata": {
    "id": "eMs-eOZ9g944",
    "outputId": "f315ecb9-24e5-40f7-9031-3777e5a233af"
   },
   "outputs": [
    {
     "name": "stdout",
     "output_type": "stream",
     "text": [
      "Model ARN corresponding to the best candidate is : arn:aws:sagemaker:eu-central-1:898627427171:model/niy-inf-apr-2019-15-44-24\n"
     ]
    }
   ],
   "source": [
    "timestamp_suffix = strftime('%H-%M-%S')\n",
    "model_name = f'niy-inf-{auto_ml_month_name}-' + timestamp_suffix\n",
    "\n",
    "model = sm.create_model(Containers=best_candidate['InferenceContainers'],\n",
    "                            ModelName=model_name,\n",
    "                            ExecutionRoleArn=role)\n",
    "\n",
    "print('Model ARN corresponding to the best candidate is : {}'.format(model['ModelArn']))"
   ]
  },
  {
   "cell_type": "code",
   "execution_count": 87,
   "metadata": {
    "id": "DyDB1zPTg944",
    "outputId": "57ba9642-c1d2-4ae4-910d-f1a1c40c0864"
   },
   "outputs": [
    {
     "data": {
      "text/plain": [
       "{'TransformJobArn': 'arn:aws:sagemaker:eu-central-1:898627427171:transform-job/niy-trf-apr-2019-15-44-24',\n",
       " 'ResponseMetadata': {'RequestId': 'bde175aa-a279-4dec-a647-dcec48c22598',\n",
       "  'HTTPStatusCode': 200,\n",
       "  'HTTPHeaders': {'x-amzn-requestid': 'bde175aa-a279-4dec-a647-dcec48c22598',\n",
       "   'content-type': 'application/x-amz-json-1.1',\n",
       "   'content-length': '105',\n",
       "   'date': 'Wed, 02 Dec 2020 14:44:34 GMT'},\n",
       "  'RetryAttempts': 0}}"
      ]
     },
     "execution_count": 87,
     "metadata": {},
     "output_type": "execute_result"
    }
   ],
   "source": [
    "transform_job_name = f'niy-trf-{auto_ml_month_name}-' + timestamp_suffix\n",
    "\n",
    "transform_input = {\n",
    "        'DataSource': {\n",
    "            'S3DataSource': {\n",
    "                'S3DataType': 'S3Prefix',\n",
    "                'S3Uri': f's3://{bucket_name}/automl/{month_year}_test.csv'\n",
    "            }\n",
    "        },\n",
    "        'ContentType': 'text/csv',\n",
    "        'CompressionType': 'None',\n",
    "        'SplitType': 'Line'\n",
    "    }\n",
    "\n",
    "transform_output = {\n",
    "        'S3OutputPath': f's3://{bucket_name}/automl/inference-results',\n",
    "    }\n",
    "\n",
    "transform_resources = {\n",
    "        'InstanceType': 'ml.m5.4xlarge',\n",
    "        'InstanceCount': 1\n",
    "    }\n",
    "\n",
    "sm.create_transform_job(TransformJobName = transform_job_name,\n",
    "                        ModelName = model_name,\n",
    "                        TransformInput = transform_input,\n",
    "                        TransformOutput = transform_output,\n",
    "                        TransformResources = transform_resources\n",
    ")"
   ]
  },
  {
   "cell_type": "code",
   "execution_count": 88,
   "metadata": {
    "id": "HXsCKMHeg944",
    "outputId": "534aa9a5-6869-4a55-cdcc-fdeae530b98a"
   },
   "outputs": [
    {
     "name": "stdout",
     "output_type": "stream",
     "text": [
      "JobStatus\n",
      "----------\n",
      "InProgress\n",
      "InProgress\n",
      "InProgress\n",
      "InProgress\n",
      "Completed\n"
     ]
    }
   ],
   "source": [
    "print ('JobStatus')\n",
    "print('----------')\n",
    "\n",
    "describe_response = sm.describe_transform_job(TransformJobName = transform_job_name)\n",
    "job_run_status = describe_response['TransformJobStatus']\n",
    "print (job_run_status)\n",
    "\n",
    "while job_run_status not in ('Failed', 'Completed', 'Stopped'):\n",
    "    describe_response = sm.describe_transform_job(TransformJobName = transform_job_name)\n",
    "    job_run_status = describe_response['TransformJobStatus']\n",
    "    print (job_run_status)\n",
    "    sleep(120)"
   ]
  },
  {
   "cell_type": "code",
   "execution_count": 89,
   "metadata": {},
   "outputs": [],
   "source": [
    "describe_response = sm.describe_transform_job(TransformJobName = transform_job_name)"
   ]
  },
  {
   "cell_type": "code",
   "execution_count": 91,
   "metadata": {
    "id": "nEDjYif4g944",
    "outputId": "a5b5c1c1-9a69-42d3-dd99-6b86b13cfce7"
   },
   "outputs": [],
   "source": [
    "s3_output_key = f'automl/inference-results/{month_year}_test.csv.out'\n",
    "local_inference_results_path = f'{month_year}_inference_results.csv'\n",
    "\n",
    "inference_results_bucket = s3.Bucket(bucket_name)\n",
    "inference_results_bucket.download_file(s3_output_key, local_inference_results_path);\n",
    "\n",
    "data = pd.read_csv(local_inference_results_path, sep=';', names=['predicted'])"
   ]
  },
  {
   "cell_type": "code",
   "execution_count": 92,
   "metadata": {},
   "outputs": [],
   "source": [
    "df_train, df_test = train_test_split(df, \n",
    "                                     test_size=0.2,\n",
    "                                     random_state=42)"
   ]
  },
  {
   "cell_type": "code",
   "execution_count": 93,
   "metadata": {
    "id": "m3kkV7gRg944"
   },
   "outputs": [],
   "source": [
    "data['true'] = df_test['ARR_DELAY_NEW'].reset_index(drop=True)"
   ]
  },
  {
   "cell_type": "code",
   "execution_count": 94,
   "metadata": {},
   "outputs": [
    {
     "data": {
      "text/plain": [
       "<AxesSubplot:xlabel='predicted', ylabel='true'>"
      ]
     },
     "execution_count": 94,
     "metadata": {},
     "output_type": "execute_result"
    },
    {
     "data": {
      "image/png": "[encoded data removed]",
      "text/plain": [
       "<Figure size 432x288 with 1 Axes>"
      ]
     },
     "metadata": {
      "needs_background": "light"
     },
     "output_type": "display_data"
    }
   ],
   "source": [
    "sns.scatterplot(x=data['predicted'], y=data['true'])"
   ]
  },
  {
   "cell_type": "code",
   "execution_count": 36,
   "metadata": {},
   "outputs": [
    {
     "data": {
      "text/plain": [
       "<AxesSubplot:xlabel='predicted', ylabel='true'>"
      ]
     },
     "execution_count": 36,
     "metadata": {},
     "output_type": "execute_result"
    },
    {
     "data": {
      "image/png": "[encoded data removed]",
      "text/plain": [
       "<Figure size 432x288 with 1 Axes>"
      ]
     },
     "metadata": {
      "needs_background": "light"
     },
     "output_type": "display_data"
    }
   ],
   "source": [
    "# Jan 2019\n",
    "sns.scatterplot(x=data['predicted'], y=data['true'])"
   ]
  },
  {
   "cell_type": "code",
   "execution_count": 218,
   "metadata": {},
   "outputs": [
    {
     "data": {
      "text/plain": [
       "<AxesSubplot:xlabel='predicted', ylabel='true'>"
      ]
     },
     "execution_count": 218,
     "metadata": {},
     "output_type": "execute_result"
    },
    {
     "data": {
      "image/png": "[encoded data removed]",
      "text/plain": [
       "<Figure size 432x288 with 1 Axes>"
      ]
     },
     "metadata": {
      "needs_background": "light"
     },
     "output_type": "display_data"
    }
   ],
   "source": [
    "sns.scatterplot(x=data['predicted'], y=data['true'])"
   ]
  },
  {
   "cell_type": "markdown",
   "metadata": {},
   "source": [
    "# Evaluation"
   ]
  },
  {
   "cell_type": "code",
   "execution_count": 95,
   "metadata": {},
   "outputs": [],
   "source": [
    "results = {}\n",
    "# results[month_year + ' without scheduled departe and arrival'] = r2_score(data['true'], data['predicted'])\n",
    "# results[month_year + ' with scheduled departure and arrival'] = r2_score(data['true'], data['predicted'])\n",
    "# results[month_year + ' with split scheduled departure and arrival times'] = r2_score(data['true'], data['predicted'])\n",
    "results[month_year + ' including wheels off'] = r2_score(data['true'], data['predicted'])"
   ]
  },
  {
   "cell_type": "markdown",
   "metadata": {},
   "source": [
    "In a prior run, AutoML was not able to produce good results (the feature set was highly limited though)."
   ]
  },
  {
   "cell_type": "code",
   "execution_count": 96,
   "metadata": {},
   "outputs": [
    {
     "data": {
      "text/html": [
       "<div>\n",
       "<style scoped>\n",
       "    .dataframe tbody tr th:only-of-type {\n",
       "        vertical-align: middle;\n",
       "    }\n",
       "\n",
       "    .dataframe tbody tr th {\n",
       "        vertical-align: top;\n",
       "    }\n",
       "\n",
       "    .dataframe thead th {\n",
       "        text-align: right;\n",
       "    }\n",
       "</style>\n",
       "<table border=\"1\" class=\"dataframe\">\n",
       "  <thead>\n",
       "    <tr style=\"text-align: right;\">\n",
       "      <th></th>\n",
       "      <th>r2</th>\n",
       "    </tr>\n",
       "  </thead>\n",
       "  <tbody>\n",
       "    <tr>\n",
       "      <th>Apr_2019 including wheels off</th>\n",
       "      <td>0.962989</td>\n",
       "    </tr>\n",
       "  </tbody>\n",
       "</table>\n",
       "</div>"
      ],
      "text/plain": [
       "                                     r2\n",
       "Apr_2019 including wheels off  0.962989"
      ]
     },
     "execution_count": 96,
     "metadata": {},
     "output_type": "execute_result"
    }
   ],
   "source": [
    "df_results = pd.DataFrame.from_dict(results, orient='index', columns=['r2'])\n",
    "df_results"
   ]
  },
  {
   "cell_type": "code",
   "execution_count": 216,
   "metadata": {},
   "outputs": [
    {
     "data": {
      "text/html": [
       "<div>\n",
       "<style scoped>\n",
       "    .dataframe tbody tr th:only-of-type {\n",
       "        vertical-align: middle;\n",
       "    }\n",
       "\n",
       "    .dataframe tbody tr th {\n",
       "        vertical-align: top;\n",
       "    }\n",
       "\n",
       "    .dataframe thead th {\n",
       "        text-align: right;\n",
       "    }\n",
       "</style>\n",
       "<table border=\"1\" class=\"dataframe\">\n",
       "  <thead>\n",
       "    <tr style=\"text-align: right;\">\n",
       "      <th></th>\n",
       "      <th>r2</th>\n",
       "    </tr>\n",
       "  </thead>\n",
       "  <tbody>\n",
       "    <tr>\n",
       "      <th>Jan_2019 with split scheduled departure and arrival times</th>\n",
       "      <td>0.185273</td>\n",
       "    </tr>\n",
       "  </tbody>\n",
       "</table>\n",
       "</div>"
      ],
      "text/plain": [
       "                                                          r2\n",
       "Jan_2019 with split scheduled departure and arr...  0.185273"
      ]
     },
     "execution_count": 216,
     "metadata": {},
     "output_type": "execute_result"
    }
   ],
   "source": [
    "df_results = pd.DataFrame.from_dict(results, orient='index', columns=['r2'])\n",
    "df_results"
   ]
  },
  {
   "cell_type": "code",
   "execution_count": 134,
   "metadata": {},
   "outputs": [
    {
     "data": {
      "text/html": [
       "<div>\n",
       "<style scoped>\n",
       "    .dataframe tbody tr th:only-of-type {\n",
       "        vertical-align: middle;\n",
       "    }\n",
       "\n",
       "    .dataframe tbody tr th {\n",
       "        vertical-align: top;\n",
       "    }\n",
       "\n",
       "    .dataframe thead th {\n",
       "        text-align: right;\n",
       "    }\n",
       "</style>\n",
       "<table border=\"1\" class=\"dataframe\">\n",
       "  <thead>\n",
       "    <tr style=\"text-align: right;\">\n",
       "      <th></th>\n",
       "      <th>r2</th>\n",
       "    </tr>\n",
       "  </thead>\n",
       "  <tbody>\n",
       "    <tr>\n",
       "      <th>Jan_2019 without scheduled departe and arrival</th>\n",
       "      <td>0.145449</td>\n",
       "    </tr>\n",
       "    <tr>\n",
       "      <th>Jan_2019 with scheduled departure and arrival</th>\n",
       "      <td>0.187276</td>\n",
       "    </tr>\n",
       "  </tbody>\n",
       "</table>\n",
       "</div>"
      ],
      "text/plain": [
       "                                                      r2\n",
       "Jan_2019 without scheduled departe and arrival  0.145449\n",
       "Jan_2019 with scheduled departure and arrival   0.187276"
      ]
     },
     "execution_count": 134,
     "metadata": {},
     "output_type": "execute_result"
    }
   ],
   "source": [
    "df_results = pd.DataFrame.from_dict(results, orient='index', columns=['r2'])\n",
    "df_results"
   ]
  },
  {
   "cell_type": "markdown",
   "metadata": {},
   "source": [
    "# Generalisation"
   ]
  },
  {
   "cell_type": "code",
   "execution_count": 97,
   "metadata": {},
   "outputs": [
    {
     "name": "stdout",
     "output_type": "stream",
     "text": [
      "AutoMLJobName: niy-Apr-2020-20201202-1627\n"
     ]
    }
   ],
   "source": [
    "month_year = 'Apr_2020'\n",
    "timestamp_suffix = strftime('%Y%m%d-%H%M')\n",
    "auto_ml_month_name = month_year.replace('_', '-')\n",
    "auto_ml_job_name = f'niy-{auto_ml_month_name}-' + timestamp_suffix\n",
    "print('AutoMLJobName: ' + auto_ml_job_name)"
   ]
  },
  {
   "cell_type": "code",
   "execution_count": 98,
   "metadata": {},
   "outputs": [],
   "source": [
    "df_general = get_preproccessed_df(file_uris[month_year])"
   ]
  },
  {
   "cell_type": "code",
   "execution_count": 100,
   "metadata": {},
   "outputs": [
    {
     "name": "stdout",
     "output_type": "stream",
     "text": [
      "Train data successfully uploaded\n"
     ]
    }
   ],
   "source": [
    "file_path_general = f'/Users/yasinedin/Downloads/automl/generalisation/{month_year}.csv'\n",
    "df_general.drop('ARR_DELAY_NEW', axis=1).to_csv(file_path_general, index=False, header=False)\n",
    "\n",
    "# upload data to s3\n",
    "try:\n",
    "    general_response = s3_client.upload_file(file_path_general, bucket_name, f'automl/generalisation/{month_year}.csv')\n",
    "    print('Generalisation data was successfully uploaded')\n",
    "except ClientError as e:\n",
    "    logging.error(e)\n",
    "    print('Something went wrong.')"
   ]
  },
  {
   "cell_type": "code",
   "execution_count": 101,
   "metadata": {},
   "outputs": [
    {
     "name": "stdout",
     "output_type": "stream",
     "text": [
      "JobStatus\n",
      "----------\n",
      "InProgress\n",
      "InProgress\n",
      "InProgress\n",
      "InProgress\n",
      "Completed\n"
     ]
    }
   ],
   "source": [
    "transform_job_name = f'niy-trf-{auto_ml_month_name}-' + timestamp_suffix\n",
    "\n",
    "transform_input = {\n",
    "        'DataSource': {\n",
    "            'S3DataSource': {\n",
    "                'S3DataType': 'S3Prefix',\n",
    "                'S3Uri': f's3://{bucket_name}/automl/generalisation/{month_year}.csv'\n",
    "            }\n",
    "        },\n",
    "        'ContentType': 'text/csv',\n",
    "        'CompressionType': 'None',\n",
    "        'SplitType': 'Line'\n",
    "    }\n",
    "\n",
    "transform_output = {\n",
    "        'S3OutputPath': f's3://{bucket_name}/automl/generalisation/inference-results',\n",
    "    }\n",
    "\n",
    "transform_resources = {\n",
    "        'InstanceType': 'ml.m5.4xlarge',\n",
    "        'InstanceCount': 1\n",
    "    }\n",
    "\n",
    "sm.create_transform_job(TransformJobName = transform_job_name,\n",
    "                        ModelName = model_name,\n",
    "                        TransformInput = transform_input,\n",
    "                        TransformOutput = transform_output,\n",
    "                        TransformResources = transform_resources\n",
    ")\n",
    "\n",
    "print ('JobStatus')\n",
    "print('----------')\n",
    "\n",
    "describe_response = sm.describe_transform_job(TransformJobName = transform_job_name)\n",
    "job_run_status = describe_response['TransformJobStatus']\n",
    "print (job_run_status)\n",
    "\n",
    "while job_run_status not in ('Failed', 'Completed', 'Stopped'):\n",
    "    describe_response = sm.describe_transform_job(TransformJobName = transform_job_name)\n",
    "    job_run_status = describe_response['TransformJobStatus']\n",
    "    print (job_run_status)\n",
    "    sleep(120)"
   ]
  },
  {
   "cell_type": "code",
   "execution_count": 102,
   "metadata": {},
   "outputs": [],
   "source": [
    "s3_output_key = f'automl/generalisation/inference-results/{month_year}.csv.out'\n",
    "local_inference_results_path = f'{month_year}_inference_results.csv'\n",
    "\n",
    "inference_results_bucket = s3.Bucket(bucket_name)\n",
    "inference_results_bucket.download_file(s3_output_key, local_inference_results_path);\n",
    "\n",
    "data = pd.read_csv(local_inference_results_path, sep=';', names=['predicted'])"
   ]
  },
  {
   "cell_type": "code",
   "execution_count": 103,
   "metadata": {},
   "outputs": [],
   "source": [
    "data['true'] = df_general['ARR_DELAY_NEW']"
   ]
  },
  {
   "cell_type": "code",
   "execution_count": 104,
   "metadata": {},
   "outputs": [
    {
     "data": {
      "text/plain": [
       "<AxesSubplot:xlabel='predicted', ylabel='true'>"
      ]
     },
     "execution_count": 104,
     "metadata": {},
     "output_type": "execute_result"
    },
    {
     "data": {
      "image/png": "[encoded data removed]",
      "text/plain": [
       "<Figure size 432x288 with 1 Axes>"
      ]
     },
     "metadata": {
      "needs_background": "light"
     },
     "output_type": "display_data"
    }
   ],
   "source": [
    "# Apr 2020\n",
    "sns.scatterplot(x=data['predicted'], y=data['true'])"
   ]
  },
  {
   "cell_type": "code",
   "execution_count": 57,
   "metadata": {},
   "outputs": [
    {
     "data": {
      "text/plain": [
       "<AxesSubplot:xlabel='predicted', ylabel='true'>"
      ]
     },
     "execution_count": 57,
     "metadata": {},
     "output_type": "execute_result"
    },
    {
     "data": {
      "image/png": "[encoded data removed]",
      "text/plain": [
       "<Figure size 432x288 with 1 Axes>"
      ]
     },
     "metadata": {
      "needs_background": "light"
     },
     "output_type": "display_data"
    }
   ],
   "source": [
    "# Jan 2020\n",
    "sns.scatterplot(x=data['predicted'], y=data['true'])"
   ]
  },
  {
   "cell_type": "code",
   "execution_count": 105,
   "metadata": {},
   "outputs": [],
   "source": [
    "results = {}\n",
    "# results[month_year + ' without scheduled departe and arrival'] = r2_score(data['true'], data['predicted'])\n",
    "# results[month_year + ' with scheduled departure and arrival'] = r2_score(data['true'], data['predicted'])\n",
    "# results[month_year + ' with split scheduled departure and arrival times'] = r2_score(data['true'], data['predicted'])\n",
    "results[month_year + ' generalisation_covid'] = r2_score(data['true'], data['predicted'])"
   ]
  },
  {
   "cell_type": "code",
   "execution_count": 106,
   "metadata": {},
   "outputs": [
    {
     "data": {
      "text/html": [
       "<div>\n",
       "<style scoped>\n",
       "    .dataframe tbody tr th:only-of-type {\n",
       "        vertical-align: middle;\n",
       "    }\n",
       "\n",
       "    .dataframe tbody tr th {\n",
       "        vertical-align: top;\n",
       "    }\n",
       "\n",
       "    .dataframe thead th {\n",
       "        text-align: right;\n",
       "    }\n",
       "</style>\n",
       "<table border=\"1\" class=\"dataframe\">\n",
       "  <thead>\n",
       "    <tr style=\"text-align: right;\">\n",
       "      <th></th>\n",
       "      <th>r2</th>\n",
       "    </tr>\n",
       "  </thead>\n",
       "  <tbody>\n",
       "    <tr>\n",
       "      <th>Apr_2020 generalisation_covid</th>\n",
       "      <td>0.795245</td>\n",
       "    </tr>\n",
       "  </tbody>\n",
       "</table>\n",
       "</div>"
      ],
      "text/plain": [
       "                                     r2\n",
       "Apr_2020 generalisation_covid  0.795245"
      ]
     },
     "execution_count": 106,
     "metadata": {},
     "output_type": "execute_result"
    }
   ],
   "source": [
    "df_results = pd.DataFrame.from_dict(results, orient='index', columns=['r2'])\n",
    "df_results"
   ]
  },
  {
   "cell_type": "code",
   "execution_count": 59,
   "metadata": {},
   "outputs": [
    {
     "data": {
      "text/html": [
       "<div>\n",
       "<style scoped>\n",
       "    .dataframe tbody tr th:only-of-type {\n",
       "        vertical-align: middle;\n",
       "    }\n",
       "\n",
       "    .dataframe tbody tr th {\n",
       "        vertical-align: top;\n",
       "    }\n",
       "\n",
       "    .dataframe thead th {\n",
       "        text-align: right;\n",
       "    }\n",
       "</style>\n",
       "<table border=\"1\" class=\"dataframe\">\n",
       "  <thead>\n",
       "    <tr style=\"text-align: right;\">\n",
       "      <th></th>\n",
       "      <th>r2</th>\n",
       "    </tr>\n",
       "  </thead>\n",
       "  <tbody>\n",
       "    <tr>\n",
       "      <th>Jan_2020 generalisation</th>\n",
       "      <td>0.880186</td>\n",
       "    </tr>\n",
       "  </tbody>\n",
       "</table>\n",
       "</div>"
      ],
      "text/plain": [
       "                               r2\n",
       "Jan_2020 generalisation  0.880186"
      ]
     },
     "execution_count": 59,
     "metadata": {},
     "output_type": "execute_result"
    }
   ],
   "source": [
    "df_results = pd.DataFrame.from_dict(results, orient='index', columns=['r2'])\n",
    "df_results"
   ]
  }
 ],
 "metadata": {
  "colab": {
   "name": "yedin_AutoML.ipynb",
   "provenance": []
  },
  "kernelspec": {
   "display_name": "Python 3",
   "language": "python",
   "name": "python3"
  },
  "language_info": {
   "codemirror_mode": {
    "name": "ipython",
    "version": 3
   },
   "file_extension": ".py",
   "mimetype": "text/x-python",
   "name": "python",
   "nbconvert_exporter": "python",
   "pygments_lexer": "ipython3",
   "version": "3.8.3"
  },
  "toc-autonumbering": true
 },
 "nbformat": 4,
 "nbformat_minor": 4
}
