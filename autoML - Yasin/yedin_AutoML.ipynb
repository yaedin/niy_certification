{
 "cells": [
  {
   "cell_type": "markdown",
   "metadata": {
    "id": "QlgEkGhfg941"
   },
   "source": [
    "# Imports and Variables"
   ]
  },
  {
   "cell_type": "code",
   "execution_count": 157,
   "metadata": {},
   "outputs": [],
   "source": [
    "import os\n",
    "import boto3\n",
    "from botocore.exceptions import ClientError\n",
    "import logging\n",
    "import sagemaker\n",
    "from sagemaker import get_execution_role\n",
    "from sklearn.preprocessing import OneHotEncoder\n",
    "from sklearn.model_selection import train_test_split\n",
    "from time import gmtime, strftime, sleep\n",
    "import pandas as pd\n",
    "import matplotlib.pyplot as plt"
   ]
  },
  {
   "cell_type": "code",
   "execution_count": 3,
   "metadata": {},
   "outputs": [],
   "source": [
    "aws_user = os.environ['AWS_USER']\n",
    "aws_key = os.environ['AWS_KEY']\n",
    "region_name = 'eu-central-1'\n",
    "\n",
    "session = boto3.session.Session(\n",
    "    aws_access_key_id=aws_user,\n",
    "    aws_secret_access_key=aws_key,\n",
    "    region_name=region_name)\n",
    "\n",
    "s3_client = session.client('s3')\n",
    "s3 = session.resource('s3')\n",
    "\n",
    "region_name = 'eu-central-1'\n",
    "bucket_name = 'niy-certification'"
   ]
  },
  {
   "cell_type": "markdown",
   "metadata": {},
   "source": [
    "# Prepare AutoML"
   ]
  },
  {
   "cell_type": "markdown",
   "metadata": {
    "id": "ixXRv20Wg943"
   },
   "source": [
    "## Preprocessing"
   ]
  },
  {
   "cell_type": "code",
   "execution_count": 6,
   "metadata": {},
   "outputs": [],
   "source": [
    "file_uris = {}\n",
    "file_uris['Jan_2019'] = 'https://niy-certification.s3.eu-central-1.amazonaws.com/usdot/Jan_2019_usdot.csv'\n",
    "file_uris['Jan_2020'] = 'https://niy-certification.s3.eu-central-1.amazonaws.com/usdot/Jan_2020_usdot.csv'\n",
    "file_uris['Feb_2019'] = 'https://niy-certification.s3.eu-central-1.amazonaws.com/usdot/Feb_2019_usdot.csv'\n",
    "file_uris['Feb_2020'] = 'https://niy-certification.s3.eu-central-1.amazonaws.com/usdot/Feb_2020_usdot.csv'"
   ]
  },
  {
   "cell_type": "code",
   "execution_count": 126,
   "metadata": {
    "id": "oGKWu1asg943"
   },
   "outputs": [],
   "source": [
    "df_raw = pd.read_csv(file_uris['Jan_2019'], \n",
    "                 dtype={'ARR_TIME': str, \n",
    "                        'DEP_TIME': str, \n",
    "                        'DAY_OF_MONTH': str})"
   ]
  },
  {
   "cell_type": "code",
   "execution_count": 127,
   "metadata": {},
   "outputs": [],
   "source": [
    "# drop flights which are either canceled or diverted\n",
    "# as this is a conceptually different thing than being delayed\n",
    "df_raw = df_raw.drop(df_raw.index[(df_raw['CANCELLED'] == 1) | \n",
    "                         (df_raw['DIVERTED'] == 1)]).reset_index(drop=True)"
   ]
  },
  {
   "cell_type": "code",
   "execution_count": 128,
   "metadata": {},
   "outputs": [],
   "source": [
    "df_raw['DAY_OF_MONTH'] = df_raw['DAY_OF_MONTH'].astype(float)"
   ]
  },
  {
   "cell_type": "code",
   "execution_count": 129,
   "metadata": {},
   "outputs": [],
   "source": [
    "columns_to_drop = ['YEAR',\n",
    "                   'MONTH',\n",
    "                   'FL_DATE',\n",
    "                   'TAIL_NUM', # TO CHECK\n",
    "                   'ORIGIN',\n",
    "                   'ORIGIN_CITY_NAME', # TO CHECK\n",
    "                   'ORIGIN_STATE_NM',\n",
    "                   'DEST_CITY_NAME',\n",
    "                   'DEST_STATE_NM',\n",
    "                   'DEP_TIME', \n",
    "                   'DEP_TIME_BLK',\n",
    "                   'ARR_TIME',\n",
    "                   'ARR_TIME_BLK',\n",
    "                   'CANCELLED',\n",
    "                   'DIVERTED',\n",
    "                   'CARRIER_DELAY',\n",
    "                   'WEATHER_DELAY', \n",
    "                   'NAS_DELAY', \n",
    "                   'SECURITY_DELAY', \n",
    "                   'LATE_AIRCRAFT_DELAY',\n",
    "                   'FLIGHTS', # only one entry for column\n",
    "                   'Unnamed: 54']"
   ]
  },
  {
   "cell_type": "code",
   "execution_count": 146,
   "metadata": {},
   "outputs": [],
   "source": [
    "df = df_raw.drop(columns_to_drop, axis=1)"
   ]
  },
  {
   "cell_type": "code",
   "execution_count": 147,
   "metadata": {},
   "outputs": [
    {
     "data": {
      "text/plain": [
       "360"
      ]
     },
     "execution_count": 147,
     "metadata": {},
     "output_type": "execute_result"
    }
   ],
   "source": [
    "# TO DO FOR LATER ON\n",
    "df_raw['OP_UNIQUE_CARRIER'].unique() # OHE\n",
    "df_raw['ORIGIN'].nunique() # OHE\n",
    "df_raw['ORIGIN_STATE_ABR'].nunique() # OHE\n",
    "df_raw['DEST'].nunique() # OHE"
   ]
  },
  {
   "cell_type": "code",
   "execution_count": 148,
   "metadata": {},
   "outputs": [],
   "source": [
    "# INCLUDE FOR LATER\n",
    "df = df.drop(['OP_CARRIER', 'ORIGIN_STATE_ABR', 'DEST', 'DEST_STATE_ABR'], axis=1)"
   ]
  },
  {
   "cell_type": "code",
   "execution_count": 149,
   "metadata": {},
   "outputs": [],
   "source": [
    "df = df.drop(['CRS_DEP_TIME', \n",
    "              'OP_CARRIER_AIRLINE_ID',\t\n",
    "              'OP_CARRIER_FL_NUM',\t\n",
    "              'ORIGIN_AIRPORT_ID',\t\n",
    "              'ORIGIN_AIRPORT_SEQ_ID',\t\n",
    "              'ORIGIN_CITY_MARKET_ID',\t\n",
    "              'ORIGIN_STATE_FIPS',\t\n",
    "              'DEST_AIRPORT_ID',\t\n",
    "              'DEST_AIRPORT_SEQ_ID',\t\n",
    "              'DEST_CITY_MARKET_ID',\n",
    "              'DEST_STATE_FIPS',\n",
    "              'DEP_DELAY',\n",
    "              'DEP_DELAY_NEW',\n",
    "              'DEP_DEL15', \n",
    "              'DEP_DELAY_GROUP', \n",
    "              'WHEELS_OFF', \n",
    "              'WHEELS_ON', \n",
    "              'CRS_ARR_TIME',\n",
    "              'ARR_DELAY',\n",
    "              'ARR_DEL15', \n",
    "              'ARR_DELAY_GROUP', \n",
    "              'CRS_ELAPSED_TIME', \n",
    "              'ACTUAL_ELAPSED_TIME', \n",
    "              'AIR_TIME'], axis=1)"
   ]
  },
  {
   "cell_type": "code",
   "execution_count": 150,
   "metadata": {},
   "outputs": [],
   "source": [
    "df = df[sorted(df.columns)]"
   ]
  },
  {
   "cell_type": "code",
   "execution_count": 240,
   "metadata": {},
   "outputs": [
    {
     "data": {
      "text/plain": [
       "Index(['ARR_DELAY_NEW', 'DAY_OF_MONTH', 'DAY_OF_WEEK', 'DISTANCE',\n",
       "       'OP_UNIQUE_CARRIER'],\n",
       "      dtype='object')"
      ]
     },
     "execution_count": 240,
     "metadata": {},
     "output_type": "execute_result"
    }
   ],
   "source": [
    "df.columns"
   ]
  },
  {
   "cell_type": "markdown",
   "metadata": {},
   "source": [
    "## Train Test Split"
   ]
  },
  {
   "cell_type": "code",
   "execution_count": 241,
   "metadata": {},
   "outputs": [],
   "source": [
    "df_train, df_test = train_test_split(df, \n",
    "                                     test_size=0.2,\n",
    "                                     random_state=42)"
   ]
  },
  {
   "cell_type": "code",
   "execution_count": 242,
   "metadata": {},
   "outputs": [],
   "source": [
    "enc = OneHotEncoder(handle_unknown = 'ignore')"
   ]
  },
  {
   "cell_type": "code",
   "execution_count": 243,
   "metadata": {},
   "outputs": [
    {
     "data": {
      "text/plain": [
       "[array(['9E', 'AA', 'AS', 'AX', 'B6', 'C5', 'CP', 'DL', 'EM', 'EV', 'F9',\n",
       "        'G4', 'G7', 'HA', 'KS', 'MQ', 'NK', 'OH', 'OO', 'PT', 'QX', 'UA',\n",
       "        'WN', 'YV', 'YX', 'ZW'], dtype=object)]"
      ]
     },
     "execution_count": 243,
     "metadata": {},
     "output_type": "execute_result"
    }
   ],
   "source": [
    "enc.fit(df_train[['OP_UNIQUE_CARRIER']])\n",
    "enc.categories_"
   ]
  },
  {
   "cell_type": "code",
   "execution_count": 245,
   "metadata": {},
   "outputs": [],
   "source": [
    "enc_columns = sorted(df_train['OP_UNIQUE_CARRIER'].unique())"
   ]
  },
  {
   "cell_type": "code",
   "execution_count": 246,
   "metadata": {},
   "outputs": [],
   "source": [
    "df_train = pd.concat([df_train,\n",
    "           pd.DataFrame(index=df_train.index,\n",
    "                        data=enc.transform(df_train[['OP_UNIQUE_CARRIER']]).toarray(), \n",
    "                        columns=enc_columns)], axis=1).drop('OP_UNIQUE_CARRIER', axis=1)"
   ]
  },
  {
   "cell_type": "code",
   "execution_count": 247,
   "metadata": {},
   "outputs": [],
   "source": [
    "df_test = pd.concat([df_test,\n",
    "           pd.DataFrame(index=df_test.index,\n",
    "                        data=enc.transform(df_test[['OP_UNIQUE_CARRIER']]).toarray(), \n",
    "                        columns=enc_columns)], axis=1).drop('OP_UNIQUE_CARRIER', axis=1)"
   ]
  },
  {
   "cell_type": "code",
   "execution_count": 254,
   "metadata": {},
   "outputs": [],
   "source": [
    "file_path_train = '/Users/yasinedin/Downloads/automl/train.csv'\n",
    "file_path_test = '/Users/yasinedin/Downloads/automl/test.csv'"
   ]
  },
  {
   "cell_type": "code",
   "execution_count": 255,
   "metadata": {
    "id": "eQzVMhwwg943"
   },
   "outputs": [],
   "source": [
    "df_train.to_csv(file_path_train, index=False, header=True)\n",
    "df_test.to_csv(file_path_test, index=False, header=False)"
   ]
  },
  {
   "cell_type": "markdown",
   "metadata": {},
   "source": [
    "## Uploading selected data to S3"
   ]
  },
  {
   "cell_type": "code",
   "execution_count": 256,
   "metadata": {
    "id": "BDYELdXqg943",
    "outputId": "fff84092-967e-4c7c-d233-3b6a9954c6e4"
   },
   "outputs": [
    {
     "name": "stdout",
     "output_type": "stream",
     "text": [
      "Train data successfully uploaded\n",
      "Test data successfully uploaded\n"
     ]
    }
   ],
   "source": [
    "# upload data to s3\n",
    "try:\n",
    "    train_response = s3_client.upload_file(file_path_train, bucket_name, 'automl/train.csv')\n",
    "    print('Train data successfully uploaded')\n",
    "except ClientError as e:\n",
    "    logging.error(e)\n",
    "    print('Something went wrong.')\n",
    "    \n",
    "try:\n",
    "    test_response = s3_client.upload_file(file_path_test, bucket_name, 'automl/test.csv')\n",
    "    print('Test data successfully uploaded')\n",
    "except ClientError as e:\n",
    "    logging.error(e)\n",
    "    print('Something went wrong.')"
   ]
  },
  {
   "cell_type": "code",
   "execution_count": 257,
   "metadata": {
    "id": "dGp-lkEcg943",
    "outputId": "6d77f8f5-ef8b-478a-d56e-524c92439f53"
   },
   "outputs": [
    {
     "name": "stdout",
     "output_type": "stream",
     "text": [
      "automl/test.csv\n",
      "automl/train.csv\n",
      "kaggle/\n",
      "kaggle/Feb_2019_ontime.csv\n",
      "kaggle/Feb_2020_ontime.csv\n",
      "kaggle/Jan_2019_ontime.csv\n",
      "kaggle/Jan_2020_ontime.csv\n",
      "usdot/\n",
      "usdot/Feb_2019_usdot.csv\n",
      "usdot/Feb_2020_usdot.csv\n",
      "usdot/Jan_2019_usdot.csv\n",
      "usdot/Jan_2020_usdot.csv\n"
     ]
    }
   ],
   "source": [
    "# list files in bucket\n",
    "for key in s3_client.list_objects(Bucket=bucket_name)['Contents']:\n",
    "    print(key['Key'])"
   ]
  },
  {
   "cell_type": "markdown",
   "metadata": {
    "id": "BZUe8AeSg943"
   },
   "source": [
    "# SageMaker AutoML"
   ]
  },
  {
   "cell_type": "code",
   "execution_count": 258,
   "metadata": {
    "id": "meGedPzcg943"
   },
   "outputs": [],
   "source": [
    "sm_session = sagemaker.Session(session)"
   ]
  },
  {
   "cell_type": "code",
   "execution_count": 259,
   "metadata": {
    "id": "pizB5E-Ng943"
   },
   "outputs": [],
   "source": [
    "sm = session.client(service_name='sagemaker', region_name=region_name)"
   ]
  },
  {
   "cell_type": "code",
   "execution_count": 260,
   "metadata": {
    "id": "qoTAbrbWg943"
   },
   "outputs": [],
   "source": [
    "role = 'arn:aws:iam::898627427171:role/service-role/AmazonSageMaker-ExecutionRole-20201106T104926'"
   ]
  },
  {
   "cell_type": "code",
   "execution_count": 298,
   "metadata": {
    "id": "CSzOXl6Bg943",
    "outputId": "93a31203-3206-4193-c45f-931319bd575e"
   },
   "outputs": [
    {
     "name": "stdout",
     "output_type": "stream",
     "text": [
      "AutoMLJobName: niy-aidacert-20201130-1701\n"
     ]
    }
   ],
   "source": [
    "timestamp_suffix = strftime('%Y%m%d-%H%M')\n",
    "\n",
    "auto_ml_job_name = 'niy-aidacert-' + timestamp_suffix\n",
    "print('AutoMLJobName: ' + auto_ml_job_name)"
   ]
  },
  {
   "cell_type": "code",
   "execution_count": 299,
   "metadata": {
    "id": "k-RAH96fg943"
   },
   "outputs": [],
   "source": [
    "input_data_config = [{\n",
    "      'DataSource': {\n",
    "        'S3DataSource': {\n",
    "          'S3DataType': 'S3Prefix',\n",
    "          'S3Uri': f's3://{bucket_name}/automl/train.csv'\n",
    "        }\n",
    "      },\n",
    "      'TargetAttributeName': 'ARR_DELAY_NEW'\n",
    "    }\n",
    "  ]\n",
    "\n",
    "job_config = {\n",
    "    'CompletionCriteria': {\n",
    "      'MaxRuntimePerTrainingJobInSeconds': 180,\n",
    "      'MaxAutoMLJobRuntimeInSeconds': 1080\n",
    "    },\n",
    "}\n",
    "\n",
    "output_data_config = {\n",
    "    'S3OutputPath': f's3://{bucket_name}/automl/output'\n",
    "  }\n",
    "\n",
    "problem_type = 'Regression'\n",
    "job_objective = { 'MetricName': 'MSE' }"
   ]
  },
  {
   "cell_type": "code",
   "execution_count": 300,
   "metadata": {
    "id": "Jh-cFJSfg943",
    "outputId": "6324a1be-e864-44ff-c050-d90b38911ddd"
   },
   "outputs": [
    {
     "data": {
      "text/plain": [
       "{'AutoMLJobArn': 'arn:aws:sagemaker:eu-central-1:898627427171:automl-job/niy-aidacert-20201130-1701',\n",
       " 'ResponseMetadata': {'RequestId': 'aa1469b6-f9c8-4ebb-8d52-88684b15a057',\n",
       "  'HTTPStatusCode': 200,\n",
       "  'HTTPHeaders': {'x-amzn-requestid': 'aa1469b6-f9c8-4ebb-8d52-88684b15a057',\n",
       "   'content-type': 'application/x-amz-json-1.1',\n",
       "   'content-length': '100',\n",
       "   'date': 'Mon, 30 Nov 2020 16:01:06 GMT'},\n",
       "  'RetryAttempts': 0}}"
      ]
     },
     "execution_count": 300,
     "metadata": {},
     "output_type": "execute_result"
    }
   ],
   "source": [
    "sm.create_auto_ml_job(AutoMLJobName=auto_ml_job_name,\n",
    "                      InputDataConfig=input_data_config,\n",
    "                      OutputDataConfig=output_data_config,\n",
    "                      AutoMLJobConfig=job_config,\n",
    "                      AutoMLJobObjective=job_objective,\n",
    "                      ProblemType=problem_type,\n",
    "                      RoleArn=role)"
   ]
  },
  {
   "cell_type": "code",
   "execution_count": 301,
   "metadata": {
    "id": "Rc-2VA6Hg944",
    "outputId": "6d09f6c3-64f9-43d0-c354-c6251185485d"
   },
   "outputs": [
    {
     "name": "stdout",
     "output_type": "stream",
     "text": [
      "JobStatus - Secondary Status\n",
      "------------------------------\n",
      "InProgress - AnalyzingData\n",
      "InProgress - AnalyzingData\n",
      "InProgress - AnalyzingData\n",
      "InProgress - AnalyzingData\n",
      "InProgress - AnalyzingData\n",
      "InProgress - AnalyzingData\n",
      "InProgress - AnalyzingData\n",
      "InProgress - AnalyzingData\n",
      "InProgress - AnalyzingData\n",
      "InProgress - AnalyzingData\n",
      "InProgress - AnalyzingData\n",
      "InProgress - AnalyzingData\n",
      "InProgress - AnalyzingData\n",
      "InProgress - AnalyzingData\n",
      "InProgress - AnalyzingData\n",
      "InProgress - AnalyzingData\n",
      "InProgress - AnalyzingData\n",
      "InProgress - AnalyzingData\n",
      "InProgress - AnalyzingData\n",
      "InProgress - AnalyzingData\n",
      "InProgress - AnalyzingData\n",
      "InProgress - AnalyzingData\n",
      "InProgress - AnalyzingData\n",
      "InProgress - AnalyzingData\n",
      "InProgress - AnalyzingData\n",
      "InProgress - AnalyzingData\n",
      "InProgress - FeatureEngineering\n",
      "InProgress - FeatureEngineering\n",
      "InProgress - FeatureEngineering\n",
      "InProgress - FeatureEngineering\n",
      "InProgress - FeatureEngineering\n",
      "InProgress - FeatureEngineering\n",
      "InProgress - FeatureEngineering\n",
      "InProgress - FeatureEngineering\n",
      "InProgress - FeatureEngineering\n",
      "InProgress - FeatureEngineering\n",
      "Completed - MaxAutoMLJobRuntimeReached\n"
     ]
    }
   ],
   "source": [
    "print ('JobStatus - Secondary Status')\n",
    "print('------------------------------')\n",
    "\n",
    "\n",
    "describe_response = sm.describe_auto_ml_job(AutoMLJobName=auto_ml_job_name)\n",
    "print(describe_response['AutoMLJobStatus'] + \" - \" + describe_response['AutoMLJobSecondaryStatus'])\n",
    "job_run_status = describe_response['AutoMLJobStatus']\n",
    "    \n",
    "while job_run_status not in ('Failed', 'Completed', 'Stopped'):\n",
    "    describe_response = sm.describe_auto_ml_job(AutoMLJobName=auto_ml_job_name)\n",
    "    job_run_status = describe_response['AutoMLJobStatus']\n",
    "    \n",
    "    print(describe_response['AutoMLJobStatus'] + \" - \" + describe_response['AutoMLJobSecondaryStatus'])\n",
    "    sleep(30)"
   ]
  },
  {
   "cell_type": "code",
   "execution_count": 302,
   "metadata": {},
   "outputs": [
    {
     "data": {
      "text/plain": [
       "{'AutoMLJobName': 'niy-aidacert-20201130-1701',\n",
       " 'AutoMLJobArn': 'arn:aws:sagemaker:eu-central-1:898627427171:automl-job/niy-aidacert-20201130-1701',\n",
       " 'InputDataConfig': [{'DataSource': {'S3DataSource': {'S3DataType': 'S3Prefix',\n",
       "     'S3Uri': 's3://niy-certification/automl/train.csv'}},\n",
       "   'TargetAttributeName': 'ARR_DELAY_NEW'}],\n",
       " 'OutputDataConfig': {'S3OutputPath': 's3://niy-certification/automl/output'},\n",
       " 'RoleArn': 'arn:aws:iam::898627427171:role/service-role/AmazonSageMaker-ExecutionRole-20201106T104926',\n",
       " 'AutoMLJobObjective': {'MetricName': 'MSE'},\n",
       " 'ProblemType': 'Regression',\n",
       " 'AutoMLJobConfig': {'CompletionCriteria': {'MaxRuntimePerTrainingJobInSeconds': 180,\n",
       "   'MaxAutoMLJobRuntimeInSeconds': 1080}},\n",
       " 'CreationTime': datetime.datetime(2020, 11, 30, 17, 1, 5, 476000, tzinfo=tzlocal()),\n",
       " 'EndTime': datetime.datetime(2020, 11, 30, 17, 19, 12, 961000, tzinfo=tzlocal()),\n",
       " 'LastModifiedTime': datetime.datetime(2020, 11, 30, 17, 19, 12, 987000, tzinfo=tzlocal()),\n",
       " 'AutoMLJobStatus': 'Completed',\n",
       " 'AutoMLJobSecondaryStatus': 'MaxAutoMLJobRuntimeReached',\n",
       " 'GenerateCandidateDefinitionsOnly': False,\n",
       " 'AutoMLJobArtifacts': {'CandidateDefinitionNotebookLocation': 's3://niy-certification/automl/output/niy-aidacert-20201130-1701/sagemaker-automl-candidates/pr-1-36db115bd1654f50a4dc6b623ebae1ff7a0257d1483645bdba97989721/notebooks/SageMakerAutopilotCandidateDefinitionNotebook.ipynb',\n",
       "  'DataExplorationNotebookLocation': 's3://niy-certification/automl/output/niy-aidacert-20201130-1701/sagemaker-automl-candidates/pr-1-36db115bd1654f50a4dc6b623ebae1ff7a0257d1483645bdba97989721/notebooks/SageMakerAutopilotDataExplorationNotebook.ipynb'},\n",
       " 'ResolvedAttributes': {'AutoMLJobObjective': {'MetricName': 'MSE'},\n",
       "  'ProblemType': 'Regression',\n",
       "  'CompletionCriteria': {'MaxCandidates': 250,\n",
       "   'MaxRuntimePerTrainingJobInSeconds': 180,\n",
       "   'MaxAutoMLJobRuntimeInSeconds': 1080}},\n",
       " 'ResponseMetadata': {'RequestId': 'bfdd2b7d-0717-412d-b25f-57ee77fee869',\n",
       "  'HTTPStatusCode': 200,\n",
       "  'HTTPHeaders': {'x-amzn-requestid': 'bfdd2b7d-0717-412d-b25f-57ee77fee869',\n",
       "   'content-type': 'application/x-amz-json-1.1',\n",
       "   'content-length': '1640',\n",
       "   'date': 'Mon, 30 Nov 2020 16:21:38 GMT'},\n",
       "  'RetryAttempts': 0}}"
      ]
     },
     "execution_count": 302,
     "metadata": {},
     "output_type": "execute_result"
    }
   ],
   "source": [
    "describe_response = sm.describe_auto_ml_job(AutoMLJobName=auto_ml_job_name)\n",
    "describe_response"
   ]
  },
  {
   "cell_type": "code",
   "execution_count": 303,
   "metadata": {
    "id": "67FsbacTg944",
    "outputId": "25aeebca-7c7a-4f52-c7a5-58f46681e804"
   },
   "outputs": [
    {
     "ename": "KeyError",
     "evalue": "'BestCandidate'",
     "output_type": "error",
     "traceback": [
      "\u001b[0;31m---------------------------------------------------------------------------\u001b[0m",
      "\u001b[0;31mKeyError\u001b[0m                                  Traceback (most recent call last)",
      "\u001b[0;32m<ipython-input-303-9cb981143204>\u001b[0m in \u001b[0;36m<module>\u001b[0;34m\u001b[0m\n\u001b[0;32m----> 1\u001b[0;31m \u001b[0mbest_candidate\u001b[0m \u001b[0;34m=\u001b[0m \u001b[0msm\u001b[0m\u001b[0;34m.\u001b[0m\u001b[0mdescribe_auto_ml_job\u001b[0m\u001b[0;34m(\u001b[0m\u001b[0mAutoMLJobName\u001b[0m\u001b[0;34m=\u001b[0m\u001b[0mauto_ml_job_name\u001b[0m\u001b[0;34m)\u001b[0m\u001b[0;34m[\u001b[0m\u001b[0;34m'BestCandidate'\u001b[0m\u001b[0;34m]\u001b[0m\u001b[0;34m\u001b[0m\u001b[0;34m\u001b[0m\u001b[0m\n\u001b[0m\u001b[1;32m      2\u001b[0m \u001b[0mbest_candidate_name\u001b[0m \u001b[0;34m=\u001b[0m \u001b[0mbest_candidate\u001b[0m\u001b[0;34m[\u001b[0m\u001b[0;34m'CandidateName'\u001b[0m\u001b[0;34m]\u001b[0m\u001b[0;34m\u001b[0m\u001b[0;34m\u001b[0m\u001b[0m\n\u001b[1;32m      3\u001b[0m \u001b[0mprint\u001b[0m\u001b[0;34m(\u001b[0m\u001b[0;34m'\\n'\u001b[0m\u001b[0;34m)\u001b[0m\u001b[0;34m\u001b[0m\u001b[0;34m\u001b[0m\u001b[0m\n\u001b[1;32m      4\u001b[0m \u001b[0mprint\u001b[0m\u001b[0;34m(\u001b[0m\u001b[0;34m\"CandidateName: \"\u001b[0m \u001b[0;34m+\u001b[0m \u001b[0mbest_candidate_name\u001b[0m\u001b[0;34m)\u001b[0m\u001b[0;34m\u001b[0m\u001b[0;34m\u001b[0m\u001b[0m\n\u001b[1;32m      5\u001b[0m \u001b[0mprint\u001b[0m\u001b[0;34m(\u001b[0m\u001b[0;34m\"FinalAutoMLJobObjectiveMetricName: \"\u001b[0m \u001b[0;34m+\u001b[0m \u001b[0mbest_candidate\u001b[0m\u001b[0;34m[\u001b[0m\u001b[0;34m'FinalAutoMLJobObjectiveMetric'\u001b[0m\u001b[0;34m]\u001b[0m\u001b[0;34m[\u001b[0m\u001b[0;34m'MetricName'\u001b[0m\u001b[0;34m]\u001b[0m\u001b[0;34m)\u001b[0m\u001b[0;34m\u001b[0m\u001b[0;34m\u001b[0m\u001b[0m\n",
      "\u001b[0;31mKeyError\u001b[0m: 'BestCandidate'"
     ]
    }
   ],
   "source": [
    "best_candidate = sm.describe_auto_ml_job(AutoMLJobName=auto_ml_job_name)['BestCandidate']\n",
    "best_candidate_name = best_candidate['CandidateName']\n",
    "print('\\n')\n",
    "print(\"CandidateName: \" + best_candidate_name)\n",
    "print(\"FinalAutoMLJobObjectiveMetricName: \" + best_candidate['FinalAutoMLJobObjectiveMetric']['MetricName'])\n",
    "print(\"FinalAutoMLJobObjectiveMetricValue: \" + str(best_candidate['FinalAutoMLJobObjectiveMetric']['Value']))"
   ]
  },
  {
   "cell_type": "code",
   "execution_count": null,
   "metadata": {
    "id": "gMrNhobGg944",
    "outputId": "887fc154-709b-4026-8399-86766e46b0eb"
   },
   "outputs": [
    {
     "data": {
      "text/plain": [
       "dict_keys(['AutoMLJobName', 'AutoMLJobArn', 'InputDataConfig', 'OutputDataConfig', 'RoleArn', 'AutoMLJobObjective', 'ProblemType', 'AutoMLJobConfig', 'CreationTime', 'EndTime', 'LastModifiedTime', 'BestCandidate', 'AutoMLJobStatus', 'AutoMLJobSecondaryStatus', 'GenerateCandidateDefinitionsOnly', 'AutoMLJobArtifacts', 'ResolvedAttributes', 'ResponseMetadata'])"
      ]
     },
     "execution_count": 119,
     "metadata": {
      "tags": []
     },
     "output_type": "execute_result"
    }
   ],
   "source": [
    "job = sm.describe_auto_ml_job(AutoMLJobName=auto_ml_job_name)\n",
    "job.keys()"
   ]
  },
  {
   "cell_type": "code",
   "execution_count": null,
   "metadata": {
    "id": "SNow9PCWg944",
    "outputId": "b41a9ca0-8da4-4867-be22-0684df09e7c8"
   },
   "outputs": [
    {
     "data": {
      "text/plain": [
       "{'AutoMLJobObjective': {'MetricName': 'F1macro'},\n",
       " 'ProblemType': 'MulticlassClassification',\n",
       " 'CompletionCriteria': {'MaxCandidates': 250,\n",
       "  'MaxRuntimePerTrainingJobInSeconds': 300,\n",
       "  'MaxAutoMLJobRuntimeInSeconds': 1800}}"
      ]
     },
     "execution_count": 125,
     "metadata": {
      "tags": []
     },
     "output_type": "execute_result"
    }
   ],
   "source": [
    "job['ResolvedAttributes']"
   ]
  },
  {
   "cell_type": "code",
   "execution_count": null,
   "metadata": {
    "id": "r4EFMkcfg944",
    "outputId": "c0d25c0e-97e1-4292-f2c7-54195b82234d"
   },
   "outputs": [
    {
     "name": "stdout",
     "output_type": "stream",
     "text": [
      "1  tuning-job-1-ecbc1a8683ff49e89c-008-60ec475e  0.9968799948692322\n",
      "2  tuning-job-1-ecbc1a8683ff49e89c-011-fea7c40f  0.9962499737739563\n",
      "3  tuning-job-1-ecbc1a8683ff49e89c-009-3e60571d  0.9962499737739563\n",
      "4  tuning-job-1-ecbc1a8683ff49e89c-010-887b97f7  0.9962499737739563\n",
      "5  tuning-job-1-ecbc1a8683ff49e89c-002-5d3c30b6  0.9956300258636475\n",
      "6  tuning-job-1-ecbc1a8683ff49e89c-001-d9c83bf5  0.9948099851608276\n",
      "7  tuning-job-1-ecbc1a8683ff49e89c-012-c7ec3de5  0.9948099851608276\n",
      "8  tuning-job-1-ecbc1a8683ff49e89c-016-e32ee717  0.9946200251579285\n",
      "9  tuning-job-1-ecbc1a8683ff49e89c-006-2e728d26  0.9938899874687195\n",
      "10  tuning-job-1-ecbc1a8683ff49e89c-004-ccabe506  0.9938899874687195\n"
     ]
    }
   ],
   "source": [
    "candidates = sm.list_candidates_for_auto_ml_job(AutoMLJobName=auto_ml_job_name, SortBy='FinalObjectiveMetricValue')['Candidates']\n",
    "index = 1\n",
    "for candidate in candidates:\n",
    "    print(str(index) + \"  \" + candidate['CandidateName'] + \"  \" + str(candidate['FinalAutoMLJobObjectiveMetric']['Value']))\n",
    "    index += 1"
   ]
  },
  {
   "cell_type": "code",
   "execution_count": null,
   "metadata": {
    "id": "fEuOdBH7g944",
    "outputId": "fb189123-24f7-42d2-c811-76fb7fc7e535"
   },
   "outputs": [
    {
     "data": {
      "text/plain": [
       "'s3://ye-1490/output/automl-yedin-12-03-43/sagemaker-automl-candidates/pr-1-925ccccedf5b44c4b30f8b03cd685e36aa5ed021fd1d4882857b2c76f0/notebooks/SageMakerAutopilotCandidateDefinitionNotebook.ipynb'"
      ]
     },
     "execution_count": 171,
     "metadata": {
      "tags": []
     },
     "output_type": "execute_result"
    }
   ],
   "source": [
    "# autopilot cadidate definition notebook\n",
    "sm.describe_auto_ml_job(AutoMLJobName=auto_ml_job_name)['AutoMLJobArtifacts']['CandidateDefinitionNotebookLocation']"
   ]
  },
  {
   "cell_type": "code",
   "execution_count": null,
   "metadata": {
    "id": "kA3h7Wkvg944",
    "outputId": "ac76e4a6-1c33-4d8e-f6a6-b9bb68cc1aef"
   },
   "outputs": [
    {
     "data": {
      "text/plain": [
       "'s3://ye-1490/output/automl-yedin-12-03-43/sagemaker-automl-candidates/pr-1-925ccccedf5b44c4b30f8b03cd685e36aa5ed021fd1d4882857b2c76f0/notebooks/SageMakerAutopilotDataExplorationNotebook.ipynb'"
      ]
     },
     "execution_count": 129,
     "metadata": {
      "tags": []
     },
     "output_type": "execute_result"
    }
   ],
   "source": [
    "# data exploration notebook\n",
    "sm.describe_auto_ml_job(AutoMLJobName=auto_ml_job_name)['AutoMLJobArtifacts']['DataExplorationNotebookLocation']"
   ]
  },
  {
   "cell_type": "code",
   "execution_count": null,
   "metadata": {
    "id": "qRdYWngfg944"
   },
   "outputs": [],
   "source": [
    "bucket = s3.Bucket(bucket_name)\n",
    "bucket.download_file('output/automl-yedin-12-03-43/sagemaker-automl-candidates/pr-1-925ccccedf5b44c4b30f8b03cd685e36aa5ed021fd1d4882857b2c76f0/notebooks/SageMakerAutopilotCandidateDefinitionNotebook.ipynb', 'candidate_notebook.ipynb');"
   ]
  },
  {
   "cell_type": "code",
   "execution_count": null,
   "metadata": {
    "id": "OhBzo_bBg944"
   },
   "outputs": [],
   "source": [
    "bucket.download_file('output/automl-yedin-12-03-43/sagemaker-automl-candidates/pr-1-925ccccedf5b44c4b30f8b03cd685e36aa5ed021fd1d4882857b2c76f0/notebooks/SageMakerAutopilotDataExplorationNotebook.ipynb', 'data_exploration.ipynb');"
   ]
  },
  {
   "cell_type": "markdown",
   "metadata": {
    "id": "s68ajYBjg944"
   },
   "source": [
    "# Inference"
   ]
  },
  {
   "cell_type": "code",
   "execution_count": null,
   "metadata": {
    "id": "eMs-eOZ9g944",
    "outputId": "f315ecb9-24e5-40f7-9031-3777e5a233af"
   },
   "outputs": [
    {
     "name": "stdout",
     "output_type": "stream",
     "text": [
      "Model ARN corresponding to the best candidate is : arn:aws:sagemaker:eu-central-1:898627427171:model/automl-yedin-14-47-30\n"
     ]
    }
   ],
   "source": [
    "timestamp_suffix = strftime('%H-%M-%S')\n",
    "model_name = 'automl-yedin-' + timestamp_suffix\n",
    "\n",
    "model = sm.create_model(Containers=best_candidate['InferenceContainers'],\n",
    "                            ModelName=model_name,\n",
    "                            ExecutionRoleArn=role)\n",
    "\n",
    "print('Model ARN corresponding to the best candidate is : {}'.format(model['ModelArn']))"
   ]
  },
  {
   "cell_type": "code",
   "execution_count": null,
   "metadata": {
    "id": "DyDB1zPTg944",
    "outputId": "57ba9642-c1d2-4ae4-910d-f1a1c40c0864"
   },
   "outputs": [
    {
     "data": {
      "text/plain": [
       "{'TransformJobArn': 'arn:aws:sagemaker:eu-central-1:898627427171:transform-job/automl-yedin-14-47-30',\n",
       " 'ResponseMetadata': {'RequestId': 'da72145c-9e7d-43e9-a63e-80009e0f8025',\n",
       "  'HTTPStatusCode': 200,\n",
       "  'HTTPHeaders': {'x-amzn-requestid': 'da72145c-9e7d-43e9-a63e-80009e0f8025',\n",
       "   'content-type': 'application/x-amz-json-1.1',\n",
       "   'content-length': '101',\n",
       "   'date': 'Mon, 23 Nov 2020 13:47:40 GMT'},\n",
       "  'RetryAttempts': 0}}"
      ]
     },
     "execution_count": 144,
     "metadata": {
      "tags": []
     },
     "output_type": "execute_result"
    }
   ],
   "source": [
    "transform_job_name = 'automl-yedin-' + timestamp_suffix\n",
    "\n",
    "transform_input = {\n",
    "        'DataSource': {\n",
    "            'S3DataSource': {\n",
    "                'S3DataType': 'S3Prefix',\n",
    "                'S3Uri': 's3://{}/test.csv'.format(bucket_name)\n",
    "            }\n",
    "        },\n",
    "        'ContentType': 'text/csv',\n",
    "        'CompressionType': 'None',\n",
    "        'SplitType': 'Line'\n",
    "    }\n",
    "\n",
    "transform_output = {\n",
    "        'S3OutputPath': 's3://{}/inference-results'.format(bucket_name),\n",
    "    }\n",
    "\n",
    "transform_resources = {\n",
    "        'InstanceType': 'ml.m5.4xlarge',\n",
    "        'InstanceCount': 1\n",
    "    }\n",
    "\n",
    "sm.create_transform_job(TransformJobName = transform_job_name,\n",
    "                        ModelName = model_name,\n",
    "                        TransformInput = transform_input,\n",
    "                        TransformOutput = transform_output,\n",
    "                        TransformResources = transform_resources\n",
    ")"
   ]
  },
  {
   "cell_type": "code",
   "execution_count": null,
   "metadata": {
    "id": "HXsCKMHeg944",
    "outputId": "534aa9a5-6869-4a55-cdcc-fdeae530b98a"
   },
   "outputs": [
    {
     "name": "stdout",
     "output_type": "stream",
     "text": [
      "JobStatus\n",
      "----------\n",
      "InProgress\n",
      "InProgress\n",
      "InProgress\n",
      "InProgress\n",
      "InProgress\n",
      "InProgress\n",
      "InProgress\n",
      "InProgress\n",
      "InProgress\n",
      "InProgress\n",
      "Completed\n"
     ]
    }
   ],
   "source": [
    "print ('JobStatus')\n",
    "print('----------')\n",
    "\n",
    "\n",
    "describe_response = sm.describe_transform_job(TransformJobName = transform_job_name)\n",
    "job_run_status = describe_response['TransformJobStatus']\n",
    "print (job_run_status)\n",
    "\n",
    "while job_run_status not in ('Failed', 'Completed', 'Stopped'):\n",
    "    describe_response = sm.describe_transform_job(TransformJobName = transform_job_name)\n",
    "    job_run_status = describe_response['TransformJobStatus']\n",
    "    print (job_run_status)\n",
    "    sleep(30)"
   ]
  },
  {
   "cell_type": "code",
   "execution_count": null,
   "metadata": {
    "id": "nEDjYif4g944",
    "outputId": "a5b5c1c1-9a69-42d3-dd99-6b86b13cfce7"
   },
   "outputs": [
    {
     "name": "stdout",
     "output_type": "stream",
     "text": [
      "s3.Bucket(name='ye-1490')\n"
     ]
    }
   ],
   "source": [
    "s3_output_key = 'inference-results/test.csv.out'\n",
    "local_inference_results_path = 'inference_results.csv'\n",
    "\n",
    "inference_results_bucket = s3.Bucket(bucket_name)\n",
    "inference_results_bucket.download_file(s3_output_key, local_inference_results_path);\n",
    "\n",
    "data = pd.read_csv(local_inference_results_path, sep=';', names=['predicted'])"
   ]
  },
  {
   "cell_type": "code",
   "execution_count": null,
   "metadata": {
    "id": "m3kkV7gRg944"
   },
   "outputs": [],
   "source": [
    "data['true'] = y_test"
   ]
  },
  {
   "cell_type": "code",
   "execution_count": null,
   "metadata": {
    "id": "Znsuuns3g944",
    "outputId": "65521395-cc9b-47bd-d16b-d60acc187eaf"
   },
   "outputs": [
    {
     "data": {
      "text/plain": [
       "0.9578332990698479"
      ]
     },
     "execution_count": 161,
     "metadata": {
      "tags": []
     },
     "output_type": "execute_result"
    }
   ],
   "source": [
    "f1_score(data['true'], data['predicted'], average='weighted')"
   ]
  },
  {
   "cell_type": "code",
   "execution_count": null,
   "metadata": {
    "id": "ACVQNJ2gg944"
   },
   "outputs": [],
   "source": [
    "cm = confusion_matrix(data['true'], data['predicted'])"
   ]
  },
  {
   "cell_type": "code",
   "execution_count": null,
   "metadata": {
    "id": "XfHkHJdHg944",
    "outputId": "62f2d4af-6aaa-4567-d0c5-34aa8bb9fb06"
   },
   "outputs": [
    {
     "data": {
      "text/plain": [
       "1    496\n",
       "2    471\n",
       "3    420\n",
       "4    491\n",
       "5    532\n",
       "6    537\n",
       "Name: true, dtype: int64"
      ]
     },
     "execution_count": 167,
     "metadata": {
      "tags": []
     },
     "output_type": "execute_result"
    }
   ],
   "source": [
    "data['true'].value_counts().sort_index()"
   ]
  },
  {
   "cell_type": "code",
   "execution_count": null,
   "metadata": {
    "id": "xt3YNRgTg944",
    "outputId": "468e7190-8427-48e8-ba9a-410d6ab3ec4a"
   },
   "outputs": [
    {
     "data": {
      "text/plain": [
       "1    521\n",
       "2    465\n",
       "3    404\n",
       "4    459\n",
       "5    561\n",
       "6    537\n",
       "Name: predicted, dtype: int64"
      ]
     },
     "execution_count": 168,
     "metadata": {
      "tags": []
     },
     "output_type": "execute_result"
    }
   ],
   "source": [
    "data['predicted'].value_counts().sort_index()"
   ]
  },
  {
   "cell_type": "code",
   "execution_count": null,
   "metadata": {
    "id": "v1G198plg944",
    "outputId": "4520f029-4e71-4985-ac8b-a6a2e031c64f"
   },
   "outputs": [
    {
     "name": "stdout",
     "output_type": "stream",
     "text": [
      "[[491   5   0   0   0   0]\n",
      " [ 27 440   4   0   0   0]\n",
      " [  3  17 400   0   0   0]\n",
      " [  0   3   0 441  47   0]\n",
      " [  0   0   0  18 514   0]\n",
      " [  0   0   0   0   0 537]]\n"
     ]
    }
   ],
   "source": [
    "print(cm)\n",
    "# rows are true labels\n",
    "# columns are predicted labels"
   ]
  }
 ],
 "metadata": {
  "colab": {
   "name": "yedin_AutoML.ipynb",
   "provenance": []
  },
  "kernelspec": {
   "display_name": "Python 3",
   "language": "python",
   "name": "python3"
  },
  "language_info": {
   "codemirror_mode": {
    "name": "ipython",
    "version": 3
   },
   "file_extension": ".py",
   "mimetype": "text/x-python",
   "name": "python",
   "nbconvert_exporter": "python",
   "pygments_lexer": "ipython3",
   "version": "3.8.3"
  },
  "toc-autonumbering": true
 },
 "nbformat": 4,
 "nbformat_minor": 4
}
