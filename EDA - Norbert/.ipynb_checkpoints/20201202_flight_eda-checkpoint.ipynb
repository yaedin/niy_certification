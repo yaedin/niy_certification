{
 "cells": [
  {
   "cell_type": "markdown",
   "metadata": {},
   "source": [
    "# Import Libraries"
   ]
  },
  {
   "cell_type": "code",
   "execution_count": 1,
   "metadata": {
    "scrolled": false
   },
   "outputs": [],
   "source": [
    "import os\n",
    "\n",
    "import pandas as pd\n",
    "import numpy as np\n",
    "import matplotlib.pyplot as plt\n",
    "import seaborn as sns"
   ]
  },
  {
   "cell_type": "markdown",
   "metadata": {},
   "source": [
    "# Import Data"
   ]
  },
  {
   "cell_type": "code",
   "execution_count": 2,
   "metadata": {},
   "outputs": [],
   "source": [
    "# import of a dataset with January figures\n",
    "\n",
    "url = 'https://niy-certification.s3.eu-central-1.amazonaws.com/usdot/Jan_2019_usdot.csv'\n",
    "\n",
    "flight_01 = pd.read_csv(url)"
   ]
  },
  {
   "cell_type": "markdown",
   "metadata": {},
   "source": [
    "# Variables"
   ]
  },
  {
   "cell_type": "code",
   "execution_count": 3,
   "metadata": {},
   "outputs": [],
   "source": [
    "# Columns that are not required for further analysis.\n",
    "droplist = ['OP_UNIQUE_CARRIER', 'TAIL_NUM', 'OP_CARRIER_FL_NUM', 'ORIGIN_AIRPORT_SEQ_ID', 'ORIGIN_CITY_MARKET_ID', 'ORIGIN_STATE_NM', 'DEST_AIRPORT_SEQ_ID', 'DEST_CITY_MARKET_ID', 'DEST_STATE_NM', 'CRS_DEP_TIME', 'DEP_DEL15', 'DEP_DELAY_GROUP',  'HEELS_OFF', 'WHEELS_ON', 'CRS_ARR_TIME', 'ARR_DEL15', 'DIVERTED',  'CARRIER_DELAY',  'EATHER_DELAY', 'NAS_DELAY', 'SECURITY_DELAY', 'LATE_AIRCRAFT_DELAY', 'Unnamed: 54']"
   ]
  },
  {
   "cell_type": "markdown",
   "metadata": {},
   "source": [
    "# Data Insights"
   ]
  },
  {
   "cell_type": "code",
   "execution_count": 4,
   "metadata": {},
   "outputs": [
    {
     "data": {
      "text/html": [
       "<div>\n",
       "<style scoped>\n",
       "    .dataframe tbody tr th:only-of-type {\n",
       "        vertical-align: middle;\n",
       "    }\n",
       "\n",
       "    .dataframe tbody tr th {\n",
       "        vertical-align: top;\n",
       "    }\n",
       "\n",
       "    .dataframe thead th {\n",
       "        text-align: right;\n",
       "    }\n",
       "</style>\n",
       "<table border=\"1\" class=\"dataframe\">\n",
       "  <thead>\n",
       "    <tr style=\"text-align: right;\">\n",
       "      <th></th>\n",
       "      <th>YEAR</th>\n",
       "      <th>MONTH</th>\n",
       "      <th>DAY_OF_MONTH</th>\n",
       "      <th>DAY_OF_WEEK</th>\n",
       "      <th>FL_DATE</th>\n",
       "      <th>OP_UNIQUE_CARRIER</th>\n",
       "      <th>OP_CARRIER_AIRLINE_ID</th>\n",
       "      <th>OP_CARRIER</th>\n",
       "      <th>TAIL_NUM</th>\n",
       "      <th>OP_CARRIER_FL_NUM</th>\n",
       "      <th>...</th>\n",
       "      <th>ACTUAL_ELAPSED_TIME</th>\n",
       "      <th>AIR_TIME</th>\n",
       "      <th>FLIGHTS</th>\n",
       "      <th>DISTANCE</th>\n",
       "      <th>CARRIER_DELAY</th>\n",
       "      <th>WEATHER_DELAY</th>\n",
       "      <th>NAS_DELAY</th>\n",
       "      <th>SECURITY_DELAY</th>\n",
       "      <th>LATE_AIRCRAFT_DELAY</th>\n",
       "      <th>Unnamed: 54</th>\n",
       "    </tr>\n",
       "  </thead>\n",
       "  <tbody>\n",
       "    <tr>\n",
       "      <th>0</th>\n",
       "      <td>2019</td>\n",
       "      <td>1</td>\n",
       "      <td>11</td>\n",
       "      <td>5</td>\n",
       "      <td>2019-01-11</td>\n",
       "      <td>WN</td>\n",
       "      <td>19393</td>\n",
       "      <td>WN</td>\n",
       "      <td>N220WN</td>\n",
       "      <td>1480</td>\n",
       "      <td>...</td>\n",
       "      <td>133.0</td>\n",
       "      <td>118.0</td>\n",
       "      <td>1.0</td>\n",
       "      <td>834.0</td>\n",
       "      <td>NaN</td>\n",
       "      <td>NaN</td>\n",
       "      <td>NaN</td>\n",
       "      <td>NaN</td>\n",
       "      <td>NaN</td>\n",
       "      <td>NaN</td>\n",
       "    </tr>\n",
       "    <tr>\n",
       "      <th>1</th>\n",
       "      <td>2019</td>\n",
       "      <td>1</td>\n",
       "      <td>11</td>\n",
       "      <td>5</td>\n",
       "      <td>2019-01-11</td>\n",
       "      <td>WN</td>\n",
       "      <td>19393</td>\n",
       "      <td>WN</td>\n",
       "      <td>N7889A</td>\n",
       "      <td>2199</td>\n",
       "      <td>...</td>\n",
       "      <td>138.0</td>\n",
       "      <td>119.0</td>\n",
       "      <td>1.0</td>\n",
       "      <td>834.0</td>\n",
       "      <td>NaN</td>\n",
       "      <td>NaN</td>\n",
       "      <td>NaN</td>\n",
       "      <td>NaN</td>\n",
       "      <td>NaN</td>\n",
       "      <td>NaN</td>\n",
       "    </tr>\n",
       "    <tr>\n",
       "      <th>2</th>\n",
       "      <td>2019</td>\n",
       "      <td>1</td>\n",
       "      <td>11</td>\n",
       "      <td>5</td>\n",
       "      <td>2019-01-11</td>\n",
       "      <td>WN</td>\n",
       "      <td>19393</td>\n",
       "      <td>WN</td>\n",
       "      <td>N764SW</td>\n",
       "      <td>402</td>\n",
       "      <td>...</td>\n",
       "      <td>153.0</td>\n",
       "      <td>141.0</td>\n",
       "      <td>1.0</td>\n",
       "      <td>1072.0</td>\n",
       "      <td>NaN</td>\n",
       "      <td>NaN</td>\n",
       "      <td>NaN</td>\n",
       "      <td>NaN</td>\n",
       "      <td>NaN</td>\n",
       "      <td>NaN</td>\n",
       "    </tr>\n",
       "    <tr>\n",
       "      <th>3</th>\n",
       "      <td>2019</td>\n",
       "      <td>1</td>\n",
       "      <td>11</td>\n",
       "      <td>5</td>\n",
       "      <td>2019-01-11</td>\n",
       "      <td>WN</td>\n",
       "      <td>19393</td>\n",
       "      <td>WN</td>\n",
       "      <td>N8309C</td>\n",
       "      <td>458</td>\n",
       "      <td>...</td>\n",
       "      <td>161.0</td>\n",
       "      <td>144.0</td>\n",
       "      <td>1.0</td>\n",
       "      <td>1072.0</td>\n",
       "      <td>NaN</td>\n",
       "      <td>NaN</td>\n",
       "      <td>NaN</td>\n",
       "      <td>NaN</td>\n",
       "      <td>NaN</td>\n",
       "      <td>NaN</td>\n",
       "    </tr>\n",
       "    <tr>\n",
       "      <th>4</th>\n",
       "      <td>2019</td>\n",
       "      <td>1</td>\n",
       "      <td>11</td>\n",
       "      <td>5</td>\n",
       "      <td>2019-01-11</td>\n",
       "      <td>WN</td>\n",
       "      <td>19393</td>\n",
       "      <td>WN</td>\n",
       "      <td>N8686A</td>\n",
       "      <td>1966</td>\n",
       "      <td>...</td>\n",
       "      <td>155.0</td>\n",
       "      <td>142.0</td>\n",
       "      <td>1.0</td>\n",
       "      <td>1072.0</td>\n",
       "      <td>NaN</td>\n",
       "      <td>NaN</td>\n",
       "      <td>NaN</td>\n",
       "      <td>NaN</td>\n",
       "      <td>NaN</td>\n",
       "      <td>NaN</td>\n",
       "    </tr>\n",
       "  </tbody>\n",
       "</table>\n",
       "<p>5 rows × 55 columns</p>\n",
       "</div>"
      ],
      "text/plain": [
       "   YEAR  MONTH  DAY_OF_MONTH  DAY_OF_WEEK     FL_DATE OP_UNIQUE_CARRIER  \\\n",
       "0  2019      1            11            5  2019-01-11                WN   \n",
       "1  2019      1            11            5  2019-01-11                WN   \n",
       "2  2019      1            11            5  2019-01-11                WN   \n",
       "3  2019      1            11            5  2019-01-11                WN   \n",
       "4  2019      1            11            5  2019-01-11                WN   \n",
       "\n",
       "   OP_CARRIER_AIRLINE_ID OP_CARRIER TAIL_NUM  OP_CARRIER_FL_NUM  ...  \\\n",
       "0                  19393         WN   N220WN               1480  ...   \n",
       "1                  19393         WN   N7889A               2199  ...   \n",
       "2                  19393         WN   N764SW                402  ...   \n",
       "3                  19393         WN   N8309C                458  ...   \n",
       "4                  19393         WN   N8686A               1966  ...   \n",
       "\n",
       "   ACTUAL_ELAPSED_TIME  AIR_TIME  FLIGHTS DISTANCE CARRIER_DELAY  \\\n",
       "0                133.0     118.0      1.0    834.0           NaN   \n",
       "1                138.0     119.0      1.0    834.0           NaN   \n",
       "2                153.0     141.0      1.0   1072.0           NaN   \n",
       "3                161.0     144.0      1.0   1072.0           NaN   \n",
       "4                155.0     142.0      1.0   1072.0           NaN   \n",
       "\n",
       "  WEATHER_DELAY  NAS_DELAY SECURITY_DELAY  LATE_AIRCRAFT_DELAY  Unnamed: 54  \n",
       "0           NaN        NaN            NaN                  NaN          NaN  \n",
       "1           NaN        NaN            NaN                  NaN          NaN  \n",
       "2           NaN        NaN            NaN                  NaN          NaN  \n",
       "3           NaN        NaN            NaN                  NaN          NaN  \n",
       "4           NaN        NaN            NaN                  NaN          NaN  \n",
       "\n",
       "[5 rows x 55 columns]"
      ]
     },
     "metadata": {},
     "output_type": "display_data"
    },
    {
     "data": {
      "text/html": [
       "<div>\n",
       "<style scoped>\n",
       "    .dataframe tbody tr th:only-of-type {\n",
       "        vertical-align: middle;\n",
       "    }\n",
       "\n",
       "    .dataframe tbody tr th {\n",
       "        vertical-align: top;\n",
       "    }\n",
       "\n",
       "    .dataframe thead th {\n",
       "        text-align: right;\n",
       "    }\n",
       "</style>\n",
       "<table border=\"1\" class=\"dataframe\">\n",
       "  <thead>\n",
       "    <tr style=\"text-align: right;\">\n",
       "      <th></th>\n",
       "      <th>YEAR</th>\n",
       "      <th>MONTH</th>\n",
       "      <th>DAY_OF_MONTH</th>\n",
       "      <th>DAY_OF_WEEK</th>\n",
       "      <th>OP_CARRIER_AIRLINE_ID</th>\n",
       "      <th>OP_CARRIER_FL_NUM</th>\n",
       "      <th>ORIGIN_AIRPORT_ID</th>\n",
       "      <th>ORIGIN_AIRPORT_SEQ_ID</th>\n",
       "      <th>ORIGIN_CITY_MARKET_ID</th>\n",
       "      <th>ORIGIN_STATE_FIPS</th>\n",
       "      <th>...</th>\n",
       "      <th>ACTUAL_ELAPSED_TIME</th>\n",
       "      <th>AIR_TIME</th>\n",
       "      <th>FLIGHTS</th>\n",
       "      <th>DISTANCE</th>\n",
       "      <th>CARRIER_DELAY</th>\n",
       "      <th>WEATHER_DELAY</th>\n",
       "      <th>NAS_DELAY</th>\n",
       "      <th>SECURITY_DELAY</th>\n",
       "      <th>LATE_AIRCRAFT_DELAY</th>\n",
       "      <th>Unnamed: 54</th>\n",
       "    </tr>\n",
       "  </thead>\n",
       "  <tbody>\n",
       "    <tr>\n",
       "      <th>count</th>\n",
       "      <td>638649.0</td>\n",
       "      <td>638649.0</td>\n",
       "      <td>638649.000000</td>\n",
       "      <td>638649.000000</td>\n",
       "      <td>638649.000000</td>\n",
       "      <td>638649.000000</td>\n",
       "      <td>638649.000000</td>\n",
       "      <td>6.386490e+05</td>\n",
       "      <td>638649.000000</td>\n",
       "      <td>638649.000000</td>\n",
       "      <td>...</td>\n",
       "      <td>617649.000000</td>\n",
       "      <td>617649.000000</td>\n",
       "      <td>638649.0</td>\n",
       "      <td>638649.000000</td>\n",
       "      <td>117144.000000</td>\n",
       "      <td>117144.000000</td>\n",
       "      <td>117144.000000</td>\n",
       "      <td>117144.000000</td>\n",
       "      <td>117144.000000</td>\n",
       "      <td>0.0</td>\n",
       "    </tr>\n",
       "    <tr>\n",
       "      <th>mean</th>\n",
       "      <td>2019.0</td>\n",
       "      <td>1.0</td>\n",
       "      <td>15.955094</td>\n",
       "      <td>3.836976</td>\n",
       "      <td>20012.644561</td>\n",
       "      <td>2700.871319</td>\n",
       "      <td>12690.345843</td>\n",
       "      <td>1.269038e+06</td>\n",
       "      <td>31776.883607</td>\n",
       "      <td>27.240260</td>\n",
       "      <td>...</td>\n",
       "      <td>135.159278</td>\n",
       "      <td>109.029140</td>\n",
       "      <td>1.0</td>\n",
       "      <td>765.250902</td>\n",
       "      <td>20.088609</td>\n",
       "      <td>4.410785</td>\n",
       "      <td>18.384826</td>\n",
       "      <td>0.073422</td>\n",
       "      <td>25.880882</td>\n",
       "      <td>NaN</td>\n",
       "    </tr>\n",
       "    <tr>\n",
       "      <th>std</th>\n",
       "      <td>0.0</td>\n",
       "      <td>0.0</td>\n",
       "      <td>8.989170</td>\n",
       "      <td>1.921977</td>\n",
       "      <td>396.177827</td>\n",
       "      <td>1861.933516</td>\n",
       "      <td>1520.775468</td>\n",
       "      <td>1.520773e+05</td>\n",
       "      <td>1316.122179</td>\n",
       "      <td>16.565184</td>\n",
       "      <td>...</td>\n",
       "      <td>71.762649</td>\n",
       "      <td>69.987785</td>\n",
       "      <td>0.0</td>\n",
       "      <td>579.910495</td>\n",
       "      <td>65.596080</td>\n",
       "      <td>38.353695</td>\n",
       "      <td>41.352734</td>\n",
       "      <td>3.051185</td>\n",
       "      <td>53.007365</td>\n",
       "      <td>NaN</td>\n",
       "    </tr>\n",
       "    <tr>\n",
       "      <th>min</th>\n",
       "      <td>2019.0</td>\n",
       "      <td>1.0</td>\n",
       "      <td>1.000000</td>\n",
       "      <td>1.000000</td>\n",
       "      <td>19393.000000</td>\n",
       "      <td>1.000000</td>\n",
       "      <td>10135.000000</td>\n",
       "      <td>1.013505e+06</td>\n",
       "      <td>30070.000000</td>\n",
       "      <td>1.000000</td>\n",
       "      <td>...</td>\n",
       "      <td>16.000000</td>\n",
       "      <td>4.000000</td>\n",
       "      <td>1.0</td>\n",
       "      <td>31.000000</td>\n",
       "      <td>0.000000</td>\n",
       "      <td>0.000000</td>\n",
       "      <td>0.000000</td>\n",
       "      <td>0.000000</td>\n",
       "      <td>0.000000</td>\n",
       "      <td>NaN</td>\n",
       "    </tr>\n",
       "    <tr>\n",
       "      <th>25%</th>\n",
       "      <td>2019.0</td>\n",
       "      <td>1.0</td>\n",
       "      <td>8.000000</td>\n",
       "      <td>2.000000</td>\n",
       "      <td>19790.000000</td>\n",
       "      <td>1090.000000</td>\n",
       "      <td>11292.000000</td>\n",
       "      <td>1.129202e+06</td>\n",
       "      <td>30721.000000</td>\n",
       "      <td>12.000000</td>\n",
       "      <td>...</td>\n",
       "      <td>83.000000</td>\n",
       "      <td>58.000000</td>\n",
       "      <td>1.0</td>\n",
       "      <td>337.000000</td>\n",
       "      <td>0.000000</td>\n",
       "      <td>0.000000</td>\n",
       "      <td>0.000000</td>\n",
       "      <td>0.000000</td>\n",
       "      <td>0.000000</td>\n",
       "      <td>NaN</td>\n",
       "    </tr>\n",
       "    <tr>\n",
       "      <th>50%</th>\n",
       "      <td>2019.0</td>\n",
       "      <td>1.0</td>\n",
       "      <td>16.000000</td>\n",
       "      <td>4.000000</td>\n",
       "      <td>19977.000000</td>\n",
       "      <td>2260.000000</td>\n",
       "      <td>12889.000000</td>\n",
       "      <td>1.288903e+06</td>\n",
       "      <td>31453.000000</td>\n",
       "      <td>26.000000</td>\n",
       "      <td>...</td>\n",
       "      <td>117.000000</td>\n",
       "      <td>90.000000</td>\n",
       "      <td>1.0</td>\n",
       "      <td>604.000000</td>\n",
       "      <td>0.000000</td>\n",
       "      <td>0.000000</td>\n",
       "      <td>5.000000</td>\n",
       "      <td>0.000000</td>\n",
       "      <td>0.000000</td>\n",
       "      <td>NaN</td>\n",
       "    </tr>\n",
       "    <tr>\n",
       "      <th>75%</th>\n",
       "      <td>2019.0</td>\n",
       "      <td>1.0</td>\n",
       "      <td>24.000000</td>\n",
       "      <td>5.000000</td>\n",
       "      <td>20378.000000</td>\n",
       "      <td>4183.000000</td>\n",
       "      <td>14057.000000</td>\n",
       "      <td>1.405702e+06</td>\n",
       "      <td>32575.000000</td>\n",
       "      <td>42.000000</td>\n",
       "      <td>...</td>\n",
       "      <td>166.000000</td>\n",
       "      <td>139.000000</td>\n",
       "      <td>1.0</td>\n",
       "      <td>1008.000000</td>\n",
       "      <td>16.000000</td>\n",
       "      <td>0.000000</td>\n",
       "      <td>21.000000</td>\n",
       "      <td>0.000000</td>\n",
       "      <td>30.000000</td>\n",
       "      <td>NaN</td>\n",
       "    </tr>\n",
       "    <tr>\n",
       "      <th>max</th>\n",
       "      <td>2019.0</td>\n",
       "      <td>1.0</td>\n",
       "      <td>31.000000</td>\n",
       "      <td>7.000000</td>\n",
       "      <td>21167.000000</td>\n",
       "      <td>9401.000000</td>\n",
       "      <td>16218.000000</td>\n",
       "      <td>1.621802e+06</td>\n",
       "      <td>36101.000000</td>\n",
       "      <td>78.000000</td>\n",
       "      <td>...</td>\n",
       "      <td>737.000000</td>\n",
       "      <td>691.000000</td>\n",
       "      <td>1.0</td>\n",
       "      <td>4983.000000</td>\n",
       "      <td>1638.000000</td>\n",
       "      <td>1416.000000</td>\n",
       "      <td>1447.000000</td>\n",
       "      <td>816.000000</td>\n",
       "      <td>1514.000000</td>\n",
       "      <td>NaN</td>\n",
       "    </tr>\n",
       "  </tbody>\n",
       "</table>\n",
       "<p>8 rows × 41 columns</p>\n",
       "</div>"
      ],
      "text/plain": [
       "           YEAR     MONTH   DAY_OF_MONTH    DAY_OF_WEEK  \\\n",
       "count  638649.0  638649.0  638649.000000  638649.000000   \n",
       "mean     2019.0       1.0      15.955094       3.836976   \n",
       "std         0.0       0.0       8.989170       1.921977   \n",
       "min      2019.0       1.0       1.000000       1.000000   \n",
       "25%      2019.0       1.0       8.000000       2.000000   \n",
       "50%      2019.0       1.0      16.000000       4.000000   \n",
       "75%      2019.0       1.0      24.000000       5.000000   \n",
       "max      2019.0       1.0      31.000000       7.000000   \n",
       "\n",
       "       OP_CARRIER_AIRLINE_ID  OP_CARRIER_FL_NUM  ORIGIN_AIRPORT_ID  \\\n",
       "count          638649.000000      638649.000000      638649.000000   \n",
       "mean            20012.644561        2700.871319       12690.345843   \n",
       "std               396.177827        1861.933516        1520.775468   \n",
       "min             19393.000000           1.000000       10135.000000   \n",
       "25%             19790.000000        1090.000000       11292.000000   \n",
       "50%             19977.000000        2260.000000       12889.000000   \n",
       "75%             20378.000000        4183.000000       14057.000000   \n",
       "max             21167.000000        9401.000000       16218.000000   \n",
       "\n",
       "       ORIGIN_AIRPORT_SEQ_ID  ORIGIN_CITY_MARKET_ID  ORIGIN_STATE_FIPS  ...  \\\n",
       "count           6.386490e+05          638649.000000      638649.000000  ...   \n",
       "mean            1.269038e+06           31776.883607          27.240260  ...   \n",
       "std             1.520773e+05            1316.122179          16.565184  ...   \n",
       "min             1.013505e+06           30070.000000           1.000000  ...   \n",
       "25%             1.129202e+06           30721.000000          12.000000  ...   \n",
       "50%             1.288903e+06           31453.000000          26.000000  ...   \n",
       "75%             1.405702e+06           32575.000000          42.000000  ...   \n",
       "max             1.621802e+06           36101.000000          78.000000  ...   \n",
       "\n",
       "       ACTUAL_ELAPSED_TIME       AIR_TIME   FLIGHTS       DISTANCE  \\\n",
       "count        617649.000000  617649.000000  638649.0  638649.000000   \n",
       "mean            135.159278     109.029140       1.0     765.250902   \n",
       "std              71.762649      69.987785       0.0     579.910495   \n",
       "min              16.000000       4.000000       1.0      31.000000   \n",
       "25%              83.000000      58.000000       1.0     337.000000   \n",
       "50%             117.000000      90.000000       1.0     604.000000   \n",
       "75%             166.000000     139.000000       1.0    1008.000000   \n",
       "max             737.000000     691.000000       1.0    4983.000000   \n",
       "\n",
       "       CARRIER_DELAY  WEATHER_DELAY      NAS_DELAY  SECURITY_DELAY  \\\n",
       "count  117144.000000  117144.000000  117144.000000   117144.000000   \n",
       "mean       20.088609       4.410785      18.384826        0.073422   \n",
       "std        65.596080      38.353695      41.352734        3.051185   \n",
       "min         0.000000       0.000000       0.000000        0.000000   \n",
       "25%         0.000000       0.000000       0.000000        0.000000   \n",
       "50%         0.000000       0.000000       5.000000        0.000000   \n",
       "75%        16.000000       0.000000      21.000000        0.000000   \n",
       "max      1638.000000    1416.000000    1447.000000      816.000000   \n",
       "\n",
       "       LATE_AIRCRAFT_DELAY  Unnamed: 54  \n",
       "count        117144.000000          0.0  \n",
       "mean             25.880882          NaN  \n",
       "std              53.007365          NaN  \n",
       "min               0.000000          NaN  \n",
       "25%               0.000000          NaN  \n",
       "50%               0.000000          NaN  \n",
       "75%              30.000000          NaN  \n",
       "max            1514.000000          NaN  \n",
       "\n",
       "[8 rows x 41 columns]"
      ]
     },
     "metadata": {},
     "output_type": "display_data"
    },
    {
     "data": {
      "text/plain": [
       "(638649, 55)"
      ]
     },
     "metadata": {},
     "output_type": "display_data"
    }
   ],
   "source": [
    "# Statistical insights of flight_01\n",
    "display(flight_01.head())\n",
    "display(flight_01.describe())\n",
    "display(flight_01.shape)"
   ]
  },
  {
   "cell_type": "markdown",
   "metadata": {},
   "source": [
    " \n",
    " \n",
    " ---> Dataset contains 638,649 rows (flights) and 55 columns\n",
    " \n",
    " \n",
    " \n",
    " \n",
    " \n",
    " "
   ]
  },
  {
   "cell_type": "code",
   "execution_count": 5,
   "metadata": {},
   "outputs": [],
   "source": [
    "def my_info(df):\n",
    "  info = pd.DataFrame(df.count(), columns=[\"filled\"])\n",
    "  info[\"filled %\"] = round(info[\"filled\"] / len(df), 4) * 100\n",
    "  info[\"nunique\"] = df.nunique()\n",
    "  info[\"dtypes\"] = df.dtypes\n",
    "  info[\"uniques\"] = np.nan\n",
    "  for idx, row in info.iterrows():\n",
    "    info.loc[idx, \"uniques\"] = str(list(df[idx].unique()))\n",
    "  return info"
   ]
  },
  {
   "cell_type": "code",
   "execution_count": 6,
   "metadata": {},
   "outputs": [
    {
     "data": {
      "text/html": [
       "<div>\n",
       "<style scoped>\n",
       "    .dataframe tbody tr th:only-of-type {\n",
       "        vertical-align: middle;\n",
       "    }\n",
       "\n",
       "    .dataframe tbody tr th {\n",
       "        vertical-align: top;\n",
       "    }\n",
       "\n",
       "    .dataframe thead th {\n",
       "        text-align: right;\n",
       "    }\n",
       "</style>\n",
       "<table border=\"1\" class=\"dataframe\">\n",
       "  <thead>\n",
       "    <tr style=\"text-align: right;\">\n",
       "      <th></th>\n",
       "      <th>filled</th>\n",
       "      <th>filled %</th>\n",
       "      <th>nunique</th>\n",
       "      <th>dtypes</th>\n",
       "      <th>uniques</th>\n",
       "    </tr>\n",
       "  </thead>\n",
       "  <tbody>\n",
       "    <tr>\n",
       "      <th>YEAR</th>\n",
       "      <td>638649</td>\n",
       "      <td>100.00</td>\n",
       "      <td>1</td>\n",
       "      <td>int64</td>\n",
       "      <td>[2019]</td>\n",
       "    </tr>\n",
       "    <tr>\n",
       "      <th>MONTH</th>\n",
       "      <td>638649</td>\n",
       "      <td>100.00</td>\n",
       "      <td>1</td>\n",
       "      <td>int64</td>\n",
       "      <td>[1]</td>\n",
       "    </tr>\n",
       "    <tr>\n",
       "      <th>DAY_OF_MONTH</th>\n",
       "      <td>638649</td>\n",
       "      <td>100.00</td>\n",
       "      <td>31</td>\n",
       "      <td>int64</td>\n",
       "      <td>[11, 12, 13, 8, 9, 15, 16, 21, 22, 23, 24, 25,...</td>\n",
       "    </tr>\n",
       "    <tr>\n",
       "      <th>DAY_OF_WEEK</th>\n",
       "      <td>638649</td>\n",
       "      <td>100.00</td>\n",
       "      <td>7</td>\n",
       "      <td>int64</td>\n",
       "      <td>[5, 6, 7, 2, 3, 1, 4]</td>\n",
       "    </tr>\n",
       "    <tr>\n",
       "      <th>FL_DATE</th>\n",
       "      <td>638649</td>\n",
       "      <td>100.00</td>\n",
       "      <td>31</td>\n",
       "      <td>object</td>\n",
       "      <td>['2019-01-11', '2019-01-12', '2019-01-13', '20...</td>\n",
       "    </tr>\n",
       "    <tr>\n",
       "      <th>OP_UNIQUE_CARRIER</th>\n",
       "      <td>638649</td>\n",
       "      <td>100.00</td>\n",
       "      <td>26</td>\n",
       "      <td>object</td>\n",
       "      <td>['WN', 'OH', 'B6', 'NK', 'OO', 'AA', 'MQ', 'UA...</td>\n",
       "    </tr>\n",
       "    <tr>\n",
       "      <th>OP_CARRIER_AIRLINE_ID</th>\n",
       "      <td>638649</td>\n",
       "      <td>100.00</td>\n",
       "      <td>26</td>\n",
       "      <td>int64</td>\n",
       "      <td>[19393, 20397, 20409, 20416, 20304, 19805, 203...</td>\n",
       "    </tr>\n",
       "    <tr>\n",
       "      <th>OP_CARRIER</th>\n",
       "      <td>638649</td>\n",
       "      <td>100.00</td>\n",
       "      <td>26</td>\n",
       "      <td>object</td>\n",
       "      <td>['WN', 'OH', 'B6', 'NK', 'OO', 'AA', 'MQ', 'UA...</td>\n",
       "    </tr>\n",
       "    <tr>\n",
       "      <th>TAIL_NUM</th>\n",
       "      <td>633964</td>\n",
       "      <td>99.27</td>\n",
       "      <td>5825</td>\n",
       "      <td>object</td>\n",
       "      <td>['N220WN', 'N7889A', 'N764SW', 'N8309C', 'N868...</td>\n",
       "    </tr>\n",
       "    <tr>\n",
       "      <th>OP_CARRIER_FL_NUM</th>\n",
       "      <td>638649</td>\n",
       "      <td>100.00</td>\n",
       "      <td>6880</td>\n",
       "      <td>int64</td>\n",
       "      <td>[1480, 2199, 402, 458, 1966, 103, 179, 2191, 1...</td>\n",
       "    </tr>\n",
       "    <tr>\n",
       "      <th>ORIGIN_AIRPORT_ID</th>\n",
       "      <td>638649</td>\n",
       "      <td>100.00</td>\n",
       "      <td>360</td>\n",
       "      <td>int64</td>\n",
       "      <td>[13204, 13232, 13244, 13296, 13342, 13487, 134...</td>\n",
       "    </tr>\n",
       "    <tr>\n",
       "      <th>ORIGIN_AIRPORT_SEQ_ID</th>\n",
       "      <td>638649</td>\n",
       "      <td>100.00</td>\n",
       "      <td>360</td>\n",
       "      <td>int64</td>\n",
       "      <td>[1320402, 1323202, 1324402, 1329604, 1334207, ...</td>\n",
       "    </tr>\n",
       "    <tr>\n",
       "      <th>ORIGIN_CITY_MARKET_ID</th>\n",
       "      <td>638649</td>\n",
       "      <td>100.00</td>\n",
       "      <td>336</td>\n",
       "      <td>int64</td>\n",
       "      <td>[31454, 30977, 33244, 30721, 33342, 31650, 334...</td>\n",
       "    </tr>\n",
       "    <tr>\n",
       "      <th>ORIGIN</th>\n",
       "      <td>638649</td>\n",
       "      <td>100.00</td>\n",
       "      <td>360</td>\n",
       "      <td>object</td>\n",
       "      <td>['MCO', 'MDW', 'MEM', 'MHT', 'MKE', 'MSP', 'MS...</td>\n",
       "    </tr>\n",
       "    <tr>\n",
       "      <th>ORIGIN_CITY_NAME</th>\n",
       "      <td>638649</td>\n",
       "      <td>100.00</td>\n",
       "      <td>354</td>\n",
       "      <td>object</td>\n",
       "      <td>['Orlando, FL', 'Chicago, IL', 'Memphis, TN', ...</td>\n",
       "    </tr>\n",
       "    <tr>\n",
       "      <th>ORIGIN_STATE_ABR</th>\n",
       "      <td>638649</td>\n",
       "      <td>100.00</td>\n",
       "      <td>52</td>\n",
       "      <td>object</td>\n",
       "      <td>['FL', 'IL', 'TN', 'NH', 'WI', 'MN', 'LA', 'CA...</td>\n",
       "    </tr>\n",
       "    <tr>\n",
       "      <th>ORIGIN_STATE_FIPS</th>\n",
       "      <td>638649</td>\n",
       "      <td>100.00</td>\n",
       "      <td>52</td>\n",
       "      <td>int64</td>\n",
       "      <td>[12, 17, 47, 33, 55, 27, 22, 6, 40, 31, 51, 41...</td>\n",
       "    </tr>\n",
       "    <tr>\n",
       "      <th>ORIGIN_STATE_NM</th>\n",
       "      <td>638649</td>\n",
       "      <td>100.00</td>\n",
       "      <td>52</td>\n",
       "      <td>object</td>\n",
       "      <td>['Florida', 'Illinois', 'Tennessee', 'New Hamp...</td>\n",
       "    </tr>\n",
       "    <tr>\n",
       "      <th>DEST_AIRPORT_ID</th>\n",
       "      <td>638649</td>\n",
       "      <td>100.00</td>\n",
       "      <td>360</td>\n",
       "      <td>int64</td>\n",
       "      <td>[14122, 14307, 14492, 14576, 14679, 14683, 147...</td>\n",
       "    </tr>\n",
       "    <tr>\n",
       "      <th>DEST_AIRPORT_SEQ_ID</th>\n",
       "      <td>638649</td>\n",
       "      <td>100.00</td>\n",
       "      <td>360</td>\n",
       "      <td>int64</td>\n",
       "      <td>[1412202, 1430705, 1449202, 1457606, 1467903, ...</td>\n",
       "    </tr>\n",
       "    <tr>\n",
       "      <th>DEST_CITY_MARKET_ID</th>\n",
       "      <td>638649</td>\n",
       "      <td>100.00</td>\n",
       "      <td>336</td>\n",
       "      <td>int64</td>\n",
       "      <td>[30198, 30721, 34492, 34576, 33570, 33214, 330...</td>\n",
       "    </tr>\n",
       "    <tr>\n",
       "      <th>DEST</th>\n",
       "      <td>638649</td>\n",
       "      <td>100.00</td>\n",
       "      <td>360</td>\n",
       "      <td>object</td>\n",
       "      <td>['PIT', 'PVD', 'RDU', 'ROC', 'SAN', 'SAT', 'SD...</td>\n",
       "    </tr>\n",
       "    <tr>\n",
       "      <th>DEST_CITY_NAME</th>\n",
       "      <td>638649</td>\n",
       "      <td>100.00</td>\n",
       "      <td>354</td>\n",
       "      <td>object</td>\n",
       "      <td>['Pittsburgh, PA', 'Providence, RI', 'Raleigh/...</td>\n",
       "    </tr>\n",
       "    <tr>\n",
       "      <th>DEST_STATE_ABR</th>\n",
       "      <td>638649</td>\n",
       "      <td>100.00</td>\n",
       "      <td>52</td>\n",
       "      <td>object</td>\n",
       "      <td>['PA', 'RI', 'NC', 'NY', 'CA', 'TX', 'KY', 'PR...</td>\n",
       "    </tr>\n",
       "    <tr>\n",
       "      <th>DEST_STATE_FIPS</th>\n",
       "      <td>638649</td>\n",
       "      <td>100.00</td>\n",
       "      <td>52</td>\n",
       "      <td>int64</td>\n",
       "      <td>[42, 44, 37, 36, 6, 48, 21, 72, 29, 35, 13, 9,...</td>\n",
       "    </tr>\n",
       "    <tr>\n",
       "      <th>DEST_STATE_NM</th>\n",
       "      <td>638649</td>\n",
       "      <td>100.00</td>\n",
       "      <td>52</td>\n",
       "      <td>object</td>\n",
       "      <td>['Pennsylvania', 'Rhode Island', 'North Caroli...</td>\n",
       "    </tr>\n",
       "    <tr>\n",
       "      <th>CRS_DEP_TIME</th>\n",
       "      <td>638649</td>\n",
       "      <td>100.00</td>\n",
       "      <td>1243</td>\n",
       "      <td>int64</td>\n",
       "      <td>[920, 1420, 1300, 2015, 755, 2005, 1010, 1540,...</td>\n",
       "    </tr>\n",
       "    <tr>\n",
       "      <th>DEP_TIME</th>\n",
       "      <td>619550</td>\n",
       "      <td>97.01</td>\n",
       "      <td>1438</td>\n",
       "      <td>float64</td>\n",
       "      <td>[918.0, 1422.0, 1259.0, 2010.0, 753.0, 1957.0,...</td>\n",
       "    </tr>\n",
       "    <tr>\n",
       "      <th>DEP_DELAY</th>\n",
       "      <td>619547</td>\n",
       "      <td>97.01</td>\n",
       "      <td>1046</td>\n",
       "      <td>float64</td>\n",
       "      <td>[-2.0, 2.0, -1.0, -5.0, -8.0, 18.0, 25.0, 12.0...</td>\n",
       "    </tr>\n",
       "    <tr>\n",
       "      <th>DEP_DELAY_NEW</th>\n",
       "      <td>619547</td>\n",
       "      <td>97.01</td>\n",
       "      <td>1002</td>\n",
       "      <td>float64</td>\n",
       "      <td>[0.0, 2.0, 18.0, 25.0, 12.0, 38.0, 4.0, nan, 5...</td>\n",
       "    </tr>\n",
       "    <tr>\n",
       "      <th>DEP_DEL15</th>\n",
       "      <td>619547</td>\n",
       "      <td>97.01</td>\n",
       "      <td>2</td>\n",
       "      <td>float64</td>\n",
       "      <td>[0.0, 1.0, nan]</td>\n",
       "    </tr>\n",
       "    <tr>\n",
       "      <th>DEP_DELAY_GROUP</th>\n",
       "      <td>619547</td>\n",
       "      <td>97.01</td>\n",
       "      <td>15</td>\n",
       "      <td>float64</td>\n",
       "      <td>[-1.0, 0.0, 1.0, 2.0, nan, 4.0, 6.0, 5.0, 3.0,...</td>\n",
       "    </tr>\n",
       "    <tr>\n",
       "      <th>DEP_TIME_BLK</th>\n",
       "      <td>638649</td>\n",
       "      <td>100.00</td>\n",
       "      <td>19</td>\n",
       "      <td>object</td>\n",
       "      <td>['0900-0959', '1400-1459', '1300-1359', '2000-...</td>\n",
       "    </tr>\n",
       "    <tr>\n",
       "      <th>WHEELS_OFF</th>\n",
       "      <td>619253</td>\n",
       "      <td>96.96</td>\n",
       "      <td>1437</td>\n",
       "      <td>float64</td>\n",
       "      <td>[927.0, 1436.0, 1308.0, 2025.0, 803.0, 2011.0,...</td>\n",
       "    </tr>\n",
       "    <tr>\n",
       "      <th>WHEELS_ON</th>\n",
       "      <td>618710</td>\n",
       "      <td>96.88</td>\n",
       "      <td>1440</td>\n",
       "      <td>float64</td>\n",
       "      <td>[1125.0, 1635.0, 1529.0, 2249.0, 1025.0, 2125....</td>\n",
       "    </tr>\n",
       "    <tr>\n",
       "      <th>CRS_ARR_TIME</th>\n",
       "      <td>638649</td>\n",
       "      <td>100.00</td>\n",
       "      <td>1353</td>\n",
       "      <td>int64</td>\n",
       "      <td>[1135, 1645, 1545, 2255, 1035, 2145, 1150, 172...</td>\n",
       "    </tr>\n",
       "    <tr>\n",
       "      <th>ARR_TIME</th>\n",
       "      <td>618710</td>\n",
       "      <td>96.88</td>\n",
       "      <td>1440</td>\n",
       "      <td>float64</td>\n",
       "      <td>[1131.0, 1640.0, 1532.0, 2251.0, 1028.0, 2127....</td>\n",
       "    </tr>\n",
       "    <tr>\n",
       "      <th>ARR_DELAY</th>\n",
       "      <td>617649</td>\n",
       "      <td>96.71</td>\n",
       "      <td>1068</td>\n",
       "      <td>float64</td>\n",
       "      <td>[-4.0, -5.0, -13.0, -7.0, -18.0, 15.0, 13.0, 4...</td>\n",
       "    </tr>\n",
       "    <tr>\n",
       "      <th>ARR_DELAY_NEW</th>\n",
       "      <td>617649</td>\n",
       "      <td>96.71</td>\n",
       "      <td>988</td>\n",
       "      <td>float64</td>\n",
       "      <td>[0.0, 15.0, 13.0, 4.0, 1.0, 43.0, nan, 8.0, 19...</td>\n",
       "    </tr>\n",
       "    <tr>\n",
       "      <th>ARR_DEL15</th>\n",
       "      <td>617649</td>\n",
       "      <td>96.71</td>\n",
       "      <td>2</td>\n",
       "      <td>float64</td>\n",
       "      <td>[0.0, 1.0, nan]</td>\n",
       "    </tr>\n",
       "    <tr>\n",
       "      <th>ARR_DELAY_GROUP</th>\n",
       "      <td>617649</td>\n",
       "      <td>96.71</td>\n",
       "      <td>15</td>\n",
       "      <td>float64</td>\n",
       "      <td>[-1.0, -2.0, 1.0, 0.0, 2.0, nan, 3.0, 4.0, 6.0...</td>\n",
       "    </tr>\n",
       "    <tr>\n",
       "      <th>ARR_TIME_BLK</th>\n",
       "      <td>638649</td>\n",
       "      <td>100.00</td>\n",
       "      <td>19</td>\n",
       "      <td>object</td>\n",
       "      <td>['1100-1159', '1600-1659', '1500-1559', '2200-...</td>\n",
       "    </tr>\n",
       "    <tr>\n",
       "      <th>CANCELLED</th>\n",
       "      <td>638649</td>\n",
       "      <td>100.00</td>\n",
       "      <td>2</td>\n",
       "      <td>float64</td>\n",
       "      <td>[0.0, 1.0]</td>\n",
       "    </tr>\n",
       "    <tr>\n",
       "      <th>DIVERTED</th>\n",
       "      <td>638649</td>\n",
       "      <td>100.00</td>\n",
       "      <td>2</td>\n",
       "      <td>float64</td>\n",
       "      <td>[0.0, 1.0]</td>\n",
       "    </tr>\n",
       "    <tr>\n",
       "      <th>CRS_ELAPSED_TIME</th>\n",
       "      <td>638641</td>\n",
       "      <td>100.00</td>\n",
       "      <td>452</td>\n",
       "      <td>float64</td>\n",
       "      <td>[135.0, 145.0, 165.0, 160.0, 100.0, 330.0, 180...</td>\n",
       "    </tr>\n",
       "    <tr>\n",
       "      <th>ACTUAL_ELAPSED_TIME</th>\n",
       "      <td>617649</td>\n",
       "      <td>96.71</td>\n",
       "      <td>639</td>\n",
       "      <td>float64</td>\n",
       "      <td>[133.0, 138.0, 153.0, 161.0, 155.0, 90.0, 97.0...</td>\n",
       "    </tr>\n",
       "    <tr>\n",
       "      <th>AIR_TIME</th>\n",
       "      <td>617649</td>\n",
       "      <td>96.71</td>\n",
       "      <td>614</td>\n",
       "      <td>float64</td>\n",
       "      <td>[118.0, 119.0, 141.0, 144.0, 142.0, 74.0, 77.0...</td>\n",
       "    </tr>\n",
       "    <tr>\n",
       "      <th>FLIGHTS</th>\n",
       "      <td>638649</td>\n",
       "      <td>100.00</td>\n",
       "      <td>1</td>\n",
       "      <td>float64</td>\n",
       "      <td>[1.0]</td>\n",
       "    </tr>\n",
       "    <tr>\n",
       "      <th>DISTANCE</th>\n",
       "      <td>638649</td>\n",
       "      <td>100.00</td>\n",
       "      <td>1469</td>\n",
       "      <td>float64</td>\n",
       "      <td>[834.0, 1072.0, 534.0, 1033.0, 2149.0, 1041.0,...</td>\n",
       "    </tr>\n",
       "    <tr>\n",
       "      <th>CARRIER_DELAY</th>\n",
       "      <td>117144</td>\n",
       "      <td>18.34</td>\n",
       "      <td>793</td>\n",
       "      <td>float64</td>\n",
       "      <td>[nan, 15.0, 0.0, 16.0, 44.0, 74.0, 56.0, 3.0, ...</td>\n",
       "    </tr>\n",
       "    <tr>\n",
       "      <th>WEATHER_DELAY</th>\n",
       "      <td>117144</td>\n",
       "      <td>18.34</td>\n",
       "      <td>523</td>\n",
       "      <td>float64</td>\n",
       "      <td>[nan, 0.0, 67.0, 8.0, 58.0, 66.0, 15.0, 4.0, 3...</td>\n",
       "    </tr>\n",
       "    <tr>\n",
       "      <th>NAS_DELAY</th>\n",
       "      <td>117144</td>\n",
       "      <td>18.34</td>\n",
       "      <td>514</td>\n",
       "      <td>float64</td>\n",
       "      <td>[nan, 0.0, 5.0, 25.0, 40.0, 3.0, 8.0, 42.0, 52...</td>\n",
       "    </tr>\n",
       "    <tr>\n",
       "      <th>SECURITY_DELAY</th>\n",
       "      <td>117144</td>\n",
       "      <td>18.34</td>\n",
       "      <td>71</td>\n",
       "      <td>float64</td>\n",
       "      <td>[nan, 0.0, 16.0, 34.0, 6.0, 21.0, 5.0, 25.0, 5...</td>\n",
       "    </tr>\n",
       "    <tr>\n",
       "      <th>LATE_AIRCRAFT_DELAY</th>\n",
       "      <td>117144</td>\n",
       "      <td>18.34</td>\n",
       "      <td>545</td>\n",
       "      <td>float64</td>\n",
       "      <td>[nan, 0.0, 38.0, 3.0, 2.0, 42.0, 35.0, 27.0, 8...</td>\n",
       "    </tr>\n",
       "    <tr>\n",
       "      <th>Unnamed: 54</th>\n",
       "      <td>0</td>\n",
       "      <td>0.00</td>\n",
       "      <td>0</td>\n",
       "      <td>float64</td>\n",
       "      <td>[nan]</td>\n",
       "    </tr>\n",
       "  </tbody>\n",
       "</table>\n",
       "</div>"
      ],
      "text/plain": [
       "                       filled  filled %  nunique   dtypes  \\\n",
       "YEAR                   638649    100.00        1    int64   \n",
       "MONTH                  638649    100.00        1    int64   \n",
       "DAY_OF_MONTH           638649    100.00       31    int64   \n",
       "DAY_OF_WEEK            638649    100.00        7    int64   \n",
       "FL_DATE                638649    100.00       31   object   \n",
       "OP_UNIQUE_CARRIER      638649    100.00       26   object   \n",
       "OP_CARRIER_AIRLINE_ID  638649    100.00       26    int64   \n",
       "OP_CARRIER             638649    100.00       26   object   \n",
       "TAIL_NUM               633964     99.27     5825   object   \n",
       "OP_CARRIER_FL_NUM      638649    100.00     6880    int64   \n",
       "ORIGIN_AIRPORT_ID      638649    100.00      360    int64   \n",
       "ORIGIN_AIRPORT_SEQ_ID  638649    100.00      360    int64   \n",
       "ORIGIN_CITY_MARKET_ID  638649    100.00      336    int64   \n",
       "ORIGIN                 638649    100.00      360   object   \n",
       "ORIGIN_CITY_NAME       638649    100.00      354   object   \n",
       "ORIGIN_STATE_ABR       638649    100.00       52   object   \n",
       "ORIGIN_STATE_FIPS      638649    100.00       52    int64   \n",
       "ORIGIN_STATE_NM        638649    100.00       52   object   \n",
       "DEST_AIRPORT_ID        638649    100.00      360    int64   \n",
       "DEST_AIRPORT_SEQ_ID    638649    100.00      360    int64   \n",
       "DEST_CITY_MARKET_ID    638649    100.00      336    int64   \n",
       "DEST                   638649    100.00      360   object   \n",
       "DEST_CITY_NAME         638649    100.00      354   object   \n",
       "DEST_STATE_ABR         638649    100.00       52   object   \n",
       "DEST_STATE_FIPS        638649    100.00       52    int64   \n",
       "DEST_STATE_NM          638649    100.00       52   object   \n",
       "CRS_DEP_TIME           638649    100.00     1243    int64   \n",
       "DEP_TIME               619550     97.01     1438  float64   \n",
       "DEP_DELAY              619547     97.01     1046  float64   \n",
       "DEP_DELAY_NEW          619547     97.01     1002  float64   \n",
       "DEP_DEL15              619547     97.01        2  float64   \n",
       "DEP_DELAY_GROUP        619547     97.01       15  float64   \n",
       "DEP_TIME_BLK           638649    100.00       19   object   \n",
       "WHEELS_OFF             619253     96.96     1437  float64   \n",
       "WHEELS_ON              618710     96.88     1440  float64   \n",
       "CRS_ARR_TIME           638649    100.00     1353    int64   \n",
       "ARR_TIME               618710     96.88     1440  float64   \n",
       "ARR_DELAY              617649     96.71     1068  float64   \n",
       "ARR_DELAY_NEW          617649     96.71      988  float64   \n",
       "ARR_DEL15              617649     96.71        2  float64   \n",
       "ARR_DELAY_GROUP        617649     96.71       15  float64   \n",
       "ARR_TIME_BLK           638649    100.00       19   object   \n",
       "CANCELLED              638649    100.00        2  float64   \n",
       "DIVERTED               638649    100.00        2  float64   \n",
       "CRS_ELAPSED_TIME       638641    100.00      452  float64   \n",
       "ACTUAL_ELAPSED_TIME    617649     96.71      639  float64   \n",
       "AIR_TIME               617649     96.71      614  float64   \n",
       "FLIGHTS                638649    100.00        1  float64   \n",
       "DISTANCE               638649    100.00     1469  float64   \n",
       "CARRIER_DELAY          117144     18.34      793  float64   \n",
       "WEATHER_DELAY          117144     18.34      523  float64   \n",
       "NAS_DELAY              117144     18.34      514  float64   \n",
       "SECURITY_DELAY         117144     18.34       71  float64   \n",
       "LATE_AIRCRAFT_DELAY    117144     18.34      545  float64   \n",
       "Unnamed: 54                 0      0.00        0  float64   \n",
       "\n",
       "                                                                 uniques  \n",
       "YEAR                                                              [2019]  \n",
       "MONTH                                                                [1]  \n",
       "DAY_OF_MONTH           [11, 12, 13, 8, 9, 15, 16, 21, 22, 23, 24, 25,...  \n",
       "DAY_OF_WEEK                                        [5, 6, 7, 2, 3, 1, 4]  \n",
       "FL_DATE                ['2019-01-11', '2019-01-12', '2019-01-13', '20...  \n",
       "OP_UNIQUE_CARRIER      ['WN', 'OH', 'B6', 'NK', 'OO', 'AA', 'MQ', 'UA...  \n",
       "OP_CARRIER_AIRLINE_ID  [19393, 20397, 20409, 20416, 20304, 19805, 203...  \n",
       "OP_CARRIER             ['WN', 'OH', 'B6', 'NK', 'OO', 'AA', 'MQ', 'UA...  \n",
       "TAIL_NUM               ['N220WN', 'N7889A', 'N764SW', 'N8309C', 'N868...  \n",
       "OP_CARRIER_FL_NUM      [1480, 2199, 402, 458, 1966, 103, 179, 2191, 1...  \n",
       "ORIGIN_AIRPORT_ID      [13204, 13232, 13244, 13296, 13342, 13487, 134...  \n",
       "ORIGIN_AIRPORT_SEQ_ID  [1320402, 1323202, 1324402, 1329604, 1334207, ...  \n",
       "ORIGIN_CITY_MARKET_ID  [31454, 30977, 33244, 30721, 33342, 31650, 334...  \n",
       "ORIGIN                 ['MCO', 'MDW', 'MEM', 'MHT', 'MKE', 'MSP', 'MS...  \n",
       "ORIGIN_CITY_NAME       ['Orlando, FL', 'Chicago, IL', 'Memphis, TN', ...  \n",
       "ORIGIN_STATE_ABR       ['FL', 'IL', 'TN', 'NH', 'WI', 'MN', 'LA', 'CA...  \n",
       "ORIGIN_STATE_FIPS      [12, 17, 47, 33, 55, 27, 22, 6, 40, 31, 51, 41...  \n",
       "ORIGIN_STATE_NM        ['Florida', 'Illinois', 'Tennessee', 'New Hamp...  \n",
       "DEST_AIRPORT_ID        [14122, 14307, 14492, 14576, 14679, 14683, 147...  \n",
       "DEST_AIRPORT_SEQ_ID    [1412202, 1430705, 1449202, 1457606, 1467903, ...  \n",
       "DEST_CITY_MARKET_ID    [30198, 30721, 34492, 34576, 33570, 33214, 330...  \n",
       "DEST                   ['PIT', 'PVD', 'RDU', 'ROC', 'SAN', 'SAT', 'SD...  \n",
       "DEST_CITY_NAME         ['Pittsburgh, PA', 'Providence, RI', 'Raleigh/...  \n",
       "DEST_STATE_ABR         ['PA', 'RI', 'NC', 'NY', 'CA', 'TX', 'KY', 'PR...  \n",
       "DEST_STATE_FIPS        [42, 44, 37, 36, 6, 48, 21, 72, 29, 35, 13, 9,...  \n",
       "DEST_STATE_NM          ['Pennsylvania', 'Rhode Island', 'North Caroli...  \n",
       "CRS_DEP_TIME           [920, 1420, 1300, 2015, 755, 2005, 1010, 1540,...  \n",
       "DEP_TIME               [918.0, 1422.0, 1259.0, 2010.0, 753.0, 1957.0,...  \n",
       "DEP_DELAY              [-2.0, 2.0, -1.0, -5.0, -8.0, 18.0, 25.0, 12.0...  \n",
       "DEP_DELAY_NEW          [0.0, 2.0, 18.0, 25.0, 12.0, 38.0, 4.0, nan, 5...  \n",
       "DEP_DEL15                                                [0.0, 1.0, nan]  \n",
       "DEP_DELAY_GROUP        [-1.0, 0.0, 1.0, 2.0, nan, 4.0, 6.0, 5.0, 3.0,...  \n",
       "DEP_TIME_BLK           ['0900-0959', '1400-1459', '1300-1359', '2000-...  \n",
       "WHEELS_OFF             [927.0, 1436.0, 1308.0, 2025.0, 803.0, 2011.0,...  \n",
       "WHEELS_ON              [1125.0, 1635.0, 1529.0, 2249.0, 1025.0, 2125....  \n",
       "CRS_ARR_TIME           [1135, 1645, 1545, 2255, 1035, 2145, 1150, 172...  \n",
       "ARR_TIME               [1131.0, 1640.0, 1532.0, 2251.0, 1028.0, 2127....  \n",
       "ARR_DELAY              [-4.0, -5.0, -13.0, -7.0, -18.0, 15.0, 13.0, 4...  \n",
       "ARR_DELAY_NEW          [0.0, 15.0, 13.0, 4.0, 1.0, 43.0, nan, 8.0, 19...  \n",
       "ARR_DEL15                                                [0.0, 1.0, nan]  \n",
       "ARR_DELAY_GROUP        [-1.0, -2.0, 1.0, 0.0, 2.0, nan, 3.0, 4.0, 6.0...  \n",
       "ARR_TIME_BLK           ['1100-1159', '1600-1659', '1500-1559', '2200-...  \n",
       "CANCELLED                                                     [0.0, 1.0]  \n",
       "DIVERTED                                                      [0.0, 1.0]  \n",
       "CRS_ELAPSED_TIME       [135.0, 145.0, 165.0, 160.0, 100.0, 330.0, 180...  \n",
       "ACTUAL_ELAPSED_TIME    [133.0, 138.0, 153.0, 161.0, 155.0, 90.0, 97.0...  \n",
       "AIR_TIME               [118.0, 119.0, 141.0, 144.0, 142.0, 74.0, 77.0...  \n",
       "FLIGHTS                                                            [1.0]  \n",
       "DISTANCE               [834.0, 1072.0, 534.0, 1033.0, 2149.0, 1041.0,...  \n",
       "CARRIER_DELAY          [nan, 15.0, 0.0, 16.0, 44.0, 74.0, 56.0, 3.0, ...  \n",
       "WEATHER_DELAY          [nan, 0.0, 67.0, 8.0, 58.0, 66.0, 15.0, 4.0, 3...  \n",
       "NAS_DELAY              [nan, 0.0, 5.0, 25.0, 40.0, 3.0, 8.0, 42.0, 52...  \n",
       "SECURITY_DELAY         [nan, 0.0, 16.0, 34.0, 6.0, 21.0, 5.0, 25.0, 5...  \n",
       "LATE_AIRCRAFT_DELAY    [nan, 0.0, 38.0, 3.0, 2.0, 42.0, 35.0, 27.0, 8...  \n",
       "Unnamed: 54                                                        [nan]  "
      ]
     },
     "execution_count": 6,
     "metadata": {},
     "output_type": "execute_result"
    }
   ],
   "source": [
    "my_info(flight_01)"
   ]
  },
  {
   "cell_type": "markdown",
   "metadata": {},
   "source": [
    "-----> - 14 columns are 97% filled with data, \n",
    "       - 5 columns are filled with 18% and \n",
    "       - one column is not filled at all\n",
    "       - 10 Columns contains NaN´s"
   ]
  },
  {
   "cell_type": "code",
   "execution_count": 7,
   "metadata": {
    "scrolled": false
   },
   "outputs": [
    {
     "data": {
      "text/plain": [
       "['YEAR',\n",
       " 'MONTH',\n",
       " 'DAY_OF_MONTH',\n",
       " 'DAY_OF_WEEK',\n",
       " 'FL_DATE',\n",
       " 'OP_UNIQUE_CARRIER',\n",
       " 'OP_CARRIER_AIRLINE_ID',\n",
       " 'OP_CARRIER',\n",
       " 'TAIL_NUM',\n",
       " 'OP_CARRIER_FL_NUM',\n",
       " 'ORIGIN_AIRPORT_ID',\n",
       " 'ORIGIN_AIRPORT_SEQ_ID',\n",
       " 'ORIGIN_CITY_MARKET_ID',\n",
       " 'ORIGIN',\n",
       " 'ORIGIN_CITY_NAME',\n",
       " 'ORIGIN_STATE_ABR',\n",
       " 'ORIGIN_STATE_FIPS',\n",
       " 'ORIGIN_STATE_NM',\n",
       " 'DEST_AIRPORT_ID',\n",
       " 'DEST_AIRPORT_SEQ_ID',\n",
       " 'DEST_CITY_MARKET_ID',\n",
       " 'DEST',\n",
       " 'DEST_CITY_NAME',\n",
       " 'DEST_STATE_ABR',\n",
       " 'DEST_STATE_FIPS',\n",
       " 'DEST_STATE_NM',\n",
       " 'CRS_DEP_TIME',\n",
       " 'DEP_TIME',\n",
       " 'DEP_DELAY',\n",
       " 'DEP_DELAY_NEW',\n",
       " 'DEP_DEL15',\n",
       " 'DEP_DELAY_GROUP',\n",
       " 'DEP_TIME_BLK',\n",
       " 'WHEELS_OFF',\n",
       " 'WHEELS_ON',\n",
       " 'CRS_ARR_TIME',\n",
       " 'ARR_TIME',\n",
       " 'ARR_DELAY',\n",
       " 'ARR_DELAY_NEW',\n",
       " 'ARR_DEL15',\n",
       " 'ARR_DELAY_GROUP',\n",
       " 'ARR_TIME_BLK',\n",
       " 'CANCELLED',\n",
       " 'DIVERTED',\n",
       " 'CRS_ELAPSED_TIME',\n",
       " 'ACTUAL_ELAPSED_TIME',\n",
       " 'AIR_TIME',\n",
       " 'FLIGHTS',\n",
       " 'DISTANCE',\n",
       " 'CARRIER_DELAY',\n",
       " 'WEATHER_DELAY',\n",
       " 'NAS_DELAY',\n",
       " 'SECURITY_DELAY',\n",
       " 'LATE_AIRCRAFT_DELAY',\n",
       " 'Unnamed: 54']"
      ]
     },
     "execution_count": 7,
     "metadata": {},
     "output_type": "execute_result"
    }
   ],
   "source": [
    "list(flight_01)"
   ]
  },
  {
   "cell_type": "markdown",
   "metadata": {},
   "source": [
    "# EDA"
   ]
  },
  {
   "cell_type": "markdown",
   "metadata": {},
   "source": [
    "1. Which airports do we have the most delays?\n",
    "2. Which airlines have the most delays?\n",
    "3. Is there a relationship between 1 and 2?\n",
    "4. Do the airlines with delays have similar delays at all airports?\n",
    "5. Is there a relationship between delays and distance?\n",
    "6. Is there an influence on the day of the week and the delay?\n",
    "7. How do delays behave on the same flight routes among the different airlines?"
   ]
  },
  {
   "cell_type": "markdown",
   "metadata": {},
   "source": [
    "# 1. Which airports do we have the most delays?"
   ]
  },
  {
   "cell_type": "code",
   "execution_count": 8,
   "metadata": {},
   "outputs": [
    {
     "data": {
      "text/plain": [
       "0          0.0\n",
       "1          0.0\n",
       "2          0.0\n",
       "3          0.0\n",
       "4          0.0\n",
       "          ... \n",
       "638644     0.0\n",
       "638645     0.0\n",
       "638646     0.0\n",
       "638647     0.0\n",
       "638648    23.0\n",
       "Name: ARR_DELAY_NEW, Length: 617649, dtype: float64"
      ]
     },
     "execution_count": 8,
     "metadata": {},
     "output_type": "execute_result"
    }
   ],
   "source": [
    "# Cleaning of the column \"ARR_DELAY_NEW\" around the NaNs\n",
    "\n",
    "flight_01['ARR_DELAY_NEW'].dropna()"
   ]
  },
  {
   "cell_type": "code",
   "execution_count": 9,
   "metadata": {
    "scrolled": true
   },
   "outputs": [
    {
     "data": {
      "text/plain": [
       "count    617649.000000\n",
       "mean         14.056019\n",
       "std          48.432797\n",
       "min           0.000000\n",
       "25%           0.000000\n",
       "50%           0.000000\n",
       "75%           7.000000\n",
       "max        1707.000000\n",
       "Name: ARR_DELAY_NEW, dtype: float64"
      ]
     },
     "metadata": {},
     "output_type": "display_data"
    },
    {
     "data": {
      "text/plain": [
       "<AxesSubplot:>"
      ]
     },
     "metadata": {},
     "output_type": "display_data"
    },
    {
     "data": {
      "image/png": "[encoded data removed]",
      "text/plain": [
       "<Figure size 432x288 with 1 Axes>"
      ]
     },
     "metadata": {
      "needs_background": "light"
     },
     "output_type": "display_data"
    }
   ],
   "source": [
    "# View on the delays of all incoming flights in minutes. If an aircraft arrives earlier, the minutes are set to 0\n",
    "\n",
    "display(flight_01['ARR_DELAY_NEW'].describe())\n",
    "display(flight_01['ARR_DELAY_NEW'].hist(bins=15));\n",
    "\n",
    "#plt.xlabel(\"test\")\n",
    "\n"
   ]
  },
  {
   "cell_type": "markdown",
   "metadata": {},
   "source": [
    "Präsentation relevant:\n",
    "- Definition von Verspätung (variabeles Feld)\n",
    "- x% der Flüge verspätet\n",
    "- Verteilung der Verspätung (Boxplot)\n",
    "Detail:\n",
    "- Verspätung pro Flughafen pro Abflug Flughafen/Stadt pro Carrier\n",
    "     "
   ]
  },
  {
   "cell_type": "code",
   "execution_count": 10,
   "metadata": {},
   "outputs": [],
   "source": [
    "flight_01 = flight_01.loc[(flight_01['DIVERTED'] == 0) & (flight_01['CANCELLED'] == 0)].copy()"
   ]
  },
  {
   "cell_type": "code",
   "execution_count": 11,
   "metadata": {},
   "outputs": [],
   "source": [
    "# Definition of a delay with DELAY_LIMIT. All flight with a delay of 15 Minutes are a delayed flight\n",
    "# Generate new column DELAY with start value 0 \n",
    "# Fill column DELAY with all flights as 1 depending on the definition \n",
    "\n",
    "delay_limit = 30\n",
    "\n",
    "flight_01['DELAY'] = 0\n",
    "\n",
    "flight_01.loc[flight_01['ARR_DELAY_NEW'] > delay_limit, 'DELAY']=1\n"
   ]
  },
  {
   "cell_type": "code",
   "execution_count": 12,
   "metadata": {},
   "outputs": [
    {
     "data": {
      "text/plain": [
       "72397"
      ]
     },
     "execution_count": 12,
     "metadata": {},
     "output_type": "execute_result"
    }
   ],
   "source": [
    "# Number of the Flights in the definition of delay\n",
    "flight_01['DELAY'].sum()"
   ]
  },
  {
   "cell_type": "code",
   "execution_count": 44,
   "metadata": {},
   "outputs": [
    {
     "data": {
      "text/plain": [
       "count    617649.000000\n",
       "mean          0.117214\n",
       "std           0.321675\n",
       "min           0.000000\n",
       "25%           0.000000\n",
       "50%           0.000000\n",
       "75%           0.000000\n",
       "max           1.000000\n",
       "Name: DELAY, dtype: float64"
      ]
     },
     "execution_count": 44,
     "metadata": {},
     "output_type": "execute_result"
    }
   ],
   "source": [
    "flight_01['DELAY'].describe()"
   ]
  },
  {
   "cell_type": "code",
   "execution_count": 55,
   "metadata": {},
   "outputs": [
    {
     "data": {
      "image/png": "[encoded data removed]",
      "text/plain": [
       "<Figure size 432x288 with 1 Axes>"
      ]
     },
     "metadata": {
      "needs_background": "light"
     },
     "output_type": "display_data"
    }
   ],
   "source": [
    "\n",
    "ax = sns.boxplot(x=flight_01['DELAY'], y=flight_01['ARR_DELAY_NEW'], data = flight_01, width=1.0)\n",
    "\n"
   ]
  },
  {
   "cell_type": "markdown",
   "metadata": {},
   "source": [
    "---> The average delay in arriving flights for all flights is 14.1 minutes.\n",
    "---> A delay of the incoming flights of 7 minutes is greater than or equal to 75% of all delays.\n",
    "---> The maximum delay of all flights was 1707 minutes"
   ]
  },
  {
   "cell_type": "code",
   "execution_count": 15,
   "metadata": {},
   "outputs": [
    {
     "data": {
      "text/plain": [
       "ORIGIN_CITY_NAME         ORIGIN_AIRPORT_ID  DELAY\n",
       "Chicago, IL              13930              1        622849.0\n",
       "New York, NY             12953              1        279573.0\n",
       "San Francisco, CA        14771              1        254028.0\n",
       "Newark, NJ               11618              1        251741.0\n",
       "Denver, CO               11292              1        221440.0\n",
       "                                                       ...   \n",
       "Bemidji, MN              10631              0            23.0\n",
       "Williamsport, PA         12365              0            19.0\n",
       "North Bend/Coos Bay, OR  13964              0            10.0\n",
       "Ogdensburg, NY           13832              0             8.0\n",
       "Ogden, UT                13829              0             6.0\n",
       "Name: ARR_DELAY_NEW, Length: 717, dtype: float64"
      ]
     },
     "execution_count": 15,
     "metadata": {},
     "output_type": "execute_result"
    }
   ],
   "source": [
    "#Determination of the airport with the most delays in minutes\n",
    "\n",
    "flight_airport = flight_01.groupby(['ORIGIN_CITY_NAME', 'ORIGIN_AIRPORT_ID', 'DELAY'])['ARR_DELAY_NEW'].sum().sort_values(ascending=False)\n",
    "flight_airport"
   ]
  },
  {
   "cell_type": "code",
   "execution_count": 16,
   "metadata": {},
   "outputs": [
    {
     "data": {
      "image/png": "[encoded data removed]",
      "text/plain": [
       "<Figure size 432x288 with 1 Axes>"
      ]
     },
     "metadata": {
      "needs_background": "light"
     },
     "output_type": "display_data"
    }
   ],
   "source": [
    "flight_airport.head(10).plot(kind='bar');"
   ]
  },
  {
   "cell_type": "markdown",
   "metadata": {},
   "source": [
    "----> Chicago is the airport with the most delays in minutes\n"
   ]
  },
  {
   "cell_type": "markdown",
   "metadata": {},
   "source": [
    "# 2. Which airlines have the most delays?"
   ]
  },
  {
   "cell_type": "code",
   "execution_count": 17,
   "metadata": {
    "scrolled": false
   },
   "outputs": [
    {
     "data": {
      "text/plain": [
       "OP_CARRIER  DELAY  ARR_DELAY_NEW\n",
       "WN          0      0.0              73474\n",
       "DL          0      0.0              54164\n",
       "AA          0      0.0              48056\n",
       "OO          0      0.0              38982\n",
       "UA          0      0.0              30487\n",
       "                                    ...  \n",
       "NK          1      558.0                1\n",
       "                   567.0                1\n",
       "                   586.0                1\n",
       "                   608.0                1\n",
       "ZW          1      1707.0               1\n",
       "Name: ARR_DELAY_NEW, Length: 8052, dtype: int64"
      ]
     },
     "metadata": {},
     "output_type": "display_data"
    },
    {
     "data": {
      "image/png": "[encoded data removed]",
      "text/plain": [
       "<Figure size 432x288 with 1 Axes>"
      ]
     },
     "metadata": {
      "needs_background": "light"
     },
     "output_type": "display_data"
    }
   ],
   "source": [
    "# Consideration of the number of delays for incoming flights from each carrier\n",
    "\n",
    "flight_carrier_num = flight_01.groupby(['OP_CARRIER', 'DELAY'])['ARR_DELAY_NEW'].value_counts().sort_values(ascending=False)\n",
    "\n",
    "display(flight_carrier_num)\n",
    "\n",
    "flight_carrier_num.head(10).plot(kind='bar');\n",
    "\n",
    "\n"
   ]
  },
  {
   "cell_type": "markdown",
   "metadata": {},
   "source": [
    "---> WN (Southwest Airlines (USA) Southwest) has the most of flights\n"
   ]
  },
  {
   "cell_type": "code",
   "execution_count": 18,
   "metadata": {},
   "outputs": [
    {
     "data": {
      "text/plain": [
       "OP_CARRIER  DELAY\n",
       "OO          1        1207537.0\n",
       "AA          1         674092.0\n",
       "UA          1         643325.0\n",
       "DL          1         580697.0\n",
       "WN          1         575390.0\n",
       "B6          1         500254.0\n",
       "YX          1         372007.0\n",
       "MQ          1         296185.0\n",
       "9E          1         288023.0\n",
       "WN          0         276228.0\n",
       "EV          1         236609.0\n",
       "AA          0         218663.0\n",
       "YV          1         196230.0\n",
       "OH          1         173063.0\n",
       "AS          1         163420.0\n",
       "NK          1         156022.0\n",
       "C5          1         150353.0\n",
       "OO          0         148826.0\n",
       "ZW          1         147194.0\n",
       "DL          0         146091.0\n",
       "G7          1         141936.0\n",
       "F9          1         129818.0\n",
       "CP          1         127914.0\n",
       "AX          1         115276.0\n",
       "UA          0         109275.0\n",
       "G4          1          87262.0\n",
       "MQ          0          73295.0\n",
       "YX          0          66612.0\n",
       "PT          1          63560.0\n",
       "B6          0          62855.0\n",
       "AS          0          56713.0\n",
       "OH          0          55850.0\n",
       "QX          1          50215.0\n",
       "YV          0          45708.0\n",
       "9E          0          39886.0\n",
       "NK          0          33780.0\n",
       "QX          0          33285.0\n",
       "EV          0          31425.0\n",
       "F9          0          28080.0\n",
       "G4          0          24769.0\n",
       "HA          1          22232.0\n",
       "CP          0          20621.0\n",
       "PT          0          19978.0\n",
       "ZW          0          19708.0\n",
       "HA          0          19606.0\n",
       "AX          0          15847.0\n",
       "G7          0          13867.0\n",
       "C5          0          12743.0\n",
       "KS          1           4247.0\n",
       "EM          1           2339.0\n",
       "            0           1775.0\n",
       "KS          0           1000.0\n",
       "Name: ARR_DELAY_NEW, dtype: float64"
      ]
     },
     "metadata": {},
     "output_type": "display_data"
    },
    {
     "data": {
      "image/png": "[encoded data removed]",
      "text/plain": [
       "<Figure size 432x288 with 1 Axes>"
      ]
     },
     "metadata": {
      "needs_background": "light"
     },
     "output_type": "display_data"
    }
   ],
   "source": [
    "\n",
    "#  Consideration of the delays in minutes for incoming flights from each carrier\n",
    "\n",
    "flight_carrier_min = flight_01.groupby(['OP_CARRIER', 'DELAY'])['ARR_DELAY_NEW'].sum().sort_values(ascending=False)\n",
    "display(flight_carrier_min)\n",
    "flight_carrier_min.head(10).plot(kind='bar');"
   ]
  },
  {
   "cell_type": "markdown",
   "metadata": {},
   "source": [
    "---> OO (Skywest Airlines/Delta Connection/United Express (USA) Skywest) has the most of minutes of delays"
   ]
  },
  {
   "cell_type": "code",
   "execution_count": 19,
   "metadata": {},
   "outputs": [
    {
     "data": {
      "text/plain": [
       "OP_CARRIER\n",
       "WN    107235\n",
       "AA     75354\n",
       "DL     73403\n",
       "OO     61967\n",
       "UA     46126\n",
       "YX     24591\n",
       "MQ     23713\n",
       "B6     23395\n",
       "OH     22370\n",
       "AS     20204\n",
       "9E     19835\n",
       "YV     17829\n",
       "NK     15009\n",
       "EV     12202\n",
       "QX      9793\n",
       "F9      9490\n",
       "PT      8661\n",
       "CP      8082\n",
       "ZW      7621\n",
       "G7      6824\n",
       "HA      6785\n",
       "G4      6694\n",
       "AX      5720\n",
       "C5      3858\n",
       "EM       720\n",
       "KS       168\n",
       "Name: DELAY, dtype: int64"
      ]
     },
     "execution_count": 19,
     "metadata": {},
     "output_type": "execute_result"
    }
   ],
   "source": [
    "# Number of the flights of all carriers\n",
    "flight_01.groupby(['OP_CARRIER'])['DELAY'].count().sort_values(ascending=False)"
   ]
  },
  {
   "cell_type": "markdown",
   "metadata": {},
   "source": [
    "--->  WN has 107235 delayed flights"
   ]
  },
  {
   "cell_type": "code",
   "execution_count": 20,
   "metadata": {
    "scrolled": false
   },
   "outputs": [
    {
     "data": {
      "text/plain": [
       "OP_CARRIER\n",
       "C5    0.332297\n",
       "KS    0.309524\n",
       "AX    0.199126\n",
       "B6    0.192007\n",
       "ZW    0.174387\n",
       "G7    0.172626\n",
       "EV    0.171775\n",
       "OO    0.159069\n",
       "F9    0.159009\n",
       "YX    0.158473\n",
       "MQ    0.155400\n",
       "G4    0.148043\n",
       "CP    0.141920\n",
       "9E    0.141417\n",
       "UA    0.130295\n",
       "YV    0.115710\n",
       "PT    0.100566\n",
       "AA    0.100366\n",
       "NK    0.097941\n",
       "AS    0.093991\n",
       "OH    0.089763\n",
       "QX    0.079445\n",
       "WN    0.078631\n",
       "DL    0.074452\n",
       "HA    0.050700\n",
       "EM    0.048611\n",
       "Name: DELAY, dtype: float64"
      ]
     },
     "metadata": {},
     "output_type": "display_data"
    },
    {
     "data": {
      "image/png": "[encoded data removed]",
      "text/plain": [
       "<Figure size 432x288 with 1 Axes>"
      ]
     },
     "metadata": {
      "needs_background": "light"
     },
     "output_type": "display_data"
    }
   ],
   "source": [
    "# share of delayed flights in total flights per airline\n",
    "\n",
    "flight_carrier  = (flight_01.groupby(['OP_CARRIER'])['DELAY'].sum() /\n",
    "                   flight_01.groupby(['OP_CARRIER'])['DELAY'].count()).sort_values(ascending=False)\n",
    "display(flight_carrier)\n",
    "\n",
    "flight_carrier.head(10).plot(kind='bar');"
   ]
  },
  {
   "cell_type": "markdown",
   "metadata": {},
   "source": [
    "---> 33% of all flights from the airline are delayed, however the airline only has only 3858 flights.\n",
    "\n",
    "sorted by the number of flights:\n",
    "WN 7,9%\n",
    "AA 10,1%\n",
    "DL 7,4% delay"
   ]
  },
  {
   "cell_type": "code",
   "execution_count": 60,
   "metadata": {},
   "outputs": [
    {
     "data": {
      "text/plain": [
       "OP_CARRIER\n",
       "WN    107235\n",
       "AA     75354\n",
       "DL     73403\n",
       "OO     61967\n",
       "UA     46126\n",
       "YX     24591\n",
       "MQ     23713\n",
       "B6     23395\n",
       "OH     22370\n",
       "AS     20204\n",
       "9E     19835\n",
       "YV     17829\n",
       "NK     15009\n",
       "EV     12202\n",
       "QX      9793\n",
       "F9      9490\n",
       "PT      8661\n",
       "CP      8082\n",
       "ZW      7621\n",
       "G7      6824\n",
       "HA      6785\n",
       "G4      6694\n",
       "AX      5720\n",
       "C5      3858\n",
       "EM       720\n",
       "KS       168\n",
       "Name: DELAY, dtype: int64"
      ]
     },
     "execution_count": 60,
     "metadata": {},
     "output_type": "execute_result"
    }
   ],
   "source": [
    "# Number of total flights\n",
    "flight_01.groupby(['OP_CARRIER'])['DELAY'].count().sort_values(ascending=False)\n",
    "    "
   ]
  },
  {
   "cell_type": "code",
   "execution_count": 62,
   "metadata": {},
   "outputs": [
    {
     "data": {
      "text/plain": [
       "OP_CARRIER  DELAY\n",
       "C5          1        38.971747\n",
       "KS          1        25.279762\n",
       "B6          1        21.382945\n",
       "G7          1        20.799531\n",
       "AX          1        20.153147\n",
       "OO          1        19.486775\n",
       "EV          1        19.391001\n",
       "ZW          1        19.314263\n",
       "CP          1        15.827023\n",
       "YX          1        15.127770\n",
       "9E          1        14.520948\n",
       "UA          1        13.947123\n",
       "F9          1        13.679452\n",
       "G4          1        13.035853\n",
       "MQ          1        12.490406\n",
       "YV          1        11.006226\n",
       "NK          1        10.395230\n",
       "AA          1         8.945670\n",
       "AS          1         8.088497\n",
       "DL          1         7.911080\n",
       "OH          1         7.736388\n",
       "PT          1         7.338644\n",
       "KS          0         5.952381\n",
       "WN          1         5.365692\n",
       "QX          1         5.127642\n",
       "G4          0         3.700179\n",
       "QX          0         3.398856\n",
       "C5          0         3.303007\n",
       "HA          1         3.276640\n",
       "EM          1         3.248611\n",
       "MQ          0         3.090921\n",
       "F9          0         2.958904\n",
       "AA          0         2.901810\n",
       "HA          0         2.889609\n",
       "AS          0         2.807018\n",
       "AX          0         2.770455\n",
       "YX          0         2.708796\n",
       "B6          0         2.686685\n",
       "ZW          0         2.586012\n",
       "WN          0         2.575913\n",
       "EV          0         2.575397\n",
       "YV          0         2.563688\n",
       "CP          0         2.551472\n",
       "OH          0         2.496647\n",
       "EM          0         2.465278\n",
       "OO          0         2.401698\n",
       "UA          0         2.369054\n",
       "PT          0         2.306662\n",
       "NK          0         2.250650\n",
       "G7          0         2.032093\n",
       "9E          0         2.010890\n",
       "DL          0         1.990259\n",
       "dtype: float64"
      ]
     },
     "metadata": {},
     "output_type": "display_data"
    },
    {
     "data": {
      "image/png": "[encoded data removed]",
      "text/plain": [
       "<Figure size 432x288 with 1 Axes>"
      ]
     },
     "metadata": {
      "needs_background": "light"
     },
     "output_type": "display_data"
    }
   ],
   "source": [
    "# Determination of the delay for incoming flights from each carrier\n",
    "\n",
    "flight_carrier  = (flight_01.groupby(['OP_CARRIER', 'DELAY'])['ARR_DELAY_NEW'].sum()/\n",
    "                   flight_01.groupby(['OP_CARRIER'])['DELAY'].count()).sort_values(ascending=False)\n",
    "\n",
    "display(flight_carrier)\n",
    "\n",
    "flight_carrier.head(10).plot(kind='bar');"
   ]
  },
  {
   "cell_type": "markdown",
   "metadata": {},
   "source": [
    "---> On average, the airline C5 (Commutair/Continental Connection (USA) Commutair) has a delay of arriving flights of 39 minutes for all flights."
   ]
  },
  {
   "cell_type": "code",
   "execution_count": 63,
   "metadata": {},
   "outputs": [
    {
     "data": {
      "text/plain": [
       "OP_CARRIER  DEST_CITY_NAME          DELAY\n",
       "OO          Chicago, IL             1        167907.0\n",
       "UA          Chicago, IL             1        135023.0\n",
       "B6          Boston, MA              1        118010.0\n",
       "DL          Atlanta, GA             1        110153.0\n",
       "AA          Dallas/Fort Worth, TX   1        107273.0\n",
       "                                               ...   \n",
       "UA          Baton Rouge, LA         0             0.0\n",
       "            Birmingham, AL          0             0.0\n",
       "            Gunnison, CO            0             0.0\n",
       "            Kalispell, MT           0             0.0\n",
       "OH          Sarasota/Bradenton, FL  0             0.0\n",
       "Name: ARR_DELAY_NEW, Length: 4047, dtype: float64"
      ]
     },
     "metadata": {},
     "output_type": "display_data"
    },
    {
     "data": {
      "image/png": "[encoded data removed]",
      "text/plain": [
       "<Figure size 432x288 with 1 Axes>"
      ]
     },
     "metadata": {
      "needs_background": "light"
     },
     "output_type": "display_data"
    }
   ],
   "source": [
    "# Determination of the delay in minutes for incoming flights from each carrier depending on the airport\n",
    "\n",
    "flight_dest_min = flight_01.groupby(['OP_CARRIER', 'DEST_CITY_NAME', 'DELAY'])['ARR_DELAY_NEW'].sum().sort_values(ascending=False)\n",
    "\n",
    "display(flight_dest_min)\n",
    "\n",
    "flight_dest_min.head(10).plot(kind='bar');"
   ]
  },
  {
   "cell_type": "markdown",
   "metadata": {},
   "source": [
    "---> OO (Skywest Airlines/Delta Connection/United Express (USA) Skywest) has the most of minutes of delays in Chicago"
   ]
  },
  {
   "cell_type": "code",
   "execution_count": 71,
   "metadata": {},
   "outputs": [
    {
     "data": {
      "text/plain": [
       "OP_CARRIER  DEST_CITY_NAME              DELAY\n",
       "OO          Albany, NY                  1            1\n",
       "AX          Cedar Rapids/Iowa City, IA  1            1\n",
       "OH          Tulsa, OK                   1            1\n",
       "G4          Santa Maria, CA             1            1\n",
       "DL          Flint, MI                   1            1\n",
       "                                                 ...  \n",
       "WN          Las Vegas, NV               0         5454\n",
       "OH          Charlotte, NC               0         6792\n",
       "AA          Charlotte, NC               0         7537\n",
       "            Dallas/Fort Worth, TX       0        10693\n",
       "DL          Atlanta, GA                 0        17742\n",
       "Name: FLIGHTS, Length: 4047, dtype: int64"
      ]
     },
     "metadata": {},
     "output_type": "display_data"
    },
    {
     "data": {
      "image/png": "[encoded data removed]",
      "text/plain": [
       "<Figure size 432x288 with 1 Axes>"
      ]
     },
     "metadata": {
      "needs_background": "light"
     },
     "output_type": "display_data"
    }
   ],
   "source": [
    "# Determination of the delay in number of flights for incoming flights from each carrier depending on the airport\n",
    "\n",
    "flight_dest_num = flight_01.groupby(['OP_CARRIER', 'DEST_CITY_NAME', 'DELAY'])['FLIGHTS'].count().sort_values(ascending=False)\n",
    "\n",
    "display(flight_dest_num)\n",
    "\n",
    "flight_dest_num.head(10).plot(kind='bar');"
   ]
  },
  {
   "cell_type": "markdown",
   "metadata": {},
   "source": [
    "---> If you look at the total number of airlines' flights, DL (Delta Air Lines (USA) Delta) flights in Atlanta have the most delays"
   ]
  },
  {
   "cell_type": "code",
   "execution_count": 68,
   "metadata": {},
   "outputs": [
    {
     "data": {
      "text/plain": [
       "OP_CARRIER  DEST_CITY_NAME    DELAY\n",
       "9E          Fayetteville, NC  1        274.000000\n",
       "CP          Oakland, CA       1        264.000000\n",
       "G7          Knoxville, TN     1        182.333333\n",
       "YV          Portland, ME      1        106.310345\n",
       "OO          Pensacola, FL     1         87.333333\n",
       "                                          ...    \n",
       "PT          Providence, RI    0          0.000000\n",
       "9E          Tampa, FL         0          0.000000\n",
       "YX          Orlando, FL       0          0.000000\n",
       "9E          Sioux Falls, SD   0          0.000000\n",
       "CP          Austin, TX        0          0.000000\n",
       "Length: 4047, dtype: float64"
      ]
     },
     "metadata": {},
     "output_type": "display_data"
    },
    {
     "data": {
      "image/png": "[encoded data removed]",
      "text/plain": [
       "<Figure size 432x288 with 1 Axes>"
      ]
     },
     "metadata": {
      "needs_background": "light"
     },
     "output_type": "display_data"
    }
   ],
   "source": [
    "# Determination of the delay for incoming flights from each carrier\n",
    "\n",
    "flight_dest = (flight_01.groupby(['OP_CARRIER', 'DEST_CITY_NAME', 'DELAY'])['ARR_DELAY_NEW'].sum()/\n",
    "               flight_01.groupby(['OP_CARRIER', 'DEST_CITY_NAME'])['FLIGHTS'].count()).sort_values(ascending=False)\n",
    "\n",
    "display(flight_dest)\n",
    "\n",
    "flight_dest.head(10).plot(kind='bar');"
   ]
  },
  {
   "cell_type": "code",
   "execution_count": null,
   "metadata": {},
   "outputs": [],
   "source": []
  },
  {
   "cell_type": "markdown",
   "metadata": {},
   "source": [
    "--> Looking at the delay per flight depending on the airline and the airport, the airline 9e has an average of 274 minutes delay at the airport in Fayetteville, NC"
   ]
  },
  {
   "cell_type": "code",
   "execution_count": 25,
   "metadata": {},
   "outputs": [
    {
     "data": {
      "text/plain": [
       "OP_CARRIER  DEST_CITY_NAME         FLIGHTS\n",
       "DL          Atlanta, GA            1.0        18780\n",
       "AA          Dallas/Fort Worth, TX  1.0        11798\n",
       "            Charlotte, NC          1.0         8146\n",
       "OH          Charlotte, NC          1.0         7225\n",
       "WN          Las Vegas, NV          1.0         5871\n",
       "                                              ...  \n",
       "CP          Oakland, CA            1.0            1\n",
       "EV          State College, PA      1.0            1\n",
       "OO          Evansville, IN         1.0            1\n",
       "C5          Charlottesville, VA    1.0            1\n",
       "YV          Rochester, NY          1.0            1\n",
       "Name: FLIGHTS, Length: 2103, dtype: int64"
      ]
     },
     "execution_count": 25,
     "metadata": {},
     "output_type": "execute_result"
    }
   ],
   "source": [
    "flight_01.groupby(['OP_CARRIER', 'DEST_CITY_NAME'])['FLIGHTS'].value_counts().sort_values(ascending=False)"
   ]
  },
  {
   "cell_type": "code",
   "execution_count": null,
   "metadata": {},
   "outputs": [],
   "source": []
  },
  {
   "cell_type": "code",
   "execution_count": null,
   "metadata": {},
   "outputs": [],
   "source": []
  },
  {
   "cell_type": "code",
   "execution_count": null,
   "metadata": {},
   "outputs": [],
   "source": []
  },
  {
   "cell_type": "code",
   "execution_count": null,
   "metadata": {},
   "outputs": [],
   "source": []
  },
  {
   "cell_type": "code",
   "execution_count": null,
   "metadata": {},
   "outputs": [],
   "source": []
  },
  {
   "cell_type": "code",
   "execution_count": null,
   "metadata": {},
   "outputs": [],
   "source": []
  },
  {
   "cell_type": "markdown",
   "metadata": {},
   "source": [
    "BACKUP"
   ]
  },
  {
   "cell_type": "code",
   "execution_count": 26,
   "metadata": {
    "scrolled": true
   },
   "outputs": [
    {
     "data": {
      "text/plain": [
       "YEAR                              2019\n",
       "MONTH                                1\n",
       "DAY_OF_MONTH                        20\n",
       "DAY_OF_WEEK                          7\n",
       "FL_DATE                     2019-01-20\n",
       "OP_UNIQUE_CARRIER                   UA\n",
       "OP_CARRIER_AIRLINE_ID            19977\n",
       "OP_CARRIER                          UA\n",
       "TAIL_NUM                        N12218\n",
       "OP_CARRIER_FL_NUM                  562\n",
       "ORIGIN_AIRPORT_ID                11292\n",
       "ORIGIN_AIRPORT_SEQ_ID          1129202\n",
       "ORIGIN_CITY_MARKET_ID            30325\n",
       "ORIGIN                             DEN\n",
       "ORIGIN_CITY_NAME            Denver, CO\n",
       "ORIGIN_STATE_ABR                    CO\n",
       "ORIGIN_STATE_FIPS                    8\n",
       "ORIGIN_STATE_NM               Colorado\n",
       "DEST_AIRPORT_ID                  14908\n",
       "DEST_AIRPORT_SEQ_ID            1490803\n",
       "DEST_CITY_MARKET_ID              32575\n",
       "DEST                               SNA\n",
       "DEST_CITY_NAME           Santa Ana, CA\n",
       "DEST_STATE_ABR                      CA\n",
       "DEST_STATE_FIPS                      6\n",
       "DEST_STATE_NM               California\n",
       "CRS_DEP_TIME                      1915\n",
       "DEP_TIME                          1920\n",
       "DEP_DELAY                            5\n",
       "DEP_DELAY_NEW                        5\n",
       "DEP_DEL15                            0\n",
       "DEP_DELAY_GROUP                      0\n",
       "DEP_TIME_BLK                 1900-1959\n",
       "WHEELS_OFF                        1932\n",
       "WHEELS_ON                         2038\n",
       "CRS_ARR_TIME                      2043\n",
       "ARR_TIME                          2043\n",
       "ARR_DELAY                            0\n",
       "ARR_DELAY_NEW                        0\n",
       "ARR_DEL15                            0\n",
       "ARR_DELAY_GROUP                      0\n",
       "ARR_TIME_BLK                 2000-2059\n",
       "CANCELLED                            0\n",
       "DIVERTED                             0\n",
       "CRS_ELAPSED_TIME                   148\n",
       "ACTUAL_ELAPSED_TIME                143\n",
       "AIR_TIME                           126\n",
       "FLIGHTS                              1\n",
       "DISTANCE                           846\n",
       "CARRIER_DELAY                      NaN\n",
       "WEATHER_DELAY                      NaN\n",
       "NAS_DELAY                          NaN\n",
       "SECURITY_DELAY                     NaN\n",
       "LATE_AIRCRAFT_DELAY                NaN\n",
       "Unnamed: 54                        NaN\n",
       "DELAY                                0\n",
       "Name: 638646, dtype: object"
      ]
     },
     "execution_count": 26,
     "metadata": {},
     "output_type": "execute_result"
    }
   ],
   "source": [
    "flight_01.loc[638646]"
   ]
  },
  {
   "cell_type": "code",
   "execution_count": null,
   "metadata": {},
   "outputs": [],
   "source": []
  }
 ],
 "metadata": {
  "kernelspec": {
   "display_name": "Python 3",
   "language": "python",
   "name": "python3"
  },
  "language_info": {
   "codemirror_mode": {
    "name": "ipython",
    "version": 3
   },
   "file_extension": ".py",
   "mimetype": "text/x-python",
   "name": "python",
   "nbconvert_exporter": "python",
   "pygments_lexer": "ipython3",
   "version": "3.7.9"
  },
  "toc-autonumbering": true
 },
 "nbformat": 4,
 "nbformat_minor": 4
}
